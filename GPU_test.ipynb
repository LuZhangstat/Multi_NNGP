{
 "cells": [
  {
   "cell_type": "code",
   "execution_count": 1,
   "metadata": {},
   "outputs": [],
   "source": [
    "# necessary packages #\n",
    "\n",
    "#using Pkg\n",
    "#Pkg.add(\"Distances\")\n",
    "using Distributions\n",
    "using Random\n",
    "using Distances\n",
    "using LinearAlgebra\n",
    "using SparseArrays\n",
    "using IterativeSolvers\n",
    "using ProgressMeter\n",
    "#using NearestNeighbors # Can't use KDtree in julia for posterior prediction"
   ]
  },
  {
   "cell_type": "code",
   "execution_count": 2,
   "metadata": {},
   "outputs": [
    {
     "name": "stdout",
     "output_type": "stream",
     "text": [
      "\u001b[32m\u001b[1m  Updating\u001b[22m\u001b[39m registry at `~/.julia/registries/General`\n",
      "\u001b[32m\u001b[1m  Updating\u001b[22m\u001b[39m git-repo `https://github.com/JuliaRegistries/General.git`\n",
      "\u001b[2K\u001b[?25h[1mFetching:\u001b[22m\u001b[39m [========================================>]  99.9 %0.0 %======>                                  ]  14.8 %]  27.3 %>                       ]  41.5 %\u001b[36m\u001b[1mFetching:\u001b[22m\u001b[39m [=======================>                 ]  57.5 % [===============================>         ]  75.6 %88.0 %\u001b[32m\u001b[1m Resolving\u001b[22m\u001b[39m package versions...\n"
     ]
    },
    {
     "ename": "Pkg.Types.ResolverError",
     "evalue": "Unsatisfiable requirements detected for package SIUnits [b9d75638]:\n SIUnits [b9d75638] log:\n ├─possible versions are: [0.0.1-0.0.6, 0.1.0] or uninstalled\n ├─restricted by compatibility requirements with Images [916415d5] to versions: [0.0.1-0.0.6, 0.1.0]\n │ └─Images [916415d5] log:\n │   ├─possible versions are: [0.2.0-0.2.50, 0.3.0-0.3.3, 0.4.0-0.4.50, 0.5.0-0.5.14, 0.6.0-0.6.1, 0.7.0, 0.8.0, 0.9.0-0.9.1, 0.10.0-0.10.1, 0.11.0-0.11.5, 0.12.0, 0.13.0, 0.14.0, 0.15.0-0.15.1, 0.16.0-0.16.1, 0.17.0-0.17.3, 0.18.0] or uninstalled\n │   └─restricted to versions 0.17.2 by an explicit requirement, leaving only versions 0.17.2\n └─restricted by julia compatibility requirements to versions: uninstalled — no versions left",
     "output_type": "error",
     "traceback": [
      "Unsatisfiable requirements detected for package SIUnits [b9d75638]:\n SIUnits [b9d75638] log:\n ├─possible versions are: [0.0.1-0.0.6, 0.1.0] or uninstalled\n ├─restricted by compatibility requirements with Images [916415d5] to versions: [0.0.1-0.0.6, 0.1.0]\n │ └─Images [916415d5] log:\n │   ├─possible versions are: [0.2.0-0.2.50, 0.3.0-0.3.3, 0.4.0-0.4.50, 0.5.0-0.5.14, 0.6.0-0.6.1, 0.7.0, 0.8.0, 0.9.0-0.9.1, 0.10.0-0.10.1, 0.11.0-0.11.5, 0.12.0, 0.13.0, 0.14.0, 0.15.0-0.15.1, 0.16.0-0.16.1, 0.17.0-0.17.3, 0.18.0] or uninstalled\n │   └─restricted to versions 0.17.2 by an explicit requirement, leaving only versions 0.17.2\n └─restricted by julia compatibility requirements to versions: uninstalled — no versions left",
      "",
      "Stacktrace:",
      " [1] #propagate_constraints!#61(::Bool, ::Function, ::Pkg.GraphType.Graph, ::Set{Int64}) at /buildworker/worker/package_linux64/build/usr/share/julia/stdlib/v1.1/Pkg/src/GraphType.jl:1005",
      " [2] propagate_constraints! at /buildworker/worker/package_linux64/build/usr/share/julia/stdlib/v1.1/Pkg/src/GraphType.jl:946 [inlined]",
      " [3] #simplify_graph!#121(::Bool, ::Function, ::Pkg.GraphType.Graph, ::Set{Int64}) at /buildworker/worker/package_linux64/build/usr/share/julia/stdlib/v1.1/Pkg/src/GraphType.jl:1460",
      " [4] simplify_graph! at /buildworker/worker/package_linux64/build/usr/share/julia/stdlib/v1.1/Pkg/src/GraphType.jl:1460 [inlined] (repeats 2 times)",
      " [5] resolve_versions!(::Pkg.Types.Context, ::Array{Pkg.Types.PackageSpec,1}, ::Nothing) at /buildworker/worker/package_linux64/build/usr/share/julia/stdlib/v1.1/Pkg/src/Operations.jl:371",
      " [6] resolve_versions! at /buildworker/worker/package_linux64/build/usr/share/julia/stdlib/v1.1/Pkg/src/Operations.jl:315 [inlined]",
      " [7] #add_or_develop#63(::Array{Base.UUID,1}, ::Symbol, ::Function, ::Pkg.Types.Context, ::Array{Pkg.Types.PackageSpec,1}) at /buildworker/worker/package_linux64/build/usr/share/julia/stdlib/v1.1/Pkg/src/Operations.jl:1171",
      " [8] #add_or_develop at ./none:0 [inlined]",
      " [9] #add_or_develop#15(::Symbol, ::Bool, ::Base.Iterators.Pairs{Union{},Union{},Tuple{},NamedTuple{(),Tuple{}}}, ::Function, ::Pkg.Types.Context, ::Array{Pkg.Types.PackageSpec,1}) at /buildworker/worker/package_linux64/build/usr/share/julia/stdlib/v1.1/Pkg/src/API.jl:54",
      " [10] #add_or_develop at ./none:0 [inlined]",
      " [11] #add_or_develop#14 at /buildworker/worker/package_linux64/build/usr/share/julia/stdlib/v1.1/Pkg/src/API.jl:31 [inlined]",
      " [12] #add_or_develop at ./none:0 [inlined]",
      " [13] #add_or_develop#13 at /buildworker/worker/package_linux64/build/usr/share/julia/stdlib/v1.1/Pkg/src/API.jl:29 [inlined]",
      " [14] #add_or_develop at ./none:0 [inlined]",
      " [15] #add_or_develop#12(::Base.Iterators.Pairs{Symbol,Symbol,Tuple{Symbol},NamedTuple{(:mode,),Tuple{Symbol}}}, ::Function, ::String) at /buildworker/worker/package_linux64/build/usr/share/julia/stdlib/v1.1/Pkg/src/API.jl:28",
      " [16] #add_or_develop at ./none:0 [inlined]",
      " [17] #add#20 at /buildworker/worker/package_linux64/build/usr/share/julia/stdlib/v1.1/Pkg/src/API.jl:59 [inlined]",
      " [18] add(::String) at /buildworker/worker/package_linux64/build/usr/share/julia/stdlib/v1.1/Pkg/src/API.jl:59",
      " [19] top-level scope at In[2]:2"
     ]
    }
   ],
   "source": [
    "using Pkg\n",
    "Pkg.add(\"CUDAdrv\")"
   ]
  },
  {
   "cell_type": "code",
   "execution_count": 3,
   "metadata": {},
   "outputs": [
    {
     "name": "stdout",
     "output_type": "stream",
     "text": [
      "\u001b[32m\u001b[1m Resolving\u001b[22m\u001b[39m package versions...\n"
     ]
    },
    {
     "ename": "Pkg.Types.ResolverError",
     "evalue": "Unsatisfiable requirements detected for package SIUnits [b9d75638]:\n SIUnits [b9d75638] log:\n ├─possible versions are: [0.0.1-0.0.6, 0.1.0] or uninstalled\n ├─restricted by compatibility requirements with Images [916415d5] to versions: [0.0.1-0.0.6, 0.1.0]\n │ └─Images [916415d5] log:\n │   ├─possible versions are: [0.2.0-0.2.50, 0.3.0-0.3.3, 0.4.0-0.4.50, 0.5.0-0.5.14, 0.6.0-0.6.1, 0.7.0, 0.8.0, 0.9.0-0.9.1, 0.10.0-0.10.1, 0.11.0-0.11.5, 0.12.0, 0.13.0, 0.14.0, 0.15.0-0.15.1, 0.16.0-0.16.1, 0.17.0-0.17.3, 0.18.0] or uninstalled\n │   └─restricted to versions 0.17.2 by an explicit requirement, leaving only versions 0.17.2\n └─restricted by julia compatibility requirements to versions: uninstalled — no versions left",
     "output_type": "error",
     "traceback": [
      "Unsatisfiable requirements detected for package SIUnits [b9d75638]:\n SIUnits [b9d75638] log:\n ├─possible versions are: [0.0.1-0.0.6, 0.1.0] or uninstalled\n ├─restricted by compatibility requirements with Images [916415d5] to versions: [0.0.1-0.0.6, 0.1.0]\n │ └─Images [916415d5] log:\n │   ├─possible versions are: [0.2.0-0.2.50, 0.3.0-0.3.3, 0.4.0-0.4.50, 0.5.0-0.5.14, 0.6.0-0.6.1, 0.7.0, 0.8.0, 0.9.0-0.9.1, 0.10.0-0.10.1, 0.11.0-0.11.5, 0.12.0, 0.13.0, 0.14.0, 0.15.0-0.15.1, 0.16.0-0.16.1, 0.17.0-0.17.3, 0.18.0] or uninstalled\n │   └─restricted to versions 0.17.2 by an explicit requirement, leaving only versions 0.17.2\n └─restricted by julia compatibility requirements to versions: uninstalled — no versions left",
      "",
      "Stacktrace:",
      " [1] #propagate_constraints!#61(::Bool, ::Function, ::Pkg.GraphType.Graph, ::Set{Int64}) at /buildworker/worker/package_linux64/build/usr/share/julia/stdlib/v1.1/Pkg/src/GraphType.jl:1005",
      " [2] propagate_constraints! at /buildworker/worker/package_linux64/build/usr/share/julia/stdlib/v1.1/Pkg/src/GraphType.jl:946 [inlined]",
      " [3] #simplify_graph!#121(::Bool, ::Function, ::Pkg.GraphType.Graph, ::Set{Int64}) at /buildworker/worker/package_linux64/build/usr/share/julia/stdlib/v1.1/Pkg/src/GraphType.jl:1460",
      " [4] simplify_graph! at /buildworker/worker/package_linux64/build/usr/share/julia/stdlib/v1.1/Pkg/src/GraphType.jl:1460 [inlined] (repeats 2 times)",
      " [5] resolve_versions!(::Pkg.Types.Context, ::Array{Pkg.Types.PackageSpec,1}, ::Nothing) at /buildworker/worker/package_linux64/build/usr/share/julia/stdlib/v1.1/Pkg/src/Operations.jl:371",
      " [6] resolve_versions! at /buildworker/worker/package_linux64/build/usr/share/julia/stdlib/v1.1/Pkg/src/Operations.jl:315 [inlined]",
      " [7] #add_or_develop#63(::Array{Base.UUID,1}, ::Symbol, ::Function, ::Pkg.Types.Context, ::Array{Pkg.Types.PackageSpec,1}) at /buildworker/worker/package_linux64/build/usr/share/julia/stdlib/v1.1/Pkg/src/Operations.jl:1171",
      " [8] #add_or_develop at ./none:0 [inlined]",
      " [9] #add_or_develop#15(::Symbol, ::Bool, ::Base.Iterators.Pairs{Union{},Union{},Tuple{},NamedTuple{(),Tuple{}}}, ::Function, ::Pkg.Types.Context, ::Array{Pkg.Types.PackageSpec,1}) at /buildworker/worker/package_linux64/build/usr/share/julia/stdlib/v1.1/Pkg/src/API.jl:54",
      " [10] #add_or_develop at ./none:0 [inlined]",
      " [11] #add_or_develop#14 at /buildworker/worker/package_linux64/build/usr/share/julia/stdlib/v1.1/Pkg/src/API.jl:31 [inlined]",
      " [12] #add_or_develop at ./none:0 [inlined]",
      " [13] #add_or_develop#13 at /buildworker/worker/package_linux64/build/usr/share/julia/stdlib/v1.1/Pkg/src/API.jl:29 [inlined]",
      " [14] #add_or_develop at ./none:0 [inlined]",
      " [15] #add_or_develop#12(::Base.Iterators.Pairs{Symbol,Symbol,Tuple{Symbol},NamedTuple{(:mode,),Tuple{Symbol}}}, ::Function, ::String) at /buildworker/worker/package_linux64/build/usr/share/julia/stdlib/v1.1/Pkg/src/API.jl:28",
      " [16] #add_or_develop at ./none:0 [inlined]",
      " [17] #add#20 at /buildworker/worker/package_linux64/build/usr/share/julia/stdlib/v1.1/Pkg/src/API.jl:59 [inlined]",
      " [18] add(::String) at /buildworker/worker/package_linux64/build/usr/share/julia/stdlib/v1.1/Pkg/src/API.jl:59",
      " [19] top-level scope at In[3]:1"
     ]
    }
   ],
   "source": [
    "Pkg.add(\"CUDAnative\")"
   ]
  },
  {
   "cell_type": "code",
   "execution_count": 4,
   "metadata": {},
   "outputs": [
    {
     "name": "stdout",
     "output_type": "stream",
     "text": [
      "\u001b[32m\u001b[1m Resolving\u001b[22m\u001b[39m package versions...\n"
     ]
    },
    {
     "ename": "Pkg.Types.ResolverError",
     "evalue": "Unsatisfiable requirements detected for package SIUnits [b9d75638]:\n SIUnits [b9d75638] log:\n ├─possible versions are: [0.0.1-0.0.6, 0.1.0] or uninstalled\n ├─restricted by julia compatibility requirements to versions: uninstalled\n └─restricted by compatibility requirements with Images [916415d5] to versions: [0.0.1-0.0.6, 0.1.0] — no versions left\n   └─Images [916415d5] log:\n     ├─possible versions are: [0.2.0-0.2.50, 0.3.0-0.3.3, 0.4.0-0.4.50, 0.5.0-0.5.14, 0.6.0-0.6.1, 0.7.0, 0.8.0, 0.9.0-0.9.1, 0.10.0-0.10.1, 0.11.0-0.11.5, 0.12.0, 0.13.0, 0.14.0, 0.15.0-0.15.1, 0.16.0-0.16.1, 0.17.0-0.17.3, 0.18.0] or uninstalled\n     └─restricted to versions 0.17.2 by an explicit requirement, leaving only versions 0.17.2",
     "output_type": "error",
     "traceback": [
      "Unsatisfiable requirements detected for package SIUnits [b9d75638]:\n SIUnits [b9d75638] log:\n ├─possible versions are: [0.0.1-0.0.6, 0.1.0] or uninstalled\n ├─restricted by julia compatibility requirements to versions: uninstalled\n └─restricted by compatibility requirements with Images [916415d5] to versions: [0.0.1-0.0.6, 0.1.0] — no versions left\n   └─Images [916415d5] log:\n     ├─possible versions are: [0.2.0-0.2.50, 0.3.0-0.3.3, 0.4.0-0.4.50, 0.5.0-0.5.14, 0.6.0-0.6.1, 0.7.0, 0.8.0, 0.9.0-0.9.1, 0.10.0-0.10.1, 0.11.0-0.11.5, 0.12.0, 0.13.0, 0.14.0, 0.15.0-0.15.1, 0.16.0-0.16.1, 0.17.0-0.17.3, 0.18.0] or uninstalled\n     └─restricted to versions 0.17.2 by an explicit requirement, leaving only versions 0.17.2",
      "",
      "Stacktrace:",
      " [1] #propagate_constraints!#61(::Bool, ::Function, ::Pkg.GraphType.Graph, ::Set{Int64}) at /buildworker/worker/package_linux64/build/usr/share/julia/stdlib/v1.1/Pkg/src/GraphType.jl:1005",
      " [2] propagate_constraints! at /buildworker/worker/package_linux64/build/usr/share/julia/stdlib/v1.1/Pkg/src/GraphType.jl:946 [inlined]",
      " [3] #simplify_graph!#121(::Bool, ::Function, ::Pkg.GraphType.Graph, ::Set{Int64}) at /buildworker/worker/package_linux64/build/usr/share/julia/stdlib/v1.1/Pkg/src/GraphType.jl:1460",
      " [4] simplify_graph! at /buildworker/worker/package_linux64/build/usr/share/julia/stdlib/v1.1/Pkg/src/GraphType.jl:1460 [inlined] (repeats 2 times)",
      " [5] resolve_versions!(::Pkg.Types.Context, ::Array{Pkg.Types.PackageSpec,1}, ::Nothing) at /buildworker/worker/package_linux64/build/usr/share/julia/stdlib/v1.1/Pkg/src/Operations.jl:371",
      " [6] resolve_versions! at /buildworker/worker/package_linux64/build/usr/share/julia/stdlib/v1.1/Pkg/src/Operations.jl:315 [inlined]",
      " [7] #add_or_develop#63(::Array{Base.UUID,1}, ::Symbol, ::Function, ::Pkg.Types.Context, ::Array{Pkg.Types.PackageSpec,1}) at /buildworker/worker/package_linux64/build/usr/share/julia/stdlib/v1.1/Pkg/src/Operations.jl:1171",
      " [8] #add_or_develop at ./none:0 [inlined]",
      " [9] #add_or_develop#15(::Symbol, ::Bool, ::Base.Iterators.Pairs{Union{},Union{},Tuple{},NamedTuple{(),Tuple{}}}, ::Function, ::Pkg.Types.Context, ::Array{Pkg.Types.PackageSpec,1}) at /buildworker/worker/package_linux64/build/usr/share/julia/stdlib/v1.1/Pkg/src/API.jl:54",
      " [10] #add_or_develop at ./none:0 [inlined]",
      " [11] #add_or_develop#14 at /buildworker/worker/package_linux64/build/usr/share/julia/stdlib/v1.1/Pkg/src/API.jl:31 [inlined]",
      " [12] #add_or_develop at ./none:0 [inlined]",
      " [13] #add_or_develop#13 at /buildworker/worker/package_linux64/build/usr/share/julia/stdlib/v1.1/Pkg/src/API.jl:29 [inlined]",
      " [14] #add_or_develop at ./none:0 [inlined]",
      " [15] #add_or_develop#12(::Base.Iterators.Pairs{Symbol,Symbol,Tuple{Symbol},NamedTuple{(:mode,),Tuple{Symbol}}}, ::Function, ::String) at /buildworker/worker/package_linux64/build/usr/share/julia/stdlib/v1.1/Pkg/src/API.jl:28",
      " [16] #add_or_develop at ./none:0 [inlined]",
      " [17] #add#20 at /buildworker/worker/package_linux64/build/usr/share/julia/stdlib/v1.1/Pkg/src/API.jl:59 [inlined]",
      " [18] add(::String) at /buildworker/worker/package_linux64/build/usr/share/julia/stdlib/v1.1/Pkg/src/API.jl:59",
      " [19] top-level scope at In[4]:1"
     ]
    }
   ],
   "source": [
    "Pkg.add(\"CuArrays\")"
   ]
  },
  {
   "cell_type": "code",
   "execution_count": 11,
   "metadata": {},
   "outputs": [
    {
     "name": "stdout",
     "output_type": "stream",
     "text": [
      "\u001b[32m\u001b[1m Resolving\u001b[22m\u001b[39m package versions...\n"
     ]
    },
    {
     "ename": "Pkg.Types.ResolverError",
     "evalue": "Unsatisfiable requirements detected for package TexExtensions [9b435220]:\n TexExtensions [9b435220] log:\n ├─possible versions are: [0.0.1-0.0.3, 0.1.0] or uninstalled\n ├─restricted by compatibility requirements with SIUnits [b9d75638] to versions: [0.0.1-0.0.3, 0.1.0]\n │ └─SIUnits [b9d75638] log:\n │   ├─possible versions are: [0.0.1-0.0.6, 0.1.0] or uninstalled\n │   └─restricted to versions * by an explicit requirement, leaving only versions [0.0.1-0.0.6, 0.1.0]\n └─restricted by julia compatibility requirements to versions: uninstalled — no versions left",
     "output_type": "error",
     "traceback": [
      "Unsatisfiable requirements detected for package TexExtensions [9b435220]:\n TexExtensions [9b435220] log:\n ├─possible versions are: [0.0.1-0.0.3, 0.1.0] or uninstalled\n ├─restricted by compatibility requirements with SIUnits [b9d75638] to versions: [0.0.1-0.0.3, 0.1.0]\n │ └─SIUnits [b9d75638] log:\n │   ├─possible versions are: [0.0.1-0.0.6, 0.1.0] or uninstalled\n │   └─restricted to versions * by an explicit requirement, leaving only versions [0.0.1-0.0.6, 0.1.0]\n └─restricted by julia compatibility requirements to versions: uninstalled — no versions left",
      "",
      "Stacktrace:",
      " [1] #propagate_constraints!#61(::Bool, ::Function, ::Pkg.GraphType.Graph, ::Set{Int64}) at /buildworker/worker/package_linux64/build/usr/share/julia/stdlib/v1.1/Pkg/src/GraphType.jl:1005",
      " [2] propagate_constraints! at /buildworker/worker/package_linux64/build/usr/share/julia/stdlib/v1.1/Pkg/src/GraphType.jl:946 [inlined]",
      " [3] #simplify_graph!#121(::Bool, ::Function, ::Pkg.GraphType.Graph, ::Set{Int64}) at /buildworker/worker/package_linux64/build/usr/share/julia/stdlib/v1.1/Pkg/src/GraphType.jl:1460",
      " [4] simplify_graph! at /buildworker/worker/package_linux64/build/usr/share/julia/stdlib/v1.1/Pkg/src/GraphType.jl:1460 [inlined] (repeats 2 times)",
      " [5] resolve_versions!(::Pkg.Types.Context, ::Array{Pkg.Types.PackageSpec,1}, ::Nothing) at /buildworker/worker/package_linux64/build/usr/share/julia/stdlib/v1.1/Pkg/src/Operations.jl:371",
      " [6] resolve_versions! at /buildworker/worker/package_linux64/build/usr/share/julia/stdlib/v1.1/Pkg/src/Operations.jl:315 [inlined]",
      " [7] #add_or_develop#63(::Array{Base.UUID,1}, ::Symbol, ::Function, ::Pkg.Types.Context, ::Array{Pkg.Types.PackageSpec,1}) at /buildworker/worker/package_linux64/build/usr/share/julia/stdlib/v1.1/Pkg/src/Operations.jl:1171",
      " [8] #add_or_develop at ./none:0 [inlined]",
      " [9] #add_or_develop#15(::Symbol, ::Bool, ::Base.Iterators.Pairs{Union{},Union{},Tuple{},NamedTuple{(),Tuple{}}}, ::Function, ::Pkg.Types.Context, ::Array{Pkg.Types.PackageSpec,1}) at /buildworker/worker/package_linux64/build/usr/share/julia/stdlib/v1.1/Pkg/src/API.jl:54",
      " [10] #add_or_develop at ./none:0 [inlined]",
      " [11] #add_or_develop#14 at /buildworker/worker/package_linux64/build/usr/share/julia/stdlib/v1.1/Pkg/src/API.jl:31 [inlined]",
      " [12] #add_or_develop at ./none:0 [inlined]",
      " [13] #add_or_develop#13 at /buildworker/worker/package_linux64/build/usr/share/julia/stdlib/v1.1/Pkg/src/API.jl:29 [inlined]",
      " [14] #add_or_develop at ./none:0 [inlined]",
      " [15] #add_or_develop#12(::Base.Iterators.Pairs{Symbol,Symbol,Tuple{Symbol},NamedTuple{(:mode,),Tuple{Symbol}}}, ::Function, ::String) at /buildworker/worker/package_linux64/build/usr/share/julia/stdlib/v1.1/Pkg/src/API.jl:28",
      " [16] #add_or_develop at ./none:0 [inlined]",
      " [17] #add#20 at /buildworker/worker/package_linux64/build/usr/share/julia/stdlib/v1.1/Pkg/src/API.jl:59 [inlined]",
      " [18] add(::String) at /buildworker/worker/package_linux64/build/usr/share/julia/stdlib/v1.1/Pkg/src/API.jl:59",
      " [19] top-level scope at In[11]:1"
     ]
    }
   ],
   "source": [
    "Pkg.add(\"SIUnits\")"
   ]
  },
  {
   "cell_type": "code",
   "execution_count": 6,
   "metadata": {},
   "outputs": [
    {
     "name": "stdout",
     "output_type": "stream",
     "text": [
      "\u001b[32m\u001b[1m  Updating\u001b[22m\u001b[39m registry at `~/.julia/registries/General`\n",
      "\u001b[32m\u001b[1m  Updating\u001b[22m\u001b[39m git-repo `https://github.com/JuliaRegistries/General.git`\n",
      "\u001b[?25l\u001b[2K\u001b[?25h\u001b[32m\u001b[1m Resolving\u001b[22m\u001b[39m package versions...\n",
      "\u001b[32m\u001b[1m Installed\u001b[22m\u001b[39m MCMCChains ─────────── v0.3.8\n",
      "\u001b[32m\u001b[1m Installed\u001b[22m\u001b[39m IJulia ─────────────── v1.18.1\n",
      "\u001b[32m\u001b[1m Installed\u001b[22m\u001b[39m Images ─────────────── v0.18.0\n",
      "\u001b[32m\u001b[1m Installed\u001b[22m\u001b[39m Plots ──────────────── v0.24.0\n",
      "\u001b[32m\u001b[1m Installed\u001b[22m\u001b[39m Widgets ────────────── v0.6.1\n",
      "\u001b[32m\u001b[1m Installed\u001b[22m\u001b[39m Distributions ──────── v0.18.0\n",
      "\u001b[32m\u001b[1m Installed\u001b[22m\u001b[39m ImageCore ──────────── v0.8.2\n",
      "\u001b[32m\u001b[1m Installed\u001b[22m\u001b[39m ImageShow ──────────── v0.2.0\n",
      "\u001b[32m\u001b[1m Installed\u001b[22m\u001b[39m ImageDistances ─────── v0.2.1\n",
      "\u001b[32m\u001b[1m Installed\u001b[22m\u001b[39m ImageMorphology ────── v0.2.1\n",
      "\u001b[32m\u001b[1m Installed\u001b[22m\u001b[39m BinaryProvider ─────── v0.5.4\n",
      "\u001b[32m\u001b[1m Installed\u001b[22m\u001b[39m Compat ─────────────── v2.1.0\n",
      "\u001b[32m\u001b[1m Installed\u001b[22m\u001b[39m FileIO ─────────────── v1.0.6\n",
      "\u001b[32m\u001b[1m Installed\u001b[22m\u001b[39m PlotUtils ──────────── v0.5.8\n",
      "\u001b[32m\u001b[1m Installed\u001b[22m\u001b[39m PrettyTables ───────── v0.4.2\n",
      "\u001b[32m\u001b[1m Installed\u001b[22m\u001b[39m ImageAxes ──────────── v0.6.0\n",
      "\u001b[32m\u001b[1m Installed\u001b[22m\u001b[39m ColorVectorSpace ───── v0.7.0\n",
      "\u001b[32m\u001b[1m Installed\u001b[22m\u001b[39m MacroTools ─────────── v0.5.0\n",
      "\u001b[32m\u001b[1m Installed\u001b[22m\u001b[39m OrderedCollections ─── v1.1.0\n",
      "\u001b[32m\u001b[1m Installed\u001b[22m\u001b[39m PooledArrays ───────── v0.5.1\n",
      "\u001b[32m\u001b[1m Installed\u001b[22m\u001b[39m Optim ──────────────── v0.18.1\n",
      "\u001b[32m\u001b[1m Installed\u001b[22m\u001b[39m PDMats ─────────────── v0.9.7\n",
      "\u001b[32m\u001b[1m Installed\u001b[22m\u001b[39m StatsBase ──────────── v0.30.0\n",
      "\u001b[32m\u001b[1m Installed\u001b[22m\u001b[39m ImageTransformations ─ v0.8.0\n",
      "\u001b[32m\u001b[1m Installed\u001b[22m\u001b[39m DataFrames ─────────── v0.18.2\n",
      "\u001b[32m\u001b[1m Installed\u001b[22m\u001b[39m Clustering ─────────── v0.13.1\n",
      "\u001b[32m\u001b[1m Installed\u001b[22m\u001b[39m Tokenize ───────────── v0.5.3\n",
      "\u001b[32m\u001b[1m Installed\u001b[22m\u001b[39m ImageFiltering ─────── v0.6.0\n",
      "\u001b[32m\u001b[1m Installed\u001b[22m\u001b[39m ImageMetadata ──────── v0.7.0\n",
      "\u001b[32m\u001b[1m Installed\u001b[22m\u001b[39m AbstractFFTs ───────── v0.4.0\n",
      "\u001b[32m\u001b[1m Installed\u001b[22m\u001b[39m Tables ─────────────── v0.2.0\n",
      "\u001b[32m\u001b[1m Installed\u001b[22m\u001b[39m CSTParser ──────────── v0.5.2\n",
      "\u001b[32m\u001b[1m Installed\u001b[22m\u001b[39m Crayons ────────────── v4.0.0\n",
      "\u001b[32m\u001b[1m Installed\u001b[22m\u001b[39m GR ─────────────────── v0.39.1\n",
      "\u001b[32m\u001b[1m  Updating\u001b[22m\u001b[39m `~/.julia/environments/v1.1/Project.toml`\n",
      " \u001b[90m [31c24e10]\u001b[39m\u001b[93m ↑ Distributions v0.16.4 ⇒ v0.18.0\u001b[39m\n",
      " \u001b[90m [7073ff75]\u001b[39m\u001b[93m ↑ IJulia v1.17.0 ⇒ v1.18.1\u001b[39m\n",
      " \u001b[90m [916415d5]\u001b[39m\u001b[93m ↑ Images v0.17.2 ⇒ v0.18.0\u001b[39m\n",
      " \u001b[90m [c7f686f2]\u001b[39m\u001b[93m ↑ MCMCChains v0.3.4 ⇒ v0.3.8\u001b[39m\n",
      " \u001b[90m [91a5bcdd]\u001b[39m\u001b[93m ↑ Plots v0.23.1 ⇒ v0.24.0\u001b[39m\n",
      " \u001b[90m [08abe8d2]\u001b[39m\u001b[93m ↑ PrettyTables v0.4.0 ⇒ v0.4.2\u001b[39m\n",
      "\u001b[32m\u001b[1m  Updating\u001b[22m\u001b[39m `~/.julia/environments/v1.1/Manifest.toml`\n",
      " \u001b[90m [621f4979]\u001b[39m\u001b[93m ↑ AbstractFFTs v0.3.2 ⇒ v0.4.0\u001b[39m\n",
      " \u001b[90m [b99e7846]\u001b[39m\u001b[93m ↑ BinaryProvider v0.5.3 ⇒ v0.5.4\u001b[39m\n",
      " \u001b[90m [00ebfdb7]\u001b[39m\u001b[92m + CSTParser v0.5.2\u001b[39m\n",
      " \u001b[90m [aaaa29a8]\u001b[39m\u001b[93m ↑ Clustering v0.12.3 ⇒ v0.13.1\u001b[39m\n",
      " \u001b[90m [944b1d66]\u001b[39m\u001b[91m - CodecZlib v0.5.2\u001b[39m\n",
      " \u001b[90m [c3611d14]\u001b[39m\u001b[93m ↑ ColorVectorSpace v0.6.2 ⇒ v0.7.0\u001b[39m\n",
      " \u001b[90m [34da2185]\u001b[39m\u001b[93m ↑ Compat v2.0.0 ⇒ v2.1.0\u001b[39m\n",
      " \u001b[90m [a8cc5b0e]\u001b[39m\u001b[93m ↑ Crayons v3.0.0 ⇒ v4.0.0\u001b[39m\n",
      " \u001b[90m [a93c6f00]\u001b[39m\u001b[93m ↑ DataFrames v0.17.1 ⇒ v0.18.2\u001b[39m\n",
      " \u001b[90m [31c24e10]\u001b[39m\u001b[93m ↑ Distributions v0.16.4 ⇒ v0.18.0\u001b[39m\n",
      " \u001b[90m [5789e2e9]\u001b[39m\u001b[93m ↑ FileIO v1.0.5 ⇒ v1.0.6\u001b[39m\n",
      " \u001b[90m [28b8d3ca]\u001b[39m\u001b[93m ↑ GR v0.38.1 ⇒ v0.39.1\u001b[39m\n",
      " \u001b[90m [7073ff75]\u001b[39m\u001b[93m ↑ IJulia v1.17.0 ⇒ v1.18.1\u001b[39m\n",
      " \u001b[90m [2803e5a7]\u001b[39m\u001b[93m ↑ ImageAxes v0.5.0 ⇒ v0.6.0\u001b[39m\n",
      " \u001b[90m [a09fc81d]\u001b[39m\u001b[93m ↑ ImageCore v0.7.4 ⇒ v0.8.2\u001b[39m\n",
      " \u001b[90m [51556ac3]\u001b[39m\u001b[93m ↑ ImageDistances v0.1.1 ⇒ v0.2.1\u001b[39m\n",
      " \u001b[90m [6a3955dd]\u001b[39m\u001b[93m ↑ ImageFiltering v0.5.4 ⇒ v0.6.0\u001b[39m\n",
      " \u001b[90m [bc367c6b]\u001b[39m\u001b[93m ↑ ImageMetadata v0.6.1 ⇒ v0.7.0\u001b[39m\n",
      " \u001b[90m [787d08f9]\u001b[39m\u001b[93m ↑ ImageMorphology v0.1.1 ⇒ v0.2.1\u001b[39m\n",
      " \u001b[90m [4e3cecfd]\u001b[39m\u001b[93m ↑ ImageShow v0.1.2 ⇒ v0.2.0\u001b[39m\n",
      " \u001b[90m [02fcd773]\u001b[39m\u001b[93m ↑ ImageTransformations v0.7.2 ⇒ v0.8.0\u001b[39m\n",
      " \u001b[90m [916415d5]\u001b[39m\u001b[93m ↑ Images v0.17.2 ⇒ v0.18.0\u001b[39m\n",
      " \u001b[90m [c7f686f2]\u001b[39m\u001b[93m ↑ MCMCChains v0.3.4 ⇒ v0.3.8\u001b[39m\n",
      " \u001b[90m [1914dd2f]\u001b[39m\u001b[93m ↑ MacroTools v0.4.5 ⇒ v0.5.0\u001b[39m\n",
      " \u001b[90m [429524aa]\u001b[39m\u001b[93m ↑ Optim v0.17.2 ⇒ v0.18.1\u001b[39m\n",
      " \u001b[90m [bac558e1]\u001b[39m\u001b[93m ↑ OrderedCollections v1.0.2 ⇒ v1.1.0\u001b[39m\n",
      " \u001b[90m [90014a1f]\u001b[39m\u001b[93m ↑ PDMats v0.9.6 ⇒ v0.9.7\u001b[39m\n",
      " \u001b[90m [995b91a9]\u001b[39m\u001b[93m ↑ PlotUtils v0.5.5 ⇒ v0.5.8\u001b[39m\n",
      " \u001b[90m [91a5bcdd]\u001b[39m\u001b[93m ↑ Plots v0.23.1 ⇒ v0.24.0\u001b[39m\n",
      " \u001b[90m [2dfb63ee]\u001b[39m\u001b[92m + PooledArrays v0.5.1\u001b[39m\n",
      " \u001b[90m [08abe8d2]\u001b[39m\u001b[93m ↑ PrettyTables v0.4.0 ⇒ v0.4.2\u001b[39m\n",
      " \u001b[90m [b9d75638]\u001b[39m\u001b[91m - SIUnits v0.1.0\u001b[39m\n",
      " \u001b[90m [2913bbd2]\u001b[39m\u001b[93m ↑ StatsBase v0.29.0 ⇒ v0.30.0\u001b[39m\n",
      " \u001b[90m [bd369af6]\u001b[39m\u001b[93m ↑ Tables v0.1.18 ⇒ v0.2.0\u001b[39m\n",
      " \u001b[90m [9b435220]\u001b[39m\u001b[91m - TexExtensions v0.1.0\u001b[39m\n",
      " \u001b[90m [0796e94c]\u001b[39m\u001b[92m + Tokenize v0.5.3\u001b[39m\n",
      " \u001b[90m [3bb67fe8]\u001b[39m\u001b[91m - TranscodingStreams v0.9.2\u001b[39m\n",
      " \u001b[90m [cc8bc4a8]\u001b[39m\u001b[93m ↑ Widgets v0.5.1 ⇒ v0.6.1\u001b[39m\n",
      "\u001b[32m\u001b[1m  Building\u001b[22m\u001b[39m IJulia → `~/.julia/packages/IJulia/gI2uA/deps/build.log`\n",
      "\u001b[32m\u001b[1m  Building\u001b[22m\u001b[39m GR ────→ `~/.julia/packages/GR/KGODl/deps/build.log`\n",
      "\u001b[32m\u001b[1m  Building\u001b[22m\u001b[39m Plots ─→ `~/.julia/packages/Plots/47Tik/deps/build.log`\n"
     ]
    }
   ],
   "source": [
    "]up"
   ]
  },
  {
   "cell_type": "code",
   "execution_count": 119,
   "metadata": {},
   "outputs": [
    {
     "data": {
      "text/plain": [
       "colnorm (generic function with 1 method)"
      ]
     },
     "execution_count": 119,
     "metadata": {},
     "output_type": "execute_result"
    }
   ],
   "source": [
    "include(\"util.j\")"
   ]
  },
  {
   "cell_type": "code",
   "execution_count": 120,
   "metadata": {},
   "outputs": [],
   "source": [
    "# unnecessary packages #\n",
    "\n",
    "#using Pkg\n",
    "#Pkg.add(\"UnicodePlots\")\n",
    "using UnicodePlots   # check the structure of the sparse matrix\n",
    "using BenchmarkTools\n",
    "\n",
    "using StatsPlots\n",
    "using MCMCChains\n",
    "using PrettyTables"
   ]
  },
  {
   "cell_type": "code",
   "execution_count": 148,
   "metadata": {},
   "outputs": [],
   "source": [
    "# set parameters\n",
    "n1 = 1000\n",
    "n2 = 4000\n",
    "n3 = 8000\n",
    "n4 = 16000\n",
    "n5 = 100000\n",
    "ϕ = 8;\n",
    "δ = 0.1;\n",
    "m = 5;\n",
    "\n",
    "Random.seed!(1234);\n",
    "coords1 = rand(2, n1);\n",
    "coords2 = rand(2, n2);\n",
    "coords3 = rand(2, n3);\n",
    "coords4 = rand(2, n4);\n",
    "coords5 = rand(2, n5);\n",
    "ordx1 = sortperm(coords1[1, :]);  \n",
    "ordx2 = sortperm(coords2[1, :]); \n",
    "ordx3 = sortperm(coords3[1, :]); \n",
    "ordx4 = sortperm(coords4[1, :]); \n",
    "ordx5 = sortperm(coords5[1, :]); \n",
    "coords1 = coords1[:, ordx1];\n",
    "coords2 = coords2[:, ordx2];\n",
    "coords3 = coords3[:, ordx3];\n",
    "coords4 = coords4[:, ordx4];\n",
    "coords5 = coords5[:, ordx5];\n",
    "                                                        \n",
    "NN1 = BuildNN(coords1, m, 0)\n",
    "NN2 = BuildNN(coords2, m, 0); \n",
    "NN3 = BuildNN(coords3, m, 0); \n",
    "NN4 = BuildNN(coords4, m, 0); \n",
    "NN5 = BuildNN(coords5, m, 0); \n",
    "nnIndx_col1 = vcat(NN1.nnIndx, 1:n1);   \n",
    "nnIndx_col2 = vcat(NN2.nnIndx, 1:n2); \n",
    "nnIndx_col3 = vcat(NN3.nnIndx, 1:n3); \n",
    "nnIndx_col4 = vcat(NN4.nnIndx, 1:n4); \n",
    "nnIndx_col5 = vcat(NN5.nnIndx, 1:n5); \n",
    "nnIndx_row1 = zeros(Int64, 0);  \n",
    "nnIndx_row2 = zeros(Int64, 0); \n",
    "nnIndx_row3 = zeros(Int64, 0); \n",
    "nnIndx_row4 = zeros(Int64, 0); \n",
    "nnIndx_row5 = zeros(Int64, 0); \n",
    "for i in 2:m\n",
    "    nnIndx_row1 = vcat(nnIndx_row1, fill(i, i-1))\n",
    "    nnIndx_row2 = vcat(nnIndx_row2, fill(i, i-1))\n",
    "    nnIndx_row3 = vcat(nnIndx_row3, fill(i, i-1))\n",
    "    nnIndx_row4 = vcat(nnIndx_row4, fill(i, i-1))\n",
    "    nnIndx_row5 = vcat(nnIndx_row5, fill(i, i-1))\n",
    "end\n",
    "nnIndx_row1 = vcat(nnIndx_row1, repeat((m + 1):n1, inner = m), 1:n1);\n",
    "nnIndx_row2 = vcat(nnIndx_row2, repeat((m + 1):n2, inner = m), 1:n2);\n",
    "nnIndx_row3 = vcat(nnIndx_row3, repeat((m + 1):n3, inner = m), 1:n3);\n",
    "nnIndx_row4 = vcat(nnIndx_row4, repeat((m + 1):n4, inner = m), 1:n4);\n",
    "nnIndx_row5 = vcat(nnIndx_row5, repeat((m + 1):n5, inner = m), 1:n5);\n",
    "\n",
    "nIndx1 = length(NN1.nnIndx);\n",
    "nIndx2 = length(NN2.nnIndx);\n",
    "nIndx3 = length(NN3.nnIndx);\n",
    "nIndx4 = length(NN4.nnIndx);\n",
    "nIndx5 = length(NN5.nnIndx);\n",
    "A1 = Array{Float64}(undef, nIndx1); D1 = Array{Float64}(undef, n1);\n",
    "A2 = Array{Float64}(undef, nIndx2); D2 = Array{Float64}(undef, n2);\n",
    "A3 = Array{Float64}(undef, nIndx3); D3 = Array{Float64}(undef, n3);\n",
    "A4 = Array{Float64}(undef, nIndx4); D4 = Array{Float64}(undef, n4);\n",
    "A5 = Array{Float64}(undef, nIndx5); D5 = Array{Float64}(undef, n5);\n",
    "getAD(coords1, NN1.nnIndx, NN1.nnDist, NN1.nnIndxLU, ϕ, 0.5, A1, D1);\n",
    "getAD(coords2, NN2.nnIndx, NN2.nnDist, NN2.nnIndxLU, ϕ, 0.5, A2, D2);\n",
    "getAD(coords3, NN3.nnIndx, NN3.nnDist, NN3.nnIndxLU, ϕ, 0.5, A3, D3);\n",
    "getAD(coords4, NN4.nnIndx, NN4.nnDist, NN4.nnIndxLU, ϕ, 0.5, A4, D4);\n",
    "getAD(coords5, NN5.nnIndx, NN5.nnDist, NN5.nnIndxLU, ϕ, 0.5, A5, D5);\n",
    "\n",
    "VK1 = Diagonal(1 ./ sqrt.(D1)) * (sparse(nnIndx_row1, nnIndx_col1, vcat(-A1, ones(n1))));\n",
    "VK2 = Diagonal(1 ./ sqrt.(D2)) * (sparse(nnIndx_row2, nnIndx_col2, vcat(-A2, ones(n2))));\n",
    "VK3 = Diagonal(1 ./ sqrt.(D3)) * (sparse(nnIndx_row3, nnIndx_col3, vcat(-A3, ones(n3))));\n",
    "VK4 = Diagonal(1 ./ sqrt.(D4)) * (sparse(nnIndx_row4, nnIndx_col4, vcat(-A4, ones(n4))));\n",
    "VK5 = Diagonal(1 ./ sqrt.(D5)) * (sparse(nnIndx_row5, nnIndx_col5, vcat(-A5, ones(n5))));\n",
    "\n",
    "Xstar1 = sparse((n1 + 1):(2 * n1), 1:n1, fill(δ, n1), (2 * n1), n1)\n",
    "Xstar2 = sparse((n2 + 1):(2 * n2), 1:n2, fill(δ, n2), (2 * n2), n2)\n",
    "Xstar3 = sparse((n3 + 1):(2 * n3), 1:n3, fill(δ, n3), (2 * n3), n3)\n",
    "Xstar4 = sparse((n4 + 1):(2 * n4), 1:n4, fill(δ, n4), (2 * n4), n4)\n",
    "Xstar5 = sparse((n5 + 1):(2 * n5), 1:n5, fill(δ, n5), (2 * n5), n5)\n",
    "\n",
    "Xstar1[1:n1, 1:n1] = VK1;\n",
    "Xstar2[1:n2, 1:n2] = VK2;\n",
    "Xstar3[1:n3, 1:n3] = VK3;\n",
    "Xstar4[1:n4, 1:n4] = VK4;\n",
    "Xstar5[1:n5, 1:n5] = VK5;\n",
    "\n",
    "b = rand(Normal(), 2 * n5);"
   ]
  },
  {
   "cell_type": "code",
   "execution_count": 149,
   "metadata": {},
   "outputs": [
    {
     "name": "stdout",
     "output_type": "stream",
     "text": [
      "Converged after 169 iterations.\n",
      "Converged after 375 iterations.\n",
      "Converged after 394 iterations.\n",
      "Converged after 529 iterations.\n",
      "Converged after 817 iterations.\n"
     ]
    }
   ],
   "source": [
    "# check LSMR convergence rate\n",
    "\n",
    "tt1 = lsmr(Xstar1, b[1:(2 * n1)], log = true); println(tt1[2])\n",
    "tt2 = lsmr(Xstar2, b[1:(2 * n2)], log = true); println(tt2[2])\n",
    "tt3 = lsmr(Xstar3, b[1:(2 * n3)], log = true); println(tt3[2])\n",
    "tt4 = lsmr(Xstar4, b[1:(2 * n4)], log = true); println(tt4[2])\n",
    "tt5 = lsmr(Xstar5, b[1:(2 * n5)], log = true); println(tt5[2])\n"
   ]
  },
  {
   "cell_type": "code",
   "execution_count": 150,
   "metadata": {},
   "outputs": [
    {
     "name": "stdout",
     "output_type": "stream",
     "text": [
      "Converged after 103 iterations.\n",
      "Converged after 170 iterations.\n",
      "Converged after 198 iterations.\n",
      "Converged after 235 iterations.\n",
      "Converged after 329 iterations.\n"
     ]
    }
   ],
   "source": [
    "# check preconditioner \n",
    "CondD1 = colnorm(Xstar1);\n",
    "CondD2 = colnorm(Xstar2);\n",
    "CondD3 = colnorm(Xstar3);\n",
    "CondD4 = colnorm(Xstar4);\n",
    "CondD5 = colnorm(Xstar5);\n",
    "tt1 = lsmr(Xstar1 * Diagonal(1 ./ CondD1), b[1:(2 * n1)], log = true); println(tt1[2])\n",
    "tt2 = lsmr(Xstar2 * Diagonal(1 ./ CondD2), b[1:(2 * n2)], log = true); println(tt2[2])\n",
    "tt3 = lsmr(Xstar3 * Diagonal(1 ./ CondD3), b[1:(2 * n3)], log = true); println(tt3[2])\n",
    "tt4 = lsmr(Xstar4 * Diagonal(1 ./ CondD4), b[1:(2 * n4)], log = true); println(tt4[2])\n",
    "tt5 = lsmr(Xstar5 * Diagonal(1 ./ CondD5), b[1:(2 * n5)], log = true); println(tt5[2])"
   ]
  },
  {
   "cell_type": "markdown",
   "metadata": {},
   "source": [
    "# summary:"
   ]
  },
  {
   "cell_type": "markdown",
   "metadata": {},
   "source": [
    "# No.1\n",
    "\n",
    "n1 = 1000\n",
    "n2 = 4000\n",
    "n3 = 8000\n",
    "n4 = 16000\n",
    "n5 = 100000\n",
    "ϕ = 8;\n",
    "δ = 1.0;\n",
    "m = 5;\n",
    "\n",
    "\n",
    "Converged after 46 iterations.\n",
    "Converged after 89 iterations.\n",
    "Converged after 90 iterations.\n",
    "Converged after 137 iterations.\n",
    "Converged after 282 iterations.\n",
    "\n",
    "With precondition\n",
    "\n",
    "Converged after 39 iterations.\n",
    "Converged after 68 iterations.\n",
    "Converged after 66 iterations.\n",
    "Converged after 116 iterations.\n",
    "Converged after 175 iterations."
   ]
  },
  {
   "cell_type": "markdown",
   "metadata": {},
   "source": [
    "# No.2\n",
    "n1 = 1000\n",
    "n2 = 4000\n",
    "n3 = 8000\n",
    "n4 = 16000\n",
    "n5 = 100000\n",
    "ϕ = 3;\n",
    "δ = 1.0;\n",
    "m = 5;\n",
    "\n",
    "Converged after 68 iterations.\n",
    "Converged after 129 iterations.\n",
    "Converged after 129 iterations.\n",
    "Converged after 197 iterations.\n",
    "Converged after 392 iterations.\n",
    "\n",
    "With precond\n",
    "\n",
    "Converged after 52 iterations.\n",
    "Converged after 88 iterations.\n",
    "Converged after 85 iterations.\n",
    "Converged after 143 iterations.\n",
    "Converged after 206 iterations.\n",
    "\n",
    "Conclusion: lower decay cause higher iteration number"
   ]
  },
  {
   "cell_type": "markdown",
   "metadata": {},
   "source": [
    "# No.3\n",
    "n1 = 1000\n",
    "n2 = 4000\n",
    "n3 = 8000\n",
    "n4 = 16000\n",
    "n5 = 100000\n",
    "ϕ = 8;\n",
    "δ = 0.1;\n",
    "m = 5;\n",
    "\n",
    "Converged after 169 iterations.\n",
    "Converged after 375 iterations.\n",
    "Converged after 394 iterations.\n",
    "Converged after 529 iterations.\n",
    "Converged after 817 iterations.\n",
    "\n",
    "with precond:\n",
    "\n",
    "Converged after 103 iterations.\n",
    "Converged after 170 iterations.\n",
    "Converged after 198 iterations.\n",
    "Converged after 235 iterations.\n",
    "Converged after 329 iterations.\n",
    "\n",
    "Conclusion: lower δ higher iterations, the normalized precondition works\n",
    "\n"
   ]
  },
  {
   "cell_type": "code",
   "execution_count": null,
   "metadata": {},
   "outputs": [],
   "source": []
  }
 ],
 "metadata": {
  "kernelspec": {
   "display_name": "Julia 1.1.0",
   "language": "julia",
   "name": "julia-1.1"
  },
  "language_info": {
   "file_extension": ".jl",
   "mimetype": "application/julia",
   "name": "julia",
   "version": "1.1.0"
  }
 },
 "nbformat": 4,
 "nbformat_minor": 2
}
