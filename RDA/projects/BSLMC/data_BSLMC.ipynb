{
 "cells": [
  {
   "cell_type": "code",
   "execution_count": 1,
   "metadata": {},
   "outputs": [],
   "source": [
    "# necessary packages #\n",
    "\n",
    "#using Pkg\n",
    "#Pkg.add(\"Distances\")\n",
    "using Distributions\n",
    "using Random\n",
    "using Distances\n",
    "using LinearAlgebra\n",
    "using SparseArrays\n",
    "using IterativeSolvers\n",
    "using ProgressMeter\n",
    "using JLD2\n",
    "#using NearestNeighbors # Can't use KDtree in julia for posterior prediction"
   ]
  },
  {
   "cell_type": "code",
   "execution_count": 2,
   "metadata": {},
   "outputs": [
    {
     "data": {
      "text/plain": [
       "19.668025970458984"
      ]
     },
     "execution_count": 2,
     "metadata": {},
     "output_type": "execute_result"
    }
   ],
   "source": [
    "Sys.free_memory()/(2^20*1024)"
   ]
  },
  {
   "cell_type": "code",
   "execution_count": 3,
   "metadata": {},
   "outputs": [],
   "source": [
    "#using Pkg\n",
    "#Pkg.add(\"RData\")"
   ]
  },
  {
   "cell_type": "code",
   "execution_count": 4,
   "metadata": {},
   "outputs": [
    {
     "data": {
      "text/plain": [
       "colnorm (generic function with 1 method)"
      ]
     },
     "execution_count": 4,
     "metadata": {},
     "output_type": "execute_result"
    }
   ],
   "source": [
    "include(\"../../../util2.j\")"
   ]
  },
  {
   "cell_type": "code",
   "execution_count": 5,
   "metadata": {},
   "outputs": [],
   "source": [
    "# unnecessary packages #\n",
    "\n",
    "#using Pkg\n",
    "#Pkg.add(\"UnicodePlots\")\n",
    "using UnicodePlots   # check the structure of the sparse matrix\n",
    "using BenchmarkTools\n",
    "\n",
    "using StatsPlots\n",
    "using MCMCChains\n",
    "using PrettyTables\n",
    "using Dates\n",
    "using StatsBase"
   ]
  },
  {
   "cell_type": "code",
   "execution_count": 6,
   "metadata": {},
   "outputs": [],
   "source": [
    "#using Pkg\n",
    "#Pkg.add(\"StatsBase\");\n",
    "#using NearestNeighborDescent"
   ]
  },
  {
   "cell_type": "code",
   "execution_count": 7,
   "metadata": {},
   "outputs": [],
   "source": [
    "using RData\n",
    "data_cleaned = load(\"../../data/rawdata/data_cleaned_small_expanded.RData\", convert = true)[\"data_cleaned_small\"];"
   ]
  },
  {
   "cell_type": "code",
   "execution_count": 8,
   "metadata": {},
   "outputs": [
    {
     "data": {
      "text/plain": [
       "Dict{Float64,Int64} with 7 entries:\n",
       "  7.0 => 83009\n",
       "  4.0 => 30094\n",
       "  2.0 => 8421\n",
       "  5.0 => 27043\n",
       "  8.0 => 3111\n",
       "  6.0 => 296479\n",
       "  1.0 => 571843"
      ]
     },
     "execution_count": 8,
     "metadata": {},
     "output_type": "execute_result"
    }
   ],
   "source": [
    "countmap(data_cleaned.LC_Type4)"
   ]
  },
  {
   "cell_type": "code",
   "execution_count": 9,
   "metadata": {},
   "outputs": [
    {
     "data": {
      "text/plain": [
       "Dict{String,Any} with 11 entries:\n",
       "  \"hold_ind4\"       => Int32[796395, 815927, 678460, 506073, 78700, 980165, 206…\n",
       "  \"hold_ind10\"      => Int32[665387, 373156, 724373, 1019331, 888091, 918487, 8…\n",
       "  \"hold_ind2\"       => Int32[518549, 906271, 597282, 651904, 872494, 353593, 32…\n",
       "  \"hold_ind6\"       => Int32[896510, 543595, 201130, 86952, 630506, 206437, 452…\n",
       "  \"hold_ind5\"       => Int32[811779, 351188, 843347, 549899, 712081, 81044, 972…\n",
       "  \"hold_ind9\"       => Int32[498700, 871568, 343872, 751268, 699631, 503105, 87…\n",
       "  \"hold_ind7\"       => Int32[914319, 272494, 251816, 456856, 273822, 586315, 96…\n",
       "  \"hold_ind3\"       => Int32[466194, 761309, 456463, 45604, 728959, 693334, 733…\n",
       "  \"hold_ind1\"       => Int32[548676, 452737, 124413, 436523, 856018, 666931, 25…\n",
       "  \"hold_ind8\"       => Int32[363116, 896446, 832503, 10248, 932012, 542066, 851…\n",
       "  \"hold_area_indx2\" => Int32[431753, 431754, 431755, 431756, 431757, 431758, 43…"
      ]
     },
     "execution_count": 9,
     "metadata": {},
     "output_type": "execute_result"
    }
   ],
   "source": [
    "hold_index_set = load(\"../../data/rawdata/hold_index_small_expanded.RData\", convert = true)"
   ]
  },
  {
   "cell_type": "code",
   "execution_count": 10,
   "metadata": {},
   "outputs": [],
   "source": [
    "U_indx = sort(intersect(hold_index_set[\"hold_ind1\"], hold_index_set[\"hold_ind2\"]));\n",
    "N = size(data_cleaned)[1];\n",
    "S_indx = setdiff(1:N, U_indx);"
   ]
  },
  {
   "cell_type": "code",
   "execution_count": 11,
   "metadata": {},
   "outputs": [],
   "source": [
    "# coordinate:\n",
    "coords = [data_cleaned.scaled_x[S_indx] data_cleaned.scaled_y[S_indx]];\n",
    "coords_pred = [data_cleaned.scaled_x[U_indx] data_cleaned.scaled_y[U_indx]];\n",
    "n = size(coords)[1]; m = 10;"
   ]
  },
  {
   "cell_type": "code",
   "execution_count": 12,
   "metadata": {},
   "outputs": [],
   "source": [
    "#@load \"../data/LMC_data/LMC_data.jld\""
   ]
  },
  {
   "cell_type": "code",
   "execution_count": 13,
   "metadata": {},
   "outputs": [
    {
     "data": {
      "text/plain": [
       "\"00:17:38\""
      ]
     },
     "execution_count": 13,
     "metadata": {},
     "output_type": "execute_result"
    }
   ],
   "source": [
    "Dates.format(now(), \"HH:MM:SS\")  "
   ]
  },
  {
   "cell_type": "code",
   "execution_count": 14,
   "metadata": {},
   "outputs": [],
   "source": [
    "# build neighbors #\n",
    "m = 10;                                                       # number of nearest neighbor                       \n",
    "NN = BuildNN(coords, m, 1.0, 0.0);                       # build nearest neighbor \n",
    "nnIndx_col = vcat(NN.nnIndx, 1:n);                            # the index of columns\n",
    "nnIndx_row = zeros(Int64, 0);                                               \n",
    "for i in 2:m\n",
    "    nnIndx_row = vcat(nnIndx_row, fill(i, i-1))\n",
    "end\n",
    "nnIndx_row = vcat(nnIndx_row, repeat((m + 1):n, inner = m), 1:n);  # the index of rows"
   ]
  },
  {
   "cell_type": "code",
   "execution_count": 15,
   "metadata": {},
   "outputs": [
    {
     "data": {
      "text/plain": [
       "\"00:51:55\""
      ]
     },
     "execution_count": 15,
     "metadata": {},
     "output_type": "execute_result"
    }
   ],
   "source": [
    "Dates.format(now(), \"HH:MM:SS\")  "
   ]
  },
  {
   "cell_type": "code",
   "execution_count": 16,
   "metadata": {},
   "outputs": [
    {
     "name": "stderr",
     "output_type": "stream",
     "text": [
      "┌ Warning: Package RCall does not have AxisArrays in its dependencies:\n",
      "│ - If you have RCall checked out for development and have\n",
      "│   added AxisArrays as a dependency but haven't updated your primary\n",
      "│   environment's manifest file, try `Pkg.resolve()`.\n",
      "│ - Otherwise you may need to report an issue with RCall\n",
      "│ Loading AxisArrays into RCall from project dependency, future warnings for RCall are suppressed.\n",
      "└ @ nothing nothing:840\n"
     ]
    }
   ],
   "source": [
    "# construct Atilde Dtilde #\n",
    "\n",
    "using RCall\n",
    "@rput coords\n",
    "@rput coords_pred\n",
    "@rput m\n",
    "R\"\"\"\n",
    "library(\"RANN\")\n",
    "nn_mod_ho <- nn2(coords, coords_pred, k = m)\n",
    "\"\"\"\n",
    "@rget nn_mod_ho\n",
    "NM = size(coords_pred)[1];\n",
    "MnnIndxLU = collect(1:m:(NM * m + 1));\n",
    "MnnIndx = vec(nn_mod_ho[:nn_idx]');\n",
    "Mnndists = vec(nn_mod_ho[:nn_dists]');"
   ]
  },
  {
   "cell_type": "code",
   "execution_count": 17,
   "metadata": {},
   "outputs": [
    {
     "data": {
      "text/plain": [
       "\"00:52:03\""
      ]
     },
     "execution_count": 17,
     "metadata": {},
     "output_type": "execute_result"
    }
   ],
   "source": [
    "Dates.format(now(), \"HH:MM:SS\")  "
   ]
  },
  {
   "cell_type": "code",
   "execution_count": 18,
   "metadata": {},
   "outputs": [],
   "source": [
    "@save \"../../data/LMC_data/LMC_data_small_expanded.jld\" U_indx S_indx N n m NN nnIndx_col nnIndx_row NM MnnIndxLU MnnIndx Mnndists coords coords_pred"
   ]
  },
  {
   "cell_type": "code",
   "execution_count": null,
   "metadata": {},
   "outputs": [],
   "source": []
  },
  {
   "cell_type": "code",
   "execution_count": null,
   "metadata": {},
   "outputs": [],
   "source": []
  }
 ],
 "metadata": {
  "kernelspec": {
   "display_name": "Julia 1.1.0",
   "language": "julia",
   "name": "julia-1.1"
  },
  "language_info": {
   "file_extension": ".jl",
   "mimetype": "application/julia",
   "name": "julia",
   "version": "1.1.0"
  }
 },
 "nbformat": 4,
 "nbformat_minor": 2
}
