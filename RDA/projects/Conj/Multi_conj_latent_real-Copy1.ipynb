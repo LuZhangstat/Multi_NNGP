{
 "cells": [
  {
   "cell_type": "code",
   "execution_count": 2,
   "metadata": {},
   "outputs": [],
   "source": [
    "# necessary packages #\n",
    "#cd(\"./Documents/Github/Multi_NNGP/RDA/projects/Conj/\")\n",
    "#using Pkg\n",
    "#Pkg.add(\"Distances\")\n",
    "using Distributions\n",
    "using Random\n",
    "using Distances\n",
    "using LinearAlgebra\n",
    "using SparseArrays\n",
    "using IterativeSolvers\n",
    "using ProgressMeter\n",
    "using JLD2\n",
    "using DataFrames\n",
    "using Dates\n",
    "#using NearestNeighbors # Can't use KDtree in julia for posterior prediction"
   ]
  },
  {
   "cell_type": "code",
   "execution_count": 3,
   "metadata": {},
   "outputs": [
    {
     "data": {
      "text/plain": [
       "colnorm (generic function with 1 method)"
      ]
     },
     "execution_count": 3,
     "metadata": {},
     "output_type": "execute_result"
    }
   ],
   "source": [
    "include(\"../../../util2.j\")"
   ]
  },
  {
   "cell_type": "code",
   "execution_count": 4,
   "metadata": {},
   "outputs": [
    {
     "data": {
      "text/plain": [
       "1.0611343383789062"
      ]
     },
     "execution_count": 4,
     "metadata": {},
     "output_type": "execute_result"
    }
   ],
   "source": [
    "Sys.free_memory()/(2^20*1024)"
   ]
  },
  {
   "cell_type": "code",
   "execution_count": 5,
   "metadata": {},
   "outputs": [
    {
     "name": "stderr",
     "output_type": "stream",
     "text": [
      "┌ Warning: type OrderedCollections.OrderedDict{Symbol,Any} does not exist in workspace; reconstructing\n",
      "└ @ JLD2 /home/lu/.julia/packages/JLD2/KjBIK/src/data.jl:1153\n"
     ]
    },
    {
     "data": {
      "text/plain": [
       "24-element Array{Symbol,1}:\n",
       " :U_indx      \n",
       " :S_indx      \n",
       " :N           \n",
       " :n           \n",
       " :m           \n",
       " :NN          \n",
       " :nnIndx_col  \n",
       " :nnIndx_row  \n",
       " :NM          \n",
       " :MnnIndxLU   \n",
       " :MnnIndx     \n",
       " :Mnndists    \n",
       " :coords      \n",
       " :coords_pred \n",
       " :CVNN_train  \n",
       " :CVnnIndx_col\n",
       " :CVnnIndx_row\n",
       " :CVNN_test   \n",
       " :CVMnnIndxLU \n",
       " :CVMnnIndx   \n",
       " :CVMnndists  \n",
       " :parts_train \n",
       " :parts_test  \n",
       " :kf          "
      ]
     },
     "execution_count": 5,
     "metadata": {},
     "output_type": "execute_result"
    }
   ],
   "source": [
    "@load \"../../data/conj_data/conj_data_expanded.jld\""
   ]
  },
  {
   "cell_type": "code",
   "execution_count": 6,
   "metadata": {},
   "outputs": [
    {
     "name": "stdout",
     "output_type": "stream",
     "text": [
      "288.982397 seconds (26.34 M allocations: 2.557 GiB, 91.00% gc time)\n",
      "  0.901500 seconds (49.53 k allocations: 15.956 MiB, 1.69% gc time)\n"
     ]
    }
   ],
   "source": [
    "using RData\n",
    "@time data_cleaned = load(\"../../data/rawdata/cleaned_data2_expanded.RData\", convert = true)[\"data_cleaned2\"];\n",
    "@time hold_index_set = load(\"../../data/rawdata/hold_index_expanded.RData\", convert = true);"
   ]
  },
  {
   "cell_type": "code",
   "execution_count": 23,
   "metadata": {},
   "outputs": [
    {
     "data": {
      "text/html": [
       "<table class=\"data-frame\"><thead><tr><th></th><th>variable</th><th>mean</th><th>min</th><th>median</th><th>max</th></tr><tr><th></th><th>Symbol</th><th>Float64</th><th>Float64</th><th>Float64</th><th>Float64</th></tr></thead><tbody><p>28 rows × 8 columns (omitted printing of 3 columns)</p><tr><th>1</th><td>x</td><td>-1.04265e7</td><td>-1.11193e7</td><td>-1.03937e7</td><td>-1.00078e7</td></tr><tr><th>2</th><td>y</td><td>3.83719e6</td><td>3.33608e6</td><td>3.81747e6</td><td>4.44757e6</td></tr><tr><th>3</th><td>scaled_x</td><td>0.692742</td><td>0.0</td><td>0.725548</td><td>1.11149</td></tr><tr><th>4</th><td>scaled_y</td><td>0.501102</td><td>0.0</td><td>0.481382</td><td>1.11149</td></tr><tr><th>5</th><td>NDVI</td><td>0.240135</td><td>-0.00954541</td><td>0.192437</td><td>0.666598</td></tr><tr><th>6</th><td>EVI</td><td>0.15018</td><td>-0.00410843</td><td>0.122129</td><td>0.618208</td></tr><tr><th>7</th><td>red_reflectance</td><td>0.144423</td><td>0.0031</td><td>0.1452</td><td>0.3997</td></tr><tr><th>8</th><td>NIR_reflectance</td><td>0.243497</td><td>0.005</td><td>0.2383</td><td>0.6276</td></tr><tr><th>9</th><td>blue_reflectance</td><td>0.0752172</td><td>0.0001</td><td>0.0754</td><td>0.2</td></tr><tr><th>10</th><td>MIR_reflectance</td><td>0.22498</td><td>0.0005</td><td>0.2244</td><td>0.5841</td></tr><tr><th>11</th><td>GPP</td><td>-4.57213</td><td>-6.37713</td><td>-4.83458</td><td>-2.32637</td></tr><tr><th>12</th><td>PsnNet</td><td>-3.50606</td><td>-3.91202</td><td>-3.63629</td><td>-2.26577</td></tr><tr><th>13</th><td>view_zenith_angle</td><td>10.5095</td><td>0.03</td><td>7.16</td><td>60.0</td></tr><tr><th>14</th><td>sun_zenith_angle</td><td>28.5415</td><td>19.8</td><td>28.27</td><td>41.06</td></tr><tr><th>15</th><td>relative_azimuth_angle</td><td>59.8892</td><td>-179.91</td><td>126.27</td><td>179.97</td></tr><tr><th>16</th><td>composite_day_of_the_year</td><td>106.577</td><td>97.0</td><td>107.0</td><td>112.0</td></tr><tr><th>17</th><td>LE</td><td>4.76551</td><td>2.56495</td><td>4.76217</td><td>7.33921</td></tr><tr><th>18</th><td>ET</td><td>1.33759</td><td>-0.916291</td><td>1.335</td><td>3.91302</td></tr><tr><th>19</th><td>PLE</td><td>1.71079</td><td>1.0745</td><td>1.6845</td><td>2.2995</td></tr><tr><th>20</th><td>PET</td><td>5.56701</td><td>3.5</td><td>5.475</td><td>7.49</td></tr><tr><th>21</th><td>LC_Type4</td><td>3.16508</td><td>1.0</td><td>1.0</td><td>8.0</td></tr><tr><th>22</th><td>Evergreen_Needleleaf_Vegetation</td><td>0.560579</td><td>0.0</td><td>1.0</td><td>1.0</td></tr><tr><th>23</th><td>Evergreen_Broadleaf_Vegetation</td><td>0.00820685</td><td>0.0</td><td>0.0</td><td>1.0</td></tr><tr><th>24</th><td>Deciduous_Needleleaf_Vegetation</td><td>0.0</td><td>0.0</td><td>0.0</td><td>0.0</td></tr><tr><th>25</th><td>Deciduous_Broadleaf_Vegetation</td><td>0.029897</td><td>0.0</td><td>0.0</td><td>1.0</td></tr><tr><th>26</th><td>Annual_Broadleaf_Vegetation</td><td>0.0267159</td><td>0.0</td><td>0.0</td><td>1.0</td></tr><tr><th>27</th><td>Annual_Grass_Vegetation</td><td>0.290339</td><td>0.0</td><td>0.0</td><td>1.0</td></tr><tr><th>28</th><td>Non_Vegetated_or_Builtup_Lands</td><td>0.0842624</td><td>0.0</td><td>0.0</td><td>1.0</td></tr></tbody></table>"
      ],
      "text/latex": [
       "\\begin{tabular}{r|cccccc}\n",
       "\t& variable & mean & min & median & max & \\\\\n",
       "\t\\hline\n",
       "\t& Symbol & Float64 & Float64 & Float64 & Float64 & \\\\\n",
       "\t\\hline\n",
       "\t1 & x & -1.04265e7 & -1.11193e7 & -1.03937e7 & -1.00078e7 & $\\dots$ \\\\\n",
       "\t2 & y & 3.83719e6 & 3.33608e6 & 3.81747e6 & 4.44757e6 & $\\dots$ \\\\\n",
       "\t3 & scaled\\_x & 0.692742 & 0.0 & 0.725548 & 1.11149 & $\\dots$ \\\\\n",
       "\t4 & scaled\\_y & 0.501102 & 0.0 & 0.481382 & 1.11149 & $\\dots$ \\\\\n",
       "\t5 & NDVI & 0.240135 & -0.00954541 & 0.192437 & 0.666598 & $\\dots$ \\\\\n",
       "\t6 & EVI & 0.15018 & -0.00410843 & 0.122129 & 0.618208 & $\\dots$ \\\\\n",
       "\t7 & red\\_reflectance & 0.144423 & 0.0031 & 0.1452 & 0.3997 & $\\dots$ \\\\\n",
       "\t8 & NIR\\_reflectance & 0.243497 & 0.005 & 0.2383 & 0.6276 & $\\dots$ \\\\\n",
       "\t9 & blue\\_reflectance & 0.0752172 & 0.0001 & 0.0754 & 0.2 & $\\dots$ \\\\\n",
       "\t10 & MIR\\_reflectance & 0.22498 & 0.0005 & 0.2244 & 0.5841 & $\\dots$ \\\\\n",
       "\t11 & GPP & -4.57213 & -6.37713 & -4.83458 & -2.32637 & $\\dots$ \\\\\n",
       "\t12 & PsnNet & -3.50606 & -3.91202 & -3.63629 & -2.26577 & $\\dots$ \\\\\n",
       "\t13 & view\\_zenith\\_angle & 10.5095 & 0.03 & 7.16 & 60.0 & $\\dots$ \\\\\n",
       "\t14 & sun\\_zenith\\_angle & 28.5415 & 19.8 & 28.27 & 41.06 & $\\dots$ \\\\\n",
       "\t15 & relative\\_azimuth\\_angle & 59.8892 & -179.91 & 126.27 & 179.97 & $\\dots$ \\\\\n",
       "\t16 & composite\\_day\\_of\\_the\\_year & 106.577 & 97.0 & 107.0 & 112.0 & $\\dots$ \\\\\n",
       "\t17 & LE & 4.76551 & 2.56495 & 4.76217 & 7.33921 & $\\dots$ \\\\\n",
       "\t18 & ET & 1.33759 & -0.916291 & 1.335 & 3.91302 & $\\dots$ \\\\\n",
       "\t19 & PLE & 1.71079 & 1.0745 & 1.6845 & 2.2995 & $\\dots$ \\\\\n",
       "\t20 & PET & 5.56701 & 3.5 & 5.475 & 7.49 & $\\dots$ \\\\\n",
       "\t21 & LC\\_Type4 & 3.16508 & 1.0 & 1.0 & 8.0 & $\\dots$ \\\\\n",
       "\t22 & Evergreen\\_Needleleaf\\_Vegetation & 0.560579 & 0.0 & 1.0 & 1.0 & $\\dots$ \\\\\n",
       "\t23 & Evergreen\\_Broadleaf\\_Vegetation & 0.00820685 & 0.0 & 0.0 & 1.0 & $\\dots$ \\\\\n",
       "\t24 & Deciduous\\_Needleleaf\\_Vegetation & 0.0 & 0.0 & 0.0 & 0.0 & $\\dots$ \\\\\n",
       "\t25 & Deciduous\\_Broadleaf\\_Vegetation & 0.029897 & 0.0 & 0.0 & 1.0 & $\\dots$ \\\\\n",
       "\t26 & Annual\\_Broadleaf\\_Vegetation & 0.0267159 & 0.0 & 0.0 & 1.0 & $\\dots$ \\\\\n",
       "\t27 & Annual\\_Grass\\_Vegetation & 0.290339 & 0.0 & 0.0 & 1.0 & $\\dots$ \\\\\n",
       "\t28 & Non\\_Vegetated\\_or\\_Builtup\\_Lands & 0.0842624 & 0.0 & 0.0 & 1.0 & $\\dots$ \\\\\n",
       "\\end{tabular}\n"
      ],
      "text/plain": [
       "28×8 DataFrame. Omitted printing of 5 columns\n",
       "│ Row │ variable                        │ mean       │ min         │\n",
       "│     │ \u001b[90mSymbol\u001b[39m                          │ \u001b[90mFloat64\u001b[39m    │ \u001b[90mFloat64\u001b[39m     │\n",
       "├─────┼─────────────────────────────────┼────────────┼─────────────┤\n",
       "│ 1   │ x                               │ -1.04265e7 │ -1.11193e7  │\n",
       "│ 2   │ y                               │ 3.83719e6  │ 3.33608e6   │\n",
       "│ 3   │ scaled_x                        │ 0.692742   │ 0.0         │\n",
       "│ 4   │ scaled_y                        │ 0.501102   │ 0.0         │\n",
       "│ 5   │ NDVI                            │ 0.240135   │ -0.00954541 │\n",
       "│ 6   │ EVI                             │ 0.15018    │ -0.00410843 │\n",
       "│ 7   │ red_reflectance                 │ 0.144423   │ 0.0031      │\n",
       "│ 8   │ NIR_reflectance                 │ 0.243497   │ 0.005       │\n",
       "│ 9   │ blue_reflectance                │ 0.0752172  │ 0.0001      │\n",
       "│ 10  │ MIR_reflectance                 │ 0.22498    │ 0.0005      │\n",
       "⋮\n",
       "│ 18  │ ET                              │ 1.33759    │ -0.916291   │\n",
       "│ 19  │ PLE                             │ 1.71079    │ 1.0745      │\n",
       "│ 20  │ PET                             │ 5.56701    │ 3.5         │\n",
       "│ 21  │ LC_Type4                        │ 3.16508    │ 1.0         │\n",
       "│ 22  │ Evergreen_Needleleaf_Vegetation │ 0.560579   │ 0.0         │\n",
       "│ 23  │ Evergreen_Broadleaf_Vegetation  │ 0.00820685 │ 0.0         │\n",
       "│ 24  │ Deciduous_Needleleaf_Vegetation │ 0.0        │ 0.0         │\n",
       "│ 25  │ Deciduous_Broadleaf_Vegetation  │ 0.029897   │ 0.0         │\n",
       "│ 26  │ Annual_Broadleaf_Vegetation     │ 0.0267159  │ 0.0         │\n",
       "│ 27  │ Annual_Grass_Vegetation         │ 0.290339   │ 0.0         │\n",
       "│ 28  │ Non_Vegetated_or_Builtup_Lands  │ 0.0842624  │ 0.0         │"
      ]
     },
     "execution_count": 23,
     "metadata": {},
     "output_type": "execute_result"
    }
   ],
   "source": [
    "DataFrames.describe(data_cleaned)"
   ]
  },
  {
   "cell_type": "code",
   "execution_count": 7,
   "metadata": {},
   "outputs": [],
   "source": [
    "Y_ord = convert(Matrix, data_cleaned[:, [:NDVI, :red_reflectance]]);\n",
    "X_ord = dropzeros(sparse([fill(1.0, (N, 1)) convert(Matrix, data_cleaned[:, 28:28])]));\n",
    "p = 2; q = 2; K = 2;"
   ]
  },
  {
   "cell_type": "code",
   "execution_count": 25,
   "metadata": {},
   "outputs": [],
   "source": [
    "data_cleaned = nothing; hold_index_set = nothing; GC.gc();"
   ]
  },
  {
   "cell_type": "code",
   "execution_count": 8,
   "metadata": {},
   "outputs": [],
   "source": [
    "# priors #\n",
    "μβ = fill(0.0, p, q); inv_Vr = fill(0.0, p, p); # set Vr^{-1} be zero for the simulation...\n",
    "νΣ = q + 1; ΨΣ = [[1.0 0.0]; [0.0 1.0]];\n",
    "inv_Lr = fill(0.0, p, p); Lμβ = inv_Lr * μβ;"
   ]
  },
  {
   "cell_type": "markdown",
   "metadata": {},
   "source": [
    "# Step 2 (a)\n",
    "function rmspe_f(theta, Y = Y_ord[S_indx, :], X = X_ord[S_indx, :],\n",
    "        inv_Lr = inv_Lr, μβ = μβ, νΣ = νΣ, ΨΣ = ΨΣ, NN = NN, coords = coords,\n",
    "        parts_train = parts_train, parts_test = parts_test)\n",
    "    \n",
    "    #(a)\n",
    "    Lμβ = inv_Lr * μβ;\n",
    "    n = size(Y)[1];\n",
    "    q = size(Y)[2];\n",
    "    p = size(X)[2];\n",
    "    ϕ = theta[1];\n",
    "    α = theta[2];\n",
    "\n",
    "    nIndx = length(NN.nnIndx);\n",
    "    A = Array{Float64}(undef, nIndx);\n",
    "    D = Array{Float64}(undef, n);\n",
    "    getAD(coords, NN.nnIndx, NN.nnDist, NN.nnIndxLU, ϕ, 0.5, A, D)\n",
    "    L = Diagonal(1 ./ sqrt.(D)) * (sparse(nnIndx_row, nnIndx_col, vcat(-A, ones(n))));\n",
    "    \n",
    "    CVa = sqrt(α / (1 - α));\n",
    "    CVXstar = sparse(vcat(repeat(1:n, p + 1), repeat((n + 1):(n + p), p)), \n",
    "                vcat(repeat(1:p, inner = n), (1 + p):(n + p), repeat(1:p, inner = p)), \n",
    "                vcat(vec(CVa * X), CVa * ones(n), vec(inv_Lr)), (2 * n + p), (p + n));\n",
    "    CVXstar[(n + p + 1): (2 * n + p), (p + 1):(n + p)] = L;\n",
    "    CVYstar = vcat(CVa * Y, Lμβ, fill(0.0, (n, q)));\n",
    "    CVμstar = fill(0.0, n + p, q)\n",
    "    \n",
    "    # (b)\n",
    "    mspe = 0.0;\n",
    "    kf = length(parts_train);\n",
    "    \n",
    "    for i in 1:kf\n",
    "        Ystar =  CVYstar[vcat(parts_train[i], (n + 1):(2 * n + p)), :];\n",
    "        Xstar = CVXstar[vcat(parts_train[i], (n + 1):(2 * n + p)), :];\n",
    "        Precond_D = colnorm(Xstar);\n",
    "        for l in 1:q\n",
    "@time            CVμstar[:, l] = Diagonal(1 ./ Precond_D) * \n",
    "            lsmr(Xstar * Diagonal(1 ./ Precond_D), Ystar[:, l]);\n",
    "        end\n",
    "        Y_hold_mean = X[parts_test[i], :] * CVμstar[1:p, 1:q] + \n",
    "                CVμstar[parts_test[i] .+ p, :];\n",
    "        mspe = mspe + mean((Y[parts_test[i], :] - Y_hold_mean).^2) * (length(parts_test[i]) / n);    \n",
    "    end\n",
    "    return (sqrt(mspe))\n",
    "end"
   ]
  },
  {
   "cell_type": "markdown",
   "metadata": {},
   "source": [
    "# Step 2 (b)\n",
    "using Optim\n",
    "lower = [3.0, 0.01];\n",
    "upper = [30.0, 0.99];\n",
    "initial_x = [20, 0.9];\n",
    "inner_optimizer = LBFGS();\n",
    "@time res = optimize(rmspe_f, lower, upper, initial_x, Fminbox{LBFGS}(); m = 10,\n",
    "        linesearch = LineSearches.HagerZhang(),\n",
    "        P = nothing,\n",
    "        precondprep = (P, x) -> nothing)"
   ]
  },
  {
   "cell_type": "code",
   "execution_count": 36,
   "metadata": {},
   "outputs": [],
   "source": [
    "# (a) grid of candidate value\n",
    "ϕ_grid = LinRange(3 / sqrt(2), 3 * 100 / (4 * sqrt(2)), 2); #LinRange(3 / sqrt(2), 3 * 100 / sqrt(2), 10);#[60.128]#vcat(LinRange(128, 212, 5))\n",
    "#LinRange(3 / sqrt(2), 3 * 100 / sqrt(2), 8)\n",
    "α_grid = LinRange(0.90, 0.99999, 2);#LinRange(0.6, 0.999, 20);#[0.99]#vcat(LinRange(0.98, 0.999, 3)) "
   ]
  },
  {
   "cell_type": "code",
   "execution_count": 39,
   "metadata": {},
   "outputs": [
    {
     "name": "stdout",
     "output_type": "stream",
     "text": [
      "Number of threads = 1\n"
     ]
    }
   ],
   "source": [
    "using Base.Threads\n",
    "println(\"Number of threads = $(nthreads())\")"
   ]
  },
  {
   "cell_type": "code",
   "execution_count": 40,
   "metadata": {},
   "outputs": [
    {
     "data": {
      "text/plain": [
       "\"23:28:34\""
      ]
     },
     "execution_count": 40,
     "metadata": {},
     "output_type": "execute_result"
    }
   ],
   "source": [
    "Dates.format(now(), \"HH:MM:SS\") "
   ]
  },
  {
   "cell_type": "code",
   "execution_count": 41,
   "metadata": {},
   "outputs": [
    {
     "name": "stdout",
     "output_type": "stream",
     "text": [
      "1 62.128746 seconds (114.64 M allocations: 44.871 GiB, 8.96% gc time)\n",
      "1 61.228883 seconds (114.64 M allocations: 44.799 GiB, 8.94% gc time)\n",
      "1 61.912482 seconds (114.64 M allocations: 44.889 GiB, 8.93% gc time)\n",
      "1 61.742237 seconds (114.64 M allocations: 44.853 GiB, 8.97% gc time)\n",
      "1 61.736010 seconds (114.64 M allocations: 44.853 GiB, 8.98% gc time)\n",
      "308.849177 seconds (573.39 M allocations: 225.526 GiB, 8.96% gc time)\n"
     ]
    }
   ],
   "source": [
    "# For loop\n",
    "CVRMSPE_i = fill(0.0, length(ϕ_grid), length(α_grid), kf);\n",
    "prog = Progress(kf, 1, \"Computing initial pass...\", 50)\n",
    "@time Threads.@threads for i in 1:kf\n",
    "    print(Threads.threadid());\n",
    "    CVnIndx = length(CVNN_train[i].nnIndx);\n",
    "    nk = length(parts_test[i]);\n",
    "    CVA = Array{Float64}(undef, CVnIndx); CVD = Array{Float64}(undef, n - nk);\n",
    "    CVVK = []; CVXstar = []; CVYstar = []; CVμstar = [];\n",
    "    \n",
    "    CVAtilde = Array{Float64}(undef, nk * m); CVDtilde = Array{Float64}(undef, nk);\n",
    "    CVAtildeM = [];\n",
    "    \n",
    "@time    for j in 1:length(ϕ_grid) \n",
    "        getAD(coords[parts_train[i], :], CVNN_train[i].nnIndx, CVNN_train[i].nnDist, \n",
    "            CVNN_train[i].nnIndxLU, ϕ_grid[j], 0.5, CVA, CVD);\n",
    "        CVVK = Diagonal(1 ./ sqrt.(CVD)) * (sparse(CVnnIndx_row[i], \n",
    "                CVnnIndx_col[i], vcat(-CVA, ones(n - nk))));\n",
    "        \n",
    "        getAD(coords[parts_train[i], :], CVMnnIndx[i], \n",
    "                CVMnndists[i], CVMnnIndxLU[i],  ϕ_grid[j], 0.5, CVAtilde, CVDtilde);\n",
    "        CVAtildeM = sparse(repeat(1:nk, inner = m), CVMnnIndx[i], CVAtilde, nk, n - nk);\n",
    "        for k in 1:length(α_grid)\n",
    "            \n",
    "            # obtain posterior estimators of beta\n",
    "            \n",
    "            CVa = sqrt(α_grid[k] / (1 - α_grid[k]));\n",
    "            CVXstar = sparse(vcat(repeat(1:(n - nk), (p + 1)), repeat((n - nk + 1):(n - nk + p), p)), \n",
    "                vcat(repeat(1:p, inner = n - nk), (1 + p):(n - nk + p), repeat(1:p, inner = p)), \n",
    "                vcat(vec(CVa * X_ord[S_indx[parts_train[i]], :]), CVa * ones(n - nk), \n",
    "                    vec(inv_Lr)), (2 * (n - nk) + p), (p + n - nk));\n",
    "            CVXstar[(n - nk + p + 1): (2 * (n - nk) + p), (p + 1):(n - nk + p)] = CVVK;\n",
    "            CVYstar = vcat(CVa * Y_ord[S_indx[parts_train[i]], :], Lμβ, fill(0.0, (n - nk, q)));\n",
    "            CVμstar = fill(0.0, n - nk + p, q)\n",
    "            for l in 1:q\n",
    "                CVμstar[:, l] = lsmr(CVXstar, CVYstar[:, l]);\n",
    "            end\n",
    "\n",
    "            # obtain posterior predictions over holded folder\n",
    "            Y_hold_mean = X_ord[S_indx[parts_test[i]], :] * CVμstar[1:p, 1:q] + \n",
    "                CVAtildeM * CVμstar[(p + 1):(p + n - nk), 1:q];\n",
    "            \n",
    "            # Calculate RMSPE\n",
    "            CVRMSPE_i[j, k, i] = CVRMSPE_i[j, k, i] + \n",
    "            mean((Y_ord[S_indx[parts_test[i]], :] - Y_hold_mean).^2) * (length(parts_test[i]) / n);\n",
    "        end\n",
    "    end\n",
    "end\n",
    "CVRMSPE = [sqrt(sum(CVRMSPE_i[j, k, :]) ) for j in 1:length(ϕ_grid), k in 1:length(α_grid)];"
   ]
  },
  {
   "cell_type": "code",
   "execution_count": null,
   "metadata": {},
   "outputs": [],
   "source": [
    "Dates.format(now(), \"HH:MM:SS\") "
   ]
  },
  {
   "cell_type": "code",
   "execution_count": 14,
   "metadata": {
    "scrolled": true
   },
   "outputs": [
    {
     "data": {
      "image/png": "[encoded data removed]"
     },
     "metadata": {},
     "output_type": "display_data"
    },
    {
     "data": {
      "text/plain": [
       "RObject{VecSxp}\n"
      ]
     },
     "execution_count": 14,
     "metadata": {},
     "output_type": "execute_result"
    }
   ],
   "source": [
    "using RCall\n",
    "@rput CVRMSPE\n",
    "@rput ϕ_grid α_grid\n",
    "R\"\"\"\n",
    "library(ggplot2)\n",
    "library(hrbrthemes)\n",
    "\n",
    "# Dummy data\n",
    "x <- round(ϕ_grid, digits = 4)\n",
    "y <- round(α_grid, digits = 6)\n",
    "data <- expand.grid(X=x, Y=y)\n",
    "trun_ind = which(CVRMSPE > 0.0211);\n",
    "CVRMSPE[trun_ind] = 0.0211 #0.021025\n",
    "data$Z <- c(CVRMSPE)#[7:19, 6:18] \n",
    "\n",
    "width <- 360*1.2\n",
    "height <- 360\n",
    "pointsize <- 16\n",
    "\n",
    "\n",
    "#png(paste(\"../../pics/conj_latent_RMSPE_map1.png\", sep = \"\"), \n",
    "#    width = width, height = height, pointsize = pointsize, family = \"Courier\")\n",
    "#par(mfrow = c(1, 1))\n",
    "# Heatmap \n",
    "ggplot(data, aes(X, Y, fill= Z)) + \n",
    "  geom_tile() +\n",
    "  scale_fill_gradient(low=\"white\", high=\"blue\") + theme_ipsum()\n",
    "#dev.off()\n",
    "\n",
    "#colnames(CVRMSPE) = round(ϕ_grid, digits = 4);\n",
    "#rownames(CVRMSPE) = α_grid;\n",
    "#heatmap(CVRMSPE, Colv = NA, Rowv = NA)\n",
    "\"\"\""
   ]
  },
  {
   "cell_type": "code",
   "execution_count": 11,
   "metadata": {
    "scrolled": true
   },
   "outputs": [
    {
     "data": {
      "text/plain": [
       "2-element Array{Float64,1}:\n",
       " 106.06601717798212\n",
       "   0.985705        "
      ]
     },
     "execution_count": 11,
     "metadata": {},
     "output_type": "execute_result"
    }
   ],
   "source": [
    "# cross-validation for choosing delta and phi ...\n",
    "pick_ind = argmin(CVRMSPE);\n",
    "ϕ_pick = ϕ_grid[pick_ind[1]]; α_pick = α_grid[pick_ind[2]]; # alpha ranges from 0 to 1. alpha = sigma2 / (sigma2 + tau2)\n",
    "[ϕ_pick, α_pick]"
   ]
  },
  {
   "cell_type": "code",
   "execution_count": 9,
   "metadata": {},
   "outputs": [],
   "source": [
    "ϕ_pick = 20.175501251534527; α_pick = 0.999551052631579;"
   ]
  },
  {
   "cell_type": "code",
   "execution_count": 20,
   "metadata": {},
   "outputs": [],
   "source": [
    "# Build μ* V* Ψ* v*\n",
    "\n",
    "# (a) Lr-1 and Lr-1μβ\n",
    "\n",
    "# (b) Construct Xstar Ystar\n",
    "nIndx = length(NN.nnIndx);\n",
    "A = Array{Float64}(undef, nIndx); D = Array{Float64}(undef, n);\n",
    "getAD(coords, NN.nnIndx, NN.nnDist, NN.nnIndxLU, ϕ_pick, 0.5, A, D);\n",
    "VK = Diagonal(1 ./ sqrt.(D)) * (sparse(nnIndx_row, nnIndx_col, vcat(-A, ones(n))));\n",
    "a = sqrt(α_pick / (1 - α_pick));\n",
    "Xstar = sparse(vcat(repeat(1:n, p + 1), repeat((n + 1):(n + p), p)), \n",
    "        vcat(repeat(1:p, inner = n), (1 + p):(n + p), repeat(1:p, inner = p)), \n",
    "        vcat(vec(a * X_ord[S_indx, :]), a * ones(n), vec(inv_Lr)), (2 * n + p), (p + n));\n",
    "Xstar[(n + p + 1): (2 * n + p), (p + 1):(n + p)] = VK;\n",
    "Ystar = vcat(a * Y_ord[S_indx, :], Lμβ, fill(0.0, (n, q)));\n",
    "# (c) obtain μstar ψstar and νstar\n",
    "μstar = fill(0.0, n + p, q)\n",
    "for i in 1:q\n",
    "    μstar[:, i] = lsmr(Xstar, Ystar[:, i]);\n",
    "end\n",
    "u = Ystar - Xstar * μstar;\n",
    "Ψstar = ΨΣ + u'u; νstar = νΣ + n;\n"
   ]
  },
  {
   "cell_type": "code",
   "execution_count": 16,
   "metadata": {},
   "outputs": [],
   "source": [
    "# construct Atilde Dtilde #\n",
    "\n",
    "Atilde = Array{Float64}(undef, NM * m); Dtilde = Array{Float64}(undef, NM);\n",
    "getAD(coords, MnnIndx, Mnndists, MnnIndxLU, ϕ_pick, 0.5, Atilde, Dtilde)\n",
    "AtildeM = sparse(repeat(1:NM, inner = m), MnnIndx .+ p, Atilde, NM, n + p);\n",
    "DtildeD = Diagonal(sqrt.(Dtilde));\n",
    "lll = fill(1.0, (n, 1)); lllM = fill(1.0, (NM, 1));"
   ]
  },
  {
   "cell_type": "code",
   "execution_count": 17,
   "metadata": {},
   "outputs": [
    {
     "data": {
      "text/plain": [
       "0.3795661926269531"
      ]
     },
     "execution_count": 17,
     "metadata": {},
     "output_type": "execute_result"
    }
   ],
   "source": [
    "Sys.free_memory()/(2^20*1024)"
   ]
  },
  {
   "cell_type": "code",
   "execution_count": 45,
   "metadata": {},
   "outputs": [],
   "source": [
    "# Preallocation for posterior samples #\n",
    "N_sam = 500;\n",
    "β_sam = Array{Float64, 3}(undef, p, q, N_sam);\n",
    "Σ_sam = Array{Float64, 3}(undef, q, q, N_sam);\n",
    "cov_ω_sam = Array{Float64, 3}(undef, q, q, N_sam);\n",
    "γ_sam = Array{Float64, 2}(undef, p + n, q);\n",
    "ω_sam_mean = zeros(n, q);\n",
    "ω_sam_var = zeros(n, q);\n",
    "ω_incp_sam_mean = zeros(n, q);\n",
    "ω_incp_sam_var = zeros(n, q);\n",
    "ω_M_sam = Array{Float64, 2}(undef, NM, q);\n",
    "ω_M_sam_mean = zeros(NM, q);\n",
    "ω_M_sam_var = zeros(NM, q);\n",
    "ω_incp_M_sam_mean = zeros(NM, q);\n",
    "ω_incp_M_sam_var = zeros(NM, q);\n",
    "Y_M_sam = Array{Float64, 2}(undef, NM, q);   # missing value\n",
    "Y_M_sam_mean = zeros(NM, q);\n",
    "Y_M_sam_var = zeros(NM, q);\n",
    "\n",
    "cholΣ_sam = Array{Float64, 2}(undef, q, q);\n",
    "eta = fill(0.0, (2 * n + p, q)); v = fill(0.0, (n + p, q)); z = fill(0.0, (NM, q));"
   ]
  },
  {
   "cell_type": "code",
   "execution_count": 46,
   "metadata": {},
   "outputs": [
    {
     "name": "stderr",
     "output_type": "stream",
     "text": [
      "\u001b[32mComputing initial pass...100%|██████████████████████████████████████████████████| Time: 0:00:31\u001b[39m\n"
     ]
    }
   ],
   "source": [
    "# generate the posterior samples #\n",
    "Random.seed!(123);\n",
    "prog = Progress(N_sam, 1, \"Computing initial pass...\", 50)\n",
    "#@time Threads.@threads \n",
    "for l in 1:N_sam\n",
    "    \n",
    "    Σ_sam[:, :, l] = rand(InverseWishart(νstar, Ψstar), 1)[1];    # sample Σ\n",
    "    cholΣ_sam = cholesky(Σ_sam[:, :, l]);\n",
    "    eta = rand(Normal(), 2 * n + p, q) * cholΣ_sam.U;\n",
    "    for i in 1:q\n",
    "        v[:, i] = lsmr(Xstar, eta[:, i]);\n",
    "    end\n",
    "    γ_sam = v + μstar;\n",
    "    β_sam[:, :, l] = γ_sam[1:p, :];\n",
    "    cov_ω_sam[:, :, l] = cov(γ_sam[(p + 1):(p + n), :]);\n",
    "    ω_sam_mean[:, :] = ω_sam_mean[:, :] + γ_sam[(p + 1):(p + n), :] ./ N_sam;\n",
    "    ω_sam_var[:, :] = ω_sam_var[:, :] + γ_sam[(p + 1):(p + n), :].^2 ./ N_sam;\n",
    "    ω_incp_sam_var[:, :] = ω_incp_sam_var[:, :] + (γ_sam[(p + 1):(p + n), :] + \n",
    "        lll * transpose(γ_sam[1, :])).^2 ./ N_sam;\n",
    "    \n",
    "    ω_M_sam[:, :] = AtildeM * γ_sam + DtildeD * (rand(Normal(), NM, q) * cholΣ_sam.U);\n",
    "    ω_M_sam_mean[:, :] = ω_M_sam_mean[:, :] + ω_M_sam ./ N_sam;\n",
    "    ω_M_sam_var[:, :] = ω_M_sam_var[:, :] + ω_M_sam.^2 ./ N_sam;\n",
    "    ω_incp_M_sam_var[:, :] = ω_incp_M_sam_var[:, :] + \n",
    "    (ω_M_sam + lllM * transpose(γ_sam[1, :])).^2 ./ N_sam;\n",
    "    \n",
    "    z = rand(Normal(), NM, q) * cholΣ_sam.U;\n",
    "    Y_M_sam[:, :] = X_ord[U_indx, :] * γ_sam[1:p, 1:q] + ω_M_sam + 1 / a * z;\n",
    "    Y_M_sam_mean[:, :] = Y_M_sam_mean[:, :] + Y_M_sam ./ N_sam;\n",
    "    Y_M_sam_var[:, :] = Y_M_sam_var[:, :] + Y_M_sam.^2 ./ N_sam;\n",
    "\n",
    "    GC.gc();\n",
    "    next!(prog) # monitor the progress\n",
    "end"
   ]
  },
  {
   "cell_type": "markdown",
   "metadata": {},
   "source": [
    "| Time: 0:18:53"
   ]
  },
  {
   "cell_type": "code",
   "execution_count": 47,
   "metadata": {},
   "outputs": [],
   "source": [
    "ω_sam_var = (ω_sam_var - ω_sam_mean.^2) * (N_sam / (N_sam - 1));\n",
    "ω_M_sam_var = (ω_M_sam_var - ω_M_sam_mean.^2) * (N_sam / (N_sam - 1));\n",
    "ω_incp_sam_mean = ω_sam_mean + lll * transpose([mean(β_sam[1, i, :]) for i in 1:p]);\n",
    "ω_incp_sam_var = (ω_incp_sam_var - ω_incp_sam_mean.^2) * (N_sam / (N_sam - 1));\n",
    "ω_incp_M_sam_mean = ω_M_sam_mean + lllM * transpose([mean(β_sam[1, i, :]) for i in 1:p]);\n",
    "ω_incp_M_sam_var = (ω_incp_M_sam_var - ω_incp_M_sam_mean.^2) * (N_sam / (N_sam - 1));\n",
    "\n",
    "Y_M_sam_var = (Y_M_sam_var - Y_M_sam_mean.^2) * (N_sam / (N_sam - 1));             "
   ]
  },
  {
   "cell_type": "code",
   "execution_count": 60,
   "metadata": {},
   "outputs": [],
   "source": [
    "using JLD2\n",
    "@save \"../../results/conj/Multi_conj_latent_data.jld\" p q N_sam Y_ord β_sam Σ_sam cov_ω_sam ω_sam_mean ω_sam_var ω_incp_sam_mean ω_incp_sam_var ω_M_sam_mean ω_M_sam_var ω_incp_M_sam_mean ω_incp_M_sam_var Y_M_sam_mean Y_M_sam_var ϕ_pick α_pick"
   ]
  }
 ],
 "metadata": {
  "kernelspec": {
   "display_name": "Julia 1.2.0",
   "language": "julia",
   "name": "julia-1.2"
  },
  "language_info": {
   "file_extension": ".jl",
   "mimetype": "application/julia",
   "name": "julia",
   "version": "1.2.0"
  }
 },
 "nbformat": 4,
 "nbformat_minor": 2
}
