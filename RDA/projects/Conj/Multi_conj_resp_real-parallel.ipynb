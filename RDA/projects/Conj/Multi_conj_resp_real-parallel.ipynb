{
 "cells": [
  {
   "cell_type": "code",
   "execution_count": 3,
   "metadata": {},
   "outputs": [],
   "source": [
    "# necessary packages #\n",
    "#cd(\"./Documents/Github/Multi_NNGP/RDA/projects/Conj/\")\n",
    "#using Pkg\n",
    "#Pkg.add(\"Distances\")\n",
    "using Distributions\n",
    "using Random\n",
    "using Distances\n",
    "using LinearAlgebra\n",
    "using SparseArrays\n",
    "using IterativeSolvers\n",
    "using ProgressMeter\n",
    "using JLD2\n",
    "using DataFrames\n",
    "using Dates\n",
    "#using NearestNeighbors # Can't use KDtree in julia for posterior prediction"
   ]
  },
  {
   "cell_type": "code",
   "execution_count": 4,
   "metadata": {},
   "outputs": [
    {
     "data": {
      "text/plain": [
       "colnorm (generic function with 1 method)"
      ]
     },
     "execution_count": 4,
     "metadata": {},
     "output_type": "execute_result"
    }
   ],
   "source": [
    "include(\"../../../util2.j\")"
   ]
  },
  {
   "cell_type": "code",
   "execution_count": 5,
   "metadata": {},
   "outputs": [
    {
     "name": "stderr",
     "output_type": "stream",
     "text": [
      "┌ Warning: type OrderedCollections.OrderedDict{Symbol,Any} does not exist in workspace; reconstructing\n",
      "└ @ JLD2 /home/lu/.julia/packages/JLD2/KjBIK/src/data.jl:1153\n"
     ]
    },
    {
     "data": {
      "text/plain": [
       "24-element Array{Symbol,1}:\n",
       " :U_indx      \n",
       " :S_indx      \n",
       " :N           \n",
       " :n           \n",
       " :m           \n",
       " :NN          \n",
       " :nnIndx_col  \n",
       " :nnIndx_row  \n",
       " :NM          \n",
       " :MnnIndxLU   \n",
       " :MnnIndx     \n",
       " :Mnndists    \n",
       " :coords      \n",
       " :coords_pred \n",
       " :CVNN_train  \n",
       " :CVnnIndx_col\n",
       " :CVnnIndx_row\n",
       " :CVNN_test   \n",
       " :CVMnnIndxLU \n",
       " :CVMnnIndx   \n",
       " :CVMnndists  \n",
       " :parts_train \n",
       " :parts_test  \n",
       " :kf          "
      ]
     },
     "execution_count": 5,
     "metadata": {},
     "output_type": "execute_result"
    }
   ],
   "source": [
    "@load \"../../data/conj_data/conj_data_expanded.jld\""
   ]
  },
  {
   "cell_type": "code",
   "execution_count": 6,
   "metadata": {},
   "outputs": [
    {
     "name": "stdout",
     "output_type": "stream",
     "text": [
      "  9.382484 seconds (26.37 M allocations: 2.559 GiB, 16.11% gc time)\n",
      "  0.184925 seconds (49.53 k allocations: 15.956 MiB, 7.54% gc time)\n"
     ]
    }
   ],
   "source": [
    "using RData\n",
    "@time data_cleaned = load(\"../../data/rawdata/cleaned_data2_expanded.RData\", convert = true)[\"data_cleaned2\"];\n",
    "@time hold_index_set = load(\"../../data/rawdata/hold_index_expanded.RData\", convert = true);"
   ]
  },
  {
   "cell_type": "code",
   "execution_count": 5,
   "metadata": {},
   "outputs": [
    {
     "data": {
      "text/html": [
       "<table class=\"data-frame\"><thead><tr><th></th><th>variable</th><th>mean</th><th>min</th><th>median</th><th>max</th></tr><tr><th></th><th>Symbol</th><th>Float64</th><th>Float64</th><th>Float64</th><th>Float64</th></tr></thead><tbody><p>28 rows × 8 columns (omitted printing of 3 columns)</p><tr><th>1</th><td>x</td><td>-1.04265e7</td><td>-1.11193e7</td><td>-1.03937e7</td><td>-1.00078e7</td></tr><tr><th>2</th><td>y</td><td>3.83719e6</td><td>3.33608e6</td><td>3.81747e6</td><td>4.44757e6</td></tr><tr><th>3</th><td>scaled_x</td><td>0.692742</td><td>0.0</td><td>0.725548</td><td>1.11149</td></tr><tr><th>4</th><td>scaled_y</td><td>0.501102</td><td>0.0</td><td>0.481382</td><td>1.11149</td></tr><tr><th>5</th><td>NDVI</td><td>0.240135</td><td>-0.00954541</td><td>0.192437</td><td>0.666598</td></tr><tr><th>6</th><td>EVI</td><td>0.15018</td><td>-0.00410843</td><td>0.122129</td><td>0.618208</td></tr><tr><th>7</th><td>red_reflectance</td><td>0.144423</td><td>0.0031</td><td>0.1452</td><td>0.3997</td></tr><tr><th>8</th><td>NIR_reflectance</td><td>0.243497</td><td>0.005</td><td>0.2383</td><td>0.6276</td></tr><tr><th>9</th><td>blue_reflectance</td><td>0.0752172</td><td>0.0001</td><td>0.0754</td><td>0.2</td></tr><tr><th>10</th><td>MIR_reflectance</td><td>0.22498</td><td>0.0005</td><td>0.2244</td><td>0.5841</td></tr><tr><th>11</th><td>GPP</td><td>-4.57213</td><td>-6.37713</td><td>-4.83458</td><td>-2.32637</td></tr><tr><th>12</th><td>PsnNet</td><td>-3.50606</td><td>-3.91202</td><td>-3.63629</td><td>-2.26577</td></tr><tr><th>13</th><td>view_zenith_angle</td><td>10.5095</td><td>0.03</td><td>7.16</td><td>60.0</td></tr><tr><th>14</th><td>sun_zenith_angle</td><td>28.5415</td><td>19.8</td><td>28.27</td><td>41.06</td></tr><tr><th>15</th><td>relative_azimuth_angle</td><td>59.8892</td><td>-179.91</td><td>126.27</td><td>179.97</td></tr><tr><th>16</th><td>composite_day_of_the_year</td><td>106.577</td><td>97.0</td><td>107.0</td><td>112.0</td></tr><tr><th>17</th><td>LE</td><td>4.76551</td><td>2.56495</td><td>4.76217</td><td>7.33921</td></tr><tr><th>18</th><td>ET</td><td>1.33759</td><td>-0.916291</td><td>1.335</td><td>3.91302</td></tr><tr><th>19</th><td>PLE</td><td>1.71079</td><td>1.0745</td><td>1.6845</td><td>2.2995</td></tr><tr><th>20</th><td>PET</td><td>5.56701</td><td>3.5</td><td>5.475</td><td>7.49</td></tr><tr><th>21</th><td>LC_Type4</td><td>3.16508</td><td>1.0</td><td>1.0</td><td>8.0</td></tr><tr><th>22</th><td>Evergreen_Needleleaf_Vegetation</td><td>0.560579</td><td>0.0</td><td>1.0</td><td>1.0</td></tr><tr><th>23</th><td>Evergreen_Broadleaf_Vegetation</td><td>0.00820685</td><td>0.0</td><td>0.0</td><td>1.0</td></tr><tr><th>24</th><td>Deciduous_Needleleaf_Vegetation</td><td>0.0</td><td>0.0</td><td>0.0</td><td>0.0</td></tr><tr><th>25</th><td>Deciduous_Broadleaf_Vegetation</td><td>0.029897</td><td>0.0</td><td>0.0</td><td>1.0</td></tr><tr><th>26</th><td>Annual_Broadleaf_Vegetation</td><td>0.0267159</td><td>0.0</td><td>0.0</td><td>1.0</td></tr><tr><th>27</th><td>Annual_Grass_Vegetation</td><td>0.290339</td><td>0.0</td><td>0.0</td><td>1.0</td></tr><tr><th>28</th><td>Non_Vegetated_or_Builtup_Lands</td><td>0.0842624</td><td>0.0</td><td>0.0</td><td>1.0</td></tr></tbody></table>"
      ],
      "text/latex": [
       "\\begin{tabular}{r|cccccc}\n",
       "\t& variable & mean & min & median & max & \\\\\n",
       "\t\\hline\n",
       "\t& Symbol & Float64 & Float64 & Float64 & Float64 & \\\\\n",
       "\t\\hline\n",
       "\t1 & x & -1.04265e7 & -1.11193e7 & -1.03937e7 & -1.00078e7 & $\\dots$ \\\\\n",
       "\t2 & y & 3.83719e6 & 3.33608e6 & 3.81747e6 & 4.44757e6 & $\\dots$ \\\\\n",
       "\t3 & scaled\\_x & 0.692742 & 0.0 & 0.725548 & 1.11149 & $\\dots$ \\\\\n",
       "\t4 & scaled\\_y & 0.501102 & 0.0 & 0.481382 & 1.11149 & $\\dots$ \\\\\n",
       "\t5 & NDVI & 0.240135 & -0.00954541 & 0.192437 & 0.666598 & $\\dots$ \\\\\n",
       "\t6 & EVI & 0.15018 & -0.00410843 & 0.122129 & 0.618208 & $\\dots$ \\\\\n",
       "\t7 & red\\_reflectance & 0.144423 & 0.0031 & 0.1452 & 0.3997 & $\\dots$ \\\\\n",
       "\t8 & NIR\\_reflectance & 0.243497 & 0.005 & 0.2383 & 0.6276 & $\\dots$ \\\\\n",
       "\t9 & blue\\_reflectance & 0.0752172 & 0.0001 & 0.0754 & 0.2 & $\\dots$ \\\\\n",
       "\t10 & MIR\\_reflectance & 0.22498 & 0.0005 & 0.2244 & 0.5841 & $\\dots$ \\\\\n",
       "\t11 & GPP & -4.57213 & -6.37713 & -4.83458 & -2.32637 & $\\dots$ \\\\\n",
       "\t12 & PsnNet & -3.50606 & -3.91202 & -3.63629 & -2.26577 & $\\dots$ \\\\\n",
       "\t13 & view\\_zenith\\_angle & 10.5095 & 0.03 & 7.16 & 60.0 & $\\dots$ \\\\\n",
       "\t14 & sun\\_zenith\\_angle & 28.5415 & 19.8 & 28.27 & 41.06 & $\\dots$ \\\\\n",
       "\t15 & relative\\_azimuth\\_angle & 59.8892 & -179.91 & 126.27 & 179.97 & $\\dots$ \\\\\n",
       "\t16 & composite\\_day\\_of\\_the\\_year & 106.577 & 97.0 & 107.0 & 112.0 & $\\dots$ \\\\\n",
       "\t17 & LE & 4.76551 & 2.56495 & 4.76217 & 7.33921 & $\\dots$ \\\\\n",
       "\t18 & ET & 1.33759 & -0.916291 & 1.335 & 3.91302 & $\\dots$ \\\\\n",
       "\t19 & PLE & 1.71079 & 1.0745 & 1.6845 & 2.2995 & $\\dots$ \\\\\n",
       "\t20 & PET & 5.56701 & 3.5 & 5.475 & 7.49 & $\\dots$ \\\\\n",
       "\t21 & LC\\_Type4 & 3.16508 & 1.0 & 1.0 & 8.0 & $\\dots$ \\\\\n",
       "\t22 & Evergreen\\_Needleleaf\\_Vegetation & 0.560579 & 0.0 & 1.0 & 1.0 & $\\dots$ \\\\\n",
       "\t23 & Evergreen\\_Broadleaf\\_Vegetation & 0.00820685 & 0.0 & 0.0 & 1.0 & $\\dots$ \\\\\n",
       "\t24 & Deciduous\\_Needleleaf\\_Vegetation & 0.0 & 0.0 & 0.0 & 0.0 & $\\dots$ \\\\\n",
       "\t25 & Deciduous\\_Broadleaf\\_Vegetation & 0.029897 & 0.0 & 0.0 & 1.0 & $\\dots$ \\\\\n",
       "\t26 & Annual\\_Broadleaf\\_Vegetation & 0.0267159 & 0.0 & 0.0 & 1.0 & $\\dots$ \\\\\n",
       "\t27 & Annual\\_Grass\\_Vegetation & 0.290339 & 0.0 & 0.0 & 1.0 & $\\dots$ \\\\\n",
       "\t28 & Non\\_Vegetated\\_or\\_Builtup\\_Lands & 0.0842624 & 0.0 & 0.0 & 1.0 & $\\dots$ \\\\\n",
       "\\end{tabular}\n"
      ],
      "text/plain": [
       "28×8 DataFrame. Omitted printing of 5 columns\n",
       "│ Row │ variable                        │ mean       │ min         │\n",
       "│     │ \u001b[90mSymbol\u001b[39m                          │ \u001b[90mFloat64\u001b[39m    │ \u001b[90mFloat64\u001b[39m     │\n",
       "├─────┼─────────────────────────────────┼────────────┼─────────────┤\n",
       "│ 1   │ x                               │ -1.04265e7 │ -1.11193e7  │\n",
       "│ 2   │ y                               │ 3.83719e6  │ 3.33608e6   │\n",
       "│ 3   │ scaled_x                        │ 0.692742   │ 0.0         │\n",
       "│ 4   │ scaled_y                        │ 0.501102   │ 0.0         │\n",
       "│ 5   │ NDVI                            │ 0.240135   │ -0.00954541 │\n",
       "│ 6   │ EVI                             │ 0.15018    │ -0.00410843 │\n",
       "│ 7   │ red_reflectance                 │ 0.144423   │ 0.0031      │\n",
       "│ 8   │ NIR_reflectance                 │ 0.243497   │ 0.005       │\n",
       "│ 9   │ blue_reflectance                │ 0.0752172  │ 0.0001      │\n",
       "│ 10  │ MIR_reflectance                 │ 0.22498    │ 0.0005      │\n",
       "⋮\n",
       "│ 18  │ ET                              │ 1.33759    │ -0.916291   │\n",
       "│ 19  │ PLE                             │ 1.71079    │ 1.0745      │\n",
       "│ 20  │ PET                             │ 5.56701    │ 3.5         │\n",
       "│ 21  │ LC_Type4                        │ 3.16508    │ 1.0         │\n",
       "│ 22  │ Evergreen_Needleleaf_Vegetation │ 0.560579   │ 0.0         │\n",
       "│ 23  │ Evergreen_Broadleaf_Vegetation  │ 0.00820685 │ 0.0         │\n",
       "│ 24  │ Deciduous_Needleleaf_Vegetation │ 0.0        │ 0.0         │\n",
       "│ 25  │ Deciduous_Broadleaf_Vegetation  │ 0.029897   │ 0.0         │\n",
       "│ 26  │ Annual_Broadleaf_Vegetation     │ 0.0267159  │ 0.0         │\n",
       "│ 27  │ Annual_Grass_Vegetation         │ 0.290339   │ 0.0         │\n",
       "│ 28  │ Non_Vegetated_or_Builtup_Lands  │ 0.0842624  │ 0.0         │"
      ]
     },
     "execution_count": 5,
     "metadata": {},
     "output_type": "execute_result"
    }
   ],
   "source": [
    "DataFrames.describe(data_cleaned)"
   ]
  },
  {
   "cell_type": "code",
   "execution_count": 22,
   "metadata": {},
   "outputs": [],
   "source": [
    "Y_ord = convert(Matrix, data_cleaned[:, [:NDVI, :red_reflectance]]);\n",
    "X_ord = dropzeros(sparse([fill(1.0, (N, 1)) convert(Matrix, data_cleaned[:, 28:28])]));#[3, 4, 28]\n",
    "p = 2; q = 2; K = 2;"
   ]
  },
  {
   "cell_type": "code",
   "execution_count": 7,
   "metadata": {},
   "outputs": [],
   "source": [
    "data_cleaned = nothing; hold_index_set = nothing; GC.gc();"
   ]
  },
  {
   "cell_type": "code",
   "execution_count": 8,
   "metadata": {},
   "outputs": [
    {
     "data": {
      "text/plain": [
       "1.3651237487792969"
      ]
     },
     "execution_count": 8,
     "metadata": {},
     "output_type": "execute_result"
    }
   ],
   "source": [
    "Sys.free_memory()/(2^20*1024)"
   ]
  },
  {
   "cell_type": "code",
   "execution_count": 8,
   "metadata": {},
   "outputs": [],
   "source": [
    "# priors #\n",
    "μβ = fill(0.0, p, q); inv_Vr =fill(0.0, p, p); # set Vr^{-1} be zero for the simulation...\n",
    "νΣ = q + 1; ΨΣ = [[1.0 0.0]; [0.0 1.0]];"
   ]
  },
  {
   "cell_type": "code",
   "execution_count": 16,
   "metadata": {},
   "outputs": [
    {
     "data": {
      "text/plain": [
       "20-element LinRange{Float64}:\n",
       " 0.6,0.621,0.642,0.663,0.684,0.705,0.726,…,0.894,0.915,0.936,0.957,0.978,0.999"
      ]
     },
     "execution_count": 16,
     "metadata": {},
     "output_type": "execute_result"
    }
   ],
   "source": [
    "# (a) grid of candidate value\n",
    "ϕ_grid = LinRange(3 / sqrt(2), 3 * 100 / sqrt(2), 10); #LinRange(3 / sqrt(2), 3 * 100 / sqrt(2), 10)\n",
    "α_grid = LinRange(0.6, 0.999, 20) #LinRange(0.6, 0.999, 10)"
   ]
  },
  {
   "cell_type": "code",
   "execution_count": 1,
   "metadata": {},
   "outputs": [
    {
     "name": "stdout",
     "output_type": "stream",
     "text": [
      "Number of threads = 1\n"
     ]
    }
   ],
   "source": [
    "using Base.Threads\n",
    "println(\"Number of threads = $(nthreads())\")"
   ]
  },
  {
   "cell_type": "code",
   "execution_count": 17,
   "metadata": {},
   "outputs": [
    {
     "name": "stdout",
     "output_type": "stream",
     "text": [
      "1 45.792807 seconds (249.80 M allocations: 81.586 GiB, 16.51% gc time)\n",
      "1 43.609500 seconds (241.46 M allocations: 81.178 GiB, 16.92% gc time)\n",
      "1 43.752239 seconds (241.46 M allocations: 81.178 GiB, 17.00% gc time)\n",
      "1 43.470574 seconds (241.46 M allocations: 81.178 GiB, 17.01% gc time)\n",
      "1 43.683839 seconds (241.46 M allocations: 81.178 GiB, 17.01% gc time)\n"
     ]
    }
   ],
   "source": [
    "# For loop\n",
    "CVRMSPE_i = fill(0.0, length(ϕ_grid), length(α_grid), kf);\n",
    "prog = Progress(kf, 1, \"Computing initial pass...\", 50)\n",
    "\n",
    "@time Threads.@threads for i in 1:kf\n",
    "        print(Threads.threadid());\n",
    "        CVnIndx = length(CVNN_train[i].nnIndx);\n",
    "        nk = length(parts_test[i]);\n",
    "        CVA = Array{Float64}(undef, CVnIndx); CVD = Array{Float64}(undef, n - nk);\n",
    "        CVDI_AX = []; CVDI_AY = []; CVVstar = []; CVμstar = [];\n",
    "    \n",
    "        CVAtilde = Array{Float64}(undef, nk * m); CVDtilde = Array{Float64}(undef, nk);\n",
    "        CVAtildeM = [];\n",
    "    \n",
    "@time        for j in 1:length(ϕ_grid) \n",
    "            for k in 1:length(α_grid)\n",
    "            \n",
    "                # obtain posterior estimators of beta\n",
    "                getAD_collapse(coords[parts_train[i], :], \n",
    "                    CVNN_train[i].nnIndx, CVNN_train[i].nnDist, CVNN_train[i].nnIndxLU, \n",
    "                    ϕ_grid[j], 0.5, α_grid[k], CVA, CVD);\n",
    "                CVDI_AX = Diagonal(1 ./ sqrt.(CVD)) * (sparse(CVnnIndx_row[i], CVnnIndx_col[i], \n",
    "                        vcat(-CVA, ones(n - nk))) * X_ord[S_indx[parts_train[i]], :]);\n",
    "                CVDI_AY = Diagonal(1 ./ sqrt.(CVD)) * (sparse(CVnnIndx_row[i], CVnnIndx_col[i], \n",
    "                        vcat(-CVA, ones(n - nk))) * Y_ord[S_indx[parts_train[i]], :]);\n",
    "                CVVstar = inv(Symmetric(CVDI_AX'CVDI_AX + inv_Vr));\n",
    "                CVμstar = CVVstar * (CVDI_AX'CVDI_AY + inv_Vr * μβ);\n",
    "            \n",
    "                # obtain posterior predictions over holded folder\n",
    "                getAD_collapse(coords[parts_train[i], :], CVMnnIndx[i], \n",
    "                    CVMnndists[i], CVMnnIndxLU[i],  ϕ_grid[j], 0.5, α_grid[k], CVAtilde, CVDtilde)\n",
    "                CVAtildeM = sparse(repeat(1:nk, inner = m), CVMnnIndx[i], CVAtilde, nk, n - nk);\n",
    "                Y_hold_mean = X_ord[S_indx[parts_test[i]], :] * CVμstar + \n",
    "                    CVAtildeM * (Y_ord[S_indx[parts_train[i]], :] - X_ord[S_indx[parts_train[i]], :] * CVμstar);\n",
    "            \n",
    "                # Calculate RMSPE\n",
    "                CVRMSPE_i[j, k, i] = CVRMSPE_i[j, k, i] + mean((Y_ord[S_indx[parts_test[i]], :] - Y_hold_mean).^2) * \n",
    "                    (length(parts_test[i]) / n);\n",
    "            end\n",
    "        end\n",
    "    end"
   ]
  },
  {
   "cell_type": "markdown",
   "metadata": {},
   "source": [
    "31542\n",
    "\n",
    "11438.666772 seconds (51.14 G allocations: 16.313 TiB, 50.16% gc time)\n",
    "\n",
    "11565.119542 seconds (51.73 G allocations: 16.498 TiB, 50.17% gc time)\n",
    "\n",
    "11846.728617 seconds (52.98 G allocations: 16.904 TiB, 50.11% gc time)\n",
    "\n",
    "11928.452885 seconds (53.32 G allocations: 17.013 TiB, 50.05% gc time)\n",
    "\n",
    "12054.588710 seconds (53.70 G allocations: 17.139 TiB, 49.84% gc time)\n",
    "\n",
    "12055.654125 seconds (53.70 G allocations: 17.140 TiB, 49.84% gc time)\n"
   ]
  },
  {
   "cell_type": "code",
   "execution_count": 16,
   "metadata": {},
   "outputs": [],
   "source": [
    "#Dates.format(now(), \"HH:MM:SS\")  "
   ]
  },
  {
   "cell_type": "code",
   "execution_count": 18,
   "metadata": {},
   "outputs": [
    {
     "data": {
      "text/plain": [
       "2×2 Array{Float64,2}:\n",
       " 0.0243681  0.0211972\n",
       " 0.0229807  0.0208282"
      ]
     },
     "execution_count": 18,
     "metadata": {},
     "output_type": "execute_result"
    }
   ],
   "source": [
    "CVRMSPE = [sqrt(sum(CVRMSPE_i[i, j, :])) for i in 1:length(ϕ_grid), j in 1:length(α_grid)]"
   ]
  },
  {
   "cell_type": "code",
   "execution_count": 19,
   "metadata": {},
   "outputs": [
    {
     "data": {
      "text/plain": [
       "2-element Array{Float64,1}:\n",
       " 212.13203435596424\n",
       "   0.999           "
      ]
     },
     "execution_count": 19,
     "metadata": {},
     "output_type": "execute_result"
    }
   ],
   "source": [
    "# cross-validation for choosing delta and phi ...\n",
    "pick_ind = argmin(CVRMSPE);\n",
    "ϕ_pick = ϕ_grid[pick_ind[1]]; α_pick = α_grid[pick_ind[2]]; # alpha ranges from 0 to 1. alpha = sigma2 / (sigma2 + tau2)\n",
    "[ϕ_pick, α_pick]"
   ]
  },
  {
   "cell_type": "code",
   "execution_count": 15,
   "metadata": {},
   "outputs": [],
   "source": [
    "ϕ_pick = 17.918728638037667; α_pick = 0.999551052631579;"
   ]
  },
  {
   "cell_type": "code",
   "execution_count": 20,
   "metadata": {},
   "outputs": [],
   "source": [
    "# Build μ* V* Ψ* v*\n",
    "nIndx = length(NN.nnIndx);\n",
    "A = Array{Float64}(undef, nIndx); D = Array{Float64}(undef, n);\n",
    "getAD_collapse(coords, NN.nnIndx, NN.nnDist, NN.nnIndxLU, ϕ_pick, 0.5, α_pick, A, D);\n",
    "DI_AX = Diagonal(1 ./ sqrt.(D)) * (sparse(nnIndx_row, nnIndx_col, vcat(-A, ones(n))) * X_ord[S_indx, :]);\n",
    "DI_AY = Diagonal(1 ./ sqrt.(D)) * (sparse(nnIndx_row, nnIndx_col, vcat(-A, ones(n))) * Y_ord[S_indx, :]);\n",
    "Vstar = inv(Symmetric(DI_AX'DI_AX + inv_Vr));\n",
    "μstar = Vstar * (DI_AX'DI_AY + inv_Vr * μβ);\n",
    "Lμstar = cholesky(Vstar).L \\ μstar;\n",
    "Ψstar = ΨΣ + DI_AY'DI_AY + transpose(μβ) * inv_Vr * μβ - Lμstar'Lμstar;\n",
    "νstar = νΣ + n;\n",
    "Lstar = cholesky(Vstar);"
   ]
  },
  {
   "cell_type": "code",
   "execution_count": 18,
   "metadata": {},
   "outputs": [],
   "source": [
    "# construct Atilde Dtilde #\n",
    "Atilde = Array{Float64}(undef, NM * m); Dtilde = Array{Float64}(undef, NM);\n",
    "getAD_collapse(coords, MnnIndx, Mnndists, MnnIndxLU, \n",
    "    ϕ_pick, 0.5, α_pick, Atilde, Dtilde)\n",
    "AtildeM = sparse(repeat(1:NM, inner = m), MnnIndx, Atilde, NM, n);"
   ]
  },
  {
   "cell_type": "code",
   "execution_count": 13,
   "metadata": {},
   "outputs": [],
   "source": [
    "# Preallocation for posterior samples #\n",
    "N_sam = 500;\n",
    "β_sam = Array{Float64, 3}(undef, p, q, N_sam);\n",
    "Σ_sam = Array{Float64, 3}(undef, q, q, N_sam);\n",
    "Y_m_sam = Array{Float64, 3}(undef, NM, q, N_sam);   # missing value\n",
    "\n",
    "cholΣ_sam = Array{Float64, 2}(undef, q, q);"
   ]
  },
  {
   "cell_type": "code",
   "execution_count": 25,
   "metadata": {},
   "outputs": [
    {
     "name": "stderr",
     "output_type": "stream",
     "text": [
      "\u001b[32mComputing initial pass...100%|██████████████████████████████████████████████████| Time: 0:00:13\u001b[39m\n"
     ]
    }
   ],
   "source": [
    "# generate the posterior samples #\n",
    "Random.seed!(123);\n",
    "prog = Progress(N_sam, 1, \"Computing initial pass...\", 50)\n",
    "for l in 1:N_sam\n",
    "    Σ_sam[:, :, l] = rand(InverseWishart(νstar, Ψstar), 1)[1];    # sample Σ\n",
    "    cholΣ_sam = cholesky(Σ_sam[:, :, l]);\n",
    "    β_sam[:, :, l] = (Lstar.L * rand(Normal(), p, q)) * \n",
    "                    cholΣ_sam.U + μstar;          # sample γ  \n",
    "    Y_m_sam[:, :, l] = X_ord[U_indx, :] * β_sam[:, :, l] + \n",
    "    AtildeM * (Y_ord[S_indx, :] - X_ord[S_indx, :]* β_sam[:, :, l] ) + \n",
    "    Diagonal(sqrt.(Dtilde)) * rand(Normal(), NM, q) * cholΣ_sam.U\n",
    "    next!(prog) # monitor the progress\n",
    "end"
   ]
  },
  {
   "cell_type": "markdown",
   "metadata": {},
   "source": [
    "| Time: 0:01:48"
   ]
  },
  {
   "cell_type": "code",
   "execution_count": 27,
   "metadata": {},
   "outputs": [],
   "source": [
    "N_Inf_burn = 1;\n",
    "Y_m_pos_qt = Array{Float64, 3}(undef, NM, q, 3);\n",
    "Y_m_pos_mean = Array{Float64, 2}(undef, NM, q);\n",
    "Y_m_pos_var = Array{Float64, 2}(undef, NM, q);\n",
    "for j in 1:q\n",
    "    for i in 1:NM\n",
    "        Y_m_pos_qt[i, j, :] = quantile(Y_m_sam[i, j, N_Inf_burn:N_sam], [0.025, 0.5, 0.975]);\n",
    "        Y_m_pos_mean[i, j] = mean(Y_m_sam[i, j, N_Inf_burn:N_sam]);\n",
    "        Y_m_pos_var[i, j] = var(Y_m_sam[i, j, N_Inf_burn:N_sam]);\n",
    "    end\n",
    "end"
   ]
  },
  {
   "cell_type": "code",
   "execution_count": 1,
   "metadata": {},
   "outputs": [
    {
     "ename": "LoadError",
     "evalue": "UndefVarError: @save not defined",
     "output_type": "error",
     "traceback": [
      "UndefVarError: @save not defined",
      ""
     ]
    }
   ],
   "source": [
    "@save \"../../results/conj/conj_resp_results.jld\" N_sam NM p q β_sam Σ_sam Y_m_pos_qt Y_m_pos_mean Y_m_pos_var U_indx Y_ord α_pick ϕ_pick"
   ]
  }
 ],
 "metadata": {
  "kernelspec": {
   "display_name": "Julia 1.2.0",
   "language": "julia",
   "name": "julia-1.2"
  },
  "language_info": {
   "file_extension": ".jl",
   "mimetype": "application/julia",
   "name": "julia",
   "version": "1.2.0"
  }
 },
 "nbformat": 4,
 "nbformat_minor": 2
}
