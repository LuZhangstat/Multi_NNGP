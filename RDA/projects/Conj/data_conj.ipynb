{
 "cells": [
  {
   "cell_type": "code",
   "execution_count": 1,
   "metadata": {},
   "outputs": [],
   "source": [
    "# necessary packages #\n",
    "\n",
    "#using Pkg\n",
    "#Pkg.add(\"Distances\")\n",
    "using Distributions\n",
    "using Random\n",
    "using Distances\n",
    "using LinearAlgebra\n",
    "using SparseArrays\n",
    "using IterativeSolvers\n",
    "using ProgressMeter\n",
    "using JLD2\n",
    "#using NearestNeighbors # Can't use KDtree in julia for posterior prediction"
   ]
  },
  {
   "cell_type": "code",
   "execution_count": 4,
   "metadata": {},
   "outputs": [
    {
     "data": {
      "text/plain": [
       "14.779537200927734"
      ]
     },
     "execution_count": 4,
     "metadata": {},
     "output_type": "execute_result"
    }
   ],
   "source": [
    "Sys.free_memory()/(2^20*1024)"
   ]
  },
  {
   "cell_type": "code",
   "execution_count": 6,
   "metadata": {},
   "outputs": [
    {
     "data": {
      "text/plain": [
       "colnorm (generic function with 1 method)"
      ]
     },
     "execution_count": 6,
     "metadata": {},
     "output_type": "execute_result"
    }
   ],
   "source": [
    "include(\"../../../util2.j\")"
   ]
  },
  {
   "cell_type": "code",
   "execution_count": 7,
   "metadata": {},
   "outputs": [],
   "source": [
    "# Packages for diagnostic test #\n",
    "using StatsPlots\n",
    "using MCMCChains\n",
    "using PrettyTables\n",
    "using Dates\n",
    "using StatsBase"
   ]
  },
  {
   "cell_type": "code",
   "execution_count": 9,
   "metadata": {},
   "outputs": [],
   "source": [
    "using RData\n",
    "data_cleaned = load(\"../../data/rawdata/cleaned_data2_expanded.RData\", convert = true)[\"data_cleaned2\"];"
   ]
  },
  {
   "cell_type": "code",
   "execution_count": 10,
   "metadata": {},
   "outputs": [
    {
     "data": {
      "text/plain": [
       "(3115934, 28)"
      ]
     },
     "execution_count": 10,
     "metadata": {},
     "output_type": "execute_result"
    }
   ],
   "source": [
    "size(data_cleaned)"
   ]
  },
  {
   "cell_type": "code",
   "execution_count": 11,
   "metadata": {},
   "outputs": [
    {
     "data": {
      "text/plain": [
       "Dict{Float64,Int64} with 7 entries:\n",
       "  7.0 => 253060\n",
       "  4.0 => 93157\n",
       "  2.0 => 25572\n",
       "  5.0 => 83245\n",
       "  8.0 => 9496\n",
       "  6.0 => 904677\n",
       "  1.0 => 1746727"
      ]
     },
     "execution_count": 11,
     "metadata": {},
     "output_type": "execute_result"
    }
   ],
   "source": [
    "countmap(data_cleaned.LC_Type4)"
   ]
  },
  {
   "cell_type": "code",
   "execution_count": 14,
   "metadata": {},
   "outputs": [
    {
     "data": {
      "text/html": [
       "<table class=\"data-frame\"><thead><tr><th></th><th>variable</th><th>mean</th><th>min</th><th>median</th><th>max</th></tr><tr><th></th><th>Symbol</th><th>Float64</th><th>Float64</th><th>Float64</th><th>Float64</th></tr></thead><tbody><p>28 rows × 8 columns (omitted printing of 3 columns)</p><tr><th>1</th><td>x</td><td>-1.04265e7</td><td>-1.11193e7</td><td>-1.03937e7</td><td>-1.00078e7</td></tr><tr><th>2</th><td>y</td><td>3.83719e6</td><td>3.33608e6</td><td>3.81747e6</td><td>4.44757e6</td></tr><tr><th>3</th><td>scaled_x</td><td>0.692742</td><td>0.0</td><td>0.725548</td><td>1.11149</td></tr><tr><th>4</th><td>scaled_y</td><td>0.501102</td><td>0.0</td><td>0.481382</td><td>1.11149</td></tr><tr><th>5</th><td>NDVI</td><td>0.240135</td><td>-0.00954541</td><td>0.192437</td><td>0.666598</td></tr><tr><th>6</th><td>EVI</td><td>0.15018</td><td>-0.00410843</td><td>0.122129</td><td>0.618208</td></tr><tr><th>7</th><td>red_reflectance</td><td>0.144423</td><td>0.0031</td><td>0.1452</td><td>0.3997</td></tr><tr><th>8</th><td>NIR_reflectance</td><td>0.243497</td><td>0.005</td><td>0.2383</td><td>0.6276</td></tr><tr><th>9</th><td>blue_reflectance</td><td>0.0752172</td><td>0.0001</td><td>0.0754</td><td>0.2</td></tr><tr><th>10</th><td>MIR_reflectance</td><td>0.22498</td><td>0.0005</td><td>0.2244</td><td>0.5841</td></tr><tr><th>11</th><td>GPP</td><td>-4.57213</td><td>-6.37713</td><td>-4.83458</td><td>-2.32637</td></tr><tr><th>12</th><td>PsnNet</td><td>-3.50606</td><td>-3.91202</td><td>-3.63629</td><td>-2.26577</td></tr><tr><th>13</th><td>view_zenith_angle</td><td>10.5095</td><td>0.03</td><td>7.16</td><td>60.0</td></tr><tr><th>14</th><td>sun_zenith_angle</td><td>28.5415</td><td>19.8</td><td>28.27</td><td>41.06</td></tr><tr><th>15</th><td>relative_azimuth_angle</td><td>59.8892</td><td>-179.91</td><td>126.27</td><td>179.97</td></tr><tr><th>16</th><td>composite_day_of_the_year</td><td>106.577</td><td>97.0</td><td>107.0</td><td>112.0</td></tr><tr><th>17</th><td>LE</td><td>4.76551</td><td>2.56495</td><td>4.76217</td><td>7.33921</td></tr><tr><th>18</th><td>ET</td><td>1.33759</td><td>-0.916291</td><td>1.335</td><td>3.91302</td></tr><tr><th>19</th><td>PLE</td><td>1.71079</td><td>1.0745</td><td>1.6845</td><td>2.2995</td></tr><tr><th>20</th><td>PET</td><td>5.56701</td><td>3.5</td><td>5.475</td><td>7.49</td></tr><tr><th>21</th><td>LC_Type4</td><td>3.16508</td><td>1.0</td><td>1.0</td><td>8.0</td></tr><tr><th>22</th><td>Evergreen_Needleleaf_Vegetation</td><td>0.560579</td><td>0.0</td><td>1.0</td><td>1.0</td></tr><tr><th>23</th><td>Evergreen_Broadleaf_Vegetation</td><td>0.00820685</td><td>0.0</td><td>0.0</td><td>1.0</td></tr><tr><th>24</th><td>Deciduous_Needleleaf_Vegetation</td><td>0.0</td><td>0.0</td><td>0.0</td><td>0.0</td></tr><tr><th>25</th><td>Deciduous_Broadleaf_Vegetation</td><td>0.029897</td><td>0.0</td><td>0.0</td><td>1.0</td></tr><tr><th>26</th><td>Annual_Broadleaf_Vegetation</td><td>0.0267159</td><td>0.0</td><td>0.0</td><td>1.0</td></tr><tr><th>27</th><td>Annual_Grass_Vegetation</td><td>0.290339</td><td>0.0</td><td>0.0</td><td>1.0</td></tr><tr><th>28</th><td>Non_Vegetated_or_Builtup_Lands</td><td>0.0842624</td><td>0.0</td><td>0.0</td><td>1.0</td></tr></tbody></table>"
      ],
      "text/latex": [
       "\\begin{tabular}{r|cccccc}\n",
       "\t& variable & mean & min & median & max & \\\\\n",
       "\t\\hline\n",
       "\t& Symbol & Float64 & Float64 & Float64 & Float64 & \\\\\n",
       "\t\\hline\n",
       "\t1 & x & -1.04265e7 & -1.11193e7 & -1.03937e7 & -1.00078e7 & $\\dots$ \\\\\n",
       "\t2 & y & 3.83719e6 & 3.33608e6 & 3.81747e6 & 4.44757e6 & $\\dots$ \\\\\n",
       "\t3 & scaled\\_x & 0.692742 & 0.0 & 0.725548 & 1.11149 & $\\dots$ \\\\\n",
       "\t4 & scaled\\_y & 0.501102 & 0.0 & 0.481382 & 1.11149 & $\\dots$ \\\\\n",
       "\t5 & NDVI & 0.240135 & -0.00954541 & 0.192437 & 0.666598 & $\\dots$ \\\\\n",
       "\t6 & EVI & 0.15018 & -0.00410843 & 0.122129 & 0.618208 & $\\dots$ \\\\\n",
       "\t7 & red\\_reflectance & 0.144423 & 0.0031 & 0.1452 & 0.3997 & $\\dots$ \\\\\n",
       "\t8 & NIR\\_reflectance & 0.243497 & 0.005 & 0.2383 & 0.6276 & $\\dots$ \\\\\n",
       "\t9 & blue\\_reflectance & 0.0752172 & 0.0001 & 0.0754 & 0.2 & $\\dots$ \\\\\n",
       "\t10 & MIR\\_reflectance & 0.22498 & 0.0005 & 0.2244 & 0.5841 & $\\dots$ \\\\\n",
       "\t11 & GPP & -4.57213 & -6.37713 & -4.83458 & -2.32637 & $\\dots$ \\\\\n",
       "\t12 & PsnNet & -3.50606 & -3.91202 & -3.63629 & -2.26577 & $\\dots$ \\\\\n",
       "\t13 & view\\_zenith\\_angle & 10.5095 & 0.03 & 7.16 & 60.0 & $\\dots$ \\\\\n",
       "\t14 & sun\\_zenith\\_angle & 28.5415 & 19.8 & 28.27 & 41.06 & $\\dots$ \\\\\n",
       "\t15 & relative\\_azimuth\\_angle & 59.8892 & -179.91 & 126.27 & 179.97 & $\\dots$ \\\\\n",
       "\t16 & composite\\_day\\_of\\_the\\_year & 106.577 & 97.0 & 107.0 & 112.0 & $\\dots$ \\\\\n",
       "\t17 & LE & 4.76551 & 2.56495 & 4.76217 & 7.33921 & $\\dots$ \\\\\n",
       "\t18 & ET & 1.33759 & -0.916291 & 1.335 & 3.91302 & $\\dots$ \\\\\n",
       "\t19 & PLE & 1.71079 & 1.0745 & 1.6845 & 2.2995 & $\\dots$ \\\\\n",
       "\t20 & PET & 5.56701 & 3.5 & 5.475 & 7.49 & $\\dots$ \\\\\n",
       "\t21 & LC\\_Type4 & 3.16508 & 1.0 & 1.0 & 8.0 & $\\dots$ \\\\\n",
       "\t22 & Evergreen\\_Needleleaf\\_Vegetation & 0.560579 & 0.0 & 1.0 & 1.0 & $\\dots$ \\\\\n",
       "\t23 & Evergreen\\_Broadleaf\\_Vegetation & 0.00820685 & 0.0 & 0.0 & 1.0 & $\\dots$ \\\\\n",
       "\t24 & Deciduous\\_Needleleaf\\_Vegetation & 0.0 & 0.0 & 0.0 & 0.0 & $\\dots$ \\\\\n",
       "\t25 & Deciduous\\_Broadleaf\\_Vegetation & 0.029897 & 0.0 & 0.0 & 1.0 & $\\dots$ \\\\\n",
       "\t26 & Annual\\_Broadleaf\\_Vegetation & 0.0267159 & 0.0 & 0.0 & 1.0 & $\\dots$ \\\\\n",
       "\t27 & Annual\\_Grass\\_Vegetation & 0.290339 & 0.0 & 0.0 & 1.0 & $\\dots$ \\\\\n",
       "\t28 & Non\\_Vegetated\\_or\\_Builtup\\_Lands & 0.0842624 & 0.0 & 0.0 & 1.0 & $\\dots$ \\\\\n",
       "\\end{tabular}\n"
      ],
      "text/plain": [
       "28×8 DataFrame. Omitted printing of 5 columns\n",
       "│ Row │ variable                        │ mean       │ min         │\n",
       "│     │ \u001b[90mSymbol\u001b[39m                          │ \u001b[90mFloat64\u001b[39m    │ \u001b[90mFloat64\u001b[39m     │\n",
       "├─────┼─────────────────────────────────┼────────────┼─────────────┤\n",
       "│ 1   │ x                               │ -1.04265e7 │ -1.11193e7  │\n",
       "│ 2   │ y                               │ 3.83719e6  │ 3.33608e6   │\n",
       "│ 3   │ scaled_x                        │ 0.692742   │ 0.0         │\n",
       "│ 4   │ scaled_y                        │ 0.501102   │ 0.0         │\n",
       "│ 5   │ NDVI                            │ 0.240135   │ -0.00954541 │\n",
       "│ 6   │ EVI                             │ 0.15018    │ -0.00410843 │\n",
       "│ 7   │ red_reflectance                 │ 0.144423   │ 0.0031      │\n",
       "│ 8   │ NIR_reflectance                 │ 0.243497   │ 0.005       │\n",
       "│ 9   │ blue_reflectance                │ 0.0752172  │ 0.0001      │\n",
       "│ 10  │ MIR_reflectance                 │ 0.22498    │ 0.0005      │\n",
       "⋮\n",
       "│ 18  │ ET                              │ 1.33759    │ -0.916291   │\n",
       "│ 19  │ PLE                             │ 1.71079    │ 1.0745      │\n",
       "│ 20  │ PET                             │ 5.56701    │ 3.5         │\n",
       "│ 21  │ LC_Type4                        │ 3.16508    │ 1.0         │\n",
       "│ 22  │ Evergreen_Needleleaf_Vegetation │ 0.560579   │ 0.0         │\n",
       "│ 23  │ Evergreen_Broadleaf_Vegetation  │ 0.00820685 │ 0.0         │\n",
       "│ 24  │ Deciduous_Needleleaf_Vegetation │ 0.0        │ 0.0         │\n",
       "│ 25  │ Deciduous_Broadleaf_Vegetation  │ 0.029897   │ 0.0         │\n",
       "│ 26  │ Annual_Broadleaf_Vegetation     │ 0.0267159  │ 0.0         │\n",
       "│ 27  │ Annual_Grass_Vegetation         │ 0.290339   │ 0.0         │\n",
       "│ 28  │ Non_Vegetated_or_Builtup_Lands  │ 0.0842624  │ 0.0         │"
      ]
     },
     "execution_count": 14,
     "metadata": {},
     "output_type": "execute_result"
    }
   ],
   "source": [
    "describe(data_cleaned)"
   ]
  },
  {
   "cell_type": "code",
   "execution_count": 12,
   "metadata": {},
   "outputs": [],
   "source": [
    "hold_index_set = load(\"../../data/rawdata/hold_index_expanded.RData\", convert = true);"
   ]
  },
  {
   "cell_type": "code",
   "execution_count": 14,
   "metadata": {},
   "outputs": [],
   "source": [
    "U_indx = sort(intersect(hold_index_set[\"hold_ind1\"], hold_index_set[\"hold_ind2\"]));\n",
    "N = size(data_cleaned)[1];\n",
    "S_indx = setdiff(1:N, U_indx);"
   ]
  },
  {
   "cell_type": "code",
   "execution_count": 15,
   "metadata": {},
   "outputs": [],
   "source": [
    "# coordinate:\n",
    "coords = [data_cleaned.scaled_x[S_indx] data_cleaned.scaled_y[S_indx]];\n",
    "coords_pred = [data_cleaned.scaled_x[U_indx] data_cleaned.scaled_y[U_indx]];\n",
    "n = size(coords)[1]; m = 10;"
   ]
  },
  {
   "cell_type": "code",
   "execution_count": 16,
   "metadata": {},
   "outputs": [],
   "source": [
    "#@load \"../../data/conj_data/conj_data.jld\""
   ]
  },
  {
   "cell_type": "code",
   "execution_count": 17,
   "metadata": {},
   "outputs": [
    {
     "data": {
      "text/plain": [
       "\"00:21:16\""
      ]
     },
     "execution_count": 17,
     "metadata": {},
     "output_type": "execute_result"
    }
   ],
   "source": [
    "Dates.format(now(), \"HH:MM:SS\")  "
   ]
  },
  {
   "cell_type": "code",
   "execution_count": 18,
   "metadata": {},
   "outputs": [],
   "source": [
    "# build neighbors #\n",
    "m = 10;                                                       # number of nearest neighbor                       \n",
    "NN = BuildNN(coords, m, 1.0, 0.0);                       # build nearest neighbor \n",
    "nnIndx_col = vcat(NN.nnIndx, 1:n);                            # the index of columns\n",
    "nnIndx_row = zeros(Int64, 0);                                               \n",
    "for i in 2:m\n",
    "    nnIndx_row = vcat(nnIndx_row, fill(i, i-1))\n",
    "end\n",
    "nnIndx_row = vcat(nnIndx_row, repeat((m + 1):n, inner = m), 1:n);  # the index of rows"
   ]
  },
  {
   "cell_type": "code",
   "execution_count": 19,
   "metadata": {},
   "outputs": [
    {
     "data": {
      "text/plain": [
       "\"05:45:33\""
      ]
     },
     "execution_count": 19,
     "metadata": {},
     "output_type": "execute_result"
    }
   ],
   "source": [
    "Dates.format(now(), \"HH:MM:SS\")  "
   ]
  },
  {
   "cell_type": "code",
   "execution_count": 20,
   "metadata": {},
   "outputs": [],
   "source": [
    "# construct Atilde Dtilde #\n",
    "\n",
    "using RCall\n",
    "@rput coords\n",
    "@rput coords_pred\n",
    "@rput m\n",
    "R\"\"\"\n",
    "library(\"RANN\")\n",
    "nn_mod_ho <- nn2(coords, coords_pred, k = m)\n",
    "\"\"\"\n",
    "@rget nn_mod_ho\n",
    "NM = size(coords_pred)[1];\n",
    "MnnIndxLU = collect(1:m:(NM * m + 1));\n",
    "MnnIndx = vec(nn_mod_ho[:nn_idx]');\n",
    "Mnndists = vec(nn_mod_ho[:nn_dists]');"
   ]
  },
  {
   "cell_type": "code",
   "execution_count": 21,
   "metadata": {},
   "outputs": [
    {
     "data": {
      "text/plain": [
       "\"05:45:44\""
      ]
     },
     "execution_count": 21,
     "metadata": {},
     "output_type": "execute_result"
    }
   ],
   "source": [
    "Dates.format(now(), \"HH:MM:SS\")  "
   ]
  },
  {
   "cell_type": "code",
   "execution_count": 22,
   "metadata": {},
   "outputs": [
    {
     "data": {
      "text/plain": [
       "\"05:45:46\""
      ]
     },
     "execution_count": 22,
     "metadata": {},
     "output_type": "execute_result"
    }
   ],
   "source": [
    "Dates.format(now(), \"HH:MM:SS\")  "
   ]
  },
  {
   "cell_type": "code",
   "execution_count": 23,
   "metadata": {},
   "outputs": [],
   "source": [
    "# cross-validation Preparison\n",
    "# (a) Randomly split 1:n into K folder \n",
    "Random.seed!(321);\n",
    "kf = 5;\n",
    "parts = kfoldperm(n,kf);\n",
    "parts_train = [sort(setdiff(1:n, parts[i])) for i in 1:kf];\n",
    "parts_test = [sort(parts[i]) for i in 1:kf];\n",
    "\n",
    "# (b) Build NN index for training data in ith folder\n",
    "using RCall\n",
    "CVNN_train = Array{Any,1}(undef, kf);\n",
    "CVNN_test = Array{Any,1}(undef, kf);\n",
    "CVnnIndx_col = Array{Any,1}(undef, kf);\n",
    "CVnnIndx_row = Array{Any,1}(undef, kf);\n",
    "CVMnnIndxLU = Array{Any,1}(undef, kf); \n",
    "CVMnnIndx = Array{Any,1}(undef, kf);\n",
    "CVMnndists = Array{Any,1}(undef, kf);\n",
    "\n",
    "@rput coords\n",
    "@rput S_indx\n",
    "@rput m\n",
    "@rput parts_train\n",
    "@rput parts_test\n",
    "\n",
    "for i in 1:kf\n",
    "    \n",
    "    # Build NN index for training data in ith folder\n",
    "    CVNN_train[i] = BuildNN(coords[parts_train[i], :], m, 1.0);\n",
    "    CVnnIndx_col[i] = vcat(CVNN_train[i].nnIndx, 1:(n - length(parts[i])));\n",
    "    CVnnIndx_row[i] = zeros(Int64, 0);\n",
    "    for j in 2:m\n",
    "        CVnnIndx_row[i] = vcat(CVnnIndx_row[i], fill(j, j-1));\n",
    "    end\n",
    "    CVnnIndx_row[i] = vcat(CVnnIndx_row[i], \n",
    "        repeat((m + 1):(n - length(parts[i])), inner = m), 1:(n - length(parts[i])));\n",
    "        \n",
    "    # Build nearest neighbor index for holdout locations\n",
    "    @rput i\n",
    "    R\"\"\"\n",
    "    library(\"RANN\")\n",
    "    nn_mod_ho <- nn2(coords[parts_train[[i]], ], coords[parts_test[[i]], ], k = m)\n",
    "    \"\"\"\n",
    "    @rget nn_mod_ho\n",
    "    CVNN_test[i] = nn_mod_ho;\n",
    "    CVMnnIndxLU[i] = collect(1:m:(length(parts[i]) * m + 1));\n",
    "    CVMnnIndx[i] = vec(nn_mod_ho[:nn_idx]');\n",
    "    CVMnndists[i] = vec(nn_mod_ho[:nn_dists]');\n",
    "end   \n"
   ]
  },
  {
   "cell_type": "code",
   "execution_count": 24,
   "metadata": {},
   "outputs": [
    {
     "data": {
      "text/plain": [
       "\"23:07:17\""
      ]
     },
     "execution_count": 24,
     "metadata": {},
     "output_type": "execute_result"
    }
   ],
   "source": [
    "Dates.format(now(), \"HH:MM:SS\")  "
   ]
  },
  {
   "cell_type": "code",
   "execution_count": 26,
   "metadata": {},
   "outputs": [],
   "source": [
    "@save \"../../data/conj_data/conj_data_expanded.jld\" U_indx S_indx N n m NN nnIndx_col nnIndx_row NM MnnIndxLU MnnIndx Mnndists coords coords_pred CVNN_train CVnnIndx_col CVnnIndx_row CVNN_test CVMnnIndxLU CVMnnIndx CVMnndists parts_train parts_test kf"
   ]
  }
 ],
 "metadata": {
  "kernelspec": {
   "display_name": "Julia 1.2.0",
   "language": "julia",
   "name": "julia-1.2"
  },
  "language_info": {
   "file_extension": ".jl",
   "mimetype": "application/julia",
   "name": "julia",
   "version": "1.2.0"
  }
 },
 "nbformat": 4,
 "nbformat_minor": 2
}
