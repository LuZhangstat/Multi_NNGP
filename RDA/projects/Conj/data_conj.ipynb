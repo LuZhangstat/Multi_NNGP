{
 "cells": [
  {
   "cell_type": "code",
   "execution_count": 1,
   "metadata": {},
   "outputs": [],
   "source": [
    "# necessary packages #\n",
    "\n",
    "#using Pkg\n",
    "#Pkg.add(\"Distances\")\n",
    "using Distributions\n",
    "using Random\n",
    "using Distances\n",
    "using LinearAlgebra\n",
    "using SparseArrays\n",
    "using IterativeSolvers\n",
    "using ProgressMeter\n",
    "using JLD2\n",
    "#using NearestNeighbors # Can't use KDtree in julia for posterior prediction"
   ]
  },
  {
   "cell_type": "code",
   "execution_count": 2,
   "metadata": {},
   "outputs": [
    {
     "data": {
      "text/plain": [
       "18.924705505371094"
      ]
     },
     "execution_count": 2,
     "metadata": {},
     "output_type": "execute_result"
    }
   ],
   "source": [
    "Sys.free_memory()/(2^20*1024)"
   ]
  },
  {
   "cell_type": "code",
   "execution_count": 3,
   "metadata": {},
   "outputs": [],
   "source": [
    "#using Pkg\n",
    "#Pkg.add(\"RData\")"
   ]
  },
  {
   "cell_type": "code",
   "execution_count": 4,
   "metadata": {},
   "outputs": [
    {
     "data": {
      "text/plain": [
       "colnorm (generic function with 1 method)"
      ]
     },
     "execution_count": 4,
     "metadata": {},
     "output_type": "execute_result"
    }
   ],
   "source": [
    "include(\"../../../util2.j\")"
   ]
  },
  {
   "cell_type": "code",
   "execution_count": 5,
   "metadata": {},
   "outputs": [],
   "source": [
    "# unnecessary packages #\n",
    "\n",
    "#using Pkg\n",
    "#Pkg.add(\"UnicodePlots\")\n",
    "using UnicodePlots   # check the structure of the sparse matrix\n",
    "using BenchmarkTools\n",
    "\n",
    "using StatsPlots\n",
    "using MCMCChains\n",
    "using PrettyTables\n",
    "using Dates\n",
    "using StatsBase"
   ]
  },
  {
   "cell_type": "code",
   "execution_count": 6,
   "metadata": {},
   "outputs": [],
   "source": [
    "#using Pkg\n",
    "#Pkg.add(\"StatsBase\");\n",
    "#using NearestNeighborDescent"
   ]
  },
  {
   "cell_type": "code",
   "execution_count": 7,
   "metadata": {},
   "outputs": [],
   "source": [
    "using RData\n",
    "data_cleaned = load(\"../../data/rawdata/cleaned_data2_expanded.RData\", convert = true)[\"data_cleaned2\"];"
   ]
  },
  {
   "cell_type": "code",
   "execution_count": 10,
   "metadata": {},
   "outputs": [
    {
     "data": {
      "text/plain": [
       "(3115934, 28)"
      ]
     },
     "execution_count": 10,
     "metadata": {},
     "output_type": "execute_result"
    }
   ],
   "source": [
    "size(data_cleaned)"
   ]
  },
  {
   "cell_type": "code",
   "execution_count": 11,
   "metadata": {},
   "outputs": [
    {
     "data": {
      "text/plain": [
       "Dict{Float64,Int64} with 7 entries:\n",
       "  7.0 => 253060\n",
       "  4.0 => 93157\n",
       "  2.0 => 25572\n",
       "  5.0 => 83245\n",
       "  8.0 => 9496\n",
       "  6.0 => 904677\n",
       "  1.0 => 1746727"
      ]
     },
     "execution_count": 11,
     "metadata": {},
     "output_type": "execute_result"
    }
   ],
   "source": [
    "countmap(data_cleaned.LC_Type4)"
   ]
  },
  {
   "cell_type": "code",
   "execution_count": 13,
   "metadata": {},
   "outputs": [],
   "source": [
    "hold_index_set = load(\"../../data/rawdata/hold_index_expanded.RData\", convert = true);"
   ]
  },
  {
   "cell_type": "code",
   "execution_count": 14,
   "metadata": {},
   "outputs": [],
   "source": [
    "U_indx = sort(intersect(hold_index_set[\"hold_ind1\"], hold_index_set[\"hold_ind2\"]));\n",
    "N = size(data_cleaned)[1];\n",
    "S_indx = setdiff(1:N, U_indx);"
   ]
  },
  {
   "cell_type": "code",
   "execution_count": 15,
   "metadata": {},
   "outputs": [],
   "source": [
    "# coordinate:\n",
    "coords = [data_cleaned.scaled_x[S_indx] data_cleaned.scaled_y[S_indx]];\n",
    "coords_pred = [data_cleaned.scaled_x[U_indx] data_cleaned.scaled_y[U_indx]];\n",
    "n = size(coords)[1]; m = 10;"
   ]
  },
  {
   "cell_type": "code",
   "execution_count": 16,
   "metadata": {},
   "outputs": [],
   "source": [
    "#@load \"../../data/conj_data/conj_data.jld\""
   ]
  },
  {
   "cell_type": "code",
   "execution_count": 17,
   "metadata": {},
   "outputs": [
    {
     "data": {
      "text/plain": [
       "\"00:21:16\""
      ]
     },
     "execution_count": 17,
     "metadata": {},
     "output_type": "execute_result"
    }
   ],
   "source": [
    "Dates.format(now(), \"HH:MM:SS\")  "
   ]
  },
  {
   "cell_type": "code",
   "execution_count": 18,
   "metadata": {},
   "outputs": [],
   "source": [
    "# build neighbors #\n",
    "m = 10;                                                       # number of nearest neighbor                       \n",
    "NN = BuildNN(coords, m, 1.0, 0.0);                       # build nearest neighbor \n",
    "nnIndx_col = vcat(NN.nnIndx, 1:n);                            # the index of columns\n",
    "nnIndx_row = zeros(Int64, 0);                                               \n",
    "for i in 2:m\n",
    "    nnIndx_row = vcat(nnIndx_row, fill(i, i-1))\n",
    "end\n",
    "nnIndx_row = vcat(nnIndx_row, repeat((m + 1):n, inner = m), 1:n);  # the index of rows"
   ]
  },
  {
   "cell_type": "code",
   "execution_count": 19,
   "metadata": {},
   "outputs": [
    {
     "data": {
      "text/plain": [
       "\"05:45:33\""
      ]
     },
     "execution_count": 19,
     "metadata": {},
     "output_type": "execute_result"
    }
   ],
   "source": [
    "Dates.format(now(), \"HH:MM:SS\")  "
   ]
  },
  {
   "cell_type": "code",
   "execution_count": 20,
   "metadata": {},
   "outputs": [],
   "source": [
    "# construct Atilde Dtilde #\n",
    "\n",
    "using RCall\n",
    "@rput coords\n",
    "@rput coords_pred\n",
    "@rput m\n",
    "R\"\"\"\n",
    "library(\"RANN\")\n",
    "nn_mod_ho <- nn2(coords, coords_pred, k = m)\n",
    "\"\"\"\n",
    "@rget nn_mod_ho\n",
    "NM = size(coords_pred)[1];\n",
    "MnnIndxLU = collect(1:m:(NM * m + 1));\n",
    "MnnIndx = vec(nn_mod_ho[:nn_idx]');\n",
    "Mnndists = vec(nn_mod_ho[:nn_dists]');"
   ]
  },
  {
   "cell_type": "code",
   "execution_count": 21,
   "metadata": {},
   "outputs": [
    {
     "data": {
      "text/plain": [
       "\"05:45:44\""
      ]
     },
     "execution_count": 21,
     "metadata": {},
     "output_type": "execute_result"
    }
   ],
   "source": [
    "Dates.format(now(), \"HH:MM:SS\")  "
   ]
  },
  {
   "cell_type": "code",
   "execution_count": 22,
   "metadata": {},
   "outputs": [
    {
     "data": {
      "text/plain": [
       "\"05:45:46\""
      ]
     },
     "execution_count": 22,
     "metadata": {},
     "output_type": "execute_result"
    }
   ],
   "source": [
    "Dates.format(now(), \"HH:MM:SS\")  "
   ]
  },
  {
   "cell_type": "code",
   "execution_count": 23,
   "metadata": {},
   "outputs": [],
   "source": [
    "# cross-validation Preparison\n",
    "# (a) Randomly split 1:n into K folder \n",
    "Random.seed!(321);\n",
    "kf = 5;\n",
    "parts = kfoldperm(n,kf);\n",
    "parts_train = [sort(setdiff(1:n, parts[i])) for i in 1:kf];\n",
    "parts_test = [sort(parts[i]) for i in 1:kf];\n",
    "\n",
    "# (b) Build NN index for training data in ith folder\n",
    "using RCall\n",
    "CVNN_train = Array{Any,1}(undef, kf);\n",
    "CVNN_test = Array{Any,1}(undef, kf);\n",
    "CVnnIndx_col = Array{Any,1}(undef, kf);\n",
    "CVnnIndx_row = Array{Any,1}(undef, kf);\n",
    "CVMnnIndxLU = Array{Any,1}(undef, kf); \n",
    "CVMnnIndx = Array{Any,1}(undef, kf);\n",
    "CVMnndists = Array{Any,1}(undef, kf);\n",
    "\n",
    "@rput coords\n",
    "@rput S_indx\n",
    "@rput m\n",
    "@rput parts_train\n",
    "@rput parts_test\n",
    "\n",
    "for i in 1:kf\n",
    "    \n",
    "    # Build NN index for training data in ith folder\n",
    "    CVNN_train[i] = BuildNN(coords[parts_train[i], :], m, 1.0);\n",
    "    CVnnIndx_col[i] = vcat(CVNN_train[i].nnIndx, 1:(n - length(parts[i])));\n",
    "    CVnnIndx_row[i] = zeros(Int64, 0);\n",
    "    for j in 2:m\n",
    "        CVnnIndx_row[i] = vcat(CVnnIndx_row[i], fill(j, j-1));\n",
    "    end\n",
    "    CVnnIndx_row[i] = vcat(CVnnIndx_row[i], \n",
    "        repeat((m + 1):(n - length(parts[i])), inner = m), 1:(n - length(parts[i])));\n",
    "        \n",
    "    # Build nearest neighbor index for holdout locations\n",
    "    @rput i\n",
    "    R\"\"\"\n",
    "    library(\"RANN\")\n",
    "    nn_mod_ho <- nn2(coords[parts_train[[i]], ], coords[parts_test[[i]], ], k = m)\n",
    "    \"\"\"\n",
    "    @rget nn_mod_ho\n",
    "    CVNN_test[i] = nn_mod_ho;\n",
    "    CVMnnIndxLU[i] = collect(1:m:(length(parts[i]) * m + 1));\n",
    "    CVMnnIndx[i] = vec(nn_mod_ho[:nn_idx]');\n",
    "    CVMnndists[i] = vec(nn_mod_ho[:nn_dists]');\n",
    "end   \n"
   ]
  },
  {
   "cell_type": "code",
   "execution_count": 24,
   "metadata": {},
   "outputs": [
    {
     "data": {
      "text/plain": [
       "\"23:07:17\""
      ]
     },
     "execution_count": 24,
     "metadata": {},
     "output_type": "execute_result"
    }
   ],
   "source": [
    "Dates.format(now(), \"HH:MM:SS\")  "
   ]
  },
  {
   "cell_type": "code",
   "execution_count": 26,
   "metadata": {},
   "outputs": [],
   "source": [
    "@save \"../../data/conj_data/conj_data_expanded.jld\" U_indx S_indx N n m NN nnIndx_col nnIndx_row NM MnnIndxLU MnnIndx Mnndists coords coords_pred CVNN_train CVnnIndx_col CVnnIndx_row CVNN_test CVMnnIndxLU CVMnnIndx CVMnndists parts_train parts_test kf"
   ]
  },
  {
   "cell_type": "code",
   "execution_count": null,
   "metadata": {},
   "outputs": [],
   "source": []
  }
 ],
 "metadata": {
  "kernelspec": {
   "display_name": "Julia 1.2.0",
   "language": "julia",
   "name": "julia-1.2"
  },
  "language_info": {
   "file_extension": ".jl",
   "mimetype": "application/julia",
   "name": "julia",
   "version": "1.2.0"
  }
 },
 "nbformat": 4,
 "nbformat_minor": 2
}
