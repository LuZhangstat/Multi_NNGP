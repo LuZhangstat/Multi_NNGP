{
 "cells": [
  {
   "cell_type": "code",
   "execution_count": 1,
   "metadata": {},
   "outputs": [],
   "source": [
    "# necessary packages #\n",
    "\n",
    "#using Pkg\n",
    "#Pkg.add(\"Distances\")\n",
    "using Distributions\n",
    "using Random\n",
    "using Distances\n",
    "using LinearAlgebra\n",
    "using SparseArrays\n",
    "using IterativeSolvers\n",
    "using ProgressMeter\n",
    "using JLD2\n",
    "using DataFrames\n",
    "#using NearestNeighbors # Can't use KDtree in julia for posterior prediction"
   ]
  },
  {
   "cell_type": "code",
   "execution_count": 2,
   "metadata": {},
   "outputs": [
    {
     "data": {
      "text/plain": [
       "20.435287475585938"
      ]
     },
     "execution_count": 2,
     "metadata": {},
     "output_type": "execute_result"
    }
   ],
   "source": [
    "Sys.free_memory()/(2^20*1024)"
   ]
  },
  {
   "cell_type": "code",
   "execution_count": 4,
   "metadata": {},
   "outputs": [
    {
     "data": {
      "text/plain": [
       "colnorm (generic function with 1 method)"
      ]
     },
     "execution_count": 4,
     "metadata": {},
     "output_type": "execute_result"
    }
   ],
   "source": [
    "include(\"../../../util2.j\")"
   ]
  },
  {
   "cell_type": "code",
   "execution_count": 5,
   "metadata": {},
   "outputs": [],
   "source": [
    "# Packages for diagnostic test #\n",
    "\n",
    "using StatsPlots\n",
    "using MCMCChains\n",
    "using PrettyTables\n",
    "using Dates\n",
    "using StatsBase"
   ]
  },
  {
   "cell_type": "code",
   "execution_count": 7,
   "metadata": {},
   "outputs": [],
   "source": [
    "using RData\n",
    "data_cleaned = load(\"../../data/rawdata/data_cleaned_small_expanded.RData\", convert = true)[\"data_cleaned_small\"];"
   ]
  },
  {
   "cell_type": "code",
   "execution_count": 8,
   "metadata": {},
   "outputs": [
    {
     "data": {
      "text/html": [
       "<table class=\"data-frame\"><thead><tr><th></th><th>variable</th><th>mean</th><th>min</th><th>median</th><th>max</th></tr><tr><th></th><th>Symbol</th><th>Float64</th><th>Float64</th><th>Float64</th><th>Float64</th></tr></thead><tbody><p>28 rows × 8 columns (omitted printing of 3 columns)</p><tr><th>1</th><td>x</td><td>-1.04265e7</td><td>-1.11193e7</td><td>-1.03937e7</td><td>-1.00078e7</td></tr><tr><th>2</th><td>y</td><td>3.83786e6</td><td>3.33608e6</td><td>3.81839e6</td><td>4.44757e6</td></tr><tr><th>3</th><td>scaled_x</td><td>0.6928</td><td>0.0</td><td>0.725548</td><td>1.11149</td></tr><tr><th>4</th><td>scaled_y</td><td>0.501779</td><td>0.0</td><td>0.482309</td><td>1.11149</td></tr><tr><th>5</th><td>NDVI</td><td>0.240122</td><td>-0.00954541</td><td>0.192437</td><td>0.666598</td></tr><tr><th>6</th><td>EVI</td><td>0.150172</td><td>-0.00400802</td><td>0.122129</td><td>0.605463</td></tr><tr><th>7</th><td>red_reflectance</td><td>0.144424</td><td>0.0047</td><td>0.1452</td><td>0.3892</td></tr><tr><th>8</th><td>NIR_reflectance</td><td>0.243485</td><td>0.0116</td><td>0.2383</td><td>0.6165</td></tr><tr><th>9</th><td>blue_reflectance</td><td>0.0752273</td><td>0.0001</td><td>0.0755</td><td>0.2</td></tr><tr><th>10</th><td>MIR_reflectance</td><td>0.224949</td><td>0.0016</td><td>0.2244</td><td>0.5788</td></tr><tr><th>11</th><td>GPP</td><td>-4.5722</td><td>-6.31997</td><td>-4.83458</td><td>-2.32688</td></tr><tr><th>12</th><td>PsnNet</td><td>-3.50599</td><td>-3.91202</td><td>-3.63629</td><td>-2.26577</td></tr><tr><th>13</th><td>view_zenith_angle</td><td>10.5129</td><td>0.03</td><td>7.16</td><td>60.0</td></tr><tr><th>14</th><td>sun_zenith_angle</td><td>28.5461</td><td>20.18</td><td>28.27</td><td>41.06</td></tr><tr><th>15</th><td>relative_azimuth_angle</td><td>59.7801</td><td>-179.91</td><td>126.24</td><td>179.91</td></tr><tr><th>16</th><td>composite_day_of_the_year</td><td>106.576</td><td>97.0</td><td>107.0</td><td>112.0</td></tr><tr><th>17</th><td>LE</td><td>4.76639</td><td>2.56495</td><td>4.76217</td><td>7.33921</td></tr><tr><th>18</th><td>ET</td><td>1.33848</td><td>-0.798508</td><td>1.335</td><td>3.91302</td></tr><tr><th>19</th><td>PLE</td><td>1.71033</td><td>1.077</td><td>1.684</td><td>2.2945</td></tr><tr><th>20</th><td>PET</td><td>5.5655</td><td>3.5</td><td>5.475</td><td>7.48</td></tr><tr><th>21</th><td>LC_Type4</td><td>3.16579</td><td>1.0</td><td>1.0</td><td>8.0</td></tr><tr><th>22</th><td>Evergreen_Needleleaf_Vegetation</td><td>0.56063</td><td>0.0</td><td>1.0</td><td>1.0</td></tr><tr><th>23</th><td>Evergreen_Broadleaf_Vegetation</td><td>0.00825588</td><td>0.0</td><td>0.0</td><td>1.0</td></tr><tr><th>24</th><td>Deciduous_Needleleaf_Vegetation</td><td>0.0</td><td>0.0</td><td>0.0</td><td>0.0</td></tr><tr><th>25</th><td>Deciduous_Broadleaf_Vegetation</td><td>0.0295039</td><td>0.0</td><td>0.0</td><td>1.0</td></tr><tr><th>26</th><td>Annual_Broadleaf_Vegetation</td><td>0.0265127</td><td>0.0</td><td>0.0</td><td>1.0</td></tr><tr><th>27</th><td>Annual_Grass_Vegetation</td><td>0.290666</td><td>0.0</td><td>0.0</td><td>1.0</td></tr><tr><th>28</th><td>Non_Vegetated_or_Builtup_Lands</td><td>0.0844314</td><td>0.0</td><td>0.0</td><td>1.0</td></tr></tbody></table>"
      ],
      "text/latex": [
       "\\begin{tabular}{r|cccccc}\n",
       "\t& variable & mean & min & median & max & \\\\\n",
       "\t\\hline\n",
       "\t& Symbol & Float64 & Float64 & Float64 & Float64 & \\\\\n",
       "\t\\hline\n",
       "\t1 & x & -1.04265e7 & -1.11193e7 & -1.03937e7 & -1.00078e7 & $\\dots$ \\\\\n",
       "\t2 & y & 3.83786e6 & 3.33608e6 & 3.81839e6 & 4.44757e6 & $\\dots$ \\\\\n",
       "\t3 & scaled\\_x & 0.6928 & 0.0 & 0.725548 & 1.11149 & $\\dots$ \\\\\n",
       "\t4 & scaled\\_y & 0.501779 & 0.0 & 0.482309 & 1.11149 & $\\dots$ \\\\\n",
       "\t5 & NDVI & 0.240122 & -0.00954541 & 0.192437 & 0.666598 & $\\dots$ \\\\\n",
       "\t6 & EVI & 0.150172 & -0.00400802 & 0.122129 & 0.605463 & $\\dots$ \\\\\n",
       "\t7 & red\\_reflectance & 0.144424 & 0.0047 & 0.1452 & 0.3892 & $\\dots$ \\\\\n",
       "\t8 & NIR\\_reflectance & 0.243485 & 0.0116 & 0.2383 & 0.6165 & $\\dots$ \\\\\n",
       "\t9 & blue\\_reflectance & 0.0752273 & 0.0001 & 0.0755 & 0.2 & $\\dots$ \\\\\n",
       "\t10 & MIR\\_reflectance & 0.224949 & 0.0016 & 0.2244 & 0.5788 & $\\dots$ \\\\\n",
       "\t11 & GPP & -4.5722 & -6.31997 & -4.83458 & -2.32688 & $\\dots$ \\\\\n",
       "\t12 & PsnNet & -3.50599 & -3.91202 & -3.63629 & -2.26577 & $\\dots$ \\\\\n",
       "\t13 & view\\_zenith\\_angle & 10.5129 & 0.03 & 7.16 & 60.0 & $\\dots$ \\\\\n",
       "\t14 & sun\\_zenith\\_angle & 28.5461 & 20.18 & 28.27 & 41.06 & $\\dots$ \\\\\n",
       "\t15 & relative\\_azimuth\\_angle & 59.7801 & -179.91 & 126.24 & 179.91 & $\\dots$ \\\\\n",
       "\t16 & composite\\_day\\_of\\_the\\_year & 106.576 & 97.0 & 107.0 & 112.0 & $\\dots$ \\\\\n",
       "\t17 & LE & 4.76639 & 2.56495 & 4.76217 & 7.33921 & $\\dots$ \\\\\n",
       "\t18 & ET & 1.33848 & -0.798508 & 1.335 & 3.91302 & $\\dots$ \\\\\n",
       "\t19 & PLE & 1.71033 & 1.077 & 1.684 & 2.2945 & $\\dots$ \\\\\n",
       "\t20 & PET & 5.5655 & 3.5 & 5.475 & 7.48 & $\\dots$ \\\\\n",
       "\t21 & LC\\_Type4 & 3.16579 & 1.0 & 1.0 & 8.0 & $\\dots$ \\\\\n",
       "\t22 & Evergreen\\_Needleleaf\\_Vegetation & 0.56063 & 0.0 & 1.0 & 1.0 & $\\dots$ \\\\\n",
       "\t23 & Evergreen\\_Broadleaf\\_Vegetation & 0.00825588 & 0.0 & 0.0 & 1.0 & $\\dots$ \\\\\n",
       "\t24 & Deciduous\\_Needleleaf\\_Vegetation & 0.0 & 0.0 & 0.0 & 0.0 & $\\dots$ \\\\\n",
       "\t25 & Deciduous\\_Broadleaf\\_Vegetation & 0.0295039 & 0.0 & 0.0 & 1.0 & $\\dots$ \\\\\n",
       "\t26 & Annual\\_Broadleaf\\_Vegetation & 0.0265127 & 0.0 & 0.0 & 1.0 & $\\dots$ \\\\\n",
       "\t27 & Annual\\_Grass\\_Vegetation & 0.290666 & 0.0 & 0.0 & 1.0 & $\\dots$ \\\\\n",
       "\t28 & Non\\_Vegetated\\_or\\_Builtup\\_Lands & 0.0844314 & 0.0 & 0.0 & 1.0 & $\\dots$ \\\\\n",
       "\\end{tabular}\n"
      ],
      "text/plain": [
       "28×8 DataFrame. Omitted printing of 5 columns\n",
       "│ Row │ variable                        │ mean       │ min         │\n",
       "│     │ \u001b[90mSymbol\u001b[39m                          │ \u001b[90mFloat64\u001b[39m    │ \u001b[90mFloat64\u001b[39m     │\n",
       "├─────┼─────────────────────────────────┼────────────┼─────────────┤\n",
       "│ 1   │ x                               │ -1.04265e7 │ -1.11193e7  │\n",
       "│ 2   │ y                               │ 3.83786e6  │ 3.33608e6   │\n",
       "│ 3   │ scaled_x                        │ 0.6928     │ 0.0         │\n",
       "│ 4   │ scaled_y                        │ 0.501779   │ 0.0         │\n",
       "│ 5   │ NDVI                            │ 0.240122   │ -0.00954541 │\n",
       "│ 6   │ EVI                             │ 0.150172   │ -0.00400802 │\n",
       "│ 7   │ red_reflectance                 │ 0.144424   │ 0.0047      │\n",
       "│ 8   │ NIR_reflectance                 │ 0.243485   │ 0.0116      │\n",
       "│ 9   │ blue_reflectance                │ 0.0752273  │ 0.0001      │\n",
       "│ 10  │ MIR_reflectance                 │ 0.224949   │ 0.0016      │\n",
       "⋮\n",
       "│ 18  │ ET                              │ 1.33848    │ -0.798508   │\n",
       "│ 19  │ PLE                             │ 1.71033    │ 1.077       │\n",
       "│ 20  │ PET                             │ 5.5655     │ 3.5         │\n",
       "│ 21  │ LC_Type4                        │ 3.16579    │ 1.0         │\n",
       "│ 22  │ Evergreen_Needleleaf_Vegetation │ 0.56063    │ 0.0         │\n",
       "│ 23  │ Evergreen_Broadleaf_Vegetation  │ 0.00825588 │ 0.0         │\n",
       "│ 24  │ Deciduous_Needleleaf_Vegetation │ 0.0        │ 0.0         │\n",
       "│ 25  │ Deciduous_Broadleaf_Vegetation  │ 0.0295039  │ 0.0         │\n",
       "│ 26  │ Annual_Broadleaf_Vegetation     │ 0.0265127  │ 0.0         │\n",
       "│ 27  │ Annual_Grass_Vegetation         │ 0.290666   │ 0.0         │\n",
       "│ 28  │ Non_Vegetated_or_Builtup_Lands  │ 0.0844314  │ 0.0         │"
      ]
     },
     "execution_count": 8,
     "metadata": {},
     "output_type": "execute_result"
    }
   ],
   "source": [
    "DataFrames.describe(data_cleaned)"
   ]
  },
  {
   "cell_type": "code",
   "execution_count": 9,
   "metadata": {},
   "outputs": [
    {
     "data": {
      "text/plain": [
       "Dict{Float64,Int64} with 7 entries:\n",
       "  7.0 => 83009\n",
       "  4.0 => 30094\n",
       "  2.0 => 8421\n",
       "  5.0 => 27043\n",
       "  8.0 => 3111\n",
       "  6.0 => 296479\n",
       "  1.0 => 571843"
      ]
     },
     "execution_count": 9,
     "metadata": {},
     "output_type": "execute_result"
    }
   ],
   "source": [
    "countmap(data_cleaned.LC_Type4)"
   ]
  },
  {
   "cell_type": "code",
   "execution_count": 10,
   "metadata": {},
   "outputs": [],
   "source": [
    "hold_index_set = load(\"../../data/rawdata/hold_index_small_expanded.RData\", convert = true);"
   ]
  },
  {
   "cell_type": "code",
   "execution_count": 11,
   "metadata": {},
   "outputs": [],
   "source": [
    "#@load \"../../data/LMC_data/Factor_LMC_data.jld\""
   ]
  },
  {
   "cell_type": "code",
   "execution_count": 12,
   "metadata": {},
   "outputs": [],
   "source": [
    "U_indx = sort(intersect(hold_index_set[\"hold_ind1\"], hold_index_set[\"hold_ind2\"], \n",
    "        hold_index_set[\"hold_ind3\"],  hold_index_set[\"hold_ind4\"],  hold_index_set[\"hold_ind5\"],\n",
    "         hold_index_set[\"hold_ind6\"],  hold_index_set[\"hold_ind7\"],  hold_index_set[\"hold_ind8\"],\n",
    "         hold_index_set[\"hold_ind9\"],  hold_index_set[\"hold_ind10\"]));\n",
    "U_ind = [hold_index_set[\"hold_ind1\"], hold_index_set[\"hold_ind2\"], \n",
    "        hold_index_set[\"hold_ind3\"],  hold_index_set[\"hold_ind4\"],  hold_index_set[\"hold_ind5\"],\n",
    "         hold_index_set[\"hold_ind6\"],  hold_index_set[\"hold_ind7\"],  hold_index_set[\"hold_ind8\"],\n",
    "         hold_index_set[\"hold_ind9\"],  hold_index_set[\"hold_ind10\"]]\n",
    "N = size(data_cleaned)[1];\n",
    "S_indx = setdiff(1:N, U_indx);\n",
    "S_ind = [sort(setdiff(1:N, U_ind[i])) for i in 1:length(U_ind)];"
   ]
  },
  {
   "cell_type": "code",
   "execution_count": 13,
   "metadata": {},
   "outputs": [],
   "source": [
    "# coordinate:\n",
    "coords = [data_cleaned.scaled_x[S_indx] data_cleaned.scaled_y[S_indx]];\n",
    "coords_pred = [data_cleaned.scaled_x[U_indx] data_cleaned.scaled_y[U_indx]];\n",
    "n = size(coords)[1]; m = 10;"
   ]
  },
  {
   "cell_type": "code",
   "execution_count": 14,
   "metadata": {},
   "outputs": [],
   "source": [
    "data_cleaned = nothing; hold_index_set = nothing; GC.gc();"
   ]
  },
  {
   "cell_type": "code",
   "execution_count": 15,
   "metadata": {},
   "outputs": [
    {
     "data": {
      "text/plain": [
       "20.163818359375"
      ]
     },
     "execution_count": 15,
     "metadata": {},
     "output_type": "execute_result"
    }
   ],
   "source": [
    "Sys.free_memory()/(2^20*1024)"
   ]
  },
  {
   "cell_type": "code",
   "execution_count": 16,
   "metadata": {},
   "outputs": [
    {
     "data": {
      "text/plain": [
       "\"00:16:23\""
      ]
     },
     "execution_count": 16,
     "metadata": {},
     "output_type": "execute_result"
    }
   ],
   "source": [
    "Dates.format(now(), \"HH:MM:SS\")  "
   ]
  },
  {
   "cell_type": "code",
   "execution_count": 17,
   "metadata": {},
   "outputs": [],
   "source": [
    "# build neighbors #\n",
    "m = 10;                                                       # number of nearest neighbor                       \n",
    "NN = BuildNN(coords, m, 1.0, 0.0);                       # build nearest neighbor \n",
    "nnIndx_col = vcat(NN.nnIndx, 1:n);                            # the index of columns\n",
    "nnIndx_row = zeros(Int64, 0);                                               \n",
    "for i in 2:m\n",
    "    nnIndx_row = vcat(nnIndx_row, fill(i, i-1))\n",
    "end\n",
    "nnIndx_row = vcat(nnIndx_row, repeat((m + 1):n, inner = m), 1:n);  # the index of rows"
   ]
  },
  {
   "cell_type": "code",
   "execution_count": 18,
   "metadata": {},
   "outputs": [
    {
     "data": {
      "text/plain": [
       "\"00:51:28\""
      ]
     },
     "execution_count": 18,
     "metadata": {},
     "output_type": "execute_result"
    }
   ],
   "source": [
    "Dates.format(now(), \"HH:MM:SS\")  "
   ]
  },
  {
   "cell_type": "code",
   "execution_count": 19,
   "metadata": {},
   "outputs": [],
   "source": [
    "# construct Atilde Dtilde #\n",
    "\n",
    "using RCall\n",
    "@rput coords\n",
    "@rput coords_pred\n",
    "@rput m\n",
    "R\"\"\"\n",
    "library(\"RANN\")\n",
    "nn_mod_ho <- nn2(coords, coords_pred, k = m)\n",
    "\"\"\"\n",
    "@rget nn_mod_ho\n",
    "NM = size(coords_pred)[1];\n",
    "MnnIndxLU = collect(1:m:(NM * m + 1));\n",
    "MnnIndx = vec(nn_mod_ho[:nn_idx]');\n",
    "Mnndists = vec(nn_mod_ho[:nn_dists]');"
   ]
  },
  {
   "cell_type": "code",
   "execution_count": 20,
   "metadata": {},
   "outputs": [
    {
     "data": {
      "text/plain": [
       "\"00:51:36\""
      ]
     },
     "execution_count": 20,
     "metadata": {},
     "output_type": "execute_result"
    }
   ],
   "source": [
    "Dates.format(now(), \"HH:MM:SS\")  "
   ]
  },
  {
   "cell_type": "code",
   "execution_count": 21,
   "metadata": {},
   "outputs": [],
   "source": [
    "@save \"../../data/LMC_data/Factor_LMC_data_expanded.jld\" U_ind S_ind U_indx S_indx N n m NN nnIndx_col nnIndx_row NM MnnIndxLU MnnIndx Mnndists coords coords_pred"
   ]
  },
  {
   "cell_type": "code",
   "execution_count": null,
   "metadata": {},
   "outputs": [],
   "source": []
  }
 ],
 "metadata": {
  "kernelspec": {
   "display_name": "Julia 1.2.0",
   "language": "julia",
   "name": "julia-1.2"
  },
  "language_info": {
   "file_extension": ".jl",
   "mimetype": "application/julia",
   "name": "julia",
   "version": "1.2.0"
  }
 },
 "nbformat": 4,
 "nbformat_minor": 2
}
