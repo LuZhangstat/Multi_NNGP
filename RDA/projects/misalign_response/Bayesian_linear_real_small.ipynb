{
 "cells": [
  {
   "cell_type": "code",
   "execution_count": 1,
   "metadata": {},
   "outputs": [],
   "source": [
    "# necessary packages #\n",
    "\n",
    "#using Pkg\n",
    "#Pkg.add(\"Distances\")\n",
    "using Distributions\n",
    "using Random\n",
    "using Distances\n",
    "using LinearAlgebra\n",
    "using SparseArrays\n",
    "using IterativeSolvers\n",
    "using ProgressMeter\n",
    "using JLD2\n",
    "using DataFrames"
   ]
  },
  {
   "cell_type": "code",
   "execution_count": 2,
   "metadata": {},
   "outputs": [
    {
     "data": {
      "text/plain": [
       "colnorm (generic function with 1 method)"
      ]
     },
     "execution_count": 2,
     "metadata": {},
     "output_type": "execute_result"
    }
   ],
   "source": [
    "include(\"../../../util2.j\")"
   ]
  },
  {
   "cell_type": "code",
   "execution_count": 3,
   "metadata": {},
   "outputs": [],
   "source": [
    "# Packages for diagnostic test #\n",
    "\n",
    "using StatsPlots\n",
    "using MCMCChains\n",
    "using PrettyTables"
   ]
  },
  {
   "cell_type": "code",
   "execution_count": 4,
   "metadata": {},
   "outputs": [
    {
     "name": "stderr",
     "output_type": "stream",
     "text": [
      "┌ Warning: type OrderedCollections.OrderedDict{Symbol,Any} does not exist in workspace; reconstructing\n",
      "└ @ JLD2 /home/lu/.julia/packages/JLD2/KjBIK/src/data.jl:1153\n"
     ]
    },
    {
     "name": "stdout",
     "output_type": "stream",
     "text": [
      "  4.067105 seconds (7.97 M allocations: 2.046 GiB, 30.51% gc time)\n"
     ]
    },
    {
     "data": {
      "text/plain": [
       "39-element Array{Symbol,1}:\n",
       " :N            \n",
       " :U_indx       \n",
       " :U_ind        \n",
       " :S_indx       \n",
       " :S_ind        \n",
       " :M_ind        \n",
       " :M            \n",
       " :R            \n",
       " :NR           \n",
       " :NS           \n",
       " :NM           \n",
       " :NU           \n",
       " :coords_total \n",
       " ⋮             \n",
       " :parts        \n",
       " :parts_train  \n",
       " :parts_test   \n",
       " :CVNN_train   \n",
       " :CVNN_test    \n",
       " :CVnnIndx_col \n",
       " :CVnnIndx_row \n",
       " :CVMnnIndxLU  \n",
       " :CVMnnIndx    \n",
       " :CVMnndists   \n",
       " :CVIndex_train\n",
       " :CVRSMPEind   "
      ]
     },
     "execution_count": 4,
     "metadata": {},
     "output_type": "execute_result"
    }
   ],
   "source": [
    "@time @load \"../../data/LMC_data/misalign_res_data.jld\""
   ]
  },
  {
   "cell_type": "code",
   "execution_count": 5,
   "metadata": {},
   "outputs": [
    {
     "name": "stdout",
     "output_type": "stream",
     "text": [
      "  9.073358 seconds (33.27 M allocations: 2.083 GiB, 9.80% gc time)\n",
      "  0.066804 seconds (49.89 k allocations: 7.060 MiB)\n"
     ]
    }
   ],
   "source": [
    "using RData\n",
    "@time data_cleaned = load(\"../../data/rawdata/data_cleaned_small_expanded.RData\", convert = true)[\"data_cleaned_small\"];\n",
    "@time hold_index_set = load(\"../../data/rawdata/hold_index_small_expanded.RData\", convert = true);"
   ]
  },
  {
   "cell_type": "code",
   "execution_count": 6,
   "metadata": {},
   "outputs": [
    {
     "data": {
      "text/html": [
       "<table class=\"data-frame\"><thead><tr><th></th><th>variable</th><th>mean</th><th>min</th><th>median</th><th>max</th></tr><tr><th></th><th>Symbol</th><th>Float64</th><th>Float64</th><th>Float64</th><th>Float64</th></tr></thead><tbody><p>28 rows × 8 columns (omitted printing of 3 columns)</p><tr><th>1</th><td>x</td><td>-1.04265e7</td><td>-1.11193e7</td><td>-1.03937e7</td><td>-1.00078e7</td></tr><tr><th>2</th><td>y</td><td>3.83786e6</td><td>3.33608e6</td><td>3.81839e6</td><td>4.44757e6</td></tr><tr><th>3</th><td>scaled_x</td><td>0.6928</td><td>0.0</td><td>0.725548</td><td>1.11149</td></tr><tr><th>4</th><td>scaled_y</td><td>0.501779</td><td>0.0</td><td>0.482309</td><td>1.11149</td></tr><tr><th>5</th><td>NDVI</td><td>0.240122</td><td>-0.00954541</td><td>0.192437</td><td>0.666598</td></tr><tr><th>6</th><td>EVI</td><td>0.150172</td><td>-0.00400802</td><td>0.122129</td><td>0.605463</td></tr><tr><th>7</th><td>red_reflectance</td><td>0.144424</td><td>0.0047</td><td>0.1452</td><td>0.3892</td></tr><tr><th>8</th><td>NIR_reflectance</td><td>0.243485</td><td>0.0116</td><td>0.2383</td><td>0.6165</td></tr><tr><th>9</th><td>blue_reflectance</td><td>0.0752273</td><td>0.0001</td><td>0.0755</td><td>0.2</td></tr><tr><th>10</th><td>MIR_reflectance</td><td>0.224949</td><td>0.0016</td><td>0.2244</td><td>0.5788</td></tr><tr><th>11</th><td>GPP</td><td>-4.5722</td><td>-6.31997</td><td>-4.83458</td><td>-2.32688</td></tr><tr><th>12</th><td>PsnNet</td><td>-3.50599</td><td>-3.91202</td><td>-3.63629</td><td>-2.26577</td></tr><tr><th>13</th><td>view_zenith_angle</td><td>10.5129</td><td>0.03</td><td>7.16</td><td>60.0</td></tr><tr><th>14</th><td>sun_zenith_angle</td><td>28.5461</td><td>20.18</td><td>28.27</td><td>41.06</td></tr><tr><th>15</th><td>relative_azimuth_angle</td><td>59.7801</td><td>-179.91</td><td>126.24</td><td>179.91</td></tr><tr><th>16</th><td>composite_day_of_the_year</td><td>106.576</td><td>97.0</td><td>107.0</td><td>112.0</td></tr><tr><th>17</th><td>LE</td><td>4.76639</td><td>2.56495</td><td>4.76217</td><td>7.33921</td></tr><tr><th>18</th><td>ET</td><td>1.33848</td><td>-0.798508</td><td>1.335</td><td>3.91302</td></tr><tr><th>19</th><td>PLE</td><td>1.71033</td><td>1.077</td><td>1.684</td><td>2.2945</td></tr><tr><th>20</th><td>PET</td><td>5.5655</td><td>3.5</td><td>5.475</td><td>7.48</td></tr><tr><th>21</th><td>LC_Type4</td><td>3.16579</td><td>1.0</td><td>1.0</td><td>8.0</td></tr><tr><th>22</th><td>Evergreen_Needleleaf_Vegetation</td><td>0.56063</td><td>0.0</td><td>1.0</td><td>1.0</td></tr><tr><th>23</th><td>Evergreen_Broadleaf_Vegetation</td><td>0.00825588</td><td>0.0</td><td>0.0</td><td>1.0</td></tr><tr><th>24</th><td>Deciduous_Needleleaf_Vegetation</td><td>0.0</td><td>0.0</td><td>0.0</td><td>0.0</td></tr><tr><th>25</th><td>Deciduous_Broadleaf_Vegetation</td><td>0.0295039</td><td>0.0</td><td>0.0</td><td>1.0</td></tr><tr><th>26</th><td>Annual_Broadleaf_Vegetation</td><td>0.0265127</td><td>0.0</td><td>0.0</td><td>1.0</td></tr><tr><th>27</th><td>Annual_Grass_Vegetation</td><td>0.290666</td><td>0.0</td><td>0.0</td><td>1.0</td></tr><tr><th>28</th><td>Non_Vegetated_or_Builtup_Lands</td><td>0.0844314</td><td>0.0</td><td>0.0</td><td>1.0</td></tr></tbody></table>"
      ],
      "text/latex": [
       "\\begin{tabular}{r|cccccc}\n",
       "\t& variable & mean & min & median & max & \\\\\n",
       "\t\\hline\n",
       "\t& Symbol & Float64 & Float64 & Float64 & Float64 & \\\\\n",
       "\t\\hline\n",
       "\t1 & x & -1.04265e7 & -1.11193e7 & -1.03937e7 & -1.00078e7 & $\\dots$ \\\\\n",
       "\t2 & y & 3.83786e6 & 3.33608e6 & 3.81839e6 & 4.44757e6 & $\\dots$ \\\\\n",
       "\t3 & scaled\\_x & 0.6928 & 0.0 & 0.725548 & 1.11149 & $\\dots$ \\\\\n",
       "\t4 & scaled\\_y & 0.501779 & 0.0 & 0.482309 & 1.11149 & $\\dots$ \\\\\n",
       "\t5 & NDVI & 0.240122 & -0.00954541 & 0.192437 & 0.666598 & $\\dots$ \\\\\n",
       "\t6 & EVI & 0.150172 & -0.00400802 & 0.122129 & 0.605463 & $\\dots$ \\\\\n",
       "\t7 & red\\_reflectance & 0.144424 & 0.0047 & 0.1452 & 0.3892 & $\\dots$ \\\\\n",
       "\t8 & NIR\\_reflectance & 0.243485 & 0.0116 & 0.2383 & 0.6165 & $\\dots$ \\\\\n",
       "\t9 & blue\\_reflectance & 0.0752273 & 0.0001 & 0.0755 & 0.2 & $\\dots$ \\\\\n",
       "\t10 & MIR\\_reflectance & 0.224949 & 0.0016 & 0.2244 & 0.5788 & $\\dots$ \\\\\n",
       "\t11 & GPP & -4.5722 & -6.31997 & -4.83458 & -2.32688 & $\\dots$ \\\\\n",
       "\t12 & PsnNet & -3.50599 & -3.91202 & -3.63629 & -2.26577 & $\\dots$ \\\\\n",
       "\t13 & view\\_zenith\\_angle & 10.5129 & 0.03 & 7.16 & 60.0 & $\\dots$ \\\\\n",
       "\t14 & sun\\_zenith\\_angle & 28.5461 & 20.18 & 28.27 & 41.06 & $\\dots$ \\\\\n",
       "\t15 & relative\\_azimuth\\_angle & 59.7801 & -179.91 & 126.24 & 179.91 & $\\dots$ \\\\\n",
       "\t16 & composite\\_day\\_of\\_the\\_year & 106.576 & 97.0 & 107.0 & 112.0 & $\\dots$ \\\\\n",
       "\t17 & LE & 4.76639 & 2.56495 & 4.76217 & 7.33921 & $\\dots$ \\\\\n",
       "\t18 & ET & 1.33848 & -0.798508 & 1.335 & 3.91302 & $\\dots$ \\\\\n",
       "\t19 & PLE & 1.71033 & 1.077 & 1.684 & 2.2945 & $\\dots$ \\\\\n",
       "\t20 & PET & 5.5655 & 3.5 & 5.475 & 7.48 & $\\dots$ \\\\\n",
       "\t21 & LC\\_Type4 & 3.16579 & 1.0 & 1.0 & 8.0 & $\\dots$ \\\\\n",
       "\t22 & Evergreen\\_Needleleaf\\_Vegetation & 0.56063 & 0.0 & 1.0 & 1.0 & $\\dots$ \\\\\n",
       "\t23 & Evergreen\\_Broadleaf\\_Vegetation & 0.00825588 & 0.0 & 0.0 & 1.0 & $\\dots$ \\\\\n",
       "\t24 & Deciduous\\_Needleleaf\\_Vegetation & 0.0 & 0.0 & 0.0 & 0.0 & $\\dots$ \\\\\n",
       "\t25 & Deciduous\\_Broadleaf\\_Vegetation & 0.0295039 & 0.0 & 0.0 & 1.0 & $\\dots$ \\\\\n",
       "\t26 & Annual\\_Broadleaf\\_Vegetation & 0.0265127 & 0.0 & 0.0 & 1.0 & $\\dots$ \\\\\n",
       "\t27 & Annual\\_Grass\\_Vegetation & 0.290666 & 0.0 & 0.0 & 1.0 & $\\dots$ \\\\\n",
       "\t28 & Non\\_Vegetated\\_or\\_Builtup\\_Lands & 0.0844314 & 0.0 & 0.0 & 1.0 & $\\dots$ \\\\\n",
       "\\end{tabular}\n"
      ],
      "text/plain": [
       "28×8 DataFrame. Omitted printing of 5 columns\n",
       "│ Row │ variable                        │ mean       │ min         │\n",
       "│     │ \u001b[90mSymbol\u001b[39m                          │ \u001b[90mFloat64\u001b[39m    │ \u001b[90mFloat64\u001b[39m     │\n",
       "├─────┼─────────────────────────────────┼────────────┼─────────────┤\n",
       "│ 1   │ x                               │ -1.04265e7 │ -1.11193e7  │\n",
       "│ 2   │ y                               │ 3.83786e6  │ 3.33608e6   │\n",
       "│ 3   │ scaled_x                        │ 0.6928     │ 0.0         │\n",
       "│ 4   │ scaled_y                        │ 0.501779   │ 0.0         │\n",
       "│ 5   │ NDVI                            │ 0.240122   │ -0.00954541 │\n",
       "│ 6   │ EVI                             │ 0.150172   │ -0.00400802 │\n",
       "│ 7   │ red_reflectance                 │ 0.144424   │ 0.0047      │\n",
       "│ 8   │ NIR_reflectance                 │ 0.243485   │ 0.0116      │\n",
       "│ 9   │ blue_reflectance                │ 0.0752273  │ 0.0001      │\n",
       "│ 10  │ MIR_reflectance                 │ 0.224949   │ 0.0016      │\n",
       "⋮\n",
       "│ 18  │ ET                              │ 1.33848    │ -0.798508   │\n",
       "│ 19  │ PLE                             │ 1.71033    │ 1.077       │\n",
       "│ 20  │ PET                             │ 5.5655     │ 3.5         │\n",
       "│ 21  │ LC_Type4                        │ 3.16579    │ 1.0         │\n",
       "│ 22  │ Evergreen_Needleleaf_Vegetation │ 0.56063    │ 0.0         │\n",
       "│ 23  │ Evergreen_Broadleaf_Vegetation  │ 0.00825588 │ 0.0         │\n",
       "│ 24  │ Deciduous_Needleleaf_Vegetation │ 0.0        │ 0.0         │\n",
       "│ 25  │ Deciduous_Broadleaf_Vegetation  │ 0.0295039  │ 0.0         │\n",
       "│ 26  │ Annual_Broadleaf_Vegetation     │ 0.0265127  │ 0.0         │\n",
       "│ 27  │ Annual_Grass_Vegetation         │ 0.290666   │ 0.0         │\n",
       "│ 28  │ Non_Vegetated_or_Builtup_Lands  │ 0.0844314  │ 0.0         │"
      ]
     },
     "execution_count": 6,
     "metadata": {},
     "output_type": "execute_result"
    }
   ],
   "source": [
    "DataFrames.describe(data_cleaned)"
   ]
  },
  {
   "cell_type": "code",
   "execution_count": 7,
   "metadata": {},
   "outputs": [],
   "source": [
    "Y_ord = convert(Matrix, data_cleaned[:, [:NDVI, :red_reflectance]]);\n",
    "X_ord = [fill(1.0, (N, 1)) convert(Matrix, data_cleaned[:, 28:28])];"
   ]
  },
  {
   "cell_type": "code",
   "execution_count": 8,
   "metadata": {},
   "outputs": [],
   "source": [
    "data_cleaned = nothing; hold_index_set = nothing; GC.gc();"
   ]
  },
  {
   "cell_type": "code",
   "execution_count": 9,
   "metadata": {},
   "outputs": [
    {
     "data": {
      "text/plain": [
       "7.097515106201172"
      ]
     },
     "execution_count": 9,
     "metadata": {},
     "output_type": "execute_result"
    }
   ],
   "source": [
    "Sys.free_memory()/(2^20*1024)"
   ]
  },
  {
   "cell_type": "code",
   "execution_count": 10,
   "metadata": {},
   "outputs": [],
   "source": [
    "# priors #\n",
    "p = 2; q = 2;\n",
    "μβ = fill(0.0, p, q); inv_Vr = spzeros(p, p); # set Vr^{-1} be zero for the simulation...\n",
    "νΣ = q + 1; ΨΣ = [[1.0 0.0]; [0.0 1.0]];\n",
    "inv_Lr = spzeros(p, p); Lμβ = inv_Lr * μβ;"
   ]
  },
  {
   "cell_type": "code",
   "execution_count": 11,
   "metadata": {},
   "outputs": [],
   "source": [
    "# using equation (12), we have\n",
    "inv_Vstar = cholesky(X_ord[R, :]'X_ord[R, :] + inv_Vr)\n",
    "μstar = inv_Vstar \\ (X_ord[R, :]'Y_ord[R, :] + inv_Vr * μβ)\n",
    "invUμstar = inv_Vstar.U * μstar;\n",
    "Ψstar = ΨΣ + Y_ord[R, :]'Y_ord[R, :] + transpose(μβ) * inv_Vr * μβ -\n",
    "    invUμstar'invUμstar;\n",
    "νstar = νΣ + length(R);\n",
    "Lstar = cholesky(inv(inv_Vstar));"
   ]
  },
  {
   "cell_type": "code",
   "execution_count": 12,
   "metadata": {},
   "outputs": [
    {
     "data": {
      "text/plain": [
       "2×2 Array{Float64,2}:\n",
       "  0.251458  0.13951  \n",
       " -0.133822  0.0603949"
      ]
     },
     "execution_count": 12,
     "metadata": {},
     "output_type": "execute_result"
    }
   ],
   "source": [
    "μstar"
   ]
  },
  {
   "cell_type": "code",
   "execution_count": 13,
   "metadata": {},
   "outputs": [],
   "source": [
    "# Preallocation for posterior samples #\n",
    "N_sam = 500;\n",
    "β_sam = Array{Float64, 3}(undef, p, q, N_sam);\n",
    "Σ_sam = Array{Float64, 3}(undef, q, q, N_sam);\n",
    "Y_U_sam = Array{Float64, 3}(undef, NU, q, N_sam);   # missing value\n",
    "Y_miss_sam1 = Array{Float64, 2}(undef, length(M_ind[1]), N_sam);\n",
    "Y_miss_sam2 = Array{Float64, 2}(undef, length(M_ind[2]), N_sam);\n",
    "cholΣ_sam = Array{Float64, 2}(undef, q, q);"
   ]
  },
  {
   "cell_type": "code",
   "execution_count": 14,
   "metadata": {},
   "outputs": [
    {
     "name": "stderr",
     "output_type": "stream",
     "text": [
      "\u001b[32mComputing initial pass...100%|██████████████████████████████████████████████████| Time: 0:00:08\u001b[39m\n"
     ]
    }
   ],
   "source": [
    "# generate the posterior samples #\n",
    "Random.seed!(123);\n",
    "prog = Progress(N_sam, 1, \"Computing initial pass...\", 50)\n",
    "for l in 1:N_sam\n",
    "    Σ_sam[:, :, l] = rand(InverseWishart(νstar, Ψstar), 1)[1];    # sample Σ\n",
    "    cholΣ_sam = cholesky(Σ_sam[:, :, l]);\n",
    "    β_sam[:, :, l] = (Lstar.L * rand(Normal(), p, q)) * \n",
    "                    cholΣ_sam.U + μstar;          # sample γ\n",
    "    Dic_diag_cond_std = Dict(2^0 => sqrt(Σ_sam[2, 2, l] - Σ_sam[2, 1, l] / \n",
    "            Σ_sam[:, :, l][1, 1] * Σ_sam[1, 2, l]), \n",
    "        2^1 => sqrt(Σ_sam[1, 1, l] - Σ_sam[1, 2, l] / Σ_sam[2, 2, l] * Σ_sam[2, 1, l]));\n",
    "    \n",
    "    Dic_diag_cond_cor = Dict(2^0 => Σ_sam[2, 1, l] / Σ_sam[1, 1, l], \n",
    "        2^1 => Σ_sam[1, 2, l] / Σ_sam[2, 2, l]);\n",
    "    \n",
    "    Y_U_sam[:, :, l] = X_ord[U_indx, :] * β_sam[:, :, l] + \n",
    "        rand(Normal(), NU, q) * cholΣ_sam.U;\n",
    "    Y_miss_sam1[:, l] = X_ord[M_ind[1], :] * β_sam[:, 1, l] + \n",
    "        (Σ_sam[1, 2, l] / Σ_sam[2, 2, l]) * (Y_ord[M_ind[1], 2] - \n",
    "        X_ord[M_ind[1], :]* β_sam[:, 2, l]) + \n",
    "    rand(Normal(0, Dic_diag_cond_std[2]), length(M_ind[1]));\n",
    "    Y_miss_sam2[:, l] = X_ord[M_ind[2], :] * β_sam[:, 2, l] + \n",
    "        (Σ_sam[2, 1, l] / Σ_sam[1, 1, l]) * (Y_ord[M_ind[2], 1] - \n",
    "        X_ord[M_ind[2], :] * β_sam[:, 1, l]) + \n",
    "    rand(Normal(0, Dic_diag_cond_std[1]), length(M_ind[2]));\n",
    "    next!(prog) # monitor the progress\n",
    "end"
   ]
  },
  {
   "cell_type": "code",
   "execution_count": 15,
   "metadata": {},
   "outputs": [],
   "source": [
    "Y_m1_pos_qt = Array{Float64, 2}(undef, length(M_ind[1]), 3);\n",
    "Y_m1_pos_mean = Array{Float64, 1}(undef, length(M_ind[1]));\n",
    "Y_m1_pos_var = Array{Float64, 1}(undef, length(M_ind[1]));\n",
    "for i in 1:length(M_ind[1])\n",
    "    Y_m1_pos_qt[i, :] = quantile(Y_miss_sam1[i, :], [0.025, 0.5, 0.975]);\n",
    "    Y_m1_pos_mean[i] = mean(Y_miss_sam1[i, :]);\n",
    "    Y_m1_pos_var[i] = var(Y_miss_sam1[i, :]);\n",
    "end\n",
    "Y_m2_pos_qt = Array{Float64, 2}(undef, length(M_ind[2]), 3);\n",
    "Y_m2_pos_mean = Array{Float64, 1}(undef, length(M_ind[2]));\n",
    "Y_m2_pos_var = Array{Float64, 1}(undef, length(M_ind[2]));\n",
    "for i in 1:length(M_ind[2])\n",
    "    Y_m2_pos_qt[i, :] = quantile(Y_miss_sam2[i, :], [0.025, 0.5, 0.975]);\n",
    "    Y_m2_pos_mean[i] = mean(Y_miss_sam2[i, :]);\n",
    "    Y_m2_pos_var[i] = var(Y_miss_sam2[i, :]);\n",
    "end\n",
    "Y_U_pos_qt = Array{Float64, 3}(undef, NU, q, 3);\n",
    "Y_U_pos_mean = Array{Float64, 2}(undef, NU, q);\n",
    "Y_U_pos_var = Array{Float64, 2}(undef, NU, q);\n",
    "for j in 1:q\n",
    "    for i in 1:NU\n",
    "        Y_U_pos_qt[i, j, :] = quantile(Y_U_sam[i, j, :], [0.025, 0.5, 0.975]);\n",
    "        Y_U_pos_mean[i, j] = mean(Y_U_sam[i, j, :]);\n",
    "        Y_U_pos_var[i, j] = var(Y_U_sam[i, j, :]);\n",
    "    end\n",
    "end"
   ]
  },
  {
   "cell_type": "code",
   "execution_count": 35,
   "metadata": {},
   "outputs": [
    {
     "data": {
      "text/plain": [
       "1×3 Array{Float64,2}:\n",
       " 0.0582  0.0281  0.0432"
      ]
     },
     "execution_count": 35,
     "metadata": {},
     "output_type": "execute_result"
    }
   ],
   "source": [
    "# calculate root mean square predictive error #\n",
    "AE = fill(0.0, 2);\n",
    "AE[1] = sum(abs.(Y_ord[U_indx, 1] - Y_U_pos_mean[:, 1]));\n",
    "AE[2] = sum(abs.(Y_ord[U_indx, 2] - Y_U_pos_mean[:, 2]));\n",
    "AE[1] = AE[1] + sum(abs.(Y_m1_pos_mean - Y_ord[M_ind[1], 1]));\n",
    "AE[2] = AE[2] + sum(abs.(Y_m2_pos_mean - Y_ord[M_ind[2], 2]));\n",
    "\n",
    "round.([(AE[1] / (NU + length(M_ind[1]))) (AE[2] / \n",
    "            (NU + length(M_ind[2]))) (sum(AE) / \n",
    "            (2 * NU + length(M_ind[1]) + length(M_ind[2])))], digits = 4)"
   ]
  },
  {
   "cell_type": "code",
   "execution_count": 36,
   "metadata": {},
   "outputs": [
    {
     "data": {
      "text/plain": [
       "1×3 Array{Float64,2}:\n",
       " 0.074  0.0359  0.0582"
      ]
     },
     "execution_count": 36,
     "metadata": {},
     "output_type": "execute_result"
    }
   ],
   "source": [
    "# calculate root mean square predictive error #\n",
    "SPE = fill(0.0, 2);\n",
    "SPE[1] = sum((Y_ord[U_indx, 1] - Y_U_pos_mean[:, 1]).^2);\n",
    "SPE[2] = sum((Y_ord[U_indx, 2] - Y_U_pos_mean[:, 2]).^2);\n",
    "SPE[1] = SPE[1] + sum((Y_m1_pos_mean - Y_ord[M_ind[1], 1]).^2);\n",
    "SPE[2] = SPE[2] + sum((Y_m2_pos_mean - Y_ord[M_ind[2], 2]).^2);\n",
    "\n",
    "round.(sqrt.([(SPE[1] / (NU + length(M_ind[1]))) (SPE[2] / \n",
    "            (NU + length(M_ind[2]))) (sum(SPE) / \n",
    "            (2 * NU + length(M_ind[1]) + length(M_ind[2])))]), digits = 4)"
   ]
  },
  {
   "cell_type": "code",
   "execution_count": 39,
   "metadata": {},
   "outputs": [
    {
     "data": {
      "text/plain": [
       "1×3 Array{Float64,2}:\n",
       " -0.0414  -0.01052  -0.02596"
      ]
     },
     "execution_count": 39,
     "metadata": {},
     "output_type": "execute_result"
    }
   ],
   "source": [
    "# CRPS\n",
    "CRPS_U = [(sqrt(Y_U_pos_var[i, j]) * ( 1 /sqrt(π) - \n",
    "        2 * pdf(Normal(), (Y_ord[U_indx[i], j] - Y_U_pos_mean[i, j]) / sqrt(Y_U_pos_var[i, j])) -\n",
    "        ((Y_ord[U_indx[i], j] - Y_U_pos_mean[i, j]) / sqrt(Y_U_pos_var[i, j])) * \n",
    "        (2* cdf(Normal(), (Y_ord[U_indx[i], j] - Y_U_pos_mean[i, j]) / sqrt(Y_U_pos_var[i, j])) - 1 )))\n",
    "        for i in 1:NU, j in 1:q];\n",
    "CRPS1 = [(sqrt(Y_m1_pos_var[i]) * ( 1 /sqrt(π) - \n",
    "        2 * pdf(Normal(), (Y_ord[M_ind[1][i], 1] - Y_m1_pos_mean[i]) / sqrt(Y_m1_pos_var[i])) -\n",
    "        ((Y_ord[M_ind[1][i], 1] - Y_m1_pos_mean[i]) / sqrt(Y_m1_pos_var[i])) * \n",
    "        (2* cdf(Normal(), (Y_ord[M_ind[1][i], 1] - Y_m1_pos_mean[i]) / sqrt(Y_m1_pos_var[i])) - 1 )))\n",
    "        for i in 1:length(M_ind[1])];\n",
    "CRPS2 = [(sqrt(Y_m2_pos_var[i]) * ( 1 /sqrt(π) - \n",
    "        2 * pdf(Normal(), (Y_ord[M_ind[2][i], 1] - Y_m2_pos_mean[i]) / sqrt(Y_m2_pos_var[i])) -\n",
    "        ((Y_ord[M_ind[2][i], 2] - Y_m2_pos_mean[i]) / sqrt(Y_m2_pos_var[i])) * \n",
    "        (2* cdf(Normal(), (Y_ord[M_ind[2][i], 2] - Y_m2_pos_mean[i]) / sqrt(Y_m2_pos_var[i])) - 1 )))\n",
    "        for i in 1:length(M_ind[2])];\n",
    "\n",
    "round.([((sum(CRPS_U[:, 1]) + sum(CRPS1))/(NU + \n",
    "            length(M_ind[1]))) ((sum(CRPS_U[:, 2]) + sum(CRPS2))/(NU + \n",
    "            length(M_ind[2]))) ((sum(CRPS_U) + sum(CRPS1) + sum(CRPS2))/(2*NU + \n",
    "            length(M_ind[1]) + length(M_ind[2])))], digits = 5)"
   ]
  },
  {
   "cell_type": "code",
   "execution_count": 29,
   "metadata": {},
   "outputs": [
    {
     "data": {
      "text/plain": [
       "1×3 Array{Float64,2}:\n",
       " 0.9526  0.9547  0.9537"
      ]
     },
     "execution_count": 29,
     "metadata": {},
     "output_type": "execute_result"
    }
   ],
   "source": [
    "# count the covarage of 95% CI #\n",
    "count = fill(0.0, 2);\n",
    "for j in 1:q\n",
    "    for i in 1:NU\n",
    "        count[j] = count[j] + \n",
    "        ((Y_U_pos_qt[i, j, 1] < Y_ord[U_indx[i], j]) && \n",
    "            (Y_U_pos_qt[i, j, 3] > Y_ord[U_indx[i], j]))\n",
    "    end\n",
    "end\n",
    "for i in 1:length(M_ind[1])\n",
    "    count[1] = count[1] + \n",
    "        ((Y_m1_pos_qt[i, 1] < Y_ord[M_ind[1][i], 1]) && \n",
    "            (Y_m1_pos_qt[i, 3] > Y_ord[M_ind[1][i], 1]))\n",
    "end\n",
    "for i in 1:length(M_ind[2])\n",
    "    count[2] = count[2] + \n",
    "        ((Y_m2_pos_qt[i, 1] < Y_ord[M_ind[2][i], 2]) && \n",
    "            (Y_m2_pos_qt[i, 3] > Y_ord[M_ind[2][i], 2]))\n",
    "end\n",
    "round.([(count[1] / (NU + length(M_ind[1]))) (count[2] / \n",
    "            (NU + length(M_ind[2]))) (sum(count) / (2 * NU + \n",
    "                length(M_ind[1]) + length(M_ind[2])))], digits = 4)"
   ]
  },
  {
   "cell_type": "code",
   "execution_count": 40,
   "metadata": {},
   "outputs": [
    {
     "data": {
      "text/plain": [
       "1×3 Array{Float64,2}:\n",
       " 0.34868  0.17283  0.26077"
      ]
     },
     "execution_count": 40,
     "metadata": {},
     "output_type": "execute_result"
    }
   ],
   "source": [
    "#INT\n",
    "INT_U = [((Y_U_pos_qt[i, j, 3] - Y_U_pos_qt[i, j, 1]) + \n",
    "    (2 / 0.05)*(Y_U_pos_qt[i, j, 1] - Y_ord[U_indx[i], j]) * (Y_ord[U_indx[i], j] < Y_U_pos_qt[i, j, 1]) + \n",
    "    (2 / 0.05)*(Y_ord[U_indx[i], j] - Y_U_pos_qt[i, j, 3]) * (Y_ord[U_indx[i], j] > Y_U_pos_qt[i, j, 3]))\n",
    "    for i in 1:NU, j in 1:q];\n",
    "INT1 = [((Y_m1_pos_qt[i, 3] - Y_m1_pos_qt[i, 1]) + \n",
    "    (2 / 0.05)*(Y_m1_pos_qt[i, 1] - Y_ord[M_ind[1][i], 1]) * (Y_ord[M_ind[1][i], 1] < Y_m1_pos_qt[i, 1]) + \n",
    "    (2 / 0.05)*(Y_ord[M_ind[1][i], 1] - Y_m1_pos_qt[i, 3]) * (Y_ord[M_ind[1][i], 1] > Y_m1_pos_qt[i, 3]))\n",
    "    for i in 1:length(M_ind[1])];\n",
    "INT2 = [((Y_m2_pos_qt[i, 3] - Y_m2_pos_qt[i, 1]) + \n",
    "    (2 / 0.05)*(Y_m2_pos_qt[i, 1] - Y_ord[M_ind[2][i], 2]) * (Y_ord[M_ind[2][i], 2] < Y_m2_pos_qt[i, 1]) + \n",
    "    (2 / 0.05)*(Y_ord[M_ind[2][i], 2] - Y_m2_pos_qt[i, 3]) * (Y_ord[M_ind[2][i], 2] > Y_m2_pos_qt[i, 3]))\n",
    "    for i in 1:length(M_ind[2])];\n",
    "\n",
    "\n",
    "round.([((sum(INT_U[:, 1]) + sum(INT1))/(NU + \n",
    "            length(M_ind[1]))) ((sum(INT_U[:, 2]) + sum(INT2))/(NU + \n",
    "            length(M_ind[2]))) ((sum(INT_U) + sum(INT1) + sum(INT2))/(2*NU + \n",
    "            length(M_ind[1]) + length(M_ind[2])))], digits = 5)"
   ]
  },
  {
   "cell_type": "code",
   "execution_count": 27,
   "metadata": {},
   "outputs": [
    {
     "name": "stdout",
     "output_type": "stream",
     "text": [
      "|\u001b[0m\u001b[1m         \u001b[0m|\u001b[0m\u001b[1m      mean \u001b[0m|\u001b[0m\u001b[1m    median \u001b[0m|\u001b[0m\u001b[1m      2.5% \u001b[0m|\u001b[0m\u001b[1m     97.5% \u001b[0m|\u001b[0m\n",
      "|\u001b[0m---------\u001b[0m|\u001b[0m-----------\u001b[0m|\u001b[0m-----------\u001b[0m|\u001b[0m-----------\u001b[0m|\u001b[0m-----------\u001b[0m|\u001b[0m\n",
      "|\u001b[0m β[1, 1] \u001b[0m|\u001b[0m  0.251463 \u001b[0m|\u001b[0m  0.251457 \u001b[0m|\u001b[0m  0.251173 \u001b[0m|\u001b[0m  0.251762 \u001b[0m|\u001b[0m\n",
      "|\u001b[0m β[1, 2] \u001b[0m|\u001b[0m   0.13951 \u001b[0m|\u001b[0m  0.139511 \u001b[0m|\u001b[0m  0.139371 \u001b[0m|\u001b[0m  0.139655 \u001b[0m|\u001b[0m\n",
      "|\u001b[0m β[2, 1] \u001b[0m|\u001b[0m -0.133849 \u001b[0m|\u001b[0m -0.133846 \u001b[0m|\u001b[0m -0.134853 \u001b[0m|\u001b[0m -0.132716 \u001b[0m|\u001b[0m\n",
      "|\u001b[0m β[2, 2] \u001b[0m|\u001b[0m  0.060392 \u001b[0m|\u001b[0m  0.060399 \u001b[0m|\u001b[0m  0.059889 \u001b[0m|\u001b[0m  0.060899 \u001b[0m|\u001b[0m\n",
      "|\u001b[0m Σ[1, 1] \u001b[0m|\u001b[0m  0.015991 \u001b[0m|\u001b[0m   0.01599 \u001b[0m|\u001b[0m  0.015945 \u001b[0m|\u001b[0m  0.016039 \u001b[0m|\u001b[0m\n",
      "|\u001b[0m Σ[1, 2] \u001b[0m|\u001b[0m -0.006494 \u001b[0m|\u001b[0m -0.006494 \u001b[0m|\u001b[0m -0.006515 \u001b[0m|\u001b[0m -0.006474 \u001b[0m|\u001b[0m\n",
      "|\u001b[0m Σ[2, 2] \u001b[0m|\u001b[0m  0.003657 \u001b[0m|\u001b[0m  0.003657 \u001b[0m|\u001b[0m  0.003647 \u001b[0m|\u001b[0m  0.003668 \u001b[0m|\u001b[0m\n"
     ]
    }
   ],
   "source": [
    "N_Inf_burn = 1;\n",
    "summary_table = Array{Float64, 2}(undef, 7, 4);\n",
    "summary_table[1, :] = vcat(mean(β_sam[1, 1, N_Inf_burn:N_sam]),\n",
    "    quantile(β_sam[1, 1, N_Inf_burn:N_sam], [0.5, 0.025, 0.975]));\n",
    "summary_table[2, :] = vcat(mean(β_sam[1, 2, N_Inf_burn:N_sam]),\n",
    "    quantile(β_sam[1, 2, N_Inf_burn:N_sam], [0.5, 0.025, 0.975]));\n",
    "summary_table[3, :] = vcat(mean(β_sam[2, 1, N_Inf_burn:N_sam]),\n",
    "    quantile(β_sam[2, 1, N_Inf_burn:N_sam], [0.5, 0.025, 0.975]));\n",
    "summary_table[4, :] = vcat(mean(β_sam[2, 2, N_Inf_burn:N_sam]),\n",
    "    quantile(β_sam[2, 2, N_Inf_burn:N_sam], [0.5, 0.025, 0.975]));\n",
    "summary_table[5, :] = vcat( mean(Σ_sam[1, 1, N_Inf_burn:N_sam]),\n",
    "    quantile(Σ_sam[1, 1, N_Inf_burn:N_sam], [0.5, 0.025, 0.975]));\n",
    "summary_table[6, :] = vcat(mean(Σ_sam[1, 2, N_Inf_burn:N_sam]),\n",
    "    quantile(Σ_sam[1, 2, N_Inf_burn:N_sam], [0.5, 0.025, 0.975]));\n",
    "summary_table[7, :] = vcat( mean(Σ_sam[2, 2, N_Inf_burn:N_sam]),\n",
    "    quantile(Σ_sam[2, 2, N_Inf_burn:N_sam], [0.5, 0.025, 0.975]));\n",
    "summary_table = round.(summary_table; digits = 6);\n",
    "rnames = [\"β[1, 1]\", \"β[1, 2]\", \"β[2, 1]\", \"β[2, 2]\", \"Σ[1, 1]\", \"Σ[1, 2]\", \"Σ[2, 2]\"];\n",
    "summary_table = [rnames summary_table];\n",
    "pretty_table(summary_table,  [\"\" \"mean\" \"median\" \"2.5%\" \"97.5%\"], markdown)"
   ]
  },
  {
   "cell_type": "code",
   "execution_count": null,
   "metadata": {},
   "outputs": [],
   "source": []
  }
 ],
 "metadata": {
  "kernelspec": {
   "display_name": "Julia 1.2.0",
   "language": "julia",
   "name": "julia-1.2"
  },
  "language_info": {
   "file_extension": ".jl",
   "mimetype": "application/julia",
   "name": "julia",
   "version": "1.2.0"
  }
 },
 "nbformat": 4,
 "nbformat_minor": 2
}
