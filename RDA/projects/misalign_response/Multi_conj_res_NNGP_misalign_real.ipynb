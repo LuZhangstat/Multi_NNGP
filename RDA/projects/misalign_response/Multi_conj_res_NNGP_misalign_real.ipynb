{
 "cells": [
  {
   "cell_type": "code",
   "execution_count": 1,
   "metadata": {},
   "outputs": [],
   "source": [
    "# necessary packages #\n",
    "#cd(\"./Documents/Github/Multi_NNGP/RDA/projects/misalign_response/\")\n",
    "#using Pkg\n",
    "#Pkg.add(\"Distances\")\n",
    "using Distributions\n",
    "using Random\n",
    "using Distances\n",
    "using LinearAlgebra\n",
    "using SparseArrays\n",
    "using IterativeSolvers\n",
    "using ProgressMeter\n",
    "using JLD2\n",
    "using DataFrames\n",
    "using Dates\n",
    "#using NearestNeighbors # Can't use KDtree in julia for posterior prediction"
   ]
  },
  {
   "cell_type": "code",
   "execution_count": 2,
   "metadata": {},
   "outputs": [
    {
     "data": {
      "text/plain": [
       "colnorm (generic function with 1 method)"
      ]
     },
     "execution_count": 2,
     "metadata": {},
     "output_type": "execute_result"
    }
   ],
   "source": [
    "include(\"../../../util2.j\")"
   ]
  },
  {
   "cell_type": "code",
   "execution_count": 3,
   "metadata": {},
   "outputs": [],
   "source": [
    "# unnecessary packages #\n",
    "\n",
    "#using Pkg\n",
    "#Pkg.add(\"UnicodePlots\")\n",
    "using UnicodePlots   # check the structure of the sparse matrix\n",
    "using BenchmarkTools\n",
    "\n",
    "using StatsPlots\n",
    "using MCMCChains\n",
    "using PrettyTables"
   ]
  },
  {
   "cell_type": "code",
   "execution_count": 4,
   "metadata": {},
   "outputs": [],
   "source": [
    "#using Pkg\n",
    "#Pkg.add(\"NearestNeighborDescent\");\n",
    "#using NearestNeighborDescent"
   ]
  },
  {
   "cell_type": "code",
   "execution_count": 5,
   "metadata": {},
   "outputs": [
    {
     "data": {
      "text/plain": [
       "20.33291244506836"
      ]
     },
     "execution_count": 5,
     "metadata": {},
     "output_type": "execute_result"
    }
   ],
   "source": [
    "Sys.free_memory()/(2^20*1024)"
   ]
  },
  {
   "cell_type": "code",
   "execution_count": 6,
   "metadata": {},
   "outputs": [
    {
     "name": "stderr",
     "output_type": "stream",
     "text": [
      "┌ Warning: type OrderedCollections.OrderedDict{Symbol,Any} does not exist in workspace; reconstructing\n",
      "└ @ JLD2 /home/lu/.julia/packages/JLD2/KjBIK/src/data.jl:1153\n"
     ]
    },
    {
     "name": "stdout",
     "output_type": "stream",
     "text": [
      " 15.175661 seconds (8.04 M allocations: 2.036 GiB, 5.99% gc time)\n"
     ]
    },
    {
     "data": {
      "text/plain": [
       "39-element Array{Symbol,1}:\n",
       " :N            \n",
       " :U_indx       \n",
       " :U_ind        \n",
       " :S_indx       \n",
       " :S_ind        \n",
       " :M_ind        \n",
       " :M            \n",
       " :R            \n",
       " :NR           \n",
       " :NS           \n",
       " :NM           \n",
       " :NU           \n",
       " :coords_total \n",
       " ⋮             \n",
       " :parts        \n",
       " :parts_train  \n",
       " :parts_test   \n",
       " :CVNN_train   \n",
       " :CVNN_test    \n",
       " :CVnnIndx_col \n",
       " :CVnnIndx_row \n",
       " :CVMnnIndxLU  \n",
       " :CVMnnIndx    \n",
       " :CVMnndists   \n",
       " :CVIndex_train\n",
       " :CVRSMPEind   "
      ]
     },
     "execution_count": 6,
     "metadata": {},
     "output_type": "execute_result"
    }
   ],
   "source": [
    "@time @load \"../../data/LMC_data/misalign_res_data.jld\""
   ]
  },
  {
   "cell_type": "code",
   "execution_count": 7,
   "metadata": {},
   "outputs": [
    {
     "name": "stdout",
     "output_type": "stream",
     "text": [
      "  9.986620 seconds (41.91 M allocations: 2.489 GiB, 2.51% gc time)\n",
      "  0.068155 seconds (55.17 k allocations: 7.249 MiB)\n"
     ]
    }
   ],
   "source": [
    "using RData\n",
    "@time data_cleaned = load(\"../../data/rawdata/data_cleaned_small_expanded.RData\", convert = true)[\"data_cleaned_small\"];\n",
    "@time hold_index_set = load(\"../../data/rawdata/hold_index_small_expanded.RData\", convert = true);"
   ]
  },
  {
   "cell_type": "code",
   "execution_count": 8,
   "metadata": {},
   "outputs": [
    {
     "data": {
      "text/html": [
       "<table class=\"data-frame\"><thead><tr><th></th><th>variable</th><th>mean</th><th>min</th><th>median</th><th>max</th></tr><tr><th></th><th>Symbol</th><th>Float64</th><th>Float64</th><th>Float64</th><th>Float64</th></tr></thead><tbody><p>28 rows × 8 columns (omitted printing of 3 columns)</p><tr><th>1</th><td>x</td><td>-1.04265e7</td><td>-1.11193e7</td><td>-1.03937e7</td><td>-1.00078e7</td></tr><tr><th>2</th><td>y</td><td>3.83786e6</td><td>3.33608e6</td><td>3.81839e6</td><td>4.44757e6</td></tr><tr><th>3</th><td>scaled_x</td><td>0.6928</td><td>0.0</td><td>0.725548</td><td>1.11149</td></tr><tr><th>4</th><td>scaled_y</td><td>0.501779</td><td>0.0</td><td>0.482309</td><td>1.11149</td></tr><tr><th>5</th><td>NDVI</td><td>0.240122</td><td>-0.00954541</td><td>0.192437</td><td>0.666598</td></tr><tr><th>6</th><td>EVI</td><td>0.150172</td><td>-0.00400802</td><td>0.122129</td><td>0.605463</td></tr><tr><th>7</th><td>red_reflectance</td><td>0.144424</td><td>0.0047</td><td>0.1452</td><td>0.3892</td></tr><tr><th>8</th><td>NIR_reflectance</td><td>0.243485</td><td>0.0116</td><td>0.2383</td><td>0.6165</td></tr><tr><th>9</th><td>blue_reflectance</td><td>0.0752273</td><td>0.0001</td><td>0.0755</td><td>0.2</td></tr><tr><th>10</th><td>MIR_reflectance</td><td>0.224949</td><td>0.0016</td><td>0.2244</td><td>0.5788</td></tr><tr><th>11</th><td>GPP</td><td>-4.5722</td><td>-6.31997</td><td>-4.83458</td><td>-2.32688</td></tr><tr><th>12</th><td>PsnNet</td><td>-3.50599</td><td>-3.91202</td><td>-3.63629</td><td>-2.26577</td></tr><tr><th>13</th><td>view_zenith_angle</td><td>10.5129</td><td>0.03</td><td>7.16</td><td>60.0</td></tr><tr><th>14</th><td>sun_zenith_angle</td><td>28.5461</td><td>20.18</td><td>28.27</td><td>41.06</td></tr><tr><th>15</th><td>relative_azimuth_angle</td><td>59.7801</td><td>-179.91</td><td>126.24</td><td>179.91</td></tr><tr><th>16</th><td>composite_day_of_the_year</td><td>106.576</td><td>97.0</td><td>107.0</td><td>112.0</td></tr><tr><th>17</th><td>LE</td><td>4.76639</td><td>2.56495</td><td>4.76217</td><td>7.33921</td></tr><tr><th>18</th><td>ET</td><td>1.33848</td><td>-0.798508</td><td>1.335</td><td>3.91302</td></tr><tr><th>19</th><td>PLE</td><td>1.71033</td><td>1.077</td><td>1.684</td><td>2.2945</td></tr><tr><th>20</th><td>PET</td><td>5.5655</td><td>3.5</td><td>5.475</td><td>7.48</td></tr><tr><th>21</th><td>LC_Type4</td><td>3.16579</td><td>1.0</td><td>1.0</td><td>8.0</td></tr><tr><th>22</th><td>Evergreen_Needleleaf_Vegetation</td><td>0.56063</td><td>0.0</td><td>1.0</td><td>1.0</td></tr><tr><th>23</th><td>Evergreen_Broadleaf_Vegetation</td><td>0.00825588</td><td>0.0</td><td>0.0</td><td>1.0</td></tr><tr><th>24</th><td>Deciduous_Needleleaf_Vegetation</td><td>0.0</td><td>0.0</td><td>0.0</td><td>0.0</td></tr><tr><th>25</th><td>Deciduous_Broadleaf_Vegetation</td><td>0.0295039</td><td>0.0</td><td>0.0</td><td>1.0</td></tr><tr><th>26</th><td>Annual_Broadleaf_Vegetation</td><td>0.0265127</td><td>0.0</td><td>0.0</td><td>1.0</td></tr><tr><th>27</th><td>Annual_Grass_Vegetation</td><td>0.290666</td><td>0.0</td><td>0.0</td><td>1.0</td></tr><tr><th>28</th><td>Non_Vegetated_or_Builtup_Lands</td><td>0.0844314</td><td>0.0</td><td>0.0</td><td>1.0</td></tr></tbody></table>"
      ],
      "text/latex": [
       "\\begin{tabular}{r|cccccc}\n",
       "\t& variable & mean & min & median & max & \\\\\n",
       "\t\\hline\n",
       "\t& Symbol & Float64 & Float64 & Float64 & Float64 & \\\\\n",
       "\t\\hline\n",
       "\t1 & x & -1.04265e7 & -1.11193e7 & -1.03937e7 & -1.00078e7 & $\\dots$ \\\\\n",
       "\t2 & y & 3.83786e6 & 3.33608e6 & 3.81839e6 & 4.44757e6 & $\\dots$ \\\\\n",
       "\t3 & scaled\\_x & 0.6928 & 0.0 & 0.725548 & 1.11149 & $\\dots$ \\\\\n",
       "\t4 & scaled\\_y & 0.501779 & 0.0 & 0.482309 & 1.11149 & $\\dots$ \\\\\n",
       "\t5 & NDVI & 0.240122 & -0.00954541 & 0.192437 & 0.666598 & $\\dots$ \\\\\n",
       "\t6 & EVI & 0.150172 & -0.00400802 & 0.122129 & 0.605463 & $\\dots$ \\\\\n",
       "\t7 & red\\_reflectance & 0.144424 & 0.0047 & 0.1452 & 0.3892 & $\\dots$ \\\\\n",
       "\t8 & NIR\\_reflectance & 0.243485 & 0.0116 & 0.2383 & 0.6165 & $\\dots$ \\\\\n",
       "\t9 & blue\\_reflectance & 0.0752273 & 0.0001 & 0.0755 & 0.2 & $\\dots$ \\\\\n",
       "\t10 & MIR\\_reflectance & 0.224949 & 0.0016 & 0.2244 & 0.5788 & $\\dots$ \\\\\n",
       "\t11 & GPP & -4.5722 & -6.31997 & -4.83458 & -2.32688 & $\\dots$ \\\\\n",
       "\t12 & PsnNet & -3.50599 & -3.91202 & -3.63629 & -2.26577 & $\\dots$ \\\\\n",
       "\t13 & view\\_zenith\\_angle & 10.5129 & 0.03 & 7.16 & 60.0 & $\\dots$ \\\\\n",
       "\t14 & sun\\_zenith\\_angle & 28.5461 & 20.18 & 28.27 & 41.06 & $\\dots$ \\\\\n",
       "\t15 & relative\\_azimuth\\_angle & 59.7801 & -179.91 & 126.24 & 179.91 & $\\dots$ \\\\\n",
       "\t16 & composite\\_day\\_of\\_the\\_year & 106.576 & 97.0 & 107.0 & 112.0 & $\\dots$ \\\\\n",
       "\t17 & LE & 4.76639 & 2.56495 & 4.76217 & 7.33921 & $\\dots$ \\\\\n",
       "\t18 & ET & 1.33848 & -0.798508 & 1.335 & 3.91302 & $\\dots$ \\\\\n",
       "\t19 & PLE & 1.71033 & 1.077 & 1.684 & 2.2945 & $\\dots$ \\\\\n",
       "\t20 & PET & 5.5655 & 3.5 & 5.475 & 7.48 & $\\dots$ \\\\\n",
       "\t21 & LC\\_Type4 & 3.16579 & 1.0 & 1.0 & 8.0 & $\\dots$ \\\\\n",
       "\t22 & Evergreen\\_Needleleaf\\_Vegetation & 0.56063 & 0.0 & 1.0 & 1.0 & $\\dots$ \\\\\n",
       "\t23 & Evergreen\\_Broadleaf\\_Vegetation & 0.00825588 & 0.0 & 0.0 & 1.0 & $\\dots$ \\\\\n",
       "\t24 & Deciduous\\_Needleleaf\\_Vegetation & 0.0 & 0.0 & 0.0 & 0.0 & $\\dots$ \\\\\n",
       "\t25 & Deciduous\\_Broadleaf\\_Vegetation & 0.0295039 & 0.0 & 0.0 & 1.0 & $\\dots$ \\\\\n",
       "\t26 & Annual\\_Broadleaf\\_Vegetation & 0.0265127 & 0.0 & 0.0 & 1.0 & $\\dots$ \\\\\n",
       "\t27 & Annual\\_Grass\\_Vegetation & 0.290666 & 0.0 & 0.0 & 1.0 & $\\dots$ \\\\\n",
       "\t28 & Non\\_Vegetated\\_or\\_Builtup\\_Lands & 0.0844314 & 0.0 & 0.0 & 1.0 & $\\dots$ \\\\\n",
       "\\end{tabular}\n"
      ],
      "text/plain": [
       "28×8 DataFrame. Omitted printing of 5 columns\n",
       "│ Row │ variable                        │ mean       │ min         │\n",
       "│     │ \u001b[90mSymbol\u001b[39m                          │ \u001b[90mFloat64\u001b[39m    │ \u001b[90mFloat64\u001b[39m     │\n",
       "├─────┼─────────────────────────────────┼────────────┼─────────────┤\n",
       "│ 1   │ x                               │ -1.04265e7 │ -1.11193e7  │\n",
       "│ 2   │ y                               │ 3.83786e6  │ 3.33608e6   │\n",
       "│ 3   │ scaled_x                        │ 0.6928     │ 0.0         │\n",
       "│ 4   │ scaled_y                        │ 0.501779   │ 0.0         │\n",
       "│ 5   │ NDVI                            │ 0.240122   │ -0.00954541 │\n",
       "│ 6   │ EVI                             │ 0.150172   │ -0.00400802 │\n",
       "│ 7   │ red_reflectance                 │ 0.144424   │ 0.0047      │\n",
       "│ 8   │ NIR_reflectance                 │ 0.243485   │ 0.0116      │\n",
       "│ 9   │ blue_reflectance                │ 0.0752273  │ 0.0001      │\n",
       "│ 10  │ MIR_reflectance                 │ 0.224949   │ 0.0016      │\n",
       "⋮\n",
       "│ 18  │ ET                              │ 1.33848    │ -0.798508   │\n",
       "│ 19  │ PLE                             │ 1.71033    │ 1.077       │\n",
       "│ 20  │ PET                             │ 5.5655     │ 3.5         │\n",
       "│ 21  │ LC_Type4                        │ 3.16579    │ 1.0         │\n",
       "│ 22  │ Evergreen_Needleleaf_Vegetation │ 0.56063    │ 0.0         │\n",
       "│ 23  │ Evergreen_Broadleaf_Vegetation  │ 0.00825588 │ 0.0         │\n",
       "│ 24  │ Deciduous_Needleleaf_Vegetation │ 0.0        │ 0.0         │\n",
       "│ 25  │ Deciduous_Broadleaf_Vegetation  │ 0.0295039  │ 0.0         │\n",
       "│ 26  │ Annual_Broadleaf_Vegetation     │ 0.0265127  │ 0.0         │\n",
       "│ 27  │ Annual_Grass_Vegetation         │ 0.290666   │ 0.0         │\n",
       "│ 28  │ Non_Vegetated_or_Builtup_Lands  │ 0.0844314  │ 0.0         │"
      ]
     },
     "execution_count": 8,
     "metadata": {},
     "output_type": "execute_result"
    }
   ],
   "source": [
    "# pick explanatory variables 12 to 24, no 16\n",
    "DataFrames.describe(data_cleaned)"
   ]
  },
  {
   "cell_type": "code",
   "execution_count": 9,
   "metadata": {},
   "outputs": [],
   "source": [
    "Y_ord = convert(Matrix, data_cleaned[:, [:NDVI, :red_reflectance]]);\n",
    "X_ord = dropzeros(sparse([fill(1.0, (N, 1)) convert(Matrix, data_cleaned[:, 28:28])]));"
   ]
  },
  {
   "cell_type": "code",
   "execution_count": 10,
   "metadata": {},
   "outputs": [],
   "source": [
    "# priors #\n",
    "p = 2; q = 2;\n",
    "μβ = fill(0.0, p, q); inv_Vr = spzeros(p, p); # set Vr^{-1} be zero for the simulation...\n",
    "νΣ = q + 1; ΨΣ = [[1.0 0.0]; [0.0 1.0]];\n",
    "inv_Lr = spzeros(p, p); Lμβ = inv_Lr * μβ;"
   ]
  },
  {
   "cell_type": "code",
   "execution_count": 19,
   "metadata": {},
   "outputs": [
    {
     "data": {
      "text/plain": [
       "20-element Array{Float64,1}:\n",
       " 0.6               \n",
       " 0.621             \n",
       " 0.642             \n",
       " 0.6629999999999999\n",
       " 0.6839999999999999\n",
       " 0.7050000000000001\n",
       " 0.726             \n",
       " 0.7469999999999999\n",
       " 0.768             \n",
       " 0.789             \n",
       " 0.8099999999999999\n",
       " 0.831             \n",
       " 0.852             \n",
       " 0.873             \n",
       " 0.894             \n",
       " 0.9149999999999999\n",
       " 0.936             \n",
       " 0.957             \n",
       " 0.978             \n",
       " 0.999             "
      ]
     },
     "execution_count": 19,
     "metadata": {},
     "output_type": "execute_result"
    }
   ],
   "source": [
    "# (a) grid of candidate value\n",
    "ϕ_grid = vcat(LinRange(3 / sqrt(2), 3 * 100 / sqrt(2), 10))\n",
    "#LinRange(3 / sqrt(2), 3 * 100 / sqrt(2), 6) LinRange(2, 86, 6)LinRange(35.6, 69.2, 6)\n",
    "α_grid = vcat(LinRange(0.6, 0.999, 20)) \n",
    "#LinRange(0.9, 0.99, 4) LinRange(0.96, 0.999, 4) "
   ]
  },
  {
   "cell_type": "code",
   "execution_count": 56,
   "metadata": {},
   "outputs": [
    {
     "data": {
      "text/plain": [
       "10-element Array{Float64,1}:\n",
       "   2.1213203435596424\n",
       "  25.455844122715707 \n",
       "  48.790367901871775 \n",
       "  72.12489168102783  \n",
       "  95.4594154601839   \n",
       " 118.79393923933998  \n",
       " 142.12846301849603  \n",
       " 165.4629867976521   \n",
       " 188.79751057680818  \n",
       " 212.13203435596424  "
      ]
     },
     "execution_count": 56,
     "metadata": {},
     "output_type": "execute_result"
    }
   ],
   "source": [
    "ϕ_grid"
   ]
  },
  {
   "cell_type": "code",
   "execution_count": 13,
   "metadata": {},
   "outputs": [
    {
     "name": "stdout",
     "output_type": "stream",
     "text": [
      "Number of threads = 4\n"
     ]
    }
   ],
   "source": [
    "using Base.Threads\n",
    "println(\"Number of threads = $(nthreads())\")"
   ]
  },
  {
   "cell_type": "code",
   "execution_count": 14,
   "metadata": {},
   "outputs": [
    {
     "data": {
      "text/plain": [
       "\"12:37:16\""
      ]
     },
     "execution_count": 14,
     "metadata": {},
     "output_type": "execute_result"
    }
   ],
   "source": [
    "Dates.format(now(), \"HH:MM:SS\") "
   ]
  },
  {
   "cell_type": "code",
   "execution_count": null,
   "metadata": {},
   "outputs": [],
   "source": [
    "# Threads.@threads for i in 1:kf\n",
    "#     print(Threads.threadid())\n",
    "# end"
   ]
  },
  {
   "cell_type": "code",
   "execution_count": null,
   "metadata": {},
   "outputs": [],
   "source": [
    "# For loop\n",
    "CVRMSPE_i = fill(0.0, length(ϕ_grid), length(α_grid), kf);\n",
    "ns = length(S_ind[1]) + length(S_ind[2]);\n",
    "prog = Progress(kf, 1, \"Computing initial pass...\", 50)\n",
    "@time Threads.@threads for i in 1:kf\n",
    "    print(Threads.threadid())\n",
    "    CVnIndx = length(CVNN_train[i].nnIndx);\n",
    "    nk = length(parts_test[i]);\n",
    "    nr = length(CVIndex_train[i]);\n",
    "    CVA = Array{Float64}(undef, CVnIndx); CVD = Array{Float64}(undef, nr);\n",
    "    CVDI_AX = []; CVDI_AY = []; CVVstar = []; CVμstar = [];\n",
    "    \n",
    "    CVAtilde = Array{Float64}(undef, nk * m); CVDtilde = Array{Float64}(undef, nk);\n",
    "    CVAtildeM = [];\n",
    "    \n",
    "@time    for j in 1:length(ϕ_grid) \n",
    "        for k in 1:length(α_grid)\n",
    "            \n",
    "            # obtain posterior estimators of beta\n",
    "            getAD_collapse(coords_total[CVIndex_train[i],:], \n",
    "                CVNN_train[i].nnIndx, CVNN_train[i].nnDist, CVNN_train[i].nnIndxLU, \n",
    "                ϕ_grid[j], 0.5, α_grid[k], CVA, CVD);\n",
    "            CVDI_AX = Diagonal(1 ./ sqrt.(CVD)) * (sparse(CVnnIndx_row[i], CVnnIndx_col[i], \n",
    "                    vcat(-CVA, ones(nr))) * X_ord[CVIndex_train[i], :]);\n",
    "            CVDI_AY = Diagonal(1 ./ sqrt.(CVD)) * (sparse(CVnnIndx_row[i], CVnnIndx_col[i], \n",
    "                    vcat(-CVA, ones(nr))) * Y_ord[CVIndex_train[i], :]);\n",
    "            CVVstar = inv(Symmetric(Matrix(CVDI_AX'CVDI_AX + inv_Vr)));\n",
    "            CVμstar = CVVstar * (CVDI_AX'CVDI_AY + inv_Vr * μβ);\n",
    "            \n",
    "            # obtain posterior predictions over holded folder\n",
    "            getAD_collapse(coords_total[CVIndex_train[i], :], CVMnnIndx[i], \n",
    "                CVMnndists[i], CVMnnIndxLU[i],  ϕ_grid[j], 0.5, α_grid[k], CVAtilde, CVDtilde)\n",
    "            CVAtildeM = sparse(repeat(1:nk, inner = m), CVMnnIndx[i], CVAtilde, nk, nr);\n",
    "            Y_hold_mean = X_ord[S_indx[parts_test[i]], :] * CVμstar + \n",
    "                CVAtildeM * (Y_ord[CVIndex_train[i], :] - X_ord[CVIndex_train[i], :] * CVμstar);\n",
    "            \n",
    "            # Calculate RMSPE over observed responses\n",
    "            for l in 1:q\n",
    "                CVRMSPE_i[j, k, i] = CVRMSPE_i[j, k, i] + mean((Y_ord[S_indx[parts_test[i]], l] - \n",
    "                        Y_hold_mean[:, l])[CVRSMPEind[i, l]].^2) * length(CVRSMPEind[i, l]) / ns;\n",
    "            end\n",
    "        end\n",
    "    end\n",
    "#    next!(prog) # monitor the progress\n",
    "end\n",
    "CVRMSPE = [sqrt(sum(CVRMSPE_i[i, j, :])) for i in 1:length(ϕ_grid), j in 1:length(α_grid)]"
   ]
  },
  {
   "cell_type": "markdown",
   "metadata": {},
   "source": [
    "25143\n",
    "\n",
    "3273.851766 seconds (14.68 G allocations: 4.612 TiB, 50.52% gc time)\n",
    "\n",
    "3278.755131 seconds (14.70 G allocations: 4.620 TiB, 50.53% gc time)\n",
    "\n",
    "3345.083753 seconds (15.00 G allocations: 4.713 TiB, 50.46% gc time)\n",
    "\n",
    "3376.256816 seconds (15.12 G allocations: 4.754 TiB, 50.37% gc time)\n",
    "\n",
    "3390.717529 seconds (15.17 G allocations: 4.768 TiB, 50.27% gc time)\n",
    "\n",
    "3391.677044 seconds (15.17 G allocations: 4.769 TiB, 50.25% gc time)\n"
   ]
  },
  {
   "cell_type": "code",
   "execution_count": 31,
   "metadata": {},
   "outputs": [
    {
     "data": {
      "text/plain": [
       "\"12:35:39\""
      ]
     },
     "execution_count": 31,
     "metadata": {},
     "output_type": "execute_result"
    }
   ],
   "source": [
    "Dates.format(now(), \"HH:MM:SS\") "
   ]
  },
  {
   "cell_type": "code",
   "execution_count": null,
   "metadata": {},
   "outputs": [],
   "source": [
    "# cross-validation for choosing delta and phi ...\n",
    "pick_ind = argmin(CVRMSPE);\n",
    "ϕ_pick = ϕ_grid[pick_ind[1]]; α_pick = α_grid[pick_ind[2]]; # alpha ranges from 0 to 1. alpha = sigma2 / (sigma2 + tau2)\n",
    "[ϕ_pick, α_pick]"
   ]
  },
  {
   "cell_type": "code",
   "execution_count": null,
   "metadata": {},
   "outputs": [],
   "source": [
    "using RCall\n",
    "@rput CVRMSPE\n",
    "@rput ϕ_grid α_grid\n",
    "R\"\"\"\n",
    "library(ggplot2)\n",
    "library(hrbrthemes)\n",
    "\n",
    "# Dummy data\n",
    "x <- round(ϕ_grid, digits = 4)\n",
    "y <- round(α_grid, digits = 6)\n",
    "data <- expand.grid(X=x, Y=y)\n",
    "trun_ind = which(CVRMSPE > 0.02570);\n",
    "CVRMSPE[trun_ind] = 0.02570 #0.021025\n",
    "data$Z <- c(CVRMSPE)#[7:19, 6:18] \n",
    "\n",
    "width <- 360*1.2\n",
    "height <- 360\n",
    "pointsize <- 16\n",
    "\n",
    "\n",
    "#png(paste(\"../../pics/conj_latent_RMSPE_map1.png\", sep = \"\"), \n",
    "#    width = width, height = height, pointsize = pointsize, family = \"Courier\")\n",
    "#par(mfrow = c(1, 1))\n",
    "# Heatmap \n",
    "ggplot(data, aes(X, Y, fill= Z)) + \n",
    "  geom_tile() +\n",
    "  scale_fill_gradient(low=\"white\", high=\"blue\") + theme_ipsum()\n",
    "#dev.off()\n",
    "\n",
    "#colnames(CVRMSPE) = round(ϕ_grid, digits = 4);\n",
    "#rownames(CVRMSPE) = α_grid;\n",
    "#heatmap(CVRMSPE, Colv = NA, Rowv = NA)\n",
    "\"\"\""
   ]
  },
  {
   "cell_type": "code",
   "execution_count": 11,
   "metadata": {},
   "outputs": [
    {
     "data": {
      "text/plain": [
       "16.487831115722656"
      ]
     },
     "execution_count": 11,
     "metadata": {},
     "output_type": "execute_result"
    }
   ],
   "source": [
    "Sys.free_memory()/(2^20*1024)"
   ]
  },
  {
   "cell_type": "code",
   "execution_count": 12,
   "metadata": {},
   "outputs": [
    {
     "data": {
      "text/plain": [
       "0.9926666666666666"
      ]
     },
     "execution_count": 12,
     "metadata": {},
     "output_type": "execute_result"
    }
   ],
   "source": [
    "ϕ_pick = 26.414213562373096 \n",
    "α_pick = 0.9926666666666666"
   ]
  },
  {
   "cell_type": "code",
   "execution_count": 13,
   "metadata": {},
   "outputs": [],
   "source": [
    "# Prepare for the log-likelihood in MH\n",
    "\n",
    "# Build μ* V* Ψ* v* for prior\n",
    "nIndx = length(NN.nnIndx);\n",
    "A = Array{Float64}(undef, nIndx); D = Array{Float64}(undef, NR);\n",
    "getAD_collapse(coords_total[R, :], NN.nnIndx, NN.nnDist, NN.nnIndxLU, ϕ_pick, 0.5, α_pick, A, D);\n",
    "DI_AX = Diagonal(1 ./ sqrt.(D)) * (sparse(nnIndx_row, nnIndx_col, vcat(-A, ones(NR))) * X_ord[R, :]);\n",
    "DI_AY = Diagonal(1 ./ sqrt.(D)) * (sparse(nnIndx_row, nnIndx_col, vcat(-A, ones(NR))) * Y_ord[R, :]);\n",
    "Vstar = inv(Symmetric(Matrix(DI_AX'DI_AX + inv_Vr)));\n",
    "μstar = Vstar * (DI_AX'DI_AY + inv_Vr * μβ);\n",
    "Lμstar = cholesky(Vstar).L \\ μstar;\n",
    "Ψstar = ΨΣ + DI_AY'DI_AY + Lμβ'Lμβ - Lμstar'Lμstar;\n",
    "νstar = νΣ + NR;\n",
    "inv_Vstar = inv(Vstar);\n",
    "logdet_Vstar = logdet(Vstar);\n",
    "#Lstar = cholesky(Vstar);\n",
    "\n",
    "# Construct AMtilde DMtilde for observations on M for updating Σ from prior Σ | YR \n",
    "AMtilde = Array{Float64}(undef, NM * m); DMtilde = Array{Float64}(undef, NM);\n",
    "getAD_collapse(coords_total[R, :], MnnIndx, Mnndists, MnnIndxLU, \n",
    "    ϕ_pick, 0.5, α_pick, AMtilde, DMtilde)\n",
    "AMtildeM = sparse(repeat(1:NM, inner = m), MnnIndx, AMtilde, NM, NR);\n",
    "\n",
    "A2tilde = Array{Float64}(undef, NU * m); D2tilde = Array{Float64}(undef, NU);\n",
    "getAD_collapse(coords_total[R, :], MnnIndx2, Mnndists2, MnnIndxLU2, \n",
    "    ϕ_pick, 0.5, α_pick, A2tilde, D2tilde)\n",
    "A2tildeM = sparse(repeat(1:NU, inner = m), MnnIndx2, A2tilde, NU, NR);\n",
    "D2tildeD = Diagonal(sqrt.(D2tilde));\n"
   ]
  },
  {
   "cell_type": "code",
   "execution_count": 14,
   "metadata": {},
   "outputs": [],
   "source": [
    "# Preallocation for posterior samples  of Σ#\n",
    "N_sam = 10000; N_burnin = Integer(trunc(N_sam * 0.75));\n",
    "Σ_sam = Array{Float64, 3}(undef, q, q, N_sam + 1);\n",
    "L_sam = Array{Float64, 3}(undef, q, q, N_sam + 1);\n",
    "A_sam = Array{Float64, 1}(undef, N_sam); # acceptance rate\n",
    "llh_sam = Array{Float64, 1}(undef, N_sam + 1); # record log-likelihood \n",
    "\n",
    "cholΣ_sam = Array{Float64, 2}(undef, q, q);\n",
    "\n",
    "#Preallocation for posterior samples of vecβ#\n",
    "vec_β_sam = Array{Float64, 2}(undef, q * p, N_sam - N_burnin);\n",
    "\n",
    "#Preallocation for posterior samples of missing value over M#\n",
    "Y_miss_sam = Array{Float64, 2}(undef, length(M_ind[1]) + length(M_ind[2]), N_sam - N_burnin);\n",
    "\n",
    "#Preallocation for posterior samples of missing value over U#\n",
    "Y_U_sam = Array{Float64, 3}(undef, NU, q, N_sam - N_burnin);\n"
   ]
  },
  {
   "cell_type": "code",
   "execution_count": 17,
   "metadata": {},
   "outputs": [],
   "source": [
    "# check the prior of Σ | YR\n",
    "Random.seed!(0);\n",
    "Σ_prior_sam = rand(InverseWishart(νstar, Ψstar), 500);\n",
    "L_prior_sam = [cholesky(Σ_prior_sam[i]).L[j] for i in 1:500, j in 1:(q * q)];\n",
    "#Σ_cor_prior_sam_trans = tan.(π / 2 * Σ_cor_prior_sam); # we update the transformed value: tan(π/2 * cor) in MH\n",
    "Σ_sam[:, :, 1] = Ψstar / (νstar - q - 1);\n",
    "L_sam[:, :, 1] = cholesky(Σ_sam[:, :, 1]).L\n",
    "scale_L = cholesky(cov(L_prior_sam[:, [1, 2, 4]]) * 2.38^2).L;"
   ]
  },
  {
   "cell_type": "code",
   "execution_count": 18,
   "metadata": {},
   "outputs": [
    {
     "data": {
      "text/plain": [
       "3×3 LowerTriangular{Float64,Array{Float64,2}}:\n",
       "  0.000352819   ⋅           ⋅         \n",
       " -0.000118615  0.00020996   ⋅         \n",
       " -1.76039e-6   9.94873e-6  0.000150364"
      ]
     },
     "execution_count": 18,
     "metadata": {},
     "output_type": "execute_result"
    }
   ],
   "source": [
    "scale_L"
   ]
  },
  {
   "cell_type": "code",
   "execution_count": 19,
   "metadata": {},
   "outputs": [],
   "source": [
    "# build H2 H1 YM_mean and vec(YM-YM_mean)\n",
    "\n",
    "M_sort = fill(0, N, q);\n",
    "M_sort[S_ind[1], 1] .= 1; M_sort[S_ind[2], 2] .= 1;\n",
    "M_sort_index = (M_sort[:, 1] * (2^0) +  M_sort[:, 2] * (2^1))[M];\n",
    "Dict_obs = Dict(2^0 => [1], 2^1 => [2], (2^0 + 2^1)=> [1, 2]);\n",
    "M_obs_index = [any(x->x==j, Dict_obs[M_sort_index[i]]) for i in 1:NM, j in 1:q];\n",
    "M_obs_index2 = [Dict_obs[M_sort_index[i]] for i in 1:NM];\n",
    "Dict_miss = Dict(2^0 => [2], 2^1 => [1], 0 => [1, 2]);\n",
    "M_miss_index = [Dict_miss[M_sort_index[i]] for i in 1:NM];\n",
    "L = sum(M_sort[M, :]); # in this case L = NM\n",
    "H1 = fill(0.0, L, q * p);\n",
    "H2 = spzeros(L, q * NR);\n",
    "vec_YM = zeros(L);\n",
    "DMl = zeros(L);\n",
    "for j in 1:q\n",
    "    H1[collect(1:L)[M_obs_index[:, j]], (j - 1) * p .+ (1:p)] = \n",
    "        X_ord[M[M_obs_index[:, j]], :];\n",
    "    H2[collect(1:L)[M_obs_index[:, j]], (j - 1) * NR .+ (1:NR)] = \n",
    "        AMtildeM[M_obs_index[:, j], :];\n",
    "    vec_YM[collect(1:L)[M_obs_index[:, j]]] = Y_ord[M[M_obs_index[:, j]], j];\n",
    "    DMl[collect(1:L)[M_obs_index[:, j]]] = DMtilde[M_obs_index[:, j]]; \n",
    "end\n",
    "H1 = H1 - H2 * kron(Diagonal(ones(q)), X_ord[R, :]);\n",
    "YM_mean = H1 * vec(μstar) + H2 * vec(Y_ord[R, :]);\n",
    "vec_YM_YM_mean = vec_YM - YM_mean;\n",
    "Ystar = vcat(vec(DI_AY), (vec_YM - H2 * vec(Y_ord[R, :])) ./ (sqrt.(DMl)), vec(Lμβ));\n",
    "Xstar = vcat(kron(Diagonal(ones(q)), DI_AX), Diagonal(1 ./ sqrt.(DMl)) * H1, kron(Diagonal(ones(q)), inv_Lr));"
   ]
  },
  {
   "cell_type": "code",
   "execution_count": 21,
   "metadata": {},
   "outputs": [
    {
     "data": {
      "text/plain": [
       "\"17:14:57\""
      ]
     },
     "execution_count": 21,
     "metadata": {},
     "output_type": "execute_result"
    }
   ],
   "source": [
    "Dates.format(now(), \"HH:MM:SS\") "
   ]
  },
  {
   "cell_type": "code",
   "execution_count": 22,
   "metadata": {},
   "outputs": [
    {
     "name": "stderr",
     "output_type": "stream",
     "text": [
      "\u001b[32mComputing initial pass...100%|██████████████████████████████████████████████████| Time: 1:02:12\u001b[39m\n"
     ]
    }
   ],
   "source": [
    "# MCMC algorithm for obtaining posterior sample of Σ#\n",
    "Random.seed!(123);\n",
    "prog = Progress(N_sam, 1, \"Computing initial pass...\", 50)\n",
    "for l in 1:N_sam\n",
    "    if l == 1\n",
    "        cholΣ_sam = cholesky(Σ_sam[:, :, l]);\n",
    "        Dic_diag = Dict(2^0 => sparse(1I, 1, 1) * (1 / (Σ_sam[:, :, l][1, 1])), \n",
    "            2^1 => sparse(1I, 1, 1) * (1 / (Σ_sam[:, :, l][2, 2])));\n",
    "        invD_ele = [x for i in 1:NM for x in (Dic_diag[M_sort_index[i]] ./ DMtilde[i])];\n",
    "        invD = sparse(1:NM, 1:NM, invD_ele);\n",
    "        invD_half = sparse(1:NM, 1:NM, sqrt.(invD_ele));\n",
    "        logdetD = -sum([log(det(Dic_diag[M_sort_index[i]] ./ DMtilde[i]))  for i in 1:NM]);\n",
    "        inv_V_prior = kron(inv(cholΣ_sam), inv_Vstar);\n",
    "        logdet_V_prior = p * logdet(cholΣ_sam) + q * logdet_Vstar;\n",
    "        invD_half_H1 = invD_half * H1;\n",
    "        chol_V_update = cholesky(Symmetric(inv_V_prior + invD_half_H1'invD_half_H1));\n",
    "        u = chol_V_update.L \\ collect(vec_YM_YM_mean'invD*H1)[1:size(chol_V_update.L)[2]];\n",
    "        llh_sam[1] = logpdf(InverseWishart(νstar, Ψstar), Σ_sam[:, :, l]) - \n",
    "            0.5 * (logdet(chol_V_update) + logdet_V_prior + logdetD + \n",
    "            norm(invD_half * vec_YM_YM_mean)^2 - norm(u)^2) +  \n",
    "        sum([(q - i + 1) * log(abs(L_sam[i, i, 1])) for i in 1:q]);\n",
    "    end\n",
    "    \n",
    "    \n",
    "    # use metropolis-hasting to update range\n",
    "    v_old = [L_sam[1, 1, l], L_sam[2, 1, l], L_sam[2, 2, l]];\n",
    "    v_new = v_old + scale_L * rand(Normal(), 3);\n",
    "    L_sam[1, 1, l + 1] = v_new[1];\n",
    "    L_sam[2, 1, l + 1] = v_new[2];\n",
    "    L_sam[2, 2, l + 1] = v_new[3];\n",
    "    L_sam[1, 2, l + 1] = 0.0;\n",
    "    Σ_sam[:, :, l + 1] = Symmetric(L_sam[:, :, l + 1] * transpose(L_sam[:, :, l + 1]));\n",
    "    cholΣ_sam = cholesky(Σ_sam[:, :, l + 1]);\n",
    "    Dic_diag = Dict(2^0 => sparse(1I, 1, 1) * (1 / (Σ_sam[:, :, l + 1][1, 1])), \n",
    "        2^1 => sparse(1I, 1, 1) * (1 / (Σ_sam[:, :, l + 1][2, 2])));\n",
    "    invD_ele = [x for i in 1:NM for x in (Dic_diag[M_sort_index[i]] ./ DMtilde[i])];\n",
    "    invD = sparse(1:NM, 1:NM, invD_ele);\n",
    "    invD_half = sparse(1:NM, 1:NM, sqrt.(invD_ele));\n",
    "    #invD = blockdiag([Dic_diag[M_sort_index[i]] ./ DMtilde[i]  for i in 1:NM ]...);\n",
    "    logdetD = - sum([log(det(Dic_diag[M_sort_index[i]] ./ DMtilde[i]))  for i in 1:NM]);\n",
    "    inv_V_prior = kron(inv(cholΣ_sam), inv_Vstar);\n",
    "    logdet_V_prior = p * logdet(cholΣ_sam) + q * logdet_Vstar;\n",
    "    invD_half_H1 = invD_half * H1;\n",
    "    chol_V_update = cholesky(Symmetric(inv_V_prior + invD_half_H1'invD_half_H1));\n",
    "    u = chol_V_update.L \\  collect(vec_YM_YM_mean'invD * H1)[1:size(chol_V_update.L)[2]];\n",
    "    llh_sam[l + 1] = logpdf(InverseWishart(νstar, Ψstar), Σ_sam[:, :, l + 1]) - \n",
    "        0.5 * (logdet(chol_V_update) + logdet_V_prior + logdetD + \n",
    "        norm(invD_half * vec_YM_YM_mean)^2 - norm(u)^2) + \n",
    "        sum([(q - i + 1) * log(abs(L_sam[i, i, l + 1])) for i in 1:q]);\n",
    "    A_sam[l] = min(exp(llh_sam[l + 1] - llh_sam[l]), 1.0); # acceptance rate\n",
    "    if rand(1)[1] > A_sam[l]\n",
    "       # Don't update\n",
    "        L_sam[:, :, l + 1] = L_sam[:, :, l]; \n",
    "        Σ_sam[:, :, l + 1] = Σ_sam[:, :, l]; \n",
    "        llh_sam[l + 1] = llh_sam[l];\n",
    "    end  \n",
    "    next!(prog) # monitor the progress\n",
    "end"
   ]
  },
  {
   "cell_type": "markdown",
   "metadata": {},
   "source": [
    "| Time: 1:02:12"
   ]
  },
  {
   "cell_type": "code",
   "execution_count": 23,
   "metadata": {},
   "outputs": [
    {
     "data": {
      "text/plain": [
       "0.1165849170589811"
      ]
     },
     "execution_count": 23,
     "metadata": {},
     "output_type": "execute_result"
    }
   ],
   "source": [
    "mean(A_sam)"
   ]
  },
  {
   "cell_type": "markdown",
   "metadata": {},
   "source": [
    "0.1165849170589811"
   ]
  },
  {
   "cell_type": "code",
   "execution_count": 24,
   "metadata": {},
   "outputs": [
    {
     "data": {
      "text/plain": [
       "1020000"
      ]
     },
     "execution_count": 24,
     "metadata": {},
     "output_type": "execute_result"
    }
   ],
   "source": [
    "N"
   ]
  },
  {
   "cell_type": "code",
   "execution_count": 27,
   "metadata": {},
   "outputs": [
    {
     "data": {
      "text/plain": [
       "816465"
      ]
     },
     "execution_count": 27,
     "metadata": {},
     "output_type": "execute_result"
    }
   ],
   "source": [
    "NR"
   ]
  },
  {
   "cell_type": "code",
   "execution_count": 26,
   "metadata": {},
   "outputs": [
    {
     "data": {
      "text/plain": [
       "22146"
      ]
     },
     "execution_count": 26,
     "metadata": {},
     "output_type": "execute_result"
    }
   ],
   "source": [
    "NU"
   ]
  },
  {
   "cell_type": "code",
   "execution_count": 28,
   "metadata": {},
   "outputs": [
    {
     "name": "stderr",
     "output_type": "stream",
     "text": [
      "\u001b[32mComputing initial pass...100%|██████████████████████████████████████████████████| Time: 1:12:39\u001b[39m\n"
     ]
    }
   ],
   "source": [
    "# generate the posterior samples of β and prediction over S with missing observations and over tested locations#\n",
    "Random.seed!(123);\n",
    "prog = Progress(N_sam - N_burnin, 1, \"Computing initial pass...\", 50)\n",
    "for l in (N_burnin + 1):N_sam\n",
    "    \n",
    "    cholΣ_sam = cholesky(Σ_sam[:, :, l]);\n",
    "    Dic_diag = Dict(2^0 => sparse(1I, 1, 1) * (1 / (Σ_sam[:, :, l][1, 1])), \n",
    "        2^1 => sparse(1I, 1, 1) * (1 / (Σ_sam[:, :, l][2, 2])), \n",
    "        (2^0 + 2^1)=> sparse(inv(cholΣ_sam)));\n",
    "    invD_ele = [x for i in 1:NM for x in (Dic_diag[M_sort_index[i]] ./ DMtilde[i])];\n",
    "    invD = sparse(1:NM, 1:NM, invD_ele);\n",
    "    inv_Vη = blockdiag(kron(Dic_diag[(2^0 + 2^1)], sparse(1I, NR, NR)), \n",
    "            invD, kron(Dic_diag[(2^0 + 2^1)], sparse(1I, p, p))); \n",
    "    invD_half = sparse(1:NM, 1:NM, sqrt.(invD_ele));\n",
    "    inv_Vη_half = blockdiag(kron(sqrt(inv(cholΣ_sam)), sparse(1I, NR, NR)), \n",
    "            invD_half, kron(sqrt(inv(cholΣ_sam)), sparse(1I, p, p))); \n",
    "    inv_Vη_half_Xstar = inv_Vη_half * Xstar;\n",
    "    chol_inv_Vβstar = cholesky(Symmetric(inv_Vη_half_Xstar'inv_Vη_half_Xstar));\n",
    "    vec_β_sam[:, l - N_burnin] = chol_inv_Vβstar.U \\ (chol_inv_Vβstar.L \\ \n",
    "        (collect(Ystar'inv_Vη*Xstar)[1:size(chol_inv_Vβstar.L)[2]]) +\n",
    "        rand(Normal(), p * q));\n",
    "    # update posterior predictions over S with missing observations\n",
    "    β_sam = reshape(vec_β_sam[:, l - N_burnin], p, q);\n",
    "    MeanYM = X_ord[M, :] * β_sam + AMtildeM * (Y_ord[R, :] - X_ord[R, :] * β_sam);\n",
    "    Dic_diag_cond_std = Dict(2^0 => sqrt(Σ_sam[2, 2, l] - Σ_sam[2, 1, l] / Σ_sam[:, :, l][1, 1] * Σ_sam[1, 2, l]), \n",
    "        2^1 => sqrt(Σ_sam[1, 1, l] - Σ_sam[1, 2, l] / Σ_sam[2, 2, l] * Σ_sam[2, 1, l]));\n",
    "    Dic_diag_cond_cor = Dict(2^0 => Σ_sam[2, 1, l] / Σ_sam[1, 1, l], \n",
    "        2^1 => Σ_sam[1, 2, l] / Σ_sam[2, 2, l]);\n",
    "    j = 1;\n",
    "    for i in 1:NM\n",
    "        Y_miss_sam[j:(j + length(M_miss_index[i]) - 1), l - N_burnin] = \n",
    "            MeanYM[i, M_miss_index[i]] + Dic_diag_cond_cor[M_sort_index[i]] *\n",
    "            (Y_ord[M[i], M_obs_index2[i]] - MeanYM[i, M_obs_index2[i]]) + \n",
    "            sqrt(DMtilde[i]) * rand(Normal(0, Dic_diag_cond_std[M_sort_index[i][1]]), 1);\n",
    "        j = j + length(M_miss_index[i]);\n",
    "    end\n",
    "    Y_U_sam[:, :, l - N_burnin] = X_ord[U_indx, :] * β_sam + A2tildeM * (Y_ord[R, :] - X_ord[R, :] * β_sam) + \n",
    "        D2tildeD * rand(Normal(), NU, q) * cholΣ_sam.U;\n",
    "    \n",
    "    next!(prog) # monitor the progress\n",
    "end"
   ]
  },
  {
   "cell_type": "markdown",
   "metadata": {},
   "source": [
    "| Time: 1:12:39"
   ]
  },
  {
   "cell_type": "code",
   "execution_count": 29,
   "metadata": {},
   "outputs": [],
   "source": [
    "Y_m_pos_qt = Array{Float64, 2}(undef, length(M_ind[1]) + length(M_ind[2]), 3);\n",
    "Y_m_pos_mean = Array{Float64, 1}(undef, length(M_ind[1]) + length(M_ind[2]));\n",
    "Y_m_pos_var = Array{Float64, 1}(undef, length(M_ind[1]) + length(M_ind[2]));\n",
    "for i in 1:(length(M_ind[1]) + length(M_ind[2]))\n",
    "    Y_m_pos_qt[i, :] = quantile(Y_miss_sam[i, 1:(N_sam - N_burnin)], [0.025, 0.5, 0.975]);\n",
    "    Y_m_pos_mean[i] = mean(Y_miss_sam[i, 1:(N_sam - N_burnin)])\n",
    "    Y_m_pos_var[i] = var(Y_miss_sam[i, 1:(N_sam - N_burnin)])\n",
    "end\n",
    "Y_U_pos_qt = Array{Float64, 3}(undef, NU, q, 3);\n",
    "Y_U_pos_mean = Array{Float64, 2}(undef, NU, q);\n",
    "Y_U_pos_var = Array{Float64, 2}(undef, NU, q);\n",
    "for j in 1:q\n",
    "    for i in 1:NU\n",
    "        Y_U_pos_qt[i, j, :] = quantile(Y_U_sam[i, j, 1:(N_sam - N_burnin)], [0.025, 0.5, 0.975]);\n",
    "        Y_U_pos_mean[i, j] = mean(Y_U_sam[i, j, 1:(N_sam - N_burnin)]);\n",
    "        Y_U_pos_var[i, j] = var(Y_U_sam[i, j, 1:(N_sam - N_burnin)]);\n",
    "    end\n",
    "end"
   ]
  },
  {
   "cell_type": "code",
   "execution_count": 30,
   "metadata": {},
   "outputs": [],
   "source": [
    "@save \"../../results/misalign_resp/misalign_resp_results.jld\" N_sam N_burnin vec_β_sam Σ_sam Y_m_pos_qt Y_m_pos_mean Y_m_pos_var Y_ord M_miss_index Y_U_pos_qt Y_U_pos_mean Y_U_pos_var ϕ_pick α_pick"
   ]
  },
  {
   "cell_type": "code",
   "execution_count": null,
   "metadata": {},
   "outputs": [],
   "source": []
  }
 ],
 "metadata": {
  "kernelspec": {
   "display_name": "Julia 1.1.0",
   "language": "julia",
   "name": "julia-1.1"
  },
  "language_info": {
   "file_extension": ".jl",
   "mimetype": "application/julia",
   "name": "julia",
   "version": "1.1.0"
  }
 },
 "nbformat": 4,
 "nbformat_minor": 2
}
