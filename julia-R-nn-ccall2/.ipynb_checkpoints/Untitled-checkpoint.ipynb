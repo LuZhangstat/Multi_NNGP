{
 "cells": [
  {
   "cell_type": "code",
   "execution_count": 1,
   "metadata": {},
   "outputs": [
    {
     "name": "stderr",
     "output_type": "stream",
     "text": [
      "┌ Warning: `convert(::Type{Array}, df::AbstractDataFrame)` is deprecated, use `convert(Matrix, df)` instead.\n",
      "│   caller = top-level scope at In[1]:2\n",
      "└ @ Core In[1]:2\n"
     ]
    },
    {
     "data": {
      "text/plain": [
       "1-element Array{Int32,1}:\n",
       " 2"
      ]
     },
     "execution_count": 1,
     "metadata": {},
     "output_type": "execute_result"
    }
   ],
   "source": [
    "using CSV\n",
    "\n",
    "coords = convert(Array, CSV.read(\"coords.csv\"))\n",
    "\n",
    "n = size(coords)[1]\n",
    "m = 5\n",
    "nThreads = 2\n",
    "\n",
    "nIndx = trunc(Cint,(1+m)/2*m+(n-m-1)*m)\n",
    "\n",
    "nnIndx = zeros(Cint, nIndx, 1)\n",
    "\n",
    "nnDist = zeros(Float64, nIndx, 1)\n",
    "\n",
    "##first of nnIndxLU column holds the nnIndx index for the i-th location and the second columns holds the number of neighbors the i-th location has (the second column is a bit of a waste but simplifies my life in the spNNGP)\n",
    "nnIndxLU = zeros(Cint, 2*n, 1)\n",
    "\n",
    "##Note I need to convert n and m to pointers only because the R example of .C wants only pointers so that's how I worte the mkNNIndx and mkNNIndxTree0\n",
    "nPtr = Cint[n]\n",
    "mPtr = Cint[m]\n",
    "nThreadsPtr = Cint[nThreads]\n",
    "\n",
    "#ccall((:mkNNIndx, \"./nn.so\"), Cvoid, (Ptr{Cint}, Ptr{Cint}, Ptr{Cdouble}, Ptr{Cint}, Ptr{Cdouble}, Ptr{Cint}), nPtr, mPtr, coords, nnIndx, nnDist, nnIndxLU)\n"
   ]
  },
  {
   "cell_type": "code",
   "execution_count": null,
   "metadata": {},
   "outputs": [],
   "source": [
    "ccall((:mkNNIndx, \"./nn.so\"), Cvoid, (Ptr{Cint}, Ptr{Cint}, Ptr{Cdouble}, Ptr{Cint}, \n",
    "        Ptr{Cdouble}, Ptr{Cint}, Ptr{Cint}), nPtr, mPtr, coords, nnIndx, nnDist, nnIndxLU, nThreadsPtr)"
   ]
  }
 ],
 "metadata": {
  "kernelspec": {
   "display_name": "Julia 1.1.0",
   "language": "julia",
   "name": "julia-1.1"
  },
  "language_info": {
   "file_extension": ".jl",
   "mimetype": "application/julia",
   "name": "julia",
   "version": "1.1.0"
  }
 },
 "nbformat": 4,
 "nbformat_minor": 2
}
