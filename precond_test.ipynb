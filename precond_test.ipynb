{
 "cells": [
  {
   "cell_type": "code",
   "execution_count": 10,
   "metadata": {},
   "outputs": [],
   "source": [
    "# necessary packages #\n",
    "\n",
    "#using Pkg\n",
    "#Pkg.add(\"Distances\")\n",
    "using Distributions\n",
    "using Random\n",
    "using Distances\n",
    "using LinearAlgebra\n",
    "using SparseArrays\n",
    "using IterativeSolvers\n",
    "using ProgressMeter\n",
    "#using NearestNeighbors # Can't use KDtree in julia for posterior prediction"
   ]
  },
  {
   "cell_type": "code",
   "execution_count": 11,
   "metadata": {},
   "outputs": [
    {
     "data": {
      "text/plain": [
       "colnorm (generic function with 1 method)"
      ]
     },
     "execution_count": 11,
     "metadata": {},
     "output_type": "execute_result"
    }
   ],
   "source": [
    "include(\"util.j\")"
   ]
  },
  {
   "cell_type": "code",
   "execution_count": 12,
   "metadata": {},
   "outputs": [],
   "source": [
    "# unnecessary packages #\n",
    "\n",
    "#using Pkg\n",
    "#Pkg.add(\"UnicodePlots\")\n",
    "using UnicodePlots   # check the structure of the sparse matrix\n",
    "using BenchmarkTools\n",
    "\n",
    "using StatsPlots\n",
    "using MCMCChains\n",
    "using PrettyTables"
   ]
  },
  {
   "cell_type": "code",
   "execution_count": 14,
   "metadata": {},
   "outputs": [],
   "source": [
    "# set parameters\n",
    "n1 = 1000\n",
    "n2 = 4000\n",
    "n3 = 8000\n",
    "n4 = 16000\n",
    "n5 = 100000\n",
    "ϕ = 8;\n",
    "δ = 1.0;\n",
    "m = 5;\n",
    "\n",
    "Random.seed!(1234);\n",
    "coords1 = rand(2, n1);\n",
    "coords2 = rand(2, n2);\n",
    "coords3 = rand(2, n3);\n",
    "coords4 = rand(2, n4);\n",
    "coords5 = rand(2, n5);\n",
    "ordx1 = sortperm(coords1[1, :]);  \n",
    "ordx2 = sortperm(coords2[1, :]); \n",
    "ordx3 = sortperm(coords3[1, :]); \n",
    "ordx4 = sortperm(coords4[1, :]); \n",
    "ordx5 = sortperm(coords5[1, :]); \n",
    "coords1 = coords1[:, ordx1];\n",
    "coords2 = coords2[:, ordx2];\n",
    "coords3 = coords3[:, ordx3];\n",
    "coords4 = coords4[:, ordx4];\n",
    "coords5 = coords5[:, ordx5];\n",
    "                                                        \n",
    "NN1 = BuildNN(coords1, m, 0)\n",
    "NN2 = BuildNN(coords2, m, 0); \n",
    "NN3 = BuildNN(coords3, m, 0); \n",
    "NN4 = BuildNN(coords4, m, 0); \n",
    "NN5 = BuildNN(coords5, m, 0); \n",
    "nnIndx_col1 = vcat(NN1.nnIndx, 1:n1);   \n",
    "nnIndx_col2 = vcat(NN2.nnIndx, 1:n2); \n",
    "nnIndx_col3 = vcat(NN3.nnIndx, 1:n3); \n",
    "nnIndx_col4 = vcat(NN4.nnIndx, 1:n4); \n",
    "nnIndx_col5 = vcat(NN5.nnIndx, 1:n5); \n",
    "nnIndx_row1 = zeros(Int64, 0);  \n",
    "nnIndx_row2 = zeros(Int64, 0); \n",
    "nnIndx_row3 = zeros(Int64, 0); \n",
    "nnIndx_row4 = zeros(Int64, 0); \n",
    "nnIndx_row5 = zeros(Int64, 0); \n",
    "for i in 2:m\n",
    "    nnIndx_row1 = vcat(nnIndx_row1, fill(i, i-1))\n",
    "    nnIndx_row2 = vcat(nnIndx_row2, fill(i, i-1))\n",
    "    nnIndx_row3 = vcat(nnIndx_row3, fill(i, i-1))\n",
    "    nnIndx_row4 = vcat(nnIndx_row4, fill(i, i-1))\n",
    "    nnIndx_row5 = vcat(nnIndx_row5, fill(i, i-1))\n",
    "end\n",
    "nnIndx_row1 = vcat(nnIndx_row1, repeat((m + 1):n1, inner = m), 1:n1);\n",
    "nnIndx_row2 = vcat(nnIndx_row2, repeat((m + 1):n2, inner = m), 1:n2);\n",
    "nnIndx_row3 = vcat(nnIndx_row3, repeat((m + 1):n3, inner = m), 1:n3);\n",
    "nnIndx_row4 = vcat(nnIndx_row4, repeat((m + 1):n4, inner = m), 1:n4);\n",
    "nnIndx_row5 = vcat(nnIndx_row5, repeat((m + 1):n5, inner = m), 1:n5);\n",
    "\n",
    "nIndx1 = length(NN1.nnIndx);\n",
    "nIndx2 = length(NN2.nnIndx);\n",
    "nIndx3 = length(NN3.nnIndx);\n",
    "nIndx4 = length(NN4.nnIndx);\n",
    "nIndx5 = length(NN5.nnIndx);\n",
    "A1 = Array{Float64}(undef, nIndx1); D1 = Array{Float64}(undef, n1);\n",
    "A2 = Array{Float64}(undef, nIndx2); D2 = Array{Float64}(undef, n2);\n",
    "A3 = Array{Float64}(undef, nIndx3); D3 = Array{Float64}(undef, n3);\n",
    "A4 = Array{Float64}(undef, nIndx4); D4 = Array{Float64}(undef, n4);\n",
    "A5 = Array{Float64}(undef, nIndx5); D5 = Array{Float64}(undef, n5);\n",
    "getAD(coords1, NN1.nnIndx, NN1.nnDist, NN1.nnIndxLU, ϕ, 0.5, A1, D1);\n",
    "getAD(coords2, NN2.nnIndx, NN2.nnDist, NN2.nnIndxLU, ϕ, 0.5, A2, D2);\n",
    "getAD(coords3, NN3.nnIndx, NN3.nnDist, NN3.nnIndxLU, ϕ, 0.5, A3, D3);\n",
    "getAD(coords4, NN4.nnIndx, NN4.nnDist, NN4.nnIndxLU, ϕ, 0.5, A4, D4);\n",
    "getAD(coords5, NN5.nnIndx, NN5.nnDist, NN5.nnIndxLU, ϕ, 0.5, A5, D5);\n",
    "\n",
    "VK1 = Diagonal(1 ./ sqrt.(D1)) * (sparse(nnIndx_row1, nnIndx_col1, vcat(-A1, ones(n1))));\n",
    "VK2 = Diagonal(1 ./ sqrt.(D2)) * (sparse(nnIndx_row2, nnIndx_col2, vcat(-A2, ones(n2))));\n",
    "VK3 = Diagonal(1 ./ sqrt.(D3)) * (sparse(nnIndx_row3, nnIndx_col3, vcat(-A3, ones(n3))));\n",
    "VK4 = Diagonal(1 ./ sqrt.(D4)) * (sparse(nnIndx_row4, nnIndx_col4, vcat(-A4, ones(n4))));\n",
    "VK5 = Diagonal(1 ./ sqrt.(D5)) * (sparse(nnIndx_row5, nnIndx_col5, vcat(-A5, ones(n5))));\n",
    "\n",
    "Xstar1 = sparse((n1 + 1):(2 * n1), 1:n1, fill(δ, n1), (2 * n1), n1)\n",
    "Xstar2 = sparse((n2 + 1):(2 * n2), 1:n2, fill(δ, n2), (2 * n2), n2)\n",
    "Xstar3 = sparse((n3 + 1):(2 * n3), 1:n3, fill(δ, n3), (2 * n3), n3)\n",
    "Xstar4 = sparse((n4 + 1):(2 * n4), 1:n4, fill(δ, n4), (2 * n4), n4)\n",
    "Xstar5 = sparse((n5 + 1):(2 * n5), 1:n5, fill(δ, n5), (2 * n5), n5)\n",
    "\n",
    "Xstar1[1:n1, 1:n1] = VK1;\n",
    "Xstar2[1:n2, 1:n2] = VK2;\n",
    "Xstar3[1:n3, 1:n3] = VK3;\n",
    "Xstar4[1:n4, 1:n4] = VK4;\n",
    "Xstar5[1:n5, 1:n5] = VK5;\n",
    "\n",
    "b = rand(Normal(), 2 * n5);"
   ]
  },
  {
   "cell_type": "code",
   "execution_count": 15,
   "metadata": {},
   "outputs": [
    {
     "name": "stdout",
     "output_type": "stream",
     "text": [
      "Converged after 46 iterations.\n",
      "Converged after 89 iterations.\n",
      "Converged after 90 iterations.\n",
      "Converged after 137 iterations.\n",
      "Converged after 282 iterations.\n"
     ]
    }
   ],
   "source": [
    "# check LSMR convergence rate\n",
    "\n",
    "tt1 = lsmr(Xstar1, b[1:(2 * n1)], log = true); println(tt1[2])\n",
    "tt2 = lsmr(Xstar2, b[1:(2 * n2)], log = true); println(tt2[2])\n",
    "tt3 = lsmr(Xstar3, b[1:(2 * n3)], log = true); println(tt3[2])\n",
    "tt4 = lsmr(Xstar4, b[1:(2 * n4)], log = true); println(tt4[2])\n",
    "tt5 = lsmr(Xstar5, b[1:(2 * n5)], log = true); println(tt5[2])\n"
   ]
  },
  {
   "cell_type": "code",
   "execution_count": 16,
   "metadata": {},
   "outputs": [
    {
     "name": "stdout",
     "output_type": "stream",
     "text": [
      "Converged after 39 iterations.\n",
      "Converged after 68 iterations.\n",
      "Converged after 66 iterations.\n",
      "Converged after 116 iterations.\n",
      "Converged after 175 iterations.\n"
     ]
    }
   ],
   "source": [
    "# check preconditioner \n",
    "CondD1 = colnorm(Xstar1);\n",
    "CondD2 = colnorm(Xstar2);\n",
    "CondD3 = colnorm(Xstar3);\n",
    "CondD4 = colnorm(Xstar4);\n",
    "CondD5 = colnorm(Xstar5);\n",
    "tt1 = lsmr(Xstar1 * Diagonal(1 ./ CondD1), b[1:(2 * n1)], log = true); println(tt1[2])\n",
    "tt2 = lsmr(Xstar2 * Diagonal(1 ./ CondD2), b[1:(2 * n2)], log = true); println(tt2[2])\n",
    "tt3 = lsmr(Xstar3 * Diagonal(1 ./ CondD3), b[1:(2 * n3)], log = true); println(tt3[2])\n",
    "tt4 = lsmr(Xstar4 * Diagonal(1 ./ CondD4), b[1:(2 * n4)], log = true); println(tt4[2])\n",
    "tt5 = lsmr(Xstar5 * Diagonal(1 ./ CondD5), b[1:(2 * n5)], log = true); println(tt5[2])"
   ]
  },
  {
   "cell_type": "code",
   "execution_count": 18,
   "metadata": {},
   "outputs": [
    {
     "name": "stdout",
     "output_type": "stream",
     "text": [
      "Converged after 39 iterations.\n",
      "Converged after 68 iterations.\n",
      "Converged after 66 iterations.\n",
      "Converged after 116 iterations.\n",
      "Converged after 175 iterations.\n"
     ]
    }
   ],
   "source": [
    "# check preconditioner \n",
    "CondD1 = colnorm(Xstar1);\n",
    "CondD2 = colnorm(Xstar2);\n",
    "CondD3 = colnorm(Xstar3);\n",
    "CondD4 = colnorm(Xstar4);\n",
    "CondD5 = colnorm(Xstar5);\n",
    "tt1 = lsmr(Xstar1 * Diagonal(1 ./ (CondD1 .* sqrt(2.0))), b[1:(2 * n1)], log = true); println(tt1[2])\n",
    "tt2 = lsmr(Xstar2 * Diagonal(1 ./ (CondD2 .* sqrt(2.0))), b[1:(2 * n2)], log = true); println(tt2[2])\n",
    "tt3 = lsmr(Xstar3 * Diagonal(1 ./ (CondD3 .* sqrt(2.0))), b[1:(2 * n3)], log = true); println(tt3[2])\n",
    "tt4 = lsmr(Xstar4 * Diagonal(1 ./ (CondD4 .* sqrt(2.0))), b[1:(2 * n4)], log = true); println(tt4[2])\n",
    "tt5 = lsmr(Xstar5 * Diagonal(1 ./ (CondD5 .* sqrt(2.0))), b[1:(2 * n5)], log = true); println(tt5[2])"
   ]
  },
  {
   "cell_type": "markdown",
   "metadata": {},
   "source": [
    "# summary:"
   ]
  },
  {
   "cell_type": "markdown",
   "metadata": {},
   "source": [
    "# No.1\n",
    "\n",
    "n1 = 1000\n",
    "n2 = 4000\n",
    "n3 = 8000\n",
    "n4 = 16000\n",
    "n5 = 100000\n",
    "ϕ = 8;\n",
    "δ = 1.0;\n",
    "m = 5;\n",
    "\n",
    "\n",
    "Converged after 46 iterations.\n",
    "Converged after 89 iterations.\n",
    "Converged after 90 iterations.\n",
    "Converged after 137 iterations.\n",
    "Converged after 282 iterations.\n",
    "\n",
    "With precondition\n",
    "\n",
    "Converged after 39 iterations.\n",
    "Converged after 68 iterations.\n",
    "Converged after 66 iterations.\n",
    "Converged after 116 iterations.\n",
    "Converged after 175 iterations."
   ]
  },
  {
   "cell_type": "markdown",
   "metadata": {},
   "source": [
    "# No.2\n",
    "n1 = 1000\n",
    "n2 = 4000\n",
    "n3 = 8000\n",
    "n4 = 16000\n",
    "n5 = 100000\n",
    "ϕ = 3;\n",
    "δ = 1.0;\n",
    "m = 5;\n",
    "\n",
    "Converged after 68 iterations.\n",
    "Converged after 129 iterations.\n",
    "Converged after 129 iterations.\n",
    "Converged after 197 iterations.\n",
    "Converged after 392 iterations.\n",
    "\n",
    "With precond\n",
    "\n",
    "Converged after 52 iterations.\n",
    "Converged after 88 iterations.\n",
    "Converged after 85 iterations.\n",
    "Converged after 143 iterations.\n",
    "Converged after 206 iterations.\n",
    "\n",
    "Conclusion: lower decay cause higher iteration number"
   ]
  },
  {
   "cell_type": "markdown",
   "metadata": {},
   "source": [
    "# No.3\n",
    "n1 = 1000\n",
    "n2 = 4000\n",
    "n3 = 8000\n",
    "n4 = 16000\n",
    "n5 = 100000\n",
    "ϕ = 8;\n",
    "δ = 0.1;\n",
    "m = 5;\n",
    "\n",
    "Converged after 169 iterations.\n",
    "Converged after 375 iterations.\n",
    "Converged after 394 iterations.\n",
    "Converged after 529 iterations.\n",
    "Converged after 817 iterations.\n",
    "\n",
    "with precond:\n",
    "\n",
    "Converged after 103 iterations.\n",
    "Converged after 170 iterations.\n",
    "Converged after 198 iterations.\n",
    "Converged after 235 iterations.\n",
    "Converged after 329 iterations.\n",
    "\n",
    "Conclusion: lower δ higher iterations, the normalized precondition works\n",
    "\n"
   ]
  },
  {
   "cell_type": "code",
   "execution_count": null,
   "metadata": {},
   "outputs": [],
   "source": []
  }
 ],
 "metadata": {
  "kernelspec": {
   "display_name": "Julia 1.1.0",
   "language": "julia",
   "name": "julia-1.1"
  },
  "language_info": {
   "file_extension": ".jl",
   "mimetype": "application/julia",
   "name": "julia",
   "version": "1.1.0"
  }
 },
 "nbformat": 4,
 "nbformat_minor": 2
}
