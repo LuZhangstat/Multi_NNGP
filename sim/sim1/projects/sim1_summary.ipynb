{
 "cells": [
  {
   "cell_type": "code",
   "execution_count": 1,
   "metadata": {},
   "outputs": [],
   "source": [
    "# necessary packages #\n",
    "\n",
    "#using Pkg\n",
    "#Pkg.add(\"Distances\")\n",
    "using Distributions\n",
    "using Random\n",
    "using Distances\n",
    "using LinearAlgebra\n",
    "using SparseArrays\n",
    "using IterativeSolvers\n",
    "using ProgressMeter\n",
    "using JLD2\n",
    "#using NearestNeighbors # Can't use KDtree in julia for posterior prediction"
   ]
  },
  {
   "cell_type": "code",
   "execution_count": 2,
   "metadata": {},
   "outputs": [
    {
     "data": {
      "text/plain": [
       "colnorm (generic function with 1 method)"
      ]
     },
     "execution_count": 2,
     "metadata": {},
     "output_type": "execute_result"
    }
   ],
   "source": [
    "include(\"../../../util.j\")"
   ]
  },
  {
   "cell_type": "code",
   "execution_count": 3,
   "metadata": {},
   "outputs": [],
   "source": [
    "# unnecessary packages #\n",
    "\n",
    "#using Pkg\n",
    "#Pkg.add(\"UnicodePlots\")\n",
    "using UnicodePlots   # check the structure of the sparse matrix\n",
    "using BenchmarkTools\n",
    "\n",
    "using StatsPlots\n",
    "using MCMCChains\n",
    "using PrettyTables"
   ]
  },
  {
   "cell_type": "code",
   "execution_count": 4,
   "metadata": {},
   "outputs": [],
   "source": [
    "#using Pkg\n",
    "#Pkg.add(\"NearestNeighborDescent\");\n",
    "#using NearestNeighborDescent"
   ]
  },
  {
   "cell_type": "code",
   "execution_count": 5,
   "metadata": {},
   "outputs": [
    {
     "data": {
      "text/plain": [
       "1-element Array{Symbol,1}:\n",
       " :ω_pos_BSLMC_mean"
      ]
     },
     "execution_count": 5,
     "metadata": {},
     "output_type": "execute_result"
    }
   ],
   "source": [
    "@load \"../data/sim1data.jld\";\n",
    "@load \"../results/ω_pos_mean_conj_NNGP.jld\"\n",
    "@load \"../results/w_pos_mean_spbayes.jld\"\n",
    "@load \"../results/ω_incp_obs_pos_qt_BSLMC.jld\""
   ]
  },
  {
   "cell_type": "code",
   "execution_count": 6,
   "metadata": {},
   "outputs": [
    {
     "name": "stderr",
     "output_type": "stream",
     "text": [
      "┌ Warning: Package RCall does not have AxisArrays in its dependencies:\n",
      "│ - If you have RCall checked out for development and have\n",
      "│   added AxisArrays as a dependency but haven't updated your primary\n",
      "│   environment's manifest file, try `Pkg.resolve()`.\n",
      "│ - Otherwise you may need to report an issue with RCall\n",
      "│ Loading AxisArrays into RCall from project dependency, future warnings for RCall are suppressed.\n",
      "└ @ nothing nothing:840\n",
      "┌ Warning: RCall.jl: Loading required package: magic\n",
      "│ Loading required package: abind\n",
      "│ Loading required package: Formula\n",
      "│ Loading required package: Matrix\n",
      "└ @ RCall /home/lu/.julia/packages/RCall/ffM0W/src/io.jl:113\n",
      "┌ Warning: RCall.jl: Loading required package: spam\n",
      "│ Loading required package: dotCall64\n",
      "│ Loading required package: grid\n",
      "│ Spam version 2.2-2 (2019-03-07) is loaded.\n",
      "│ Type 'help( Spam)' or 'demo( spam)' for a short introduction \n",
      "│ and overview of this package.\n",
      "│ Help for individual functions is also obtained by adding the\n",
      "│ suffix '.spam' to the function name, e.g. 'help( chol.spam)'.\n",
      "│ \n",
      "│ Attaching package: ‘spam’\n",
      "│ \n",
      "│ The following object is masked from ‘package:Matrix’:\n",
      "│ \n",
      "│     det\n",
      "│ \n",
      "│ The following objects are masked from ‘package:base’:\n",
      "│ \n",
      "│     backsolve, forwardsolve\n",
      "│ \n",
      "│ Loading required package: maps\n",
      "│ See https://github.com/NCAR/Fields for\n",
      "│  an extensive vignette, other supplements and source code \n",
      "└ @ RCall /home/lu/.julia/packages/RCall/ffM0W/src/io.jl:113\n"
     ]
    },
    {
     "data": {
      "text/plain": [
       "RObject{IntSxp}\n",
       "null device \n",
       "          1 \n"
      ]
     },
     "execution_count": 6,
     "metadata": {},
     "output_type": "execute_result"
    }
   ],
   "source": [
    "# plot the pictures of recovered latent process\n",
    "using RCall\n",
    "@rput ω_ord\n",
    "@rput coords_ord\n",
    "@rput S\n",
    "@rput ω_pos_mean\n",
    "@rput ω_pos_BSLMC_mean\n",
    "@rput w_pos_mean_spbayes\n",
    "R\"\"\"\n",
    "library(MBA)\n",
    "library(classInt)\n",
    "library(RColorBrewer)\n",
    "library(sp)\n",
    "library(coda)\n",
    "library(spBayes)\n",
    "library(fields)\n",
    "\n",
    "h <- 12\n",
    "surf.raw1 <- mba.surf(cbind(t(coords_ord[, S]), ω_ord[S, 1]), no.X = 300, no.Y = 300, \n",
    "              exten = TRUE, sp = TRUE, h = h)$xyz.est\n",
    "surf.raw2 <- mba.surf(cbind(t(coords_ord[, S]), ω_ord[S, 2]), no.X = 300, no.Y = 300, \n",
    "              exten = TRUE, sp = TRUE, h = h)$xyz.est\n",
    "surf.fit1 <- mba.surf(cbind(t(coords_ord[, S]), ω_pos_mean[, 1]), no.X = 300, no.Y = 300, \n",
    "              exten = TRUE, sp = TRUE, h = h)$xyz.est\n",
    "surf.fit2 <- mba.surf(cbind(t(coords_ord[, S]), ω_pos_mean[, 2]), no.X = 300, no.Y = 300, \n",
    "              exten = TRUE, sp = TRUE, h = h)$xyz.est\n",
    "surf.BSLMC1 <- mba.surf(cbind(t(coords_ord[, S]), ω_pos_BSLMC_mean[, 1]), no.X = 300, no.Y = 300, \n",
    "              exten = TRUE, sp = TRUE, h = h)$xyz.est\n",
    "surf.BSLMC2 <- mba.surf(cbind(t(coords_ord[, S]), ω_pos_BSLMC_mean[, 2]), no.X = 300, no.Y = 300, \n",
    "              exten = TRUE, sp = TRUE, h = h)$xyz.est\n",
    "surf.bench1 <- mba.surf(cbind(t(coords_ord[, S]), w_pos_mean_spbayes[, 1]), no.X = 300, no.Y = 300, \n",
    "              exten = TRUE, sp = TRUE, h = h)$xyz.est\n",
    "surf.bench2 <- mba.surf(cbind(t(coords_ord[, S]), w_pos_mean_spbayes[, 2]), no.X = 300, no.Y = 300, \n",
    "              exten = TRUE, sp = TRUE, h = h)$xyz.est\n",
    "\n",
    "surf.brks <- classIntervals(c(surf.raw1[[\"z\"]], surf.raw2[[\"z\"]], surf.fit1[[\"z\"]], surf.fit2[[\"z\"]],\n",
    "                surf.BSLMC1[[\"z\"]], surf.BSLMC2[[\"z\"]], surf.bench1[[\"z\"]], surf.bench2[[\"z\"]]), 500, 'pretty')$brks\n",
    "col.pal <- colorRampPalette(brewer.pal(11,'RdBu')[11:1])\n",
    "xlim <- c(0, 1.13)\n",
    "\n",
    "zlim <- range(c(surf.raw1[[\"z\"]], surf.raw2[[\"z\"]], surf.fit1[[\"z\"]], surf.fit2[[\"z\"]]), \n",
    "                surf.BSLMC1[[\"z\"]], surf.BSLMC2[[\"z\"]], surf.bench1[[\"z\"]], surf.bench2[[\"z\"]])\n",
    "\n",
    "# size for the mapping of w               \n",
    "width <- 360\n",
    "height <- 360\n",
    "pointsize <- 16\n",
    "\n",
    "png(paste(\"../../pics/sim1_map-w1-true_conj.png\", sep = \"\"), \n",
    "    width = width, height = height, pointsize = pointsize, family = \"Courier\")\n",
    "par(mfrow = c(1, 1))\n",
    "##Obs\n",
    "i <- as.image.SpatialGridDataFrame(surf.raw1)\n",
    "plot(t(coords_ord[, S]), typ=\"n\", cex=0.5, xlim=xlim, axes=FALSE, ylab=\"y\", xlab=\"x\") \n",
    "     #main = \"true\")\n",
    "axis(2, las=1)\n",
    "axis(1)\n",
    "image.plot(i, add=TRUE, col=rev(col.pal(length(surf.brks)-1)), zlim=zlim)\n",
    "dev.off()\n",
    "\n",
    "png(paste(\"../../pics/sim1_map-w2-true_conj.png\", sep = \"\"), \n",
    "    width = width, height = height, pointsize = pointsize, family = \"Courier\")\n",
    "par(mfrow = c(1, 1))\n",
    "##Obs\n",
    "i <- as.image.SpatialGridDataFrame(surf.raw2)\n",
    "plot(t(coords_ord[, S]), typ=\"n\", cex=0.5, xlim=xlim, axes=FALSE, ylab=\"y\", xlab=\"x\") \n",
    "     #main = \"true\")\n",
    "axis(2, las=1)\n",
    "axis(1)\n",
    "image.plot(i, add=TRUE, col=rev(col.pal(length(surf.brks)-1)), zlim=zlim)\n",
    "dev.off()\n",
    "\n",
    "png(paste(\"../../pics/sim1_map-w1-fit_conj.png\", sep = \"\"), \n",
    "    width = width, height = height, pointsize = pointsize, family = \"Courier\")\n",
    "par(mfrow = c(1, 1))\n",
    "##Obs\n",
    "i <- as.image.SpatialGridDataFrame(surf.fit1)\n",
    "plot(t(coords_ord[, S]), typ=\"n\", cex=0.5, xlim=xlim, axes=FALSE, ylab=\"y\", xlab=\"x\") \n",
    "     #main = \"true\")\n",
    "axis(2, las=1)\n",
    "axis(1)\n",
    "image.plot(i, add=TRUE, col=rev(col.pal(length(surf.brks)-1)), zlim=zlim)\n",
    "dev.off()\n",
    "\n",
    "png(paste(\"../../pics/sim1_map-w2-fit_conj.png\", sep = \"\"), \n",
    "    width = width, height = height, pointsize = pointsize, family = \"Courier\")\n",
    "par(mfrow = c(1, 1))\n",
    "##Obs\n",
    "i <- as.image.SpatialGridDataFrame(surf.fit2)\n",
    "plot(t(coords_ord[, S]), typ=\"n\", cex=0.5, xlim=xlim, axes=FALSE, ylab=\"y\", xlab=\"x\") \n",
    "     #main = \"true\")\n",
    "axis(2, las=1)\n",
    "axis(1)\n",
    "image.plot(i, add=TRUE, col=rev(col.pal(length(surf.brks)-1)), zlim=zlim)\n",
    "dev.off()\n",
    "\n",
    "png(paste(\"../../pics/sim1_map-w1-BSLMC.png\", sep = \"\"), \n",
    "    width = width, height = height, pointsize = pointsize, family = \"Courier\")\n",
    "par(mfrow = c(1, 1))\n",
    "##Obs\n",
    "i <- as.image.SpatialGridDataFrame(surf.BSLMC1)\n",
    "plot(t(coords_ord[, S]), typ=\"n\", cex=0.5, xlim=xlim, axes=FALSE, ylab=\"y\", xlab=\"x\") \n",
    "     #main = \"true\")\n",
    "axis(2, las=1)\n",
    "axis(1)\n",
    "image.plot(i, add=TRUE, col=rev(col.pal(length(surf.brks)-1)), zlim=zlim)\n",
    "dev.off()\n",
    "\n",
    "png(paste(\"../../pics/sim1_map-w2-BSLMC.png\", sep = \"\"), \n",
    "    width = width, height = height, pointsize = pointsize, family = \"Courier\")\n",
    "par(mfrow = c(1, 1))\n",
    "##Obs\n",
    "i <- as.image.SpatialGridDataFrame(surf.BSLMC2)\n",
    "plot(t(coords_ord[, S]), typ=\"n\", cex=0.5, xlim=xlim, axes=FALSE, ylab=\"y\", xlab=\"x\") \n",
    "     #main = \"true\")\n",
    "axis(2, las=1)\n",
    "axis(1)\n",
    "image.plot(i, add=TRUE, col=rev(col.pal(length(surf.brks)-1)), zlim=zlim)\n",
    "dev.off()\n",
    "\n",
    "png(paste(\"../../pics/sim1_map-w1-LMC_spbayes.png\", sep = \"\"), \n",
    "    width = width, height = height, pointsize = pointsize, family = \"Courier\")\n",
    "par(mfrow = c(1, 1))\n",
    "##Obs\n",
    "i <- as.image.SpatialGridDataFrame(surf.bench1)\n",
    "plot(t(coords_ord[, S]), typ=\"n\", cex=0.5, xlim=xlim, axes=FALSE, ylab=\"y\", xlab=\"x\") \n",
    "     #main = \"true\")\n",
    "axis(2, las=1)\n",
    "axis(1)\n",
    "image.plot(i, add=TRUE, col=rev(col.pal(length(surf.brks)-1)), zlim=zlim)\n",
    "dev.off()\n",
    "\n",
    "png(paste(\"../../pics/sim1_map-w2-LMC_spbayes.png\", sep = \"\"), \n",
    "    width = width, height = height, pointsize = pointsize, family = \"Courier\")\n",
    "par(mfrow = c(1, 1))\n",
    "##Obs\n",
    "i <- as.image.SpatialGridDataFrame(surf.bench2)\n",
    "plot(t(coords_ord[, S]), typ=\"n\", cex=0.5, xlim=xlim, axes=FALSE, ylab=\"y\", xlab=\"x\") \n",
    "     #main = \"true\")\n",
    "axis(2, las=1)\n",
    "axis(1)\n",
    "image.plot(i, add=TRUE, col=rev(col.pal(length(surf.brks)-1)), zlim=zlim)\n",
    "dev.off()\n",
    "\n",
    "\"\"\""
   ]
  },
  {
   "cell_type": "code",
   "execution_count": null,
   "metadata": {},
   "outputs": [],
   "source": []
  }
 ],
 "metadata": {
  "kernelspec": {
   "display_name": "Julia 1.1.0",
   "language": "julia",
   "name": "julia-1.1"
  },
  "language_info": {
   "file_extension": ".jl",
   "mimetype": "application/julia",
   "name": "julia",
   "version": "1.1.0"
  }
 },
 "nbformat": 4,
 "nbformat_minor": 2
}
