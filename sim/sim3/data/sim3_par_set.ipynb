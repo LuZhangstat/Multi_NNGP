{
 "cells": [
  {
   "cell_type": "code",
   "execution_count": 1,
   "metadata": {},
   "outputs": [],
   "source": [
    "# necessary packages #\n",
    "\n",
    "#using Pkg\n",
    "#Pkg.add(\"Distances\")\n",
    "using Distributions\n",
    "using Random\n",
    "using Distances\n",
    "using LinearAlgebra\n",
    "using SparseArrays\n",
    "using IterativeSolvers\n",
    "using ProgressMeter\n",
    "using JLD2"
   ]
  },
  {
   "cell_type": "code",
   "execution_count": 2,
   "metadata": {},
   "outputs": [
    {
     "data": {
      "text/plain": [
       "colnorm (generic function with 1 method)"
      ]
     },
     "execution_count": 2,
     "metadata": {},
     "output_type": "execute_result"
    }
   ],
   "source": [
    "include(\"../../../util2.j\")"
   ]
  },
  {
   "cell_type": "code",
   "execution_count": 3,
   "metadata": {},
   "outputs": [],
   "source": [
    "# Generate simulation data #\n",
    "\n",
    "Random.seed!(123);\n",
    "N = 1200 # sample size\n",
    "Nobs = 1000;\n",
    "q = 10; K = 50; \n",
    "\n",
    "sqrt_Σ_diag = sqrt.([0.5, 1, 0.4, 2, 0.6, 2.5, 3.0, 0.45, 1.5, 0.5]);\n",
    "\n",
    "β = [1.0 -1.0 1.0 -0.5 2.0 -1.5 0.5 0.3 -2.0 1.5\n",
    "     -5.0 2.0 3.0 -2.0 -6.0 4.0 5.0 -3.0 6.0 -4.0\n",
    "     8.0 6.9 -12.0 0.0 -4.0 7.7 -8.8 3.3 6.6 -5.5];\n",
    "\n",
    "ϕ = rand(Uniform(3 / sqrt(2), 20 / sqrt(2)), K);\n",
    "Λ = rand(Uniform(-0.5, 0.5), K, q); # loading matrix\n",
    "coords = rand(N, 2);                                          # random location over unit square\n",
    "ordx = 1:N;\n",
    "coords_ord = coords[ordx, :];\n",
    "S_ind = [sample(1:N, Nobs, replace = false, ordered = true) for i in 1:q] \n",
    "                                                              # index of observed response for all q responses\n",
    "S = sort(union([S_ind[i] for i in 1:q]...));                  # location with at least one observation\n",
    "M_ind = [setdiff(S, S_ind[i]) for i in 1:q];                  # in S not in S1\n",
    "obs_ind = vcat([S_ind[i] .+ (i - 1) * N for i in 1:q]...)     # index of the observed location for all response among N locations\n",
    "perm_ind = sortperm(vcat([S_ind[i] for i in 1:q]...))\n",
    "\n",
    "index_S = zeros(N);                                           # build index indicating which response are observed\n",
    "index_S_M = fill(0.0, N, q);\n",
    "for i in 1:q\n",
    "    index_S_M[S_ind[i], i] .= 1;\n",
    "    index_S = index_S + 2^(i - 1) * index_S_M[:, i]\n",
    "end\n",
    "M_Sind = [findall(x -> x == 0.0, index_S_M[S, i]) for i in 1:q];"
   ]
  },
  {
   "cell_type": "code",
   "execution_count": 4,
   "metadata": {},
   "outputs": [],
   "source": [
    "# Some data preparations #\n",
    "\n",
    "m = 10; n = length(S); \n",
    "# number of nearest neighbor                       \n",
    "NN = BuildNN(coords_ord[S, :], m);                            # build nearest neighbor \n",
    "nnIndx_col = vcat(NN.nnIndx, 1:n);                            # the index of columns\n",
    "nnIndx_row = zeros(Int64, 0);                                               \n",
    "for i in 2:m\n",
    "    nnIndx_row = vcat(nnIndx_row, fill(i, i-1));\n",
    "end\n",
    "nnIndx_row = vcat(nnIndx_row, repeat((m + 1):n, inner = m), 1:n);  # the index of rows\n"
   ]
  },
  {
   "cell_type": "code",
   "execution_count": 5,
   "metadata": {},
   "outputs": [],
   "source": [
    "@save \"sim3_pars.jld\""
   ]
  },
  {
   "cell_type": "code",
   "execution_count": 3,
   "metadata": {},
   "outputs": [
    {
     "data": {
      "text/plain": [
       "45-element Array{Symbol,1}:\n",
       " Symbol(\"##1#2\")   \n",
       " Symbol(\"##11#12\") \n",
       " Symbol(\"##13#14\") \n",
       " Symbol(\"##15#16\") \n",
       " Symbol(\"##17#18\") \n",
       " Symbol(\"##19#21\") \n",
       " Symbol(\"##20#22\") \n",
       " Symbol(\"##3#5\")   \n",
       " Symbol(\"##4#6\")   \n",
       " Symbol(\"##7#8\")   \n",
       " Symbol(\"##9#10\")  \n",
       " Symbol(\"#BuildNN\")\n",
       " Symbol(\"#colnorm\")\n",
       " ⋮                 \n",
       " :m                \n",
       " :n                \n",
       " :nnIndx_col       \n",
       " :nnIndx_row       \n",
       " :obs_ind          \n",
       " :ordx             \n",
       " :perm_ind         \n",
       " :q                \n",
       " :sqrt_Σ_diag      \n",
       " :Λ                \n",
       " :β                \n",
       " :ϕ                "
      ]
     },
     "execution_count": 3,
     "metadata": {},
     "output_type": "execute_result"
    }
   ],
   "source": [
    "@load \"sim3_pars.jld\""
   ]
  },
  {
   "cell_type": "code",
   "execution_count": 21,
   "metadata": {},
   "outputs": [
    {
     "data": {
      "text/plain": [
       "10-element Array{Float64,1}:\n",
       " 11.36\n",
       " 13.43\n",
       " 10.22\n",
       "  6.87\n",
       "  5.89\n",
       " 10.09\n",
       "  9.17\n",
       "  2.75\n",
       "  5.35\n",
       "  3.43"
      ]
     },
     "execution_count": 21,
     "metadata": {},
     "output_type": "execute_result"
    }
   ],
   "source": [
    "round.(ϕ[1:10], digits = 2)"
   ]
  },
  {
   "cell_type": "code",
   "execution_count": 22,
   "metadata": {},
   "outputs": [
    {
     "data": {
      "text/plain": [
       "10-element Array{Float64,1}:\n",
       "  4.09\n",
       "  7.81\n",
       " 12.52\n",
       "  9.54\n",
       "  5.56\n",
       "  7.7 \n",
       "  5.44\n",
       "  7.49\n",
       "  9.12\n",
       "  5.2 "
      ]
     },
     "execution_count": 22,
     "metadata": {},
     "output_type": "execute_result"
    }
   ],
   "source": [
    "round.(ϕ[11:20], digits = 2)"
   ]
  },
  {
   "cell_type": "code",
   "execution_count": 23,
   "metadata": {},
   "outputs": [
    {
     "data": {
      "text/plain": [
       "10-element Array{Float64,1}:\n",
       " 10.61\n",
       "  5.63\n",
       "  5.5 \n",
       " 11.65\n",
       "  4.64\n",
       " 13.16\n",
       "  9.51\n",
       " 11.77\n",
       "  8.8 \n",
       " 13.43"
      ]
     },
     "execution_count": 23,
     "metadata": {},
     "output_type": "execute_result"
    }
   ],
   "source": [
    "round.(ϕ[21:30], digits = 2)"
   ]
  },
  {
   "cell_type": "code",
   "execution_count": 24,
   "metadata": {},
   "outputs": [
    {
     "data": {
      "text/plain": [
       "10-element Array{Float64,1}:\n",
       "  7.89\n",
       " 11.62\n",
       "  6.4 \n",
       " 12.95\n",
       "  8.48\n",
       "  2.5 \n",
       " 12.95\n",
       " 13.42\n",
       "  9.59\n",
       "  6.31"
      ]
     },
     "execution_count": 24,
     "metadata": {},
     "output_type": "execute_result"
    }
   ],
   "source": [
    "round.(ϕ[31:40], digits = 2)"
   ]
  },
  {
   "cell_type": "code",
   "execution_count": 25,
   "metadata": {},
   "outputs": [
    {
     "data": {
      "text/plain": [
       "10-element Array{Float64,1}:\n",
       "  8.98\n",
       "  4.57\n",
       "  6.63\n",
       " 11.25\n",
       "  4.43\n",
       "  4.94\n",
       "  3.3 \n",
       "  9.66\n",
       " 13.5 \n",
       "  8.7 "
      ]
     },
     "execution_count": 25,
     "metadata": {},
     "output_type": "execute_result"
    }
   ],
   "source": [
    "round.(ϕ[41:50], digits = 2)"
   ]
  },
  {
   "cell_type": "code",
   "execution_count": 16,
   "metadata": {},
   "outputs": [
    {
     "data": {
      "text/plain": [
       "10×10 Array{Float64,2}:\n",
       " -0.38  -0.33   0.23  -0.38  -0.13   0.31   0.28   0.0    0.42   0.18\n",
       " -0.39  -0.13  -0.13  -0.31  -0.15   0.42   0.13  -0.07   0.21   0.1 \n",
       "  0.01   0.48   0.32   0.13  -0.46   0.27   0.09   0.12   0.25   0.38\n",
       "  0.13   0.48  -0.47  -0.48  -0.34  -0.09  -0.28  -0.21  -0.19   0.44\n",
       " -0.47   0.46   0.24  -0.45   0.44  -0.29  -0.36  -0.46   0.34  -0.44\n",
       "  0.21   0.12  -0.46   0.29   0.36   0.17   0.03   0.2   -0.12  -0.23\n",
       " -0.2    0.48   0.18  -0.1    0.13  -0.13  -0.41  -0.04  -0.07  -0.22\n",
       " -0.19   0.28   0.47  -0.42   0.17  -0.18  -0.03  -0.13  -0.04   0.3 \n",
       " -0.04   0.27  -0.23  -0.07  -0.09  -0.39  -0.48  -0.27   0.19   0.21\n",
       " -0.03  -0.18  -0.08  -0.12   0.35   0.3   -0.33   0.34   0.38   0.31"
      ]
     },
     "execution_count": 16,
     "metadata": {},
     "output_type": "execute_result"
    }
   ],
   "source": [
    "round.(Λ[1:10, 1:10], digits = 2)"
   ]
  },
  {
   "cell_type": "code",
   "execution_count": 17,
   "metadata": {},
   "outputs": [
    {
     "data": {
      "text/plain": [
       "10×10 Array{Float64,2}:\n",
       " -0.15  -0.43   0.27   0.18   0.38  -0.4   -0.27  -0.3   -0.38  -0.09\n",
       "  0.28  -0.24  -0.32  -0.08  -0.01  -0.31   0.2    0.31   0.11  -0.38\n",
       " -0.38  -0.42  -0.16  -0.37  -0.22   0.09  -0.08  -0.07  -0.33   0.01\n",
       " -0.42  -0.22   0.44   0.09   0.25   0.12   0.1   -0.33  -0.41   0.42\n",
       "  0.42   0.48  -0.06   0.07   0.43   0.12  -0.15   0.29   0.1   -0.32\n",
       " -0.15  -0.03  -0.42   0.01   0.05   0.33  -0.46   0.12   0.22  -0.44\n",
       "  0.28  -0.08  -0.41   0.13   0.03   0.22   0.08   0.32   0.02  -0.41\n",
       "  0.35  -0.39   0.37  -0.47  -0.08  -0.01   0.09   0.06  -0.21   0.38\n",
       " -0.38   0.2   -0.21   0.21  -0.11   0.27   0.2    0.17   0.31  -0.12\n",
       "  0.36  -0.09  -0.16  -0.06   0.43  -0.04  -0.07   0.4   -0.39  -0.06"
      ]
     },
     "execution_count": 17,
     "metadata": {},
     "output_type": "execute_result"
    }
   ],
   "source": [
    "round.(Λ[11:20, 1:10], digits = 2)"
   ]
  },
  {
   "cell_type": "code",
   "execution_count": 18,
   "metadata": {},
   "outputs": [
    {
     "data": {
      "text/plain": [
       "10×10 Array{Float64,2}:\n",
       "  0.08   0.15   0.11   0.37   0.25   0.28   0.13  -0.18   0.35   0.17\n",
       " -0.32  -0.31   0.24  -0.29  -0.38  -0.1   -0.19   0.18  -0.37  -0.34\n",
       "  0.45   0.19   0.34  -0.36   0.43   0.44  -0.13  -0.26  -0.46  -0.08\n",
       "  0.38  -0.48  -0.22  -0.14   0.5    0.08   0.02  -0.07   0.07  -0.3 \n",
       " -0.49  -0.48   0.34   0.1   -0.01   0.2    0.33   0.37   0.1    0.21\n",
       "  0.1    0.11  -0.33  -0.16   0.06   0.25  -0.37  -0.1   -0.16  -0.13\n",
       "  0.45   0.02  -0.21   0.16   0.37  -0.2   -0.44  -0.37   0.46   0.25\n",
       "  0.34   0.31   0.06  -0.25   0.37   0.12   0.27  -0.35   0.09  -0.28\n",
       " -0.2   -0.12  -0.41   0.23  -0.23  -0.07  -0.34   0.37  -0.43   0.18\n",
       "  0.36   0.14   0.47   0.3    0.36  -0.09   0.1   -0.01   0.11   0.43"
      ]
     },
     "execution_count": 18,
     "metadata": {},
     "output_type": "execute_result"
    }
   ],
   "source": [
    "round.(Λ[21:30, 1:10], digits = 2)"
   ]
  },
  {
   "cell_type": "code",
   "execution_count": 19,
   "metadata": {},
   "outputs": [
    {
     "data": {
      "text/plain": [
       "10×10 Array{Float64,2}:\n",
       "  0.42   0.17  -0.24   0.05  -0.0   -0.41  -0.03  -0.0   -0.22   0.2 \n",
       "  0.26  -0.22   0.33  -0.06  -0.06  -0.36  -0.31   0.14  -0.14  -0.1 \n",
       "  0.09   0.43   0.04  -0.35   0.42   0.19   0.33  -0.12   0.4   -0.32\n",
       " -0.13   0.36   0.02   0.02   0.34   0.06  -0.32  -0.47   0.02   0.34\n",
       "  0.27  -0.35  -0.12   0.5    0.33   0.33  -0.27   0.39   0.45   0.27\n",
       "  0.38   0.11   0.05   0.38  -0.34  -0.19  -0.12   0.39   0.2    0.31\n",
       "  0.16   0.31   0.02  -0.43   0.13   0.33  -0.34  -0.1    0.41  -0.46\n",
       "  0.32  -0.2   -0.18  -0.05   0.2   -0.17  -0.06   0.49  -0.06   0.3 \n",
       "  0.44  -0.05   0.06  -0.22  -0.16  -0.43   0.04  -0.23  -0.22   0.11\n",
       " -0.23  -0.34   0.45  -0.47   0.03  -0.09  -0.47   0.28   0.27  -0.4 "
      ]
     },
     "execution_count": 19,
     "metadata": {},
     "output_type": "execute_result"
    }
   ],
   "source": [
    "round.(Λ[31:40, 1:10], digits = 2)"
   ]
  },
  {
   "cell_type": "code",
   "execution_count": 20,
   "metadata": {},
   "outputs": [
    {
     "data": {
      "text/plain": [
       "10×10 Array{Float64,2}:\n",
       "  0.28   0.27  -0.45  -0.15   0.05   0.31   0.16   0.49   0.12  -0.43\n",
       "  0.14  -0.16   0.21  -0.3    0.36  -0.29   0.17   0.16  -0.35  -0.05\n",
       " -0.2   -0.31   0.11  -0.46   0.41   0.09  -0.24  -0.21   0.4   -0.05\n",
       "  0.44   0.44   0.41  -0.22   0.36  -0.45  -0.19   0.46   0.49  -0.28\n",
       " -0.34  -0.5   -0.33  -0.37   0.33  -0.31  -0.37   0.05  -0.38  -0.14\n",
       "  0.33   0.46  -0.35  -0.42  -0.01  -0.48  -0.33  -0.23  -0.07   0.09\n",
       "  0.21  -0.49  -0.31  -0.04   0.23   0.43   0.22   0.23  -0.25  -0.45\n",
       " -0.08   0.35   0.01   0.25  -0.07  -0.29  -0.05   0.19  -0.07  -0.14\n",
       " -0.4   -0.38   0.07   0.23   0.43  -0.05   0.08   0.03   0.09   0.02\n",
       " -0.13  -0.08  -0.18  -0.02  -0.38  -0.07   0.41   0.18  -0.31   0.35"
      ]
     },
     "execution_count": 20,
     "metadata": {},
     "output_type": "execute_result"
    }
   ],
   "source": [
    "round.(Λ[41:50, 1:10], digits = 2)"
   ]
  },
  {
   "cell_type": "code",
   "execution_count": null,
   "metadata": {},
   "outputs": [],
   "source": []
  }
 ],
 "metadata": {
  "kernelspec": {
   "display_name": "Julia 1.2.0",
   "language": "julia",
   "name": "julia-1.2"
  },
  "language_info": {
   "file_extension": ".jl",
   "mimetype": "application/julia",
   "name": "julia",
   "version": "1.2.0"
  }
 },
 "nbformat": 4,
 "nbformat_minor": 2
}
