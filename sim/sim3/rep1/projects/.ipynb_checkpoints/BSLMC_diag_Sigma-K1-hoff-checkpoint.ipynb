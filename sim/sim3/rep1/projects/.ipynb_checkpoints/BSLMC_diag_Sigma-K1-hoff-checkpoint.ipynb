{
 "cells": [
  {
   "cell_type": "code",
   "execution_count": 60,
   "metadata": {},
   "outputs": [],
   "source": [
    "# necessary packages #\n",
    "\n",
    "#using Pkg\n",
    "#Pkg.add(\"Distances\")\n",
    "using Distributions\n",
    "using Random\n",
    "using Distances\n",
    "using LinearAlgebra\n",
    "using SparseArrays\n",
    "using IterativeSolvers\n",
    "using ProgressMeter\n",
    "using JLD2\n",
    "using MCMCDiagnostics\n",
    "using Dates"
   ]
  },
  {
   "cell_type": "code",
   "execution_count": 2,
   "metadata": {},
   "outputs": [
    {
     "data": {
      "text/plain": [
       "colnorm (generic function with 1 method)"
      ]
     },
     "execution_count": 2,
     "metadata": {},
     "output_type": "execute_result"
    }
   ],
   "source": [
    "include(\"../../../../util2.j\")"
   ]
  },
  {
   "cell_type": "code",
   "execution_count": 15,
   "metadata": {},
   "outputs": [],
   "source": [
    "@load \"../data/sim3data.jld\";"
   ]
  },
  {
   "cell_type": "code",
   "execution_count": 16,
   "metadata": {},
   "outputs": [],
   "source": [
    "# priors #\n",
    "p = size(X_ord)[2]; q = size(Y_ord)[2]; K = 1;\n",
    "μβ = spzeros(p, q); inv_Vr = spzeros(p, p);\n",
    "μΛ = spzeros(K, q); inv_VΛ = spzeros(K, K)\n",
    "aΣ = 2; bΣ = fill(1.0, q);\n",
    "inv_Lr = spzeros(p, p); inv_LΛ = spzeros(K, K);\n",
    "aϕ = fill(2.0, K); bϕ = fill(33 / (2 * sqrt(2)), K);"
   ]
  },
  {
   "cell_type": "code",
   "execution_count": 7,
   "metadata": {},
   "outputs": [
    {
     "ename": "ErrorException",
     "evalue": "error compiling BuildNN: error compiling BuildNN: could not load library \"../../../julia-R-nn-ccall2/nn.so\"\n../../../julia-R-nn-ccall2/nn.so: cannot open shared object file: No such file or directory",
     "output_type": "error",
     "traceback": [
      "error compiling BuildNN: error compiling BuildNN: could not load library \"../../../julia-R-nn-ccall2/nn.so\"\n../../../julia-R-nn-ccall2/nn.so: cannot open shared object file: No such file or directory",
      "",
      "Stacktrace:",
      " [1] top-level scope at In[7]:4"
     ]
    }
   ],
   "source": [
    "# Some data preparations #\n",
    "\n",
    "m = 10; n = length(S); \n",
    "# number of nearest neighbor                       \n",
    "NN = BuildNN(coords_ord[S, :], m);                            # build nearest neighbor \n",
    "nnIndx_col = vcat(NN.nnIndx, 1:n);                            # the index of columns\n",
    "nnIndx_row = zeros(Int64, 0);                                               \n",
    "for i in 2:m\n",
    "    nnIndx_row = vcat(nnIndx_row, fill(i, i-1))\n",
    "end\n",
    "nnIndx_row = vcat(nnIndx_row, repeat((m + 1):n, inner = m), 1:n);  # the index of rows\n",
    "\n",
    "dim_invD = sum(index_S_M);\n",
    "invD_yind = 1:dim_invD; invD_xind = 1:dim_invD;\n",
    "Xtilde_indy_up = vcat([S .+ (ind - 1) * N for ind in 1:K]...);\n",
    "nsam = length(perm_ind) + (K * n);"
   ]
  },
  {
   "cell_type": "code",
   "execution_count": 17,
   "metadata": {},
   "outputs": [],
   "source": [
    "# preallocation #\n",
    "μ_m = [Array{Float64, 2}(undef, length(M_ind[i]), q) for i in 1:q];\n",
    "nIndx = length(NN.nnIndx);\n",
    "A = [Array{Float64}(undef, nIndx) for i in 1:K];\n",
    "D = [Array{Float64}(undef, n) for i in 1:K];\n",
    "I_A = [spzeros(n, n) for i in 1:K];\n",
    "A_new = [Array{Float64}(undef, nIndx) for i in 1:K];\n",
    "D_new = [Array{Float64}(undef, n) for i in 1:K];\n",
    "I_A_new = [spzeros(n, n) for i in 1:K];\n",
    "Ystar = vcat(Y_ord[S, :], inv_Lr * μβ, inv_LΛ * μΛ);             # will be updated after imputing missing response\n",
    "Xstar = vcat([X_ord[S, :] spzeros(n, K)], [inv_Lr spzeros(p, K)], \n",
    "    [spzeros(K, p) inv_LΛ]);      \n",
    "bstar = fill(0.0, q); astar = aΣ + 0.5 * n;\n",
    "μγstar = vcat(μβ, μΛ); invVγstar = fill(0.0, p + K, p + K);\n",
    "Y_Xm = spzeros(n + p + K, q);\n",
    "nsam = length(perm_ind) + (K * n);\n",
    "Ytilde =  Array{Float64}(undef, nsam);\n",
    "Xtilde = SparseMatrixCSC{Float64,Int64};\n",
    "#precond_D = Array{Float64, 1}(undef, K * n);\n",
    "lll = fill(1.0, (n, 1)); "
   ]
  },
  {
   "cell_type": "markdown",
   "metadata": {},
   "source": [
    "MCMC sampling algorithm\n",
    "Q1: priors for $\\nu_i$ \n",
    "Q2: $\\phi_i$ may not be consistant, since the order can change "
   ]
  },
  {
   "cell_type": "code",
   "execution_count": 38,
   "metadata": {},
   "outputs": [],
   "source": [
    "# Preallocation for MCMC samples and Initalization #\n",
    "N_sam = 1000;\n",
    "N_pre_burn = Integer(trunc(0.5 * N_sam));\n",
    "N_pre_adapt = Integer(trunc(0.25 * N_sam));\n",
    "N_after_burn = N_sam - N_pre_burn;\n",
    "ω_incp_sam = Array{Float32, 2}(undef, n, q);\n",
    "\n",
    "ω_incp_sam_mean = fill(0.0, n, q);\n",
    "ω_incp_sam_var = fill(0.0, n, q);\n",
    "Y_m_sam_mean = [fill(0.0, length(M_ind[i])) for i in 1:length(M_ind)];\n",
    "Y_m_sam_var = [fill(0.0, length(M_ind[i])) for i in 1:length(M_ind)];\n",
    "\n",
    "F_sam = Array{Float64, 2}(undef, n, K);\n",
    "Y_m_sam =  [Array{Float64, 1}(undef, length(M_ind[i])) for i in 1:q];\n",
    "A_sam = Array{Float64, 2}(undef, N_sam, K); # acceptance rate\n",
    "lh_old = 1; lh_new = 1;     # record the likelihood for updating ranges\n",
    "\n",
    "ϕ_sam = Array{Float64, 2}(undef, K, N_sam + 1);\n",
    "\n",
    "γ_sam = vcat(fill(0.0, p, q), fill(0.001, K, q));\n",
    "γ_sam[(p + 1):(p + K), 1:K] = γ_sam[(p + 1):(p + K), 1:K] + I;\n",
    "Σ_sam = fill(0.2, q);\n",
    "ω_cov_sam = fill(0.0, q, q);\n",
    "ϕ_sam[:, 1] = fill(6.0, K);\n",
    "\n",
    "#precond_D = Array{Float64, 1}(undef, K * n);\n",
    "inv_sqrt_Σ_diag = Array{Float64, 1}(undef, q);\n",
    "RWM_scale = fill(0.1, K);"
   ]
  },
  {
   "cell_type": "code",
   "execution_count": 39,
   "metadata": {},
   "outputs": [],
   "source": [
    "using DelimitedFiles\n",
    "writedlm(\"../results/K1/γ_sam.csv\", vcat(fill(0.0, 1, q), γ_sam), \", \");\n",
    "writedlm(\"../results/K1/Σ_sam.csv\", vcat(0.0, Σ_sam), \", \");\n",
    "writedlm(\"../results/K1/ω_cov_sam.csv\", [fill(0.0, q)], \", \");\n",
    "writedlm(\"../results/K1/ϕ_sam.csv\", vcat(0.0, ϕ_sam[:, 1]), \", \");\n",
    "writedlm(\"../results/K1/A_sam.csv\", 0.0, \", \");"
   ]
  },
  {
   "cell_type": "code",
   "execution_count": 107,
   "metadata": {},
   "outputs": [
    {
     "name": "stderr",
     "output_type": "stream",
     "text": [
      "\u001b[32mComputing initial pass...100%|██████████████████████████████████████████████████| Time: 0:00:12\u001b[39m\n"
     ]
    }
   ],
   "source": [
    "# for loop for MCMC chain #\n",
    "Random.seed!(123);\n",
    "prog = Progress(N_sam, 1, \"Computing initial pass...\", 50)\n",
    "t1 = Dates.now() \n",
    "for l in 1:N_sam\n",
    "    # Build the matrix D_Sigma_o^{1/2} #\n",
    "    inv_sqrt_Σ_diag = 1 ./ (sqrt.(Σ_sam));\n",
    "    invD_ele = [x for ind in 1:q for x in fill(inv_sqrt_Σ_diag[ind], length(S_ind[ind]))];\n",
    "    invD = sparse(invD_xind, invD_yind, invD_ele);\n",
    "                \n",
    "    if l == 1\n",
    "        for k in 1:K\n",
    "            getAD(coords_ord[S, :], NN.nnIndx, NN.nnDist, NN.nnIndxLU, ϕ_sam[k, l], 0.5, \n",
    "                            A[k], D[k]);\n",
    "            I_A[k] = sparse(nnIndx_row, nnIndx_col, vcat(-A[k], ones(n)));\n",
    "        end\n",
    "    end\n",
    "    Ytilde = vcat(invD * vcat([Y_ord[S_ind[ind], ind] - X_ord[S_ind[ind], :] * \n",
    "                            γ_sam[1:p, ind] for ind in 1:q]...), zeros(K * n));\n",
    "    Xtilde = vcat(invD * kron(sparse(transpose(γ_sam[(p + 1):(p + K), :])), \n",
    "                            sparse(1:N, 1:N, ones(N)))[obs_ind, Xtilde_indy_up],\n",
    "             blockdiag([Diagonal(1 ./ sqrt.(D[ind])) * I_A[ind] for ind in 1:K]...));\n",
    "                  \n",
    "    # use LSMR to generate sample of F #                    \n",
    "    F_sam = reshape(lsmr(Xtilde, collect(Ytilde) + rand(Normal(), nsam)), :, K);\n",
    "                \n",
    "    # impute missing response  over S#\n",
    "    Xstar[1:n, (p + 1):(p + K)] = F_sam;        # update matrix Xstar with F\n",
    "    if(l > N_pre_burn) # only save ω_incp_sam after burn-in\n",
    "        ω_incp_sam = F_sam * γ_sam[(p + 1):(p + K), :] + lll * transpose(γ_sam[1, :]); \n",
    "        ω_incp_sam_mean = ω_incp_sam_mean + (ω_incp_sam ./ N_after_burn);\n",
    "        ω_incp_sam_var = ω_incp_sam_var + ((ω_incp_sam.^2) ./ N_after_burn);  \n",
    "        ω_cov_sam = cov(ω_incp_sam);\n",
    "    else\n",
    "        ω_cov_sam = cov(F_sam * γ_sam[(p + 1):(p + K), :]);\n",
    "    end                    \n",
    "    io1 = open(\"../results/K1/ω_cov_sam.csv\", \"a\" ); # covariance of latent process\n",
    "    writedlm(io1, ω_cov_sam, \", \");\n",
    "    close(io1);            \n",
    "           \n",
    "    # impute missing response  over S#            \n",
    "    for ind in 1:q\n",
    "        Y_m_sam[ind] = Xstar[M_Sind[ind], :] * γ_sam[:, ind]+   \n",
    "            rand(Normal(0.0, sqrt(Σ_sam[ind])), length(M_ind[ind]));\n",
    "    end\n",
    "         \n",
    "    if (l > N_pre_burn)  # only save imputed Y after burn-in\n",
    "        for ind in 1:q\n",
    "            Y_m_sam_mean[ind] = Y_m_sam_mean[ind] + (Y_m_sam[ind] ./ N_after_burn);\n",
    "            Y_m_sam_var[ind] = Y_m_sam_var[ind] + ((Y_m_sam[ind].^2) ./ N_after_burn);\n",
    "        end\n",
    "    end\n",
    "                \n",
    "                        \n",
    "    # use MNIW to sample γ Σ #\n",
    "    for ind in 1:q\n",
    "        Ystar[M_Sind[ind], ind] = Y_m_sam[ind]   # update Ystar with imputed response\n",
    "    end\n",
    "    \n",
    "    invVγstar = cholesky(Xstar'Xstar);\n",
    "    mul!(μγstar, transpose(Xstar), Ystar); μγstar = invVγstar.U \\ (invVγstar.L \\ μγstar);\n",
    "    Y_Xm = Ystar - Xstar * μγstar;      # maybe improve?\n",
    "    bstar = [bΣ[ind] + 0.5 * (norm(Y_Xm[:, ind])^2) for ind in 1:q];\n",
    "    Σ_sam = [rand(InverseGamma(astar, bstar[ind]), 1)[1] for ind in 1:q];          # sample Σ\n",
    "    γ_sam = (invVγstar.U \\ reshape(rand(Normal(), (p + K) * q), (p + K), q)) * \n",
    "                    Diagonal(sqrt.(Σ_sam)) + μγstar;          # sample γ    \n",
    "    io2 = open(\"../results/K1/Σ_sam.csv\", \"a\" );\n",
    "    writedlm(io2, Σ_sam, \", \");\n",
    "    close(io2); \n",
    "    io3 = open(\"../results/K1/γ_sam.csv\", \"a\" );\n",
    "    writedlm(io3, γ_sam, \", \");\n",
    "    close(io3)\n",
    "                \n",
    "    # use adaptive metropolis-hasting to update range\n",
    "    if l > 3 && l < N_pre_adapt\n",
    "        RWM_scale = [sqrt(2.38^2 * var(ϕ_sam[i, Integer(floor(l / 2)):l], \n",
    "                                corrected=true) * 0.95^2 + 0.05^2 * 0.1^2) for i in 1:K];\n",
    "    end\n",
    "    # use metropolis-hasting to update range\n",
    "    ϕ_sam[:, l + 1] = [ϕ_sam[i, l] + RWM_scale[i] * rand(Normal(), 1)[1] for i in 1:K]; # propose next sample point\n",
    "  \n",
    "    for i in 1:K\n",
    "        if ϕ_sam[i, l + 1] > 0.0\n",
    "            lh_old = -0.5 * (sum(log.(D[i])) + norm((I_A[i] * F_sam[:, i]) ./ sqrt.(D[i]))^2) + \n",
    "               loglikelihood(Gamma(aϕ[i], bϕ[i]), [ϕ_sam[i, l]]);\n",
    "            getAD(coords_ord[S, :], NN.nnIndx, NN.nnDist, NN.nnIndxLU, ϕ_sam[i, l + 1], \n",
    "                0.5, A_new[i], D_new[i]);\n",
    "            I_A_new[i] = sparse(nnIndx_row, nnIndx_col, vcat(-A_new[i], ones(n)));\n",
    "            lh_new = -0.5 * (sum(log.(D_new[i]))  + norm((I_A_new[i] * F_sam[:, i]) ./ sqrt.(D_new[i]))^2) +\n",
    "                   loglikelihood(Gamma(aϕ[i], bϕ[i]), [ϕ_sam[i, l + 1]]);     \n",
    "            A_sam[l, i] = min(exp(lh_new - lh_old), 1.0);\n",
    "            if rand(1)[1] < A_sam[l, i]\n",
    "                I_A[i] = copy(I_A_new[i]); D[i] = copy(D_new[i]);        # update and update the corresponding I_A D\n",
    "            else \n",
    "                ϕ_sam[i, l + 1] = ϕ_sam[i, l];\n",
    "            end\n",
    "        else \n",
    "            A_sam[l, i] = 0.0;\n",
    "            ϕ_sam[:, l + 1] = ϕ_sam[:, l];   \n",
    "        end\n",
    "    end                   \n",
    "    \n",
    "    io4 = open(\"../results/K1/ϕ_sam.csv\", \"a\" );\n",
    "    writedlm(io4, ϕ_sam[:, l + 1], \", \");\n",
    "    close(io4); \n",
    "    io5 = open(\"../results/K1/A_sam.csv\", \"a\" );\n",
    "    writedlm(io5, A_sam[l, :], \", \");\n",
    "    close(io5)\n",
    "                \n",
    "    next!(prog) # monitor the progress\n",
    "end\n",
    "t = (Dates.now() -t1).value / 1000\n",
    "ω_incp_sam_var = (ω_incp_sam_var - ω_incp_sam_mean.^2) * (N_after_burn / (N_after_burn - 1));\n",
    "Y_m_sam_var = [(Y_m_sam_var[ind] - Y_m_sam_mean[ind].^2) * \n",
    "               (N_after_burn / (N_after_burn - 1)) for ind in 1:q];"
   ]
  },
  {
   "cell_type": "code",
   "execution_count": 108,
   "metadata": {},
   "outputs": [
    {
     "data": {
      "text/plain": [
       "12.244"
      ]
     },
     "execution_count": 108,
     "metadata": {},
     "output_type": "execute_result"
    }
   ],
   "source": [
    "t "
   ]
  },
  {
   "cell_type": "code",
   "execution_count": 153,
   "metadata": {},
   "outputs": [],
   "source": [
    "#load data\n",
    "using CSV\n",
    "γ_sam = convert(Matrix{Float64}, CSV.read(\"../results/K1/γ_sam.csv\"));\n",
    "ind_γ_sam = 1: (p + K) :((p + K) * N_sam + 1);\n",
    "Σ_sam = convert(Matrix{Float64}, CSV.read(\"../results/K1/Σ_sam.csv\"));\n",
    "ind_Σ_sam = 1: q :(q * N_sam + 1);\n",
    "ω_cov_sam = convert(Matrix{Float64}, CSV.read(\"../results/K1/ω_cov_sam.csv\"));\n",
    "ind_ω_cov_sam = 1: q :(q * (N_sam - 1) + 1);"
   ]
  },
  {
   "cell_type": "markdown",
   "metadata": {},
   "source": [
    "# Posterior Inference "
   ]
  },
  {
   "cell_type": "code",
   "execution_count": 154,
   "metadata": {},
   "outputs": [],
   "source": [
    "covω = cov(ω_ord[S, :]);\n",
    "corω = cor(ω_ord[S, :]);"
   ]
  },
  {
   "cell_type": "code",
   "execution_count": 155,
   "metadata": {},
   "outputs": [],
   "source": [
    "ω_cov_pos_sam_mean = [mean(ω_cov_sam[ind_ω_cov_sam .+ (i - 1), j][(N_pre_burn + 1):N_sam]) \n",
    "    for i in 1:q, j in 1:q];"
   ]
  },
  {
   "cell_type": "code",
   "execution_count": 156,
   "metadata": {},
   "outputs": [],
   "source": [
    "ω_corr_sam = [(Diagonal([1 / sqrt(ω_cov_sam[ind_ω_cov_sam[l] .+ (i - 1), i]) for i in 1:q]) * \n",
    "    ω_cov_sam[ind_ω_cov_sam[l] .+ (1:q) .- 1, 1:q] * \n",
    "        Diagonal([1 / sqrt(ω_cov_sam[ind_ω_cov_sam[l] .+ (i - 1), i]) for i in 1:q])) for l in 1:N_sam];"
   ]
  },
  {
   "cell_type": "code",
   "execution_count": 157,
   "metadata": {},
   "outputs": [],
   "source": [
    "ω_corr_sam_mean = [mean([ω_corr_sam[i][j , k] for i in (N_pre_burn + 1):N_sam]) \n",
    "    for j in 1:q, k in 1:q];"
   ]
  },
  {
   "cell_type": "code",
   "execution_count": 158,
   "metadata": {},
   "outputs": [
    {
     "data": {
      "text/plain": [
       "19.0"
      ]
     },
     "execution_count": 158,
     "metadata": {},
     "output_type": "execute_result"
    }
   ],
   "source": [
    "# CVG-slope #\n",
    "count_slope = 0.0\n",
    "for i in 2:p\n",
    "    for j in 1:q\n",
    "        if ((quantile(γ_sam[ind_γ_sam .+ (i - 1), j][(N_pre_burn + 1):(N_sam + 1)], [0.025])[1] < \n",
    "                β[i, j] ) && (quantile(\n",
    "                        γ_sam[ind_γ_sam .+ (i - 1), j][(N_pre_burn + 1):(N_sam + 1)], [0.975])[1] > \n",
    "                β[i, j] ))\n",
    "            count_slope = count_slope + 1.0;\n",
    "        end\n",
    "        \n",
    "    end\n",
    "end\n",
    "count_slope"
   ]
  },
  {
   "cell_type": "code",
   "execution_count": 159,
   "metadata": {},
   "outputs": [
    {
     "name": "stdout",
     "output_type": "stream",
     "text": [
      "[34.7421029899632, 0.06194325810573334]"
     ]
    }
   ],
   "source": [
    "# ESS-slope #\n",
    "ESS_slope = fill(0.0, (p - 1), q)\n",
    "MCSE_slope = fill(0.0, (p - 1), q)\n",
    "for i in 2:p\n",
    "    for j in 1:q\n",
    "        ESS_slope[i - 1, j] = \n",
    "            effective_sample_size(γ_sam[ind_γ_sam .+ (i - 1), j][(N_pre_burn + 1):(N_sam + 1)]);\n",
    "        MCSE_slope[i - 1, j] = std(γ_sam[ind_γ_sam .+ (i - 1), j][(N_pre_burn + 1):(N_sam + 1)]) / \n",
    "            sqrt(ESS_slope[i - 1, j]);\n",
    "    end\n",
    "end\n",
    "print([minimum(ESS_slope), maximum(MCSE_slope)])"
   ]
  },
  {
   "cell_type": "code",
   "execution_count": 160,
   "metadata": {},
   "outputs": [
    {
     "name": "stdout",
     "output_type": "stream",
     "text": [
      "[42.842698701936136, 0.14252501053449404]"
     ]
    }
   ],
   "source": [
    "ESS_ω_cov = fill(0.0, q, q)\n",
    "MCSE_ω_cov = fill(0.0, q, q)\n",
    "for j in 1:q\n",
    "    for i in 1:q\n",
    "        ESS_ω_cov[i, j] = \n",
    "            effective_sample_size(ω_cov_sam[ind_ω_cov_sam .+ (i - 1), j][(N_pre_burn + 1):N_sam]);\n",
    "        MCSE_ω_cov[i, j] = std(ω_cov_sam[ind_ω_cov_sam .+ (i - 1), j][(N_pre_burn + 1):N_sam]) / \n",
    "            sqrt(ESS_ω_cov[i, j]);\n",
    "    end\n",
    "end\n",
    "print([minimum(ESS_ω_cov), maximum(MCSE_ω_cov)])"
   ]
  },
  {
   "cell_type": "code",
   "execution_count": 161,
   "metadata": {},
   "outputs": [
    {
     "name": "stdout",
     "output_type": "stream",
     "text": [
      "[1741.4929206284912, 0.02383400780452946]"
     ]
    }
   ],
   "source": [
    "ESS_ω_corr = fill(0.0, q, q)\n",
    "MCSE_ω_corr = fill(0.0, q, q)\n",
    "for j in 1:q\n",
    "    for i in 1:q\n",
    "        ESS_ω_corr[i, j] = \n",
    "            effective_sample_size([ω_corr_sam[k][i, j] for k in (N_pre_burn + 1):N_sam]);\n",
    "        MCSE_ω_corr[i, j] = std([ω_corr_sam[k][i, j] for k in (N_pre_burn + 1):N_sam]) / \n",
    "            sqrt(ESS_ω_corr[i, j]);\n",
    "    end\n",
    "end\n",
    "print([minimum(ESS_ω_corr), maximum(MCSE_ω_corr)])"
   ]
  },
  {
   "cell_type": "code",
   "execution_count": 162,
   "metadata": {},
   "outputs": [
    {
     "name": "stdout",
     "output_type": "stream",
     "text": [
      "[7.899756809682459, 0.10889302534834223]"
     ]
    }
   ],
   "source": [
    "ESS_Σ = fill(0.0, q)\n",
    "MCSE_Σ = fill(0.0, q)\n",
    "for i in 1:q\n",
    "    ESS_Σ[i] = \n",
    "        effective_sample_size(Σ_sam[ind_Σ_sam .+ (i - 1)][(N_pre_burn + 1):N_sam]);\n",
    "    MCSE_Σ[i] = std(Σ_sam[ind_Σ_sam .+ (i - 1)][(N_pre_burn + 1):N_sam]) / sqrt(ESS_Σ[i]);\n",
    "end\n",
    "print([minimum(ESS_Σ), maximum(MCSE_Σ)])"
   ]
  },
  {
   "cell_type": "code",
   "execution_count": 163,
   "metadata": {},
   "outputs": [],
   "source": [
    "# CVL #\n",
    "count_ω_incp = fill(0.0, q);\n",
    "for j in 1:q\n",
    "    for i in 1:n\n",
    "        count_ω_incp[j] = count_ω_incp[j] + \n",
    "        (((ω_incp_sam_mean[i, j] - 1.96 * sqrt(ω_incp_sam_var[i, j])) < ω_incp_obs[S[i], j]) && \n",
    "            ((ω_incp_sam_mean[i, j] + 1.96 * sqrt(ω_incp_sam_var[i, j])) > ω_incp_obs[S[i], j]))\n",
    "    end\n",
    "end\n",
    "count_ω_incp;"
   ]
  },
  {
   "cell_type": "code",
   "execution_count": 164,
   "metadata": {
    "scrolled": true
   },
   "outputs": [
    {
     "name": "stdout",
     "output_type": "stream",
     "text": [
      "[0.17833, 0.14833, 0.13667, 0.1575, 0.98833, 0.1725, 0.18167, 0.1475, 0.175, 0.15167]"
     ]
    }
   ],
   "source": [
    "print(round.(count_ω_incp ./ n, digits = 5))"
   ]
  },
  {
   "cell_type": "code",
   "execution_count": 165,
   "metadata": {},
   "outputs": [
    {
     "data": {
      "text/plain": [
       "0.24375"
      ]
     },
     "execution_count": 165,
     "metadata": {},
     "output_type": "execute_result"
    }
   ],
   "source": [
    "sum(count_ω_incp) / (q*n)"
   ]
  },
  {
   "cell_type": "code",
   "execution_count": 166,
   "metadata": {},
   "outputs": [
    {
     "name": "stdout",
     "output_type": "stream",
     "text": [
      "[0.935, 0.955, 0.955, 0.945, 0.965, 0.955, 0.95, 0.925, 0.92, 0.955]0.946"
     ]
    }
   ],
   "source": [
    "# CVG #\n",
    "count_Y_M = fill(0.0, q);\n",
    "Y_m_pos_qt = [Array{Float64, 2}(undef, length(M_ind[ind]), 3) for ind in 1:q];\n",
    "\n",
    "for i in 1:q\n",
    "    for j in 1:length(M_ind[i])\n",
    "        count_Y_M[i] = count_Y_M[i] + (((Y_m_sam_mean[i][j] - \n",
    "                1.96 * sqrt(Y_m_sam_var[i][j])) < Y_ord[M_ind[i][j], i]) && \n",
    "         ((Y_m_sam_mean[i][j] + 1.96 * sqrt(Y_m_sam_var[i][j])) > \n",
    "                Y_ord[M_ind[i][j], i]))\n",
    "    end\n",
    "end\n",
    "print(round.(count_Y_M ./ 200, digits = 4));\n",
    "print(round.(mean(count_Y_M ./ 200), digits = 4))"
   ]
  },
  {
   "cell_type": "code",
   "execution_count": 167,
   "metadata": {},
   "outputs": [
    {
     "name": "stdout",
     "output_type": "stream",
     "text": [
      "[6.7335, 8.104, 7.9781, 8.2598, 3.4881, 7.4839, 7.4308, 8.1664, 7.2861, 7.8387]7.3994"
     ]
    }
   ],
   "source": [
    "# RMSPE #\n",
    "MSPE = (sum([sum((Y_m_sam_mean[i] - Y_ord[S[M_Sind[i]], i]).^2) for i in 1:q])) / \n",
    "    (sum([length(M_Sind[i]) for i in 1:q]))\n",
    "RMSPE = sqrt(MSPE); \n",
    "print(round.([sqrt((sum((Y_m_sam_mean[i] - Y_ord[S[M_Sind[i]], i]).^2)) / \n",
    "        length(M_Sind[i])) for i in 1:q], digits = 4));\n",
    "print(round(RMSPE, digits = 4));"
   ]
  },
  {
   "cell_type": "code",
   "execution_count": 168,
   "metadata": {},
   "outputs": [],
   "source": [
    "@save \"../results/K1/Factor_mean_var_K1.jld\" ESS_slope MCSE_slope ESS_ω_corr MCSE_ω_corr ESS_ω_cov MCSE_ω_cov ESS_Σ MCSE_Σ count_slope count_ω_incp count_Y_M RMSPE ω_incp_sam_mean ω_incp_sam_var Y_m_sam_mean Y_m_sam_var Y_ord S_ind M_Sind K p q N_sam N_pre_burn"
   ]
  },
  {
   "cell_type": "code",
   "execution_count": null,
   "metadata": {},
   "outputs": [],
   "source": []
  }
 ],
 "metadata": {
  "kernelspec": {
   "display_name": "Julia 1.2.0",
   "language": "julia",
   "name": "julia-1.2"
  },
  "language_info": {
   "file_extension": ".jl",
   "mimetype": "application/julia",
   "name": "julia",
   "version": "1.2.0"
  }
 },
 "nbformat": 4,
 "nbformat_minor": 2
}
