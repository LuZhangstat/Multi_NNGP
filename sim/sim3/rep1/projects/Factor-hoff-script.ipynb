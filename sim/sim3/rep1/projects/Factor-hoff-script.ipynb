{
 "cells": [
  {
   "cell_type": "code",
   "execution_count": 1,
   "metadata": {},
   "outputs": [
    {
     "name": "stderr",
     "output_type": "stream",
     "text": [
      "\u001b[32mComputing initial pass...100%|██████████████████████████████████████████████████| Time: 0:01:59\u001b[39mm\n"
     ]
    },
    {
     "name": "stdout",
     "output_type": "stream",
     "text": [
      "slope ESS&MCSE:[2001.4311550906884, 0.004286000160283922]\n",
      "ω_cov ESS&MCSE:[563.3400872784849, 0.00724651374426978]\n",
      "ω_corr ESS&MCSE:[4093.2570328919064, 0.002349546354855489]\n",
      "Σ ESS&MCSE:[340.76159894455037, 0.006273308788623422]\n",
      "count_ω_incp[0.155, 0.19667, 0.38167, 0.18583, 0.17833, 0.35167, 0.225, 0.35583, 0.24833, 0.83333]0.31116666666666665\n",
      "count_Y_M: [0.955, 0.94, 0.975, 0.94, 0.93, 0.945, 0.96, 0.935, 0.96, 0.97]0.951\n",
      "RMSPE:[1.8318, 2.0764, 1.6455, 2.5856, 2.0944, 2.126, 2.1893, 1.6641, 2.089, 1.129]1.9791\n"
     ]
    },
    {
     "name": "stderr",
     "output_type": "stream",
     "text": [
      "\u001b[32mComputing initial pass...100%|██████████████████████████████████████████████████| Time: 0:04:11\u001b[39m\n"
     ]
    },
    {
     "name": "stdout",
     "output_type": "stream",
     "text": [
      "slope ESS&MCSE:[1471.1361170350954, 0.004948644671880843]\n",
      "ω_cov ESS&MCSE:[438.82367981783995, 0.007713199646756595]\n",
      "ω_corr ESS&MCSE:[1653.6880744769358, 0.007107924919720912]\n",
      "Σ ESS&MCSE:[230.80155460835337, 0.007208154149035133]\n",
      "count_ω_incp[0.26583, 0.21667, 0.41083, 0.19833, 0.92417, 0.35167, 0.23417, 0.37167, 0.26083, 0.7775]0.40116666666666667\n",
      "count_Y_M: [0.915, 0.945, 0.975, 0.93, 0.94, 0.94, 0.955, 0.93, 0.95, 0.965]0.9445\n",
      "RMSPE:[1.7567, 2.0744, 1.5958, 2.5629, 1.2208, 2.1266, 2.1807, 1.6388, 2.0847, 1.1793]1.8893\n"
     ]
    },
    {
     "name": "stderr",
     "output_type": "stream",
     "text": [
      "\u001b[32mComputing initial pass...100%|██████████████████████████████████████████████████| Time: 0:09:21\u001b[39m\n"
     ]
    },
    {
     "name": "stdout",
     "output_type": "stream",
     "text": [
      "slope ESS&MCSE:[1315.897773858125, 0.004532775827542629]\n",
      "ω_cov ESS&MCSE:[399.0548219952861, 0.00818138944868259]\n",
      "ω_corr ESS&MCSE:[555.1772343477152, 0.005129533267196898]\n",
      "Σ ESS&MCSE:[187.08817294081325, 0.006892688045050729]\n",
      "count_ω_incp[0.2875, 0.27333, 0.9375, 0.295, 0.92167, 0.37833, 0.2425, 0.40667, 0.52833, 0.62333]0.48941666666666667\n",
      "count_Y_M: [0.925, 0.93, 0.94, 0.93, 0.935, 0.94, 0.96, 0.95, 0.955, 0.96]0.9425\n",
      "RMSPE:[1.7459, 2.0374, 1.0839, 2.5239, 1.2156, 2.1565, 2.1828, 1.5749, 1.7791, 1.3458]1.8192\n"
     ]
    },
    {
     "name": "stderr",
     "output_type": "stream",
     "text": [
      "\u001b[32mComputing initial pass...100%|██████████████████████████████████████████████████| Time: 0:15:41\u001b[39m\n"
     ]
    },
    {
     "name": "stdout",
     "output_type": "stream",
     "text": [
      "slope ESS&MCSE:[913.9732825179574, 0.004512339126050298]\n",
      "ω_cov ESS&MCSE:[109.43264702102383, 0.01878694585808558]\n",
      "ω_corr ESS&MCSE:[77.39081647078923, 0.0055175525614519876]\n",
      "Σ ESS&MCSE:[74.80108353295607, 0.016777699175771075]\n",
      "count_ω_incp[0.39417, 0.24417, 0.94417, 0.32333, 0.9175, 0.40417, 0.28083, 0.92917, 0.35, 0.91583]0.5703333333333334\n",
      "count_Y_M: [0.93, 0.935, 0.955, 0.915, 0.94, 0.945, 0.965, 0.935, 0.955, 0.97]0.9445\n",
      "RMSPE:[1.6241, 2.0929, 1.0579, 2.5286, 1.2325, 2.1205, 2.1815, 1.0798, 1.933, 1.0759]1.771\n"
     ]
    },
    {
     "name": "stderr",
     "output_type": "stream",
     "text": [
      "\u001b[32mComputing initial pass...100%|██████████████████████████████████████████████████| Time: 0:36:10\u001b[39m\n"
     ]
    },
    {
     "name": "stdout",
     "output_type": "stream",
     "text": [
      "slope ESS&MCSE:[841.2253154214712, 0.0046847705300533836]\n",
      "ω_cov ESS&MCSE:[109.19341274444265, 0.022714353726392463]\n",
      "ω_corr ESS&MCSE:[258.2522055090433, 0.0070275271749660325]\n",
      "Σ ESS&MCSE:[39.52149812007149, 0.022343598575290953]\n",
      "count_ω_incp[0.37917, 0.85583, 0.94917, 0.35417, 0.92583, 0.41917, 0.29167, 0.93333, 0.55167, 0.95333]0.6613333333333333\n",
      "count_Y_M: [0.93, 0.96, 0.95, 0.915, 0.94, 0.945, 0.96, 0.93, 0.955, 0.965]0.945\n",
      "RMSPE:[1.6366, 1.5444, 1.0501, 2.5051, 1.2109, 2.1154, 2.1827, 1.0679, 1.807, 1.0391]1.6921\n"
     ]
    },
    {
     "name": "stderr",
     "output_type": "stream",
     "text": [
      "\u001b[32mComputing initial pass...100%|██████████████████████████████████████████████████| Time: 0:54:00\u001b[39m\n"
     ]
    },
    {
     "name": "stdout",
     "output_type": "stream",
     "text": [
      "slope ESS&MCSE:[1090.4656914845057, 0.004669791565881181]\n",
      "ω_cov ESS&MCSE:[173.2454866101449, 0.010050173834372081]\n",
      "ω_corr ESS&MCSE:[427.84332179209866, 0.00369191694958144]\n",
      "Σ ESS&MCSE:[39.25162507630564, 0.011675347019752562]\n",
      "count_ω_incp[0.38917, 0.88, 0.9475, 0.90833, 0.92667, 0.45583, 0.31667, 0.93667, 0.61917, 0.93417]0.7314166666666667\n",
      "count_Y_M: [0.935, 0.96, 0.94, 0.955, 0.94, 0.94, 0.97, 0.94, 0.955, 0.97]0.9505\n",
      "RMSPE:[1.6186, 1.5081, 1.0443, 1.8918, 1.2145, 2.1416, 2.1525, 1.0758, 1.7557, 1.0611]1.6008\n"
     ]
    },
    {
     "name": "stderr",
     "output_type": "stream",
     "text": [
      "\u001b[32mComputing initial pass...100%|██████████████████████████████████████████████████| Time: 1:12:02\u001b[39m\n"
     ]
    },
    {
     "name": "stdout",
     "output_type": "stream",
     "text": [
      "slope ESS&MCSE:[877.6756487596559, 0.00439410314952744]\n",
      "ω_cov ESS&MCSE:[190.1728448387063, 0.011996980262232417]\n",
      "ω_corr ESS&MCSE:[938.3654431282802, 0.0029680974346512692]\n",
      "Σ ESS&MCSE:[42.757045689478495, 0.011458161112212878]\n",
      "count_ω_incp[0.92667, 0.8875, 0.95167, 0.91167, 0.925, 0.43833, 0.33417, 0.93917, 0.61667, 0.96167]0.78925\n",
      "count_Y_M: [0.935, 0.97, 0.945, 0.94, 0.935, 0.955, 0.975, 0.925, 0.96, 0.955]0.9495\n",
      "RMSPE:[1.1172, 1.4919, 1.0419, 1.8701, 1.2088, 2.1082, 2.1382, 1.0703, 1.7698, 1.0363]1.5455\n"
     ]
    },
    {
     "name": "stderr",
     "output_type": "stream",
     "text": [
      "\u001b[32mComputing initial pass...100%|██████████████████████████████████████████████████| Time: 1:28:36\u001b[39m\n"
     ]
    },
    {
     "name": "stdout",
     "output_type": "stream",
     "text": [
      "slope ESS&MCSE:[713.493763693112, 0.004495795678307762]\n",
      "ω_cov ESS&MCSE:[197.52646760412023, 0.011834397309886549]\n",
      "ω_corr ESS&MCSE:[477.93039450123877, 0.0025285302239154745]\n",
      "Σ ESS&MCSE:[64.16871757918898, 0.010568452301577214]\n",
      "count_ω_incp[0.92583, 0.90667, 0.9525, 0.905, 0.92417, 0.7125, 0.85917, 0.93917, 0.62583, 0.96083]0.8711666666666666\n",
      "count_Y_M: [0.935, 0.95, 0.95, 0.935, 0.935, 0.935, 0.94, 0.925, 0.955, 0.965]0.9425\n",
      "RMSPE:[1.1174, 1.487, 1.0388, 1.8678, 1.2035, 1.9999, 2.032, 1.0715, 1.7518, 1.0385]1.5133\n"
     ]
    },
    {
     "name": "stderr",
     "output_type": "stream",
     "text": [
      "\u001b[32mComputing initial pass...100%|██████████████████████████████████████████████████| Time: 1:42:00\u001b[39m\n"
     ]
    },
    {
     "name": "stdout",
     "output_type": "stream",
     "text": [
      "slope ESS&MCSE:[613.4274882542583, 0.0050692700216241745]\n",
      "ω_cov ESS&MCSE:[162.86426615977481, 0.010500491737170058]\n",
      "ω_corr ESS&MCSE:[450.3305165266959, 0.002284537730433723]\n",
      "Σ ESS&MCSE:[66.91928810008183, 0.011591554963774233]\n",
      "count_ω_incp[0.9225, 0.93833, 0.96, 0.95, 0.92333, 0.74, 0.84917, 0.93083, 0.9175, 0.9675]0.9099166666666667\n",
      "count_Y_M: [0.93, 0.95, 0.935, 0.935, 0.94, 0.925, 0.935, 0.925, 0.95, 0.955]0.938\n",
      "RMSPE:[1.1216, 1.4478, 1.0454, 1.8175, 1.2031, 1.9908, 2.0501, 1.0744, 1.6399, 0.9998]1.4902\n"
     ]
    },
    {
     "name": "stderr",
     "output_type": "stream",
     "text": [
      "\u001b[32mComputing initial pass...100%|██████████████████████████████████████████████████| Time: 2:09:04\u001b[39m\n"
     ]
    },
    {
     "name": "stdout",
     "output_type": "stream",
     "text": [
      "slope ESS&MCSE:[648.1577334891222, 0.004743486960362301]\n",
      "ω_cov ESS&MCSE:[157.88722775509203, 0.01667265952172639]\n",
      "ω_corr ESS&MCSE:[575.0506859726244, 0.0017530513816557552]\n",
      "Σ ESS&MCSE:[39.9298948922098, 0.017940667538223848]\n",
      "count_ω_incp[0.91167, 0.93583, 0.96083, 0.94583, 0.92333, 0.95917, 0.9225, 0.93083, 0.92167, 0.9625]0.9374166666666667\n",
      "count_Y_M: [0.93, 0.95, 0.945, 0.935, 0.94, 0.935, 0.955, 0.925, 0.955, 0.965]0.9435\n",
      "RMSPE:[1.1181, 1.4572, 1.0385, 1.8254, 1.196, 1.8388, 1.9824, 1.078, 1.6309, 1.0025]1.4613\n"
     ]
    }
   ],
   "source": [
    "# necessary packages #\n",
    "\n",
    "#using Pkg\n",
    "#Pkg.add(\"Distances\")\n",
    "using Distributions\n",
    "using Random\n",
    "using Distances\n",
    "using LinearAlgebra\n",
    "using SparseArrays\n",
    "using IterativeSolvers\n",
    "using ProgressMeter\n",
    "using JLD2\n",
    "using MCMCDiagnostics\n",
    "using Printf\n",
    "using Dates\n",
    "\n",
    "include(\"../../../../util2.j\")\n",
    "\n",
    "@load \"../data/sim3data.jld\";\n",
    "\n",
    "for K in 1:10\n",
    "    # priors #\n",
    "    p = size(X_ord)[2]; q = size(Y_ord)[2];\n",
    "    μβ = spzeros(p, q); \n",
    "    μΛ = spzeros(K, q);\n",
    "    aΣ = 2; bΣ = fill(1.0, q);\n",
    "    inv_Lr = spzeros(p, p); inv_LΛ = Diagonal(repeat([0.2], K));\n",
    "    aϕ = fill(2.0, K); bϕ = fill(6 / sqrt(2), K);\n",
    "\n",
    "    # Some data preparations #\n",
    "\n",
    "    dim_invD = sum(index_S_M);\n",
    "    invD_yind = 1:dim_invD; invD_xind = 1:dim_invD;\n",
    "    try\n",
    "        (Xtilde_indy_up = vcat([S .+ (ind - 1) * N for ind in 1:K]...))\n",
    "    catch err\n",
    "    end\n",
    "    try\n",
    "        (Xtilde_indy_up = vcat([S .+ (ind - 1) * N for ind in 1:K]...))\n",
    "    catch err\n",
    "    end\n",
    "    try\n",
    "        (Xtilde_indy_up = vcat([S .+ (ind - 1) * N for ind in 1:K]...))\n",
    "    catch err\n",
    "    end\n",
    "    try\n",
    "        (Xtilde_indy_up = vcat([S .+ (ind - 1) * N for ind in 1:K]...))\n",
    "    catch err\n",
    "    end\n",
    "    try\n",
    "        (Xtilde_indy_up = vcat([S .+ (ind - 1) * N for ind in 1:K]...))\n",
    "    catch err\n",
    "    end\n",
    "    try\n",
    "        (Xtilde_indy_up = vcat([S .+ (ind - 1) * N for ind in 1:K]...))\n",
    "    catch err\n",
    "    end\n",
    "    try\n",
    "        (Xtilde_indy_up = vcat([S .+ (ind - 1) * N for ind in 1:K]...))\n",
    "    catch err\n",
    "    end\n",
    "    Xtilde_indy_up = vcat([(S .+ (ind - 1) * N) for ind in 1:K]...);\n",
    "    nsam = length(perm_ind) + (K * n);\n",
    "\n",
    "    # preallocation #\n",
    "    μ_m = [Array{Float64, 2}(undef, length(M_ind[i]), q) for i in 1:q];\n",
    "    nIndx = length(NN.nnIndx);\n",
    "    A = [Array{Float64}(undef, nIndx) for i in 1:K];\n",
    "    D = [Array{Float64}(undef, n) for i in 1:K];\n",
    "    I_A = [spzeros(n, n) for i in 1:K];\n",
    "    A_new = [Array{Float64}(undef, nIndx) for i in 1:K];\n",
    "    D_new = [Array{Float64}(undef, n) for i in 1:K];\n",
    "    I_A_new = [spzeros(n, n) for i in 1:K];\n",
    "    Ystar = vcat(Y_ord[S, :], inv_Lr * μβ, inv_LΛ * μΛ);             # will be updated after imputing missing response\n",
    "    Xstar = vcat([X_ord[S, :] spzeros(n, K)], [inv_Lr spzeros(p, K)], \n",
    "        [spzeros(K, p) inv_LΛ]);      \n",
    "    bstar = fill(0.0, q); astar = aΣ + 0.5 * n;\n",
    "    μγstar = vcat(μβ, μΛ); invVγstar = fill(0.0, p + K, p + K);\n",
    "    Y_Xm = spzeros(n + p + K, q);\n",
    "    nsam = length(perm_ind) + (K * n);\n",
    "    Ytilde =  Array{Float64}(undef, nsam);\n",
    "    Xtilde = SparseMatrixCSC{Float64,Int64};\n",
    "    lll = fill(1.0, (n, 1)); \n",
    "\n",
    "    # Preallocation for MCMC samples and Initalization #\n",
    "    N_sam = 10000;\n",
    "    N_pre_burn = Integer(trunc(0.5 * N_sam));\n",
    "    N_pre_adapt = Integer(trunc(0.25 * N_sam));\n",
    "    N_after_burn = N_sam - N_pre_burn;\n",
    "    ω_incp_sam = Array{Float32, 2}(undef, n, q);\n",
    "\n",
    "    ω_incp_sam_mean = fill(0.0, n, q);\n",
    "    ω_incp_sam_var = fill(0.0, n, q);\n",
    "    Y_m_sam_mean = [fill(0.0, length(M_ind[i])) for i in 1:length(M_ind)];\n",
    "    Y_m_sam_var = [fill(0.0, length(M_ind[i])) for i in 1:length(M_ind)];\n",
    "\n",
    "    F_sam = Array{Float64, 2}(undef, n, K);\n",
    "    Y_m_sam =  [Array{Float64, 1}(undef, length(M_ind[i])) for i in 1:q];\n",
    "    A_sam = Array{Float64, 2}(undef, N_sam, K); # acceptance rate\n",
    "    lh_old = 1; lh_new = 1;     # record the likelihood for updating ranges\n",
    "\n",
    "    ϕ_sam = Array{Float64, 2}(undef, K, N_sam + 1);\n",
    "    \n",
    "    γ_sam = vcat(fill(0.0, p, q), fill(0.001, K, q));\n",
    "    γ_sam[(p + 1):(p + K), 1:K] = γ_sam[(p + 1):(p + K), 1:K] + I;\n",
    "    Σ_sam = fill(0.2, q);\n",
    "    ω_cov_sam = fill(0.0, q, q);\n",
    "    ϕ_sam[:, 1] = fill(6.0, K);\n",
    "\n",
    "    #precond_D = Array{Float64, 1}(undef, K * n);\n",
    "    inv_sqrt_Σ_diag = Array{Float64, 1}(undef, q);\n",
    "    RWM_scale = fill(0.1, K);\n",
    "\n",
    "    using DelimitedFiles\n",
    "    writedlm(@sprintf(\"../results/K%01.d/γ_sam.csv\", K), \n",
    "        vcat(fill(0.0, 1, q), γ_sam), \", \");\n",
    "    writedlm(@sprintf(\"../results/K%01.d/Σ_sam.csv\", K), \n",
    "        vcat(0.0, Σ_sam), \", \");\n",
    "    writedlm(@sprintf(\"../results/K%01.d/ω_cov_sam.csv\", K), \n",
    "        [fill(0.0, q)], \", \");\n",
    "    writedlm(@sprintf(\"../results/K%01.d/ϕ_sam.csv\", K), \n",
    "        vcat(0.0, ϕ_sam[:, 1]), \", \");\n",
    "    writedlm(@sprintf(\"../results/K%01.d/A_sam.csv\", K), \n",
    "        0.0, \", \");\n",
    "    \n",
    "    # for loop for MCMC chain #\n",
    "    t1 = Dates.now() \n",
    "    Random.seed!(123);\n",
    "    prog = Progress(N_sam, 1, \"Computing initial pass...\", 50)\n",
    "    for l in 1:N_sam\n",
    "        # Build the matrix D_Sigma_o^{1/2} #\n",
    "        inv_sqrt_Σ_diag = 1 ./ (sqrt.(Σ_sam));\n",
    "        invD_ele = [x for ind in 1:q for x in fill(inv_sqrt_Σ_diag[ind], length(S_ind[ind]))];\n",
    "        invD = sparse(invD_xind, invD_yind, invD_ele);\n",
    "                \n",
    "        if l == 1\n",
    "            for k in 1:K\n",
    "                getAD(coords_ord[S, :], NN.nnIndx, NN.nnDist, NN.nnIndxLU, ϕ_sam[k, l], 0.5, \n",
    "                                A[k], D[k]);\n",
    "                I_A[k] = sparse(nnIndx_row, nnIndx_col, vcat(-A[k], ones(n)));\n",
    "            end\n",
    "        end\n",
    "        Ytilde = vcat(invD * vcat([Y_ord[S_ind[ind], ind] - X_ord[S_ind[ind], :] * \n",
    "                                γ_sam[1:p, ind] for ind in 1:q]...), zeros(K * n));\n",
    "        Xtilde = vcat(invD * kron(sparse(transpose(γ_sam[(p + 1):(p + K), :])), \n",
    "                            sparse(1:N, 1:N, ones(N)))[obs_ind, Xtilde_indy_up],\n",
    "                 blockdiag([Diagonal(1 ./ sqrt.(D[ind])) * I_A[ind] for ind in 1:K]...));\n",
    "                  \n",
    "        # use LSMR to generate sample of F #                    \n",
    "        F_sam = reshape(lsmr(Xtilde, collect(Ytilde) + rand(Normal(), nsam)), :, K);\n",
    "                \n",
    "        # impute missing response  over S#\n",
    "        Xstar[1:n, (p + 1):(p + K)] = F_sam;        # update matrix Xstar with F\n",
    "        if(l > N_pre_burn) # only save ω_incp_sam after burn-in\n",
    "            ω_incp_sam = F_sam * γ_sam[(p + 1):(p + K), :] + lll * transpose(γ_sam[1, :]); \n",
    "            ω_incp_sam_mean = ω_incp_sam_mean + (ω_incp_sam ./ N_after_burn);\n",
    "            ω_incp_sam_var = ω_incp_sam_var + ((ω_incp_sam.^2) ./ N_after_burn);  \n",
    "            ω_cov_sam = cov(ω_incp_sam);\n",
    "        else\n",
    "            ω_cov_sam = cov(F_sam * γ_sam[(p + 1):(p + K), :]);\n",
    "        end                    \n",
    "        io1 = open(@sprintf(\"../results/K%01.d/ω_cov_sam.csv\", K), \"a\" ); # covariance of latent process\n",
    "        writedlm(io1, ω_cov_sam, \", \");\n",
    "        close(io1);            \n",
    "           \n",
    "        # impute missing response  over S#            \n",
    "        for ind in 1:q\n",
    "            Y_m_sam[ind] = Xstar[M_Sind[ind], :] * γ_sam[:, ind]+   \n",
    "                rand(Normal(0.0, sqrt(Σ_sam[ind])), length(M_ind[ind]));\n",
    "        end\n",
    "             \n",
    "        if (l > N_pre_burn)  # only save imputed Y after burn-in\n",
    "            for ind in 1:q\n",
    "                Y_m_sam_mean[ind] = Y_m_sam_mean[ind] + (Y_m_sam[ind] ./ N_after_burn);\n",
    "                Y_m_sam_var[ind] = Y_m_sam_var[ind] + ((Y_m_sam[ind].^2) ./ N_after_burn);\n",
    "            end\n",
    "        end\n",
    "                \n",
    "                        \n",
    "        # use MNIW to sample γ Σ #\n",
    "        for ind in 1:q\n",
    "            Ystar[M_Sind[ind], ind] = Y_m_sam[ind]   # update Ystar with imputed response\n",
    "        end\n",
    "    \n",
    "        invVγstar = cholesky(Xstar'Xstar);\n",
    "        mul!(μγstar, transpose(Xstar), Ystar); μγstar = invVγstar.U \\ (invVγstar.L \\ μγstar);\n",
    "        Y_Xm = Ystar - Xstar * μγstar;      # maybe improve?\n",
    "        bstar = [bΣ[ind] + 0.5 * (norm(Y_Xm[:, ind])^2) for ind in 1:q];\n",
    "        Σ_sam = [rand(InverseGamma(astar, bstar[ind]), 1)[1] for ind in 1:q];          # sample Σ\n",
    "        γ_sam = (invVγstar.U \\ reshape(rand(Normal(), (p + K) * q), (p + K), q)) * \n",
    "                    Diagonal(sqrt.(Σ_sam)) + μγstar;          # sample γ    \n",
    "        io2 = open(@sprintf(\"../results/K%01.d/Σ_sam.csv\", K), \"a\" );\n",
    "        writedlm(io2, Σ_sam, \", \");\n",
    "        close(io2); \n",
    "        io3 = open(@sprintf(\"../results/K%01.d/γ_sam.csv\", K), \"a\" );\n",
    "        writedlm(io3, γ_sam, \", \");\n",
    "        close(io3);\n",
    "                \n",
    "        # use adaptive metropolis-hasting to update range\n",
    "        if l > 3 && l < N_pre_adapt\n",
    "            RWM_scale = [sqrt(2.38^2 * var(ϕ_sam[i, Integer(floor(l / 2)):l], \n",
    "                                    corrected=true) * 0.95^2 + 0.05^2 * 0.1^2) for i in 1:K];\n",
    "        end\n",
    "        # use metropolis-hasting to update range\n",
    "        ϕ_sam[:, l + 1] = [ϕ_sam[i, l] + RWM_scale[i] * rand(Normal(), 1)[1] for i in 1:K]; # propose next sample point\n",
    "  \n",
    "        for i in 1:K\n",
    "            if ϕ_sam[i, l + 1] > 0.0\n",
    "                lh_old = -0.5 * (sum(log.(D[i])) + norm((I_A[i] * F_sam[:, i]) ./ sqrt.(D[i]))^2) + \n",
    "                   loglikelihood(Gamma(aϕ[i], bϕ[i]), [ϕ_sam[i, l]]);\n",
    "                getAD(coords_ord[S, :], NN.nnIndx, NN.nnDist, NN.nnIndxLU, ϕ_sam[i, l + 1], \n",
    "                    0.5, A_new[i], D_new[i]);\n",
    "                I_A_new[i] = sparse(nnIndx_row, nnIndx_col, vcat(-A_new[i], ones(n)));\n",
    "                lh_new = -0.5 * (sum(log.(D_new[i]))  + norm((I_A_new[i] * F_sam[:, i]) ./ sqrt.(D_new[i]))^2) +\n",
    "                       loglikelihood(Gamma(aϕ[i], bϕ[i]), [ϕ_sam[i, l + 1]]);     \n",
    "                A_sam[l, i] = min(exp(lh_new - lh_old), 1.0);\n",
    "                if rand(1)[1] < A_sam[l, i]\n",
    "                    I_A[i] = copy(I_A_new[i]); D[i] = copy(D_new[i]);        # update and update the corresponding I_A D\n",
    "                else \n",
    "                    ϕ_sam[i, l + 1] = ϕ_sam[i, l];\n",
    "                end\n",
    "            else \n",
    "                A_sam[l, i] = 0.0;\n",
    "                ϕ_sam[:, l + 1] = ϕ_sam[:, l];   \n",
    "            end\n",
    "        end                   \n",
    "    \n",
    "        io4 = open(@sprintf(\"../results/K%01.d/ϕ_sam.csv\", K), \"a\" );\n",
    "        writedlm(io4, ϕ_sam[:, l + 1], \", \");\n",
    "        close(io4); \n",
    "        io5 = open(@sprintf(\"../results/K%01.d/A_sam.csv\", K), \"a\" );\n",
    "        writedlm(io5, A_sam[l, :], \", \");\n",
    "        close(io5);\n",
    "                \n",
    "        next!(prog); # monitor the progress\n",
    "    end\n",
    "    t_run = (Dates.now() -t1).value / 1000;\n",
    "    ω_incp_sam_var = (ω_incp_sam_var - ω_incp_sam_mean.^2) * (N_after_burn / (N_after_burn - 1));\n",
    "    Y_m_sam_var = [(Y_m_sam_var[ind] - Y_m_sam_mean[ind].^2) * \n",
    "                   (N_after_burn / (N_after_burn - 1)) for ind in 1:q];\n",
    "\n",
    "    #load data\n",
    "    using CSV\n",
    "    γ_sam = convert(Matrix{Float64}, CSV.read(@sprintf(\"../results/K%01.d/γ_sam.csv\", K)));\n",
    "    ind_γ_sam = 1: (p + K) :((p + K) * N_sam + 1);\n",
    "    Σ_sam = convert(Matrix{Float64}, CSV.read(@sprintf(\"../results/K%01.d/Σ_sam.csv\", K)));\n",
    "    ind_Σ_sam = 1: q :(q * N_sam + 1);\n",
    "    ω_cov_sam = convert(Matrix{Float64}, CSV.read(@sprintf(\"../results/K%01.d/ω_cov_sam.csv\", K)));\n",
    "    ind_ω_cov_sam = 1: q :(q * (N_sam - 1) + 1);\n",
    "            \n",
    "    covω = cov(ω_ord[S, :]);\n",
    "    corω = cor(ω_ord[S, :]);\n",
    "    ω_cov_pos_sam_mean = [mean(ω_cov_sam[ind_ω_cov_sam .+ (i - 1), j][(N_pre_burn + 1):N_sam]) \n",
    "        for i in 1:q, j in 1:q];\n",
    "    ω_corr_sam = [(Diagonal([1 / sqrt(ω_cov_sam[ind_ω_cov_sam[l] .+ (i - 1), i]) for i in 1:q]) * \n",
    "        ω_cov_sam[ind_ω_cov_sam[l] .+ (1:q) .- 1, 1:q] * \n",
    "            Diagonal([1 / sqrt(ω_cov_sam[ind_ω_cov_sam[l] .+ (i - 1), i]) for i in 1:q])) for l in 1:N_sam];\n",
    "    ω_corr_sam_mean = [mean([ω_corr_sam[i][j , k] for i in (N_pre_burn + 1):N_sam]) \n",
    "        for j in 1:q, k in 1:q];\n",
    "    # CVG-slope #\n",
    "    count_slope = 0.0\n",
    "    for i in 2:p\n",
    "        for j in 1:q\n",
    "            if ((quantile(γ_sam[ind_γ_sam .+ (i - 1), j][(N_pre_burn + 1):(N_sam + 1)], [0.025])[1] < \n",
    "                    β[i, j] ) && (quantile(\n",
    "                            γ_sam[ind_γ_sam .+ (i - 1), j][(N_pre_burn + 1):(N_sam + 1)], [0.975])[1] > \n",
    "                    β[i, j] ))\n",
    "                count_slope = count_slope + 1.0;\n",
    "            end    \n",
    "        end\n",
    "    end\n",
    "    count_slope\n",
    "    # ESS-slope #\n",
    "    ESS_slope = fill(0.0, (p - 1), q)\n",
    "    MCSE_slope = fill(0.0, (p - 1), q)\n",
    "    for i in 2:p\n",
    "        for j in 1:q\n",
    "            ESS_slope[i - 1, j] = \n",
    "                effective_sample_size(γ_sam[ind_γ_sam .+ (i - 1), j][(N_pre_burn + 1):(N_sam + 1)]);\n",
    "            MCSE_slope[i - 1, j] = std(γ_sam[ind_γ_sam .+ (i - 1), j][(N_pre_burn + 1):(N_sam + 1)]) / \n",
    "                sqrt(ESS_slope[i - 1, j]);\n",
    "        end\n",
    "    end\n",
    "    print(\"slope ESS&MCSE:\", [minimum(ESS_slope), maximum(MCSE_slope)], \"\\n\")\n",
    "    ESS_ω_cov = fill(0.0, q, q)\n",
    "    MCSE_ω_cov = fill(0.0, q, q)\n",
    "    for j in 1:q\n",
    "        for i in 1:q\n",
    "            ESS_ω_cov[i, j] = \n",
    "                effective_sample_size(ω_cov_sam[ind_ω_cov_sam .+ (i - 1), j][(N_pre_burn + 1):N_sam]);\n",
    "            MCSE_ω_cov[i, j] = std(ω_cov_sam[ind_ω_cov_sam .+ (i - 1), j][(N_pre_burn + 1):N_sam]) / \n",
    "                sqrt(ESS_ω_cov[i, j]);\n",
    "        end\n",
    "    end\n",
    "    print(\"ω_cov ESS&MCSE:\", [minimum(ESS_ω_cov), maximum(MCSE_ω_cov)], \"\\n\")\n",
    "    ESS_ω_corr = fill(0.0, q, q)\n",
    "    MCSE_ω_corr = fill(0.0, q, q)\n",
    "    for j in 1:q\n",
    "        for i in 1:q\n",
    "            ESS_ω_corr[i, j] = \n",
    "                effective_sample_size([ω_corr_sam[k][i, j] for k in (N_pre_burn + 1):N_sam]);\n",
    "            MCSE_ω_corr[i, j] = std([ω_corr_sam[k][i, j] for k in (N_pre_burn + 1):N_sam]) / \n",
    "                sqrt(ESS_ω_corr[i, j]);\n",
    "        end\n",
    "    end\n",
    "    print(\"ω_corr ESS&MCSE:\",[minimum(ESS_ω_corr), maximum(MCSE_ω_corr)], \"\\n\")\n",
    "    ESS_Σ = fill(0.0, q)\n",
    "    MCSE_Σ = fill(0.0, q)\n",
    "    for i in 1:q\n",
    "        ESS_Σ[i] = \n",
    "            effective_sample_size(Σ_sam[ind_Σ_sam .+ (i - 1)][(N_pre_burn + 1):N_sam]);\n",
    "        MCSE_Σ[i] = std(Σ_sam[ind_Σ_sam .+ (i - 1)][(N_pre_burn + 1):N_sam]) / sqrt(ESS_Σ[i]);\n",
    "    end\n",
    "    print(\"Σ ESS&MCSE:\", [minimum(ESS_Σ), maximum(MCSE_Σ)], \"\\n\")\n",
    "            \n",
    "    # CVL #\n",
    "    count_ω_incp = fill(0.0, q);\n",
    "    for j in 1:q\n",
    "        for i in 1:n\n",
    "            count_ω_incp[j] = count_ω_incp[j] + \n",
    "            (((ω_incp_sam_mean[i, j] - 1.96 * sqrt(ω_incp_sam_var[i, j])) < ω_incp_obs[S[i], j]) && \n",
    "                ((ω_incp_sam_mean[i, j] + 1.96 * sqrt(ω_incp_sam_var[i, j])) > ω_incp_obs[S[i], j]))\n",
    "        end\n",
    "    end\n",
    "    count_ω_incp;\n",
    "    print(\"count_ω_incp\", round.(count_ω_incp ./ n, digits = 5), sum(count_ω_incp) / (q*n), \"\\n\")    \n",
    "            \n",
    "    # CVG #\n",
    "    count_Y_M = fill(0.0, q);\n",
    "    Y_m_pos_qt = [Array{Float64, 2}(undef, length(M_ind[ind]), 3) for ind in 1:q];\n",
    "\n",
    "    for i in 1:q\n",
    "        for j in 1:length(M_ind[i])\n",
    "            count_Y_M[i] = count_Y_M[i] + (((Y_m_sam_mean[i][j] - \n",
    "                1.96 * sqrt(Y_m_sam_var[i][j])) < Y_ord[M_ind[i][j], i]) && \n",
    "                 ((Y_m_sam_mean[i][j] + 1.96 * sqrt(Y_m_sam_var[i][j])) > \n",
    "                Y_ord[M_ind[i][j], i]))\n",
    "        end\n",
    "    end\n",
    "    print(\"count_Y_M: \", round.(count_Y_M ./ 200, digits = 4), \n",
    "                round.(mean(count_Y_M ./ 200), digits = 4), \"\\n\");\n",
    "    # RMSPE #\n",
    "    MSPE = (sum([sum((Y_m_sam_mean[i] - Y_ord[S[M_Sind[i]], i]).^2) for i in 1:q])) / \n",
    "        (sum([length(M_Sind[i]) for i in 1:q]))\n",
    "    RMSPE = sqrt(MSPE); \n",
    "    print(\"RMSPE:\", round.([sqrt((sum((Y_m_sam_mean[i] - Y_ord[S[M_Sind[i]], i]).^2)) / \n",
    "        length(M_Sind[i])) for i in 1:q], digits = 4), round(RMSPE, digits = 4), \"\\n\");\n",
    "    @save @sprintf(\"../results/K%01.d/Factor_mean_var_K%01.d.jld\", K, K) t_run ESS_slope MCSE_slope ESS_ω_corr MCSE_ω_corr ESS_ω_cov MCSE_ω_cov ESS_Σ MCSE_Σ count_slope count_ω_incp count_Y_M RMSPE ω_incp_sam_mean ω_incp_sam_var Y_m_sam_mean Y_m_sam_var Y_ord S_ind M_Sind K p q N_sam N_pre_burn\n",
    "\n",
    "end"
   ]
  },
  {
   "cell_type": "code",
   "execution_count": 6,
   "metadata": {},
   "outputs": [
    {
     "data": {
      "text/plain": [
       "3-element Array{Float64,1}:\n",
       " 0.2\n",
       " 0.2\n",
       " 0.2"
      ]
     },
     "execution_count": 6,
     "metadata": {},
     "output_type": "execute_result"
    }
   ],
   "source": [
    "K = 3\n",
    "repeat([0.2], K)"
   ]
  },
  {
   "cell_type": "code",
   "execution_count": 9,
   "metadata": {},
   "outputs": [
    {
     "data": {
      "text/plain": [
       "3×3 Diagonal{Float64,Array{Float64,1}}:\n",
       " 0.2   ⋅    ⋅ \n",
       "  ⋅   0.2   ⋅ \n",
       "  ⋅    ⋅   0.2"
      ]
     },
     "execution_count": 9,
     "metadata": {},
     "output_type": "execute_result"
    }
   ],
   "source": [
    "Diagonal(repeat([0.2], K))"
   ]
  },
  {
   "cell_type": "code",
   "execution_count": null,
   "metadata": {},
   "outputs": [],
   "source": [
    "Diagonal(x)"
   ]
  },
  {
   "cell_type": "code",
   "execution_count": 2,
   "metadata": {},
   "outputs": [],
   "source": [
    "using Distributions\n",
    "using Random\n",
    "using Distances\n",
    "using LinearAlgebra\n",
    "using SparseArrays\n",
    "using IterativeSolvers\n",
    "using ProgressMeter\n",
    "using JLD2\n",
    "using MCMCDiagnostics\n",
    "using Printf\n",
    "using Dates"
   ]
  },
  {
   "cell_type": "code",
   "execution_count": 3,
   "metadata": {},
   "outputs": [
    {
     "name": "stdout",
     "output_type": "stream",
     "text": [
      "search: \u001b[0m\u001b[1mG\u001b[22m\u001b[0m\u001b[1ma\u001b[22m\u001b[0m\u001b[1mm\u001b[22m\u001b[0m\u001b[1mm\u001b[22m\u001b[0m\u001b[1ma\u001b[22m Inverse\u001b[0m\u001b[1mG\u001b[22m\u001b[0m\u001b[1ma\u001b[22m\u001b[0m\u001b[1mm\u001b[22m\u001b[0m\u001b[1mm\u001b[22m\u001b[0m\u001b[1ma\u001b[22m Wei\u001b[0m\u001b[1mg\u001b[22mhtedH\u001b[0m\u001b[1ma\u001b[22m\u001b[0m\u001b[1mm\u001b[22m\u001b[0m\u001b[1mm\u001b[22ming Modified\u001b[0m\u001b[1mG\u001b[22mr\u001b[0m\u001b[1ma\u001b[22m\u001b[0m\u001b[1mm\u001b[22mSch\u001b[0m\u001b[1mm\u001b[22midt\n",
      "\n"
     ]
    },
    {
     "data": {
      "text/latex": [
       "\\begin{verbatim}\n",
       "Gamma(α,θ)\n",
       "\\end{verbatim}\n",
       "The \\emph{Gamma distribution} with shape parameter \\texttt{α} and scale \\texttt{θ} has probability density function\n",
       "\n",
       "$$f(x; \\alpha, \\theta) = \\frac{x^{\\alpha-1} e^{-x/\\theta}}{\\Gamma(\\alpha) \\theta^\\alpha},\n",
       "\\quad x > 0$$\n",
       "\\begin{verbatim}\n",
       "Gamma()          # Gamma distribution with unit shape and unit scale, i.e. Gamma(1, 1)\n",
       "Gamma(α)         # Gamma distribution with shape α and unit scale, i.e. Gamma(α, 1)\n",
       "Gamma(α, θ)      # Gamma distribution with shape α and scale θ\n",
       "\n",
       "params(d)        # Get the parameters, i.e. (α, θ)\n",
       "shape(d)         # Get the shape parameter, i.e. α\n",
       "scale(d)         # Get the scale parameter, i.e. θ\n",
       "\\end{verbatim}\n",
       "External links\n",
       "\n",
       "\\begin{itemize}\n",
       "\\item \\href{http://en.wikipedia.org/wiki/Gamma_distribution}{Gamma distribution on Wikipedia}\n",
       "\n",
       "\\end{itemize}\n"
      ],
      "text/markdown": [
       "```\n",
       "Gamma(α,θ)\n",
       "```\n",
       "\n",
       "The *Gamma distribution* with shape parameter `α` and scale `θ` has probability density function\n",
       "\n",
       "$$\n",
       "f(x; \\alpha, \\theta) = \\frac{x^{\\alpha-1} e^{-x/\\theta}}{\\Gamma(\\alpha) \\theta^\\alpha},\n",
       "\\quad x > 0\n",
       "$$\n",
       "\n",
       "```julia\n",
       "Gamma()          # Gamma distribution with unit shape and unit scale, i.e. Gamma(1, 1)\n",
       "Gamma(α)         # Gamma distribution with shape α and unit scale, i.e. Gamma(α, 1)\n",
       "Gamma(α, θ)      # Gamma distribution with shape α and scale θ\n",
       "\n",
       "params(d)        # Get the parameters, i.e. (α, θ)\n",
       "shape(d)         # Get the shape parameter, i.e. α\n",
       "scale(d)         # Get the scale parameter, i.e. θ\n",
       "```\n",
       "\n",
       "External links\n",
       "\n",
       "  * [Gamma distribution on Wikipedia](http://en.wikipedia.org/wiki/Gamma_distribution)\n"
      ],
      "text/plain": [
       "\u001b[36m  Gamma(α,θ)\u001b[39m\n",
       "\n",
       "  The \u001b[4mGamma distribution\u001b[24m with shape parameter \u001b[36mα\u001b[39m and scale \u001b[36mθ\u001b[39m has probability\n",
       "  density function\n",
       "\n",
       "\u001b[35mf(x; \\alpha, \\theta) = \\frac{x^{\\alpha-1} e^{-x/\\theta}}{\\Gamma(\\alpha) \\theta^\\alpha},\u001b[39m\n",
       "\u001b[35m\\quad x > 0\u001b[39m\n",
       "\n",
       "\u001b[36m  Gamma()          # Gamma distribution with unit shape and unit scale, i.e. Gamma(1, 1)\u001b[39m\n",
       "\u001b[36m  Gamma(α)         # Gamma distribution with shape α and unit scale, i.e. Gamma(α, 1)\u001b[39m\n",
       "\u001b[36m  Gamma(α, θ)      # Gamma distribution with shape α and scale θ\u001b[39m\n",
       "\u001b[36m  \u001b[39m\n",
       "\u001b[36m  params(d)        # Get the parameters, i.e. (α, θ)\u001b[39m\n",
       "\u001b[36m  shape(d)         # Get the shape parameter, i.e. α\u001b[39m\n",
       "\u001b[36m  scale(d)         # Get the scale parameter, i.e. θ\u001b[39m\n",
       "\n",
       "  External links\n",
       "\n",
       "    •    Gamma distribution on Wikipedia\n",
       "        (http://en.wikipedia.org/wiki/Gamma_distribution)"
      ]
     },
     "execution_count": 3,
     "metadata": {},
     "output_type": "execute_result"
    }
   ],
   "source": [
    "?Gamma"
   ]
  },
  {
   "cell_type": "code",
   "execution_count": null,
   "metadata": {},
   "outputs": [],
   "source": []
  }
 ],
 "metadata": {
  "kernelspec": {
   "display_name": "Julia 1.2.0",
   "language": "julia",
   "name": "julia-1.2"
  },
  "language_info": {
   "file_extension": ".jl",
   "mimetype": "application/julia",
   "name": "julia",
   "version": "1.2.0"
  }
 },
 "nbformat": 4,
 "nbformat_minor": 2
}
