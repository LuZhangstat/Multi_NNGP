{
 "cells": [
  {
   "cell_type": "code",
   "execution_count": 37,
   "metadata": {},
   "outputs": [],
   "source": [
    "# necessary packages #\n",
    "\n",
    "#using Pkg\n",
    "#Pkg.add(\"Distances\")\n",
    "using Distributions\n",
    "using Random\n",
    "using Distances\n",
    "using LinearAlgebra\n",
    "using SparseArrays\n",
    "using IterativeSolvers\n",
    "using ProgressMeter\n",
    "using JLD2"
   ]
  },
  {
   "cell_type": "code",
   "execution_count": 38,
   "metadata": {},
   "outputs": [],
   "source": [
    "@load \"../data/sim3_pars.jld\";"
   ]
  },
  {
   "cell_type": "code",
   "execution_count": 39,
   "metadata": {},
   "outputs": [],
   "source": [
    "# Generate simulation data #\n",
    "Random.seed!(123);\n",
    "coords = rand(N, 2);                                          # random location over unit square\n",
    "X = [fill(1, (N,)) rand(N) rand(N)];                             # design matrix\n",
    "Dist = pairwise(Euclidean(), coords, dims = 1);                  # distance matrix\n",
    "F_true = hcat([rand(MvNormal(exp.(-ϕ[i] * Dist)), 1) for i in 1:K]...);\n",
    "ω = F_true * Λ;                                               # latent process\n",
    "Y = X * β + ω + [rand(Normal(0.0, sqrt_Σ_diag[i]), 1)[1] for j in 1:N, i in 1:q];              # response matrix\n",
    "ω_incp = ω + fill(1.0, (N, 1)) * transpose(β[1, :]);"
   ]
  },
  {
   "cell_type": "code",
   "execution_count": 40,
   "metadata": {},
   "outputs": [],
   "source": [
    "# Some data preparations #\n",
    "\n",
    "#ordx = sortperm(coords[:, 1]);                                # sort order based on the first coordinates\n",
    "ordx = 1:N;\n",
    "X_ord = X[ordx, :]; Y_ord = Y[ordx, :]; ω_ord = ω[ordx, :];   # sorted data\n",
    "ω_incp_obs = ω_ord + fill(1.0, (N, 1)) * transpose(β[1, :]); # latent process + intercept\n",
    "coords_ord = coords[ordx, :];\n",
    "S_ind = [sample(1:N, Nobs, replace = false, ordered = true) for i in 1:q] \n",
    "                                                              # index of observed response for all q responses\n",
    "S = sort(union([S_ind[i] for i in 1:q]...));                  # location with at least one observation\n",
    "M_ind = [setdiff(S, S_ind[i]) for i in 1:q];                  # in S not in S1\n",
    "obs_ind = vcat([S_ind[i] .+ (i - 1) * N for i in 1:q]...)     # index of the observed location for all response among N locations\n",
    "perm_ind = sortperm(vcat([S_ind[i] for i in 1:q]...))\n",
    "\n",
    "index_S = zeros(N);                                           # build index indicating which response are observed\n",
    "index_S_M = fill(0.0, N, q);\n",
    "for i in 1:q\n",
    "    index_S_M[S_ind[i], i] .= 1;\n",
    "    index_S = index_S + 2^(i - 1) * index_S_M[:, i]\n",
    "end\n",
    "M_Sind = [findall(x -> x == 0.0, index_S_M[S, i]) for i in 1:q];\n",
    "                                                              # index of M1 among S "
   ]
  },
  {
   "cell_type": "code",
   "execution_count": 41,
   "metadata": {},
   "outputs": [],
   "source": [
    "@save \"sim3data.jld\""
   ]
  }
 ],
 "metadata": {
  "kernelspec": {
   "display_name": "Julia 1.2.0",
   "language": "julia",
   "name": "julia-1.2"
  },
  "language_info": {
   "file_extension": ".jl",
   "mimetype": "application/julia",
   "name": "julia",
   "version": "1.2.0"
  }
 },
 "nbformat": 4,
 "nbformat_minor": 2
}
