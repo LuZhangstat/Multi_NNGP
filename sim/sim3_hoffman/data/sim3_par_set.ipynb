{
 "cells": [
  {
   "cell_type": "code",
   "execution_count": 8,
   "metadata": {},
   "outputs": [],
   "source": [
    "# necessary packages #\n",
    "\n",
    "#using Pkg\n",
    "#Pkg.add(\"Distances\")\n",
    "using Distributions\n",
    "using Random\n",
    "using Distances\n",
    "using LinearAlgebra\n",
    "using SparseArrays\n",
    "using IterativeSolvers\n",
    "using ProgressMeter\n",
    "using JLD2"
   ]
  },
  {
   "cell_type": "code",
   "execution_count": 9,
   "metadata": {},
   "outputs": [
    {
     "data": {
      "text/plain": [
       "colnorm (generic function with 1 method)"
      ]
     },
     "execution_count": 9,
     "metadata": {},
     "output_type": "execute_result"
    }
   ],
   "source": [
    "include(\"../../../util2.j\")"
   ]
  },
  {
   "cell_type": "code",
   "execution_count": 10,
   "metadata": {},
   "outputs": [],
   "source": [
    "# Generate simulation data #\n",
    "\n",
    "Random.seed!(123);\n",
    "N = 1200 # sample size\n",
    "Nobs = 1000;\n",
    "q = 10; K = 50; \n",
    "\n",
    "sqrt_Σ_diag = sqrt.([0.5, 1, 0.4, 2, 0.3, 2.5, 3.5, 0.45, 1.5, 0.5]);\n",
    "\n",
    "β = [1.0 -1.0 1.0 -0.5 2.0 -1.5 0.5 0.3 -2.0 1.5\n",
    "     -5.0 2.0 3.0 -2.0 -6.0 4.0 5.0 -3.0 6.0 -4.0\n",
    "     8.0 6.9 -12.0 0.0 -4.0 7.7 -8.8 3.3 6.6 -5.5];\n",
    "\n",
    "ϕ = rand(Uniform(3 / sqrt(2), 30 / sqrt(2)), K);\n",
    "Λ = rand(Uniform(-2, 2), K, q); # loading matrix\n",
    "coords = rand(N, 2);                                          # random location over unit square\n",
    "ordx = 1:N;\n",
    "coords_ord = coords[ordx, :];\n",
    "S_ind = [sample(1:N, Nobs, replace = false, ordered = true) for i in 1:q] \n",
    "                                                              # index of observed response for all q responses\n",
    "S = sort(union([S_ind[i] for i in 1:q]...));                  # location with at least one observation\n",
    "M_ind = [setdiff(S, S_ind[i]) for i in 1:q];                  # in S not in S1\n",
    "obs_ind = vcat([S_ind[i] .+ (i - 1) * N for i in 1:q]...)     # index of the observed location for all response among N locations\n",
    "perm_ind = sortperm(vcat([S_ind[i] for i in 1:q]...))\n",
    "\n",
    "index_S = zeros(N);                                           # build index indicating which response are observed\n",
    "index_S_M = fill(0.0, N, q);\n",
    "for i in 1:q\n",
    "    index_S_M[S_ind[i], i] .= 1;\n",
    "    index_S = index_S + 2^(i - 1) * index_S_M[:, i]\n",
    "end\n",
    "M_Sind = [findall(x -> x == 0.0, index_S_M[S, i]) for i in 1:q];"
   ]
  },
  {
   "cell_type": "code",
   "execution_count": 11,
   "metadata": {},
   "outputs": [],
   "source": [
    "# Some data preparations #\n",
    "\n",
    "m = 10; n = length(S); \n",
    "# number of nearest neighbor                       \n",
    "NN = BuildNN(coords_ord[S, :], m);                            # build nearest neighbor \n",
    "nnIndx_col = vcat(NN.nnIndx, 1:n);                            # the index of columns\n",
    "nnIndx_row = zeros(Int64, 0);                                               \n",
    "for i in 2:m\n",
    "    nnIndx_row = vcat(nnIndx_row, fill(i, i-1));\n",
    "end\n",
    "nnIndx_row = vcat(nnIndx_row, repeat((m + 1):n, inner = m), 1:n);  # the index of rows\n"
   ]
  },
  {
   "cell_type": "code",
   "execution_count": 12,
   "metadata": {},
   "outputs": [],
   "source": [
    "@save \"sim3_pars.jld\""
   ]
  },
  {
   "cell_type": "code",
   "execution_count": null,
   "metadata": {},
   "outputs": [],
   "source": []
  }
 ],
 "metadata": {
  "kernelspec": {
   "display_name": "Julia 1.2.0",
   "language": "julia",
   "name": "julia-1.2"
  },
  "language_info": {
   "file_extension": ".jl",
   "mimetype": "application/julia",
   "name": "julia",
   "version": "1.2.0"
  }
 },
 "nbformat": 4,
 "nbformat_minor": 2
}
