{
 "cells": [
  {
   "cell_type": "code",
   "execution_count": 1,
   "metadata": {},
   "outputs": [],
   "source": [
    "# necessary packages #\n",
    "\n",
    "#using Pkg\n",
    "#Pkg.add(\"Distances\")\n",
    "using Distributions\n",
    "using Random\n",
    "using Distances\n",
    "using LinearAlgebra\n",
    "using SparseArrays\n",
    "using IterativeSolvers\n",
    "using ProgressMeter\n",
    "using JLD2"
   ]
  },
  {
   "cell_type": "code",
   "execution_count": 2,
   "metadata": {},
   "outputs": [
    {
     "data": {
      "text/plain": [
       "colnorm (generic function with 1 method)"
      ]
     },
     "execution_count": 2,
     "metadata": {},
     "output_type": "execute_result"
    }
   ],
   "source": [
    "include(\"../../../util2.j\")"
   ]
  },
  {
   "cell_type": "code",
   "execution_count": 3,
   "metadata": {},
   "outputs": [],
   "source": [
    "# unnecessary packages #\n",
    "\n",
    "#using Pkg\n",
    "#Pkg.add(\"UnicodePlots\")\n",
    "using UnicodePlots   # check the structure of the sparse matrix\n",
    "using BenchmarkTools\n",
    "\n",
    "using StatsPlots\n",
    "using MCMCChains\n",
    "using PrettyTables"
   ]
  },
  {
   "cell_type": "code",
   "execution_count": 4,
   "metadata": {},
   "outputs": [],
   "source": [
    "#using Pkg\n",
    "#Pkg.add(\"ProgressMeter\");"
   ]
  },
  {
   "cell_type": "code",
   "execution_count": 5,
   "metadata": {},
   "outputs": [],
   "source": [
    "# Set the parameters for SLMC model #\n",
    "\n",
    "N = 1200 # sample size\n",
    "N1 = 1000; N2 = 1000;\n",
    "q = 2; p = 2; K = 2\n",
    "Σ = [0.3 0.0 \n",
    "     0.0 0.2];\n",
    "β = [1.0 -1.0\n",
    "     -5.0 2.0];\n",
    "ϕ1 = 6.0; ϕ2 = 6.0; ν1 = 0.5; ν2 = 0.5;   # parameter for the independent F\n",
    "Λ = [1.0 -1.0\n",
    "     0.0 2.0]; # loading matrix\n"
   ]
  },
  {
   "cell_type": "code",
   "execution_count": 6,
   "metadata": {},
   "outputs": [],
   "source": [
    "# Generate simulation data #\n",
    "\n",
    "Random.seed!(1234);\n",
    "coords = rand(N, 2);                                          # random location over unit square\n",
    "X = hcat(fill(1, (N,)), rand(N));                             # design matrix\n",
    "D = pairwise(Euclidean(), coords, dims = 1);                  # distance matrix\n",
    "ρ1 = exp.(-ϕ1 * D); ρ2 = exp.(-ϕ2 * D);    # covariance matrix\n",
    "ω = [rand(MvNormal(ρ1), 1) rand(MvNormal(ρ2), 1)] * Λ; # latent process\n",
    "Y = X * β + ω + transpose(rand(MvNormal(Σ), N));              # response matrix"
   ]
  },
  {
   "cell_type": "code",
   "execution_count": 7,
   "metadata": {},
   "outputs": [],
   "source": [
    "# Some data preparations #\n",
    "\n",
    "ordx = 1:N;                               # sort order based on the first coordinates\n",
    "X_ord = X[ordx, :]; Y_ord = Y[ordx, :]; ω_ord = ω[ordx, :];   # sorted data\n",
    "ω_incp_obs = ω_ord + fill(1.0, (N, 1)) * transpose(β[1, :]); # latent process + intercept\n",
    "coords_ord = coords[ordx, :];\n",
    "S1_ind = sample(1:N, N1, replace = false, ordered = true);    # observed location index for 1st response\n",
    "S2_ind = sample(1:N, N2, replace = false, ordered = true);    # observed location index for 2nd response\n",
    "S = sort(union(S1_ind, S2_ind));                              # observed index set"
   ]
  },
  {
   "cell_type": "code",
   "execution_count": 8,
   "metadata": {},
   "outputs": [
    {
     "name": "stderr",
     "output_type": "stream",
     "text": [
      "┌ Warning: Package RCall does not have AxisArrays in its dependencies:\n",
      "│ - If you have RCall checked out for development and have\n",
      "│   added AxisArrays as a dependency but haven't updated your primary\n",
      "│   environment's manifest file, try `Pkg.resolve()`.\n",
      "│ - Otherwise you may need to report an issue with RCall\n",
      "│ Loading AxisArrays into RCall from project dependency, future warnings for RCall are suppressed.\n",
      "└ @ nothing nothing:840\n",
      "┌ Warning: RCall.jl: Loading required package: magic\n",
      "│ Loading required package: abind\n",
      "│ Loading required package: Formula\n",
      "│ Loading required package: Matrix\n",
      "└ @ RCall /home/lu/.julia/packages/RCall/ffM0W/src/io.jl:113\n",
      "┌ Warning: RCall.jl: Loading required package: spam\n",
      "│ Loading required package: dotCall64\n",
      "│ Loading required package: grid\n",
      "│ Spam version 2.2-2 (2019-03-07) is loaded.\n",
      "│ Type 'help( Spam)' or 'demo( spam)' for a short introduction \n",
      "│ and overview of this package.\n",
      "│ Help for individual functions is also obtained by adding the\n",
      "│ suffix '.spam' to the function name, e.g. 'help( chol.spam)'.\n",
      "│ \n",
      "│ Attaching package: ‘spam’\n",
      "│ \n",
      "│ The following object is masked from ‘package:Matrix’:\n",
      "│ \n",
      "│     det\n",
      "│ \n",
      "│ The following objects are masked from ‘package:base’:\n",
      "│ \n",
      "│     backsolve, forwardsolve\n",
      "│ \n",
      "│ Loading required package: maps\n",
      "│ See https://github.com/NCAR/Fields for\n",
      "│  an extensive vignette, other supplements and source code \n",
      "└ @ RCall /home/lu/.julia/packages/RCall/ffM0W/src/io.jl:113\n"
     ]
    },
    {
     "data": {
      "text/plain": [
       "RObject{IntSxp}\n",
       "null device \n",
       "          1 \n"
      ]
     },
     "execution_count": 8,
     "metadata": {},
     "output_type": "execute_result"
    }
   ],
   "source": [
    "# check the plot of the data \n",
    "using RCall\n",
    "@rput ω_incp_obs\n",
    "@rput coords_ord\n",
    "@rput S\n",
    "R\"\"\"\n",
    "library(MBA)\n",
    "library(classInt)\n",
    "library(RColorBrewer)\n",
    "library(sp)\n",
    "library(coda)\n",
    "library(spBayes)\n",
    "library(fields)\n",
    "\n",
    "h <- 12\n",
    "surf.raw1 <- mba.surf(cbind(coords_ord[S, ], ω_incp_obs[S, 1]), no.X = 300, no.Y = 300, \n",
    "              exten = TRUE, sp = TRUE, h = h)$xyz.est\n",
    "surf.raw2 <- mba.surf(cbind(coords_ord[S, ], ω_incp_obs[S, 2]), no.X = 300, no.Y = 300, \n",
    "              exten = TRUE, sp = TRUE, h = h)$xyz.est\n",
    "surf.brks <- classIntervals(c(surf.raw1[[\"z\"]], surf.raw2[[\"z\"]]), 500, 'pretty')$brks\n",
    "col.pal <- colorRampPalette(brewer.pal(11,'RdBu')[11:1])\n",
    "xlim <- c(0, 1.13)\n",
    "\n",
    "zlim <- range(c(surf.raw1[[\"z\"]], surf.raw2[[\"z\"]]))\n",
    "\n",
    "# size for the mapping of w               \n",
    "width <- 360\n",
    "height <- 360\n",
    "pointsize <- 16\n",
    "\n",
    "png(paste(\"../../pics/sim4_map-w1_incp-true.png\", sep = \"\"), \n",
    "    width = width, height = height, pointsize = pointsize, family = \"Courier\")\n",
    "par(mfrow = c(1, 1))\n",
    "##Obs\n",
    "i <- as.image.SpatialGridDataFrame(surf.raw1)\n",
    "plot(coords_ord[S, ], typ=\"n\", cex=0.5, xlim=xlim, axes=FALSE, ylab=\"y\", xlab=\"x\") \n",
    "     #main = \"true\")\n",
    "axis(2, las=1)\n",
    "axis(1)\n",
    "image.plot(i, add=TRUE, col=rev(col.pal(length(surf.brks)-1)), zlim=zlim)\n",
    "dev.off()\n",
    "\n",
    "png(paste(\"../../pics/sim4_map-w2_incp-true.png\", sep = \"\"), \n",
    "    width = width, height = height, pointsize = pointsize, family = \"Courier\")\n",
    "par(mfrow = c(1, 1))\n",
    "##Obs\n",
    "i <- as.image.SpatialGridDataFrame(surf.raw2)\n",
    "plot(coords_ord[S, ], typ=\"n\", cex=0.5, xlim=xlim, axes=FALSE, ylab=\"y\", xlab=\"x\") \n",
    "     #main = \"true\")\n",
    "axis(2, las=1)\n",
    "axis(1)\n",
    "image.plot(i, add=TRUE, col=rev(col.pal(length(surf.brks)-1)), zlim=zlim)\n",
    "dev.off()\n",
    "\n",
    "\"\"\""
   ]
  },
  {
   "cell_type": "code",
   "execution_count": 9,
   "metadata": {},
   "outputs": [],
   "source": [
    "@save \"sim2data.jld\""
   ]
  },
  {
   "cell_type": "code",
   "execution_count": null,
   "metadata": {},
   "outputs": [],
   "source": []
  }
 ],
 "metadata": {
  "kernelspec": {
   "display_name": "Julia 1.1.0",
   "language": "julia",
   "name": "julia-1.1"
  },
  "language_info": {
   "file_extension": ".jl",
   "mimetype": "application/julia",
   "name": "julia",
   "version": "1.1.0"
  }
 },
 "nbformat": 4,
 "nbformat_minor": 2
}
