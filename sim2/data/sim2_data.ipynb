{
 "cells": [
  {
   "cell_type": "code",
   "execution_count": 1,
   "metadata": {},
   "outputs": [],
   "source": [
    "# necessary packages #\n",
    "\n",
    "#using Pkg\n",
    "#Pkg.add(\"Distances\")\n",
    "using Distributions\n",
    "using Random\n",
    "using Distances\n",
    "using LinearAlgebra\n",
    "using SparseArrays\n",
    "using IterativeSolvers\n",
    "using ProgressMeter\n",
    "using JLD2"
   ]
  },
  {
   "cell_type": "code",
   "execution_count": 2,
   "metadata": {},
   "outputs": [
    {
     "data": {
      "text/plain": [
       "colnorm (generic function with 1 method)"
      ]
     },
     "execution_count": 2,
     "metadata": {},
     "output_type": "execute_result"
    }
   ],
   "source": [
    "include(\"../../util.j\")"
   ]
  },
  {
   "cell_type": "code",
   "execution_count": 3,
   "metadata": {},
   "outputs": [],
   "source": [
    "# unnecessary packages #\n",
    "\n",
    "#using Pkg\n",
    "#Pkg.add(\"UnicodePlots\")\n",
    "using UnicodePlots   # check the structure of the sparse matrix\n",
    "using BenchmarkTools\n",
    "\n",
    "using StatsPlots\n",
    "using MCMCChains\n",
    "using PrettyTables"
   ]
  },
  {
   "cell_type": "code",
   "execution_count": 4,
   "metadata": {},
   "outputs": [],
   "source": [
    "#using Pkg\n",
    "#Pkg.add(\"ProgressMeter\");"
   ]
  },
  {
   "cell_type": "code",
   "execution_count": 5,
   "metadata": {},
   "outputs": [],
   "source": [
    "# Set the parameters for SLMC model #\n",
    "\n",
    "N = 1200 # sample size\n",
    "N1 = 1000; N2 = 1000;\n",
    "q = 2; p = 2; K = 2\n",
    "Σ = [0.3 0.0 \n",
    "     0.0 0.2];\n",
    "β = [1.0 -1.0\n",
    "     -5.0 2.0];\n",
    "ϕ1 = 6.0; ϕ2 = 18.0; ν1 = 0.5; ν2 = 0.5;   # parameter for the independent F\n",
    "Λ = [1.0 -1.0\n",
    "     0.0 2.0]; # loading matrix\n"
   ]
  },
  {
   "cell_type": "code",
   "execution_count": 6,
   "metadata": {},
   "outputs": [],
   "source": [
    "# Generate simulation data #\n",
    "\n",
    "Random.seed!(1234);\n",
    "coords = rand(2, N);                                          # random location over unit square\n",
    "X = hcat(fill(1, (N,)), rand(N));                             # design matrix\n",
    "D = pairwise(Euclidean(), coords, dims = 2);                  # distance matrix\n",
    "ρ1 = exp.(-ϕ1 * D); ρ2 = exp.(-ϕ2 * D);    # covariance matrix\n",
    "ω = [rand(MvNormal(ρ1), 1) rand(MvNormal(ρ2), 1)] * Λ; # latent process\n",
    "Y = X * β + ω + transpose(rand(MvNormal(Σ), N));              # response matrix"
   ]
  },
  {
   "cell_type": "code",
   "execution_count": 7,
   "metadata": {},
   "outputs": [],
   "source": [
    "# Some data preparations #\n",
    "\n",
    "ordx = sortperm(coords[1, :]);                                # sort order based on the first coordinates\n",
    "X_ord = X[ordx, :]; Y_ord = Y[ordx, :]; ω_ord = ω[ordx, :];   # sorted data\n",
    "ω_incp_obs = ω_ord + fill(1.0, (N, 1)) * transpose(β[1, :]); # latent process + intercept\n",
    "coords_ord = coords[:, ordx];\n",
    "S1_ind = sample(1:N, N1, replace = false, ordered = true);    # observed location index for 1st response\n",
    "S2_ind = sample(1:N, N2, replace = false, ordered = true);    # observed location index for 2nd response\n",
    "S = sort(union(S1_ind, S2_ind));                              # observed index set"
   ]
  },
  {
   "cell_type": "markdown",
   "metadata": {},
   "source": [
    "# check the plot of the data \n",
    "using RCall\n",
    "@rput ω_incp_obs\n",
    "@rput coords_ord\n",
    "@rput S\n",
    "R\"\"\"\n",
    "library(MBA)\n",
    "library(classInt)\n",
    "library(RColorBrewer)\n",
    "library(sp)\n",
    "library(coda)\n",
    "library(spBayes)\n",
    "library(fields)\n",
    "\n",
    "h <- 12\n",
    "surf.raw1 <- mba.surf(cbind(t(coords_ord[, S]), ω_incp_obs[S, 1]), no.X = 300, no.Y = 300, \n",
    "              exten = TRUE, sp = TRUE, h = h)$xyz.est\n",
    "surf.raw2 <- mba.surf(cbind(t(coords_ord[, S]), ω_incp_obs[S, 2]), no.X = 300, no.Y = 300, \n",
    "              exten = TRUE, sp = TRUE, h = h)$xyz.est\n",
    "surf.brks <- classIntervals(c(surf.raw1[[\"z\"]], surf.raw2[[\"z\"]]), 500, 'pretty')$brks\n",
    "col.pal <- colorRampPalette(brewer.pal(11,'RdBu')[11:1])\n",
    "xlim <- c(0, 1.13)\n",
    "\n",
    "zlim <- range(c(surf.raw1[[\"z\"]], surf.raw2[[\"z\"]]))\n",
    "\n",
    "# size for the mapping of w               \n",
    "width <- 360\n",
    "height <- 360\n",
    "pointsize <- 16\n",
    "\n",
    "png(paste(\"../../pics/sim2_map-w1_incp-true.png\", sep = \"\"), \n",
    "    width = width, height = height, pointsize = pointsize, family = \"Courier\")\n",
    "par(mfrow = c(1, 1))\n",
    "##Obs\n",
    "i <- as.image.SpatialGridDataFrame(surf.raw1)\n",
    "plot(t(coords_ord[, S]), typ=\"n\", cex=0.5, xlim=xlim, axes=FALSE, ylab=\"y\", xlab=\"x\") \n",
    "     #main = \"true\")\n",
    "axis(2, las=1)\n",
    "axis(1)\n",
    "image.plot(i, add=TRUE, col=rev(col.pal(length(surf.brks)-1)), zlim=zlim)\n",
    "dev.off()\n",
    "\n",
    "png(paste(\"../../pics/sim2_map-w2_incp-true.png\", sep = \"\"), \n",
    "    width = width, height = height, pointsize = pointsize, family = \"Courier\")\n",
    "par(mfrow = c(1, 1))\n",
    "##Obs\n",
    "i <- as.image.SpatialGridDataFrame(surf.raw2)\n",
    "plot(t(coords_ord[, S]), typ=\"n\", cex=0.5, xlim=xlim, axes=FALSE, ylab=\"y\", xlab=\"x\") \n",
    "     #main = \"true\")\n",
    "axis(2, las=1)\n",
    "axis(1)\n",
    "image.plot(i, add=TRUE, col=rev(col.pal(length(surf.brks)-1)), zlim=zlim)\n",
    "dev.off()\n",
    "\n",
    "\"\"\""
   ]
  },
  {
   "cell_type": "code",
   "execution_count": 8,
   "metadata": {},
   "outputs": [],
   "source": [
    "@save \"sim2data.jld\""
   ]
  },
  {
   "cell_type": "code",
   "execution_count": null,
   "metadata": {},
   "outputs": [],
   "source": []
  }
 ],
 "metadata": {
  "kernelspec": {
   "display_name": "Julia 1.1.0",
   "language": "julia",
   "name": "julia-1.1"
  },
  "language_info": {
   "file_extension": ".jl",
   "mimetype": "application/julia",
   "name": "julia",
   "version": "1.1.0"
  }
 },
 "nbformat": 4,
 "nbformat_minor": 2
}
